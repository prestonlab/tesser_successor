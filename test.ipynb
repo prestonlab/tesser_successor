{
 "cells": [
  {
   "cell_type": "code",
   "execution_count": null,
   "metadata": {},
   "outputs": [],
   "source": [
    "import utils\n",
    "import fit\n",
    "import learn\n",
    "import network\n",
    "import sr\n",
    "import rsa\n",
    "\n",
    "def main():\n",
    "    SR_matrices = sr.explore_runs ('reset', 100, .5 ,.5)\n",
    "    RDA_matrices = rsa.multiple_rda (SR_matrices)\n",
    "    return RDA_matrices\n",
    "\n",
    "main()\n",
    "    "
   ]
  }
 ],
 "metadata": {
  "kernelspec": {
   "display_name": "Python 3",
   "language": "python",
   "name": "python3"
  },
  "language_info": {
   "codemirror_mode": {
    "name": "ipython",
    "version": 3
   },
   "file_extension": ".py",
   "mimetype": "text/x-python",
   "name": "python",
   "nbconvert_exporter": "python",
   "pygments_lexer": "ipython3",
   "version": "3.6.5"
  }
 },
 "nbformat": 4,
 "nbformat_minor": 2
}
