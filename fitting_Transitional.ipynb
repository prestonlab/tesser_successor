{
 "cells": [
  {
   "cell_type": "markdown",
   "metadata": {},
   "source": [
    "## Fitting Induction data to the Transitional Matrix model using softmax rule"
   ]
  },
  {
   "cell_type": "code",
   "execution_count": 13,
   "metadata": {},
   "outputs": [],
   "source": [
    "import pandas as pd\n",
    "import numpy as np\n",
    "import seaborn as sns\n",
    "import matplotlib.pyplot as plt\n",
    "from tesser import cython_sr\n",
    "from tesser import cython_fit\n",
    "from tesser import util\n",
    "import importlib"
   ]
  },
  {
   "cell_type": "code",
   "execution_count": 2,
   "metadata": {},
   "outputs": [],
   "source": [
    "data_dir= \"/mnt/c/Users/rodv2/Dropbox/tesser_successor/Data\"\n",
    "tdir = \"/home/work-machine/Preston_Lab/tesser_successor/Data\""
   ]
  },
  {
   "cell_type": "code",
   "execution_count": 3,
   "metadata": {},
   "outputs": [],
   "source": [
    "induct_all = util.load_induct(data_dir)\n",
    "struct_all = util.load_struct(data_dir)\n",
    "n_states = 21\n",
    "subj_list = util.subj_list()"
   ]
  },
  {
   "cell_type": "code",
   "execution_count": 4,
   "metadata": {},
   "outputs": [],
   "source": [
    "transition_all = cython_sr.transition_multiple(subj_list, tdir+\"/Transitional_Matrices\")"
   ]
  },
  {
   "cell_type": "code",
   "execution_count": 5,
   "metadata": {},
   "outputs": [
    {
     "data": {
      "text/plain": [
       "dict_keys([100, 101, 102, 103, 104, 105, 106, 107, 108, 109, 110, 111, 112, 113, 114, 115, 116, 117, 119, 120, 121, 122, 123, 124, 125, 126, 127, 128, 129, 130, 131, 132, 133, 135, 136, 137, 138])"
      ]
     },
     "execution_count": 5,
     "metadata": {},
     "output_type": "execute_result"
    }
   ],
   "source": [
    "transition_all.keys()"
   ]
  },
  {
   "cell_type": "markdown",
   "metadata": {},
   "source": [
    "# Transitional matrix only"
   ]
  },
  {
   "cell_type": "code",
   "execution_count": 6,
   "metadata": {},
   "outputs": [],
   "source": [
    "tranmodel = transition_all"
   ]
  },
  {
   "cell_type": "code",
   "execution_count": 7,
   "metadata": {},
   "outputs": [
    {
     "name": "stdout",
     "output_type": "stream",
     "text": [
      "Estimating parameters for 100...\n",
      "Estimating parameters for 101...\n",
      "Estimating parameters for 102...\n",
      "Estimating parameters for 103...\n",
      "Estimating parameters for 104...\n",
      "Estimating parameters for 105...\n",
      "Estimating parameters for 106...\n",
      "Estimating parameters for 107...\n",
      "Estimating parameters for 108...\n",
      "Estimating parameters for 109...\n",
      "Estimating parameters for 110...\n",
      "Estimating parameters for 111...\n",
      "Estimating parameters for 112...\n",
      "Estimating parameters for 113...\n",
      "Estimating parameters for 114...\n",
      "Estimating parameters for 115...\n",
      "Estimating parameters for 116...\n",
      "Estimating parameters for 117...\n",
      "Estimating parameters for 119...\n",
      "Estimating parameters for 120...\n",
      "Estimating parameters for 121...\n",
      "Estimating parameters for 122...\n",
      "Estimating parameters for 123...\n",
      "Estimating parameters for 124...\n",
      "Estimating parameters for 125...\n",
      "Estimating parameters for 126...\n",
      "Estimating parameters for 127...\n",
      "Estimating parameters for 128...\n",
      "Estimating parameters for 129...\n",
      "Estimating parameters for 130...\n",
      "Estimating parameters for 131...\n",
      "Estimating parameters for 132...\n",
      "Estimating parameters for 133...\n",
      "Estimating parameters for 135...\n",
      "Estimating parameters for 136...\n",
      "Estimating parameters for 137...\n",
      "Estimating parameters for 138...\n"
     ]
    }
   ],
   "source": [
    "# Using a hybrid model function when weight 'w' is set to 0 the model is fixed only to the community matrix.\n",
    "fixed = {'w': 0}\n",
    "var_names = ['gamma', 'alpha', 'tau']\n",
    "var_bounds = {'gamma': [0, 1], 'alpha': [0, 1], 'tau': [0, 10]}\n",
    "results = cython_fit.fit_induct_indiv(struct_all, induct_all, fixed, var_names, var_bounds, split =False,\n",
    "                               n_states=n_states, verbose=False, model_type='true transitional', model=tranmodel, split_list =[])"
   ]
  },
  {
   "cell_type": "code",
   "execution_count": 8,
   "metadata": {},
   "outputs": [
    {
     "data": {
      "text/html": [
       "<div>\n",
       "<style scoped>\n",
       "    .dataframe tbody tr th:only-of-type {\n",
       "        vertical-align: middle;\n",
       "    }\n",
       "\n",
       "    .dataframe tbody tr th {\n",
       "        vertical-align: top;\n",
       "    }\n",
       "\n",
       "    .dataframe thead th {\n",
       "        text-align: right;\n",
       "    }\n",
       "</style>\n",
       "<table border=\"1\" class=\"dataframe\">\n",
       "  <thead>\n",
       "    <tr style=\"text-align: right;\">\n",
       "      <th></th>\n",
       "      <th>w</th>\n",
       "      <th>gamma</th>\n",
       "      <th>alpha</th>\n",
       "      <th>tau</th>\n",
       "      <th>log_like</th>\n",
       "    </tr>\n",
       "    <tr>\n",
       "      <th>subject</th>\n",
       "      <th></th>\n",
       "      <th></th>\n",
       "      <th></th>\n",
       "      <th></th>\n",
       "      <th></th>\n",
       "    </tr>\n",
       "  </thead>\n",
       "  <tbody>\n",
       "    <tr>\n",
       "      <th>100</th>\n",
       "      <td>0</td>\n",
       "      <td>0.830058</td>\n",
       "      <td>0.452071</td>\n",
       "      <td>5.563603</td>\n",
       "      <td>-29.112182</td>\n",
       "    </tr>\n",
       "    <tr>\n",
       "      <th>101</th>\n",
       "      <td>0</td>\n",
       "      <td>0.631340</td>\n",
       "      <td>0.069406</td>\n",
       "      <td>5.798423</td>\n",
       "      <td>-29.112182</td>\n",
       "    </tr>\n",
       "    <tr>\n",
       "      <th>102</th>\n",
       "      <td>0</td>\n",
       "      <td>0.766748</td>\n",
       "      <td>0.660963</td>\n",
       "      <td>5.263534</td>\n",
       "      <td>-29.112182</td>\n",
       "    </tr>\n",
       "    <tr>\n",
       "      <th>103</th>\n",
       "      <td>0</td>\n",
       "      <td>0.787487</td>\n",
       "      <td>0.517068</td>\n",
       "      <td>6.168598</td>\n",
       "      <td>-29.112182</td>\n",
       "    </tr>\n",
       "    <tr>\n",
       "      <th>104</th>\n",
       "      <td>0</td>\n",
       "      <td>0.371764</td>\n",
       "      <td>0.417046</td>\n",
       "      <td>6.946365</td>\n",
       "      <td>-29.112182</td>\n",
       "    </tr>\n",
       "  </tbody>\n",
       "</table>\n",
       "</div>"
      ],
      "text/plain": [
       "         w     gamma     alpha       tau   log_like\n",
       "subject                                            \n",
       "100      0  0.830058  0.452071  5.563603 -29.112182\n",
       "101      0  0.631340  0.069406  5.798423 -29.112182\n",
       "102      0  0.766748  0.660963  5.263534 -29.112182\n",
       "103      0  0.787487  0.517068  6.168598 -29.112182\n",
       "104      0  0.371764  0.417046  6.946365 -29.112182"
      ]
     },
     "execution_count": 8,
     "metadata": {},
     "output_type": "execute_result"
    }
   ],
   "source": [
    "results = results.set_index('subject')\n",
    "results.head()"
   ]
  },
  {
   "cell_type": "markdown",
   "metadata": {},
   "source": [
    "## Get response probabilities for the fitted models"
   ]
  },
  {
   "cell_type": "code",
   "execution_count": 9,
   "metadata": {},
   "outputs": [
    {
     "data": {
      "text/plain": [
       "<module 'tesser.cython_fit' from '/home/work-machine/Preston_Lab/tesser_successor/tesser/cython_fit.py'>"
      ]
     },
     "execution_count": 9,
     "metadata": {},
     "output_type": "execute_result"
    }
   ],
   "source": [
    "importlib.reload(cython_fit)"
   ]
  },
  {
   "cell_type": "code",
   "execution_count": 10,
   "metadata": {},
   "outputs": [],
   "source": [
    "res_list = []\n",
    "for subject in results.index.unique():\n",
    "    subj_filter = f'SubjNum == {subject}'\n",
    "    subj_struct = struct_all.query(subj_filter)\n",
    "    subj_induct = induct_all.query(subj_filter)\n",
    "    subj_param = results.loc[subject]\n",
    "    param = {'alpha': subj_param['alpha'], 'gamma': subj_param['gamma'],\n",
    "             'tau': subj_param['tau'], 'w' : subj_param['w']}\n",
    "    res = cython_fit.assess_induct_fit_subject_hybrid(subj_struct, subj_induct, param, n_states, False, 'true transitional', tranmodel)\n",
    "    res_list.append(res)\n",
    "fitted = pd.concat(res_list, axis=0)"
   ]
  },
  {
   "cell_type": "code",
   "execution_count": 11,
   "metadata": {},
   "outputs": [
    {
     "data": {
      "text/html": [
       "<div>\n",
       "<style scoped>\n",
       "    .dataframe tbody tr th:only-of-type {\n",
       "        vertical-align: middle;\n",
       "    }\n",
       "\n",
       "    .dataframe tbody tr th {\n",
       "        vertical-align: top;\n",
       "    }\n",
       "\n",
       "    .dataframe thead th {\n",
       "        text-align: right;\n",
       "    }\n",
       "</style>\n",
       "<table border=\"1\" class=\"dataframe\">\n",
       "  <thead>\n",
       "    <tr style=\"text-align: right;\">\n",
       "      <th></th>\n",
       "      <th>SubjNum</th>\n",
       "      <th>TrialNum</th>\n",
       "      <th>QuestType</th>\n",
       "      <th>Environment</th>\n",
       "      <th>Source</th>\n",
       "      <th>Accuracy</th>\n",
       "    </tr>\n",
       "  </thead>\n",
       "  <tbody>\n",
       "    <tr>\n",
       "      <th>0</th>\n",
       "      <td>100</td>\n",
       "      <td>1</td>\n",
       "      <td>Prim</td>\n",
       "      <td>ocean</td>\n",
       "      <td>Data</td>\n",
       "      <td>0.000000</td>\n",
       "    </tr>\n",
       "    <tr>\n",
       "      <th>1</th>\n",
       "      <td>100</td>\n",
       "      <td>2</td>\n",
       "      <td>Bound2</td>\n",
       "      <td>desert</td>\n",
       "      <td>Data</td>\n",
       "      <td>0.000000</td>\n",
       "    </tr>\n",
       "    <tr>\n",
       "      <th>2</th>\n",
       "      <td>100</td>\n",
       "      <td>3</td>\n",
       "      <td>Prim</td>\n",
       "      <td>desert</td>\n",
       "      <td>Data</td>\n",
       "      <td>1.000000</td>\n",
       "    </tr>\n",
       "    <tr>\n",
       "      <th>3</th>\n",
       "      <td>100</td>\n",
       "      <td>4</td>\n",
       "      <td>Prim</td>\n",
       "      <td>ocean</td>\n",
       "      <td>Data</td>\n",
       "      <td>1.000000</td>\n",
       "    </tr>\n",
       "    <tr>\n",
       "      <th>4</th>\n",
       "      <td>100</td>\n",
       "      <td>5</td>\n",
       "      <td>Prim</td>\n",
       "      <td>ocean</td>\n",
       "      <td>Data</td>\n",
       "      <td>0.000000</td>\n",
       "    </tr>\n",
       "    <tr>\n",
       "      <th>...</th>\n",
       "      <td>...</td>\n",
       "      <td>...</td>\n",
       "      <td>...</td>\n",
       "      <td>...</td>\n",
       "      <td>...</td>\n",
       "      <td>...</td>\n",
       "    </tr>\n",
       "    <tr>\n",
       "      <th>79</th>\n",
       "      <td>138</td>\n",
       "      <td>38</td>\n",
       "      <td>Prim</td>\n",
       "      <td>desert</td>\n",
       "      <td>Model</td>\n",
       "      <td>0.495296</td>\n",
       "    </tr>\n",
       "    <tr>\n",
       "      <th>80</th>\n",
       "      <td>138</td>\n",
       "      <td>39</td>\n",
       "      <td>Prim</td>\n",
       "      <td>forest</td>\n",
       "      <td>Model</td>\n",
       "      <td>0.508769</td>\n",
       "    </tr>\n",
       "    <tr>\n",
       "      <th>81</th>\n",
       "      <td>138</td>\n",
       "      <td>40</td>\n",
       "      <td>Prim</td>\n",
       "      <td>ocean</td>\n",
       "      <td>Model</td>\n",
       "      <td>0.505504</td>\n",
       "    </tr>\n",
       "    <tr>\n",
       "      <th>82</th>\n",
       "      <td>138</td>\n",
       "      <td>41</td>\n",
       "      <td>Bound1</td>\n",
       "      <td>forest</td>\n",
       "      <td>Model</td>\n",
       "      <td>0.500000</td>\n",
       "    </tr>\n",
       "    <tr>\n",
       "      <th>83</th>\n",
       "      <td>138</td>\n",
       "      <td>42</td>\n",
       "      <td>Prim</td>\n",
       "      <td>ocean</td>\n",
       "      <td>Model</td>\n",
       "      <td>0.506848</td>\n",
       "    </tr>\n",
       "  </tbody>\n",
       "</table>\n",
       "<p>3108 rows × 6 columns</p>\n",
       "</div>"
      ],
      "text/plain": [
       "    SubjNum  TrialNum QuestType Environment Source  Accuracy\n",
       "0       100         1      Prim       ocean   Data  0.000000\n",
       "1       100         2    Bound2      desert   Data  0.000000\n",
       "2       100         3      Prim      desert   Data  1.000000\n",
       "3       100         4      Prim       ocean   Data  1.000000\n",
       "4       100         5      Prim       ocean   Data  0.000000\n",
       "..      ...       ...       ...         ...    ...       ...\n",
       "79      138        38      Prim      desert  Model  0.495296\n",
       "80      138        39      Prim      forest  Model  0.508769\n",
       "81      138        40      Prim       ocean  Model  0.505504\n",
       "82      138        41    Bound1      forest  Model  0.500000\n",
       "83      138        42      Prim       ocean  Model  0.506848\n",
       "\n",
       "[3108 rows x 6 columns]"
      ]
     },
     "execution_count": 11,
     "metadata": {},
     "output_type": "execute_result"
    }
   ],
   "source": [
    "fitted"
   ]
  },
  {
   "cell_type": "markdown",
   "metadata": {},
   "source": [
    "## Plot individual differences in induction"
   ]
  },
  {
   "cell_type": "code",
   "execution_count": 14,
   "metadata": {},
   "outputs": [
    {
     "data": {
      "image/png": "[encoded data removed]",
      "text/plain": [
       "<Figure size 432x288 with 1 Axes>"
      ]
     },
     "metadata": {
      "needs_background": "light"
     },
     "output_type": "display_data"
    }
   ],
   "source": [
    "m = fitted.groupby(['Source', 'SubjNum', 'Environment'])['Accuracy'].mean().unstack(level=0)\n",
    "g = sns.scatterplot(x='Model', y='Data', hue='Environment', data=m.reset_index());\n",
    "g.set_xlim(0, 1.02);\n",
    "g.set_ylim(0, 1.02);\n",
    "g.set_aspect(1);\n",
    "g.plot((0, 1), (0, 1), '-k');"
   ]
  },
  {
   "cell_type": "code",
   "execution_count": 15,
   "metadata": {},
   "outputs": [
    {
     "data": {
      "image/png": "[encoded data removed]",
      "text/plain": [
       "<Figure size 432x288 with 1 Axes>"
      ]
     },
     "metadata": {
      "needs_background": "light"
     },
     "output_type": "display_data"
    }
   ],
   "source": [
    "m = fitted.groupby(['Source', 'SubjNum', 'QuestType'])['Accuracy'].mean().unstack(level=0)\n",
    "g = sns.scatterplot(x='Model', y='Data', hue='QuestType', data=m.reset_index());\n",
    "g.set_xlim(0, 1.02);\n",
    "g.set_ylim(0, 1.02);\n",
    "g.set_aspect(1);\n",
    "g.plot((0, 1), (0, 1), '-k');"
   ]
  },
  {
   "cell_type": "markdown",
   "metadata": {},
   "source": [
    "## Plot group means"
   ]
  },
  {
   "cell_type": "code",
   "execution_count": 16,
   "metadata": {},
   "outputs": [
    {
     "data": {
      "image/png": "[encoded data removed]",
      "text/plain": [
       "<Figure size 426x360 with 1 Axes>"
      ]
     },
     "metadata": {
      "needs_background": "light"
     },
     "output_type": "display_data"
    }
   ],
   "source": [
    "m = fitted.groupby(['Source', 'SubjNum', 'Environment'])['Accuracy'].mean()\n",
    "g = sns.catplot(kind='point', x='Environment', y='Accuracy', \n",
    "                hue='Source', dodge=True, data=m.reset_index())\n",
    "g.set(ylim=(0, 1.02));"
   ]
  },
  {
   "cell_type": "code",
   "execution_count": 17,
   "metadata": {},
   "outputs": [
    {
     "data": {
      "image/png": "[encoded data removed]",
      "text/plain": [
       "<Figure size 426x360 with 1 Axes>"
      ]
     },
     "metadata": {
      "needs_background": "light"
     },
     "output_type": "display_data"
    }
   ],
   "source": [
    "m = fitted.groupby(['Source', 'SubjNum', 'QuestType'])['Accuracy'].mean()\n",
    "g = sns.catplot(kind='point', x='QuestType', y='Accuracy', \n",
    "                hue='Source', dodge=True, data=m.reset_index())\n",
    "g.set(ylim=(0, 1.02));"
   ]
  },
  {
   "cell_type": "code",
   "execution_count": 18,
   "metadata": {},
   "outputs": [],
   "source": [
    "results.to_csv(\"./Data/individual_results/transition_only.csv\")"
   ]
  },
  {
   "cell_type": "code",
   "execution_count": null,
   "metadata": {},
   "outputs": [],
   "source": []
  }
 ],
 "metadata": {
  "kernelspec": {
   "display_name": "Tesser",
   "language": "python",
   "name": "tesser"
  },
  "language_info": {
   "codemirror_mode": {
    "name": "ipython",
    "version": 3
   },
   "file_extension": ".py",
   "mimetype": "text/x-python",
   "name": "python",
   "nbconvert_exporter": "python",
   "pygments_lexer": "ipython3",
   "version": "3.8.5"
  }
 },
 "nbformat": 4,
 "nbformat_minor": 4
}
