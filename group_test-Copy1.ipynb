{
 "cells": [
  {
   "cell_type": "code",
   "execution_count": 1,
   "metadata": {
    "pycharm": {
     "is_executing": false,
     "name": "#%%\n"
    }
   },
   "outputs": [],
   "source": [
    "import pandas as pd\n",
    "import seaborn as sns\n",
    "import numpy as np\n",
    "from scipy.spatial import distance\n",
    "from tesser import fit\n",
    "from tesser import network\n",
    "from tesser import util\n",
    "from tesser import tasks\n",
    "from tesser import sr"
   ]
  },
  {
   "cell_type": "code",
   "execution_count": 2,
   "metadata": {
    "pycharm": {
     "is_executing": false,
     "name": "#%%\n"
    }
   },
   "outputs": [],
   "source": [
    "data_dir = \"/home/rodrigo/Dropbox/tesser_successor/Data/\""
   ]
  },
  {
   "cell_type": "code",
   "execution_count": 3,
   "metadata": {
    "pycharm": {
     "is_executing": false,
     "name": "#%%\n"
    }
   },
   "outputs": [],
   "source": [
    "induct_all = util.load_induct(data_dir)\n",
    "struct_all = util.load_struct(data_dir)\n",
    "\n",
    "subj_filter = f'SubjNum == {101}'\n",
    "induct_df = induct_all.query(subj_filter)\n",
    "struct_df = struct_all.query(subj_filter)\n",
    "\n",
    "n_states = len(np.unique(struct_df.objnum))\n",
    "\n",
    "# get community matrix\n",
    "net = network.temp_node_info()\n",
    "comm = 1 - distance.squareform(distance.pdist(net['comm'][:, None], 'hamming'))"
   ]
  },
  {
   "cell_type": "markdown",
   "metadata": {},
   "source": [
    "Softmax model w = 1"
   ]
  },
  {
   "cell_type": "code",
   "execution_count": null,
   "metadata": {},
   "outputs": [],
   "source": [
    "fixed = {'w': 1.0}\n",
    "var_names = ['gamma', 'alpha', 'tau']\n",
    "var_bounds = {'alpha': [0, 1], 'gamma': [0, 1], 'tau': [0, 10]}\n",
    "fit.cfit_induct(struct_all, induct_all, fixed, var_names, var_bounds,\n",
    "                               n_states=n_states, verbose=False,model='', comm=comm)"
   ]
  },
  {
   "cell_type": "markdown",
   "metadata": {},
   "source": [
    "Softmax model w=0"
   ]
  },
  {
   "cell_type": "code",
   "execution_count": 5,
   "metadata": {},
   "outputs": [
    {
     "data": {
      "text/plain": [
       "({'w': 0.0,\n",
       "  'gamma': 0.5544034741087053,\n",
       "  'alpha': 0.08163786343033758,\n",
       "  'tau': 2.6667399467008877},\n",
       " -1050.3085524530798)"
      ]
     },
     "execution_count": 5,
     "metadata": {},
     "output_type": "execute_result"
    }
   ],
   "source": [
    "fixed = {'w': 0.0}\n",
    "var_names = ['gamma', 'alpha', 'tau']\n",
    "var_bounds = {'alpha': [0, 1], 'gamma': [0, 1], 'tau': [0, 10]}\n",
    "fit.cfit_induct(struct_all, induct_all, fixed, var_names, var_bounds,\n",
    "                               n_states=n_states, verbose=False, comm=comm)"
   ]
  },
  {
   "cell_type": "markdown",
   "metadata": {},
   "source": [
    "Softmax model w = 'free'"
   ]
  },
  {
   "cell_type": "code",
   "execution_count": 6,
   "metadata": {},
   "outputs": [
    {
     "data": {
      "text/plain": [
       "({'gamma': 0.0,\n",
       "  'alpha': 0.45759858721071767,\n",
       "  'tau': 1.6168853552043085,\n",
       "  'w': 0.419672544706322},\n",
       " -1049.7885015590682)"
      ]
     },
     "execution_count": 6,
     "metadata": {},
     "output_type": "execute_result"
    }
   ],
   "source": [
    "fixed = {}\n",
    "var_names = ['gamma', 'alpha', 'tau', 'w']\n",
    "var_bounds = {'alpha': [0, 1], 'gamma': [0, 1], 'tau': [0, 10], 'w': [0, 1]}\n",
    "fit.cfit_induct(struct_all, induct_all, fixed, var_names, var_bounds,\n",
    "                           n_states=n_states, verbose=False, comm=comm)"
   ]
  },
  {
   "cell_type": "markdown",
   "metadata": {},
   "source": [
    "Compare results"
   ]
  },
  {
   "cell_type": "markdown",
   "metadata": {},
   "source": [
    "High performers"
   ]
  },
  {
   "cell_type": "code",
   "execution_count": 7,
   "metadata": {
    "pycharm": {
     "is_executing": false,
     "name": "#%%\n"
    }
   },
   "outputs": [],
   "source": [
    "high =tasks.induct_avg_split_high(tasks.induct_avg_all(data_dir))\n",
    "hp = high.participant\n",
    "\n",
    "struct_high_all = struct_all.copy()\n",
    "s_all = struct_high_all[struct_high_all['SubjNum'].isin(list(hp))]\n",
    "\n",
    "induct_high_all = induct_all.copy()\n",
    "i_all = induct_high_all[induct_high_all['SubjNum'].isin(list(hp))]"
   ]
  },
  {
   "cell_type": "code",
   "execution_count": 8,
   "metadata": {
    "pycharm": {
     "is_executing": false,
     "name": "#%%\n"
    }
   },
   "outputs": [
    {
     "data": {
      "text/plain": [
       "({'w': 1.0,\n",
       "  'gamma': 0.8549516916318814,\n",
       "  'alpha': 0.05450334029073097,\n",
       "  'tau': 0.35679082950299174},\n",
       " -442.8726145712928)"
      ]
     },
     "execution_count": 8,
     "metadata": {},
     "output_type": "execute_result"
    }
   ],
   "source": [
    "# High performers\n",
    "\n",
    "fixed = {'w': 1.0}\n",
    "var_names = ['gamma', 'alpha', 'tau']\n",
    "var_bounds = {'alpha': [0, 1], 'gamma': [0, 1], 'tau': [0, 10]}\n",
    "fit.cfit_induct(s_all, i_all, fixed, var_names, var_bounds,\n",
    "                           n_states=n_states, verbose=False, comm=comm)"
   ]
  },
  {
   "cell_type": "markdown",
   "metadata": {
    "pycharm": {
     "name": "#%% md\n"
    }
   },
   "source": [
    "Low performers"
   ]
  },
  {
   "cell_type": "code",
   "execution_count": 9,
   "metadata": {
    "pycharm": {
     "is_executing": false,
     "name": "#%%\n"
    }
   },
   "outputs": [],
   "source": [
    "# low performers\n",
    "low =tasks.induct_avg_split_low(tasks.induct_avg_all(data_dir))\n",
    "lp = low.participant\n",
    "\n",
    "struct_low_all = struct_all.copy()\n",
    "s_all = struct_low_all[struct_low_all['SubjNum'].isin(list(lp))]\n",
    "\n",
    "induct_low_all = induct_all.copy()\n",
    "i_all = induct_low_all[induct_low_all['SubjNum'].isin(list(lp))]"
   ]
  },
  {
   "cell_type": "code",
   "execution_count": 10,
   "metadata": {},
   "outputs": [
    {
     "data": {
      "text/plain": [
       "({'w': 1.0,\n",
       "  'gamma': 0.0,\n",
       "  'alpha': 0.6680920341414696,\n",
       "  'tau': 1.951259330372004},\n",
       " -638.4157201529338)"
      ]
     },
     "execution_count": 10,
     "metadata": {},
     "output_type": "execute_result"
    }
   ],
   "source": [
    "fixed = {'w': 1.0}\n",
    "var_names = ['gamma', 'alpha', 'tau']\n",
    "var_bounds = {'alpha': [0, 1], 'gamma': [0, 1], 'tau': [0, 10]}\n",
    "fit.cfit_induct(s_all, i_all, fixed, var_names, var_bounds,\n",
    "                           n_states=n_states, verbose=False, comm=comm)"
   ]
  },
  {
   "cell_type": "code",
   "execution_count": 15,
   "metadata": {},
   "outputs": [],
   "source": [
    "from tesser import fit"
   ]
  },
  {
   "cell_type": "markdown",
   "metadata": {},
   "source": [
    "# Individual Results for w = 1"
   ]
  },
  {
   "cell_type": "code",
   "execution_count": 12,
   "metadata": {
    "pycharm": {
     "is_executing": false,
     "name": "#%%\n"
    }
   },
   "outputs": [
    {
     "name": "stdout",
     "output_type": "stream",
     "text": [
      "Estimating parameters for 100...\n",
      "Estimating parameters for 101...\n",
      "Estimating parameters for 102...\n",
      "Estimating parameters for 103...\n",
      "Estimating parameters for 104...\n",
      "Estimating parameters for 105...\n",
      "Estimating parameters for 106...\n",
      "Estimating parameters for 108...\n",
      "Estimating parameters for 109...\n",
      "Estimating parameters for 110...\n",
      "Estimating parameters for 111...\n",
      "Estimating parameters for 112...\n",
      "Estimating parameters for 113...\n",
      "Estimating parameters for 114...\n",
      "Estimating parameters for 115...\n",
      "Estimating parameters for 116...\n",
      "Estimating parameters for 117...\n",
      "Estimating parameters for 119...\n",
      "Estimating parameters for 120...\n",
      "Estimating parameters for 121...\n",
      "Estimating parameters for 122...\n",
      "Estimating parameters for 123...\n",
      "Estimating parameters for 124...\n",
      "Estimating parameters for 125...\n",
      "Estimating parameters for 126...\n",
      "Estimating parameters for 127...\n",
      "Estimating parameters for 128...\n",
      "Estimating parameters for 129...\n",
      "Estimating parameters for 130...\n",
      "Estimating parameters for 131...\n",
      "Estimating parameters for 132...\n",
      "Estimating parameters for 133...\n",
      "Estimating parameters for 135...\n",
      "Estimating parameters for 136...\n",
      "Estimating parameters for 137...\n",
      "Estimating parameters for 138...\n"
     ]
    }
   ],
   "source": [
    "induct = util.load_induct(data_dir)\n",
    "struct = util.load_struct(data_dir)\n",
    "\n",
    "fixed = {'w': 1.0}\n",
    "var_names = ['gamma', 'alpha', 'tau']\n",
    "var_bounds = {'alpha': [0, 1], 'gamma': [0, 1], 'tau': [0, 10]}\n",
    "results = fit.cfit_induct_indiv(struct, induct, fixed, var_names, var_bounds, n_states=n_states, comm=comm)"
   ]
  },
  {
   "cell_type": "code",
   "execution_count": 13,
   "metadata": {
    "pycharm": {
     "is_executing": false,
     "name": "#%%\n"
    }
   },
   "outputs": [],
   "source": [
    "results = results.set_index('subject')"
   ]
  },
  {
   "cell_type": "code",
   "execution_count": 16,
   "metadata": {
    "pycharm": {
     "is_executing": false,
     "name": "#%%\n"
    }
   },
   "outputs": [
    {
     "ename": "AttributeError",
     "evalue": "module 'tesser.cfit' has no attribute 'cprob_induct_subject'",
     "output_type": "error",
     "traceback": [
      "\u001b[0;31m---------------------------------------------------------------------------\u001b[0m",
      "\u001b[0;31mAttributeError\u001b[0m                            Traceback (most recent call last)",
      "\u001b[0;32m<ipython-input-16-7e5e60781513>\u001b[0m in \u001b[0;36m<module>\u001b[0;34m\u001b[0m\n\u001b[1;32m      7\u001b[0m     param = {'alpha': subj_param['alpha'], 'gamma': subj_param['gamma'],\n\u001b[1;32m      8\u001b[0m              'tau': subj_param['tau']}\n\u001b[0;32m----> 9\u001b[0;31m     \u001b[0mres\u001b[0m \u001b[0;34m=\u001b[0m \u001b[0mfit\u001b[0m\u001b[0;34m.\u001b[0m\u001b[0mcassess_fit\u001b[0m\u001b[0;34m(\u001b[0m\u001b[0msubj_struct\u001b[0m\u001b[0;34m,\u001b[0m \u001b[0msubj_induct\u001b[0m\u001b[0;34m,\u001b[0m \u001b[0mparam\u001b[0m\u001b[0;34m,\u001b[0m \u001b[0mn_states\u001b[0m\u001b[0;34m,\u001b[0m \u001b[0mcomm\u001b[0m\u001b[0;34m)\u001b[0m\u001b[0;34m\u001b[0m\u001b[0;34m\u001b[0m\u001b[0m\n\u001b[0m\u001b[1;32m     10\u001b[0m     \u001b[0mres_list\u001b[0m\u001b[0;34m.\u001b[0m\u001b[0mappend\u001b[0m\u001b[0;34m(\u001b[0m\u001b[0mres\u001b[0m\u001b[0;34m)\u001b[0m\u001b[0;34m\u001b[0m\u001b[0;34m\u001b[0m\u001b[0m\n\u001b[1;32m     11\u001b[0m \u001b[0mfitted\u001b[0m \u001b[0;34m=\u001b[0m \u001b[0mpd\u001b[0m\u001b[0;34m.\u001b[0m\u001b[0mconcat\u001b[0m\u001b[0;34m(\u001b[0m\u001b[0mres_list\u001b[0m\u001b[0;34m,\u001b[0m \u001b[0maxis\u001b[0m\u001b[0;34m=\u001b[0m\u001b[0;36m0\u001b[0m\u001b[0;34m)\u001b[0m\u001b[0;34m\u001b[0m\u001b[0;34m\u001b[0m\u001b[0m\n",
      "\u001b[0;32m~/Documents/preston_labs/tesser_successor/tesser/fit.py\u001b[0m in \u001b[0;36mcassess_fit\u001b[0;34m(struct, induct, param, n_states, comm)\u001b[0m\n\u001b[1;32m    153\u001b[0m     \u001b[0mres\u001b[0m \u001b[0;34m=\u001b[0m \u001b[0mres\u001b[0m\u001b[0;34m.\u001b[0m\u001b[0mastype\u001b[0m\u001b[0;34m(\u001b[0m\u001b[0mnp\u001b[0m\u001b[0;34m.\u001b[0m\u001b[0mdtype\u001b[0m\u001b[0;34m(\u001b[0m\u001b[0;34m'i'\u001b[0m\u001b[0;34m)\u001b[0m\u001b[0;34m)\u001b[0m\u001b[0;34m\u001b[0m\u001b[0;34m\u001b[0m\u001b[0m\n\u001b[1;32m    154\u001b[0m     \u001b[0mtrial_prob\u001b[0m \u001b[0;34m=\u001b[0m \u001b[0mnp\u001b[0m\u001b[0;34m.\u001b[0m\u001b[0mzeros\u001b[0m\u001b[0;34m(\u001b[0m\u001b[0mnum_trials\u001b[0m\u001b[0;34m)\u001b[0m\u001b[0;34m\u001b[0m\u001b[0;34m\u001b[0m\u001b[0m\n\u001b[0;32m--> 155\u001b[0;31m     trial_prob = cfit.cprob_induct_subject(SR, cue, opt1, opt2, res ,\n\u001b[0m\u001b[1;32m    156\u001b[0m                                       \u001b[0mparam\u001b[0m\u001b[0;34m[\u001b[0m\u001b[0;34m'tau'\u001b[0m\u001b[0;34m]\u001b[0m\u001b[0;34m,\u001b[0m \u001b[0mparam\u001b[0m\u001b[0;34m[\u001b[0m\u001b[0;34m'w'\u001b[0m\u001b[0;34m]\u001b[0m\u001b[0;34m,\u001b[0m\u001b[0;34m\u001b[0m\u001b[0;34m\u001b[0m\u001b[0m\n\u001b[1;32m    157\u001b[0m                                       comm=comm, trial_prob=trial_prob)\n",
      "\u001b[0;31mAttributeError\u001b[0m: module 'tesser.cfit' has no attribute 'cprob_induct_subject'"
     ]
    }
   ],
   "source": [
    "res_list = []\n",
    "for subject in results.index.unique():\n",
    "    subj_filter = f'SubjNum == {subject}'\n",
    "    subj_struct = struct_all.query(subj_filter)\n",
    "    subj_induct = induct_all.query(subj_filter)\n",
    "    subj_param = results.loc[subject]\n",
    "    param = {'alpha': subj_param['alpha'], 'gamma': subj_param['gamma'],\n",
    "             'tau': subj_param['tau']}\n",
    "    res = fit.cassess_fit(subj_struct, subj_induct, param, n_states, comm)\n",
    "    res_list.append(res)\n",
    "fitted = pd.concat(res_list, axis=0)"
   ]
  },
  {
   "cell_type": "code",
   "execution_count": 17,
   "metadata": {
    "pycharm": {
     "is_executing": false,
     "name": "#%%\n"
    }
   },
   "outputs": [
    {
     "ename": "NameError",
     "evalue": "name 'fitted' is not defined",
     "output_type": "error",
     "traceback": [
      "\u001b[0;31m---------------------------------------------------------------------------\u001b[0m",
      "\u001b[0;31mNameError\u001b[0m                                 Traceback (most recent call last)",
      "\u001b[0;32m<ipython-input-17-b3b1bed32ce7>\u001b[0m in \u001b[0;36m<module>\u001b[0;34m\u001b[0m\n\u001b[0;32m----> 1\u001b[0;31m \u001b[0mm\u001b[0m \u001b[0;34m=\u001b[0m \u001b[0mfitted\u001b[0m\u001b[0;34m.\u001b[0m\u001b[0mgroupby\u001b[0m\u001b[0;34m(\u001b[0m\u001b[0;34m[\u001b[0m\u001b[0;34m'Source'\u001b[0m\u001b[0;34m,\u001b[0m \u001b[0;34m'SubjNum'\u001b[0m\u001b[0;34m,\u001b[0m \u001b[0;34m'Environment'\u001b[0m\u001b[0;34m]\u001b[0m\u001b[0;34m)\u001b[0m\u001b[0;34m[\u001b[0m\u001b[0;34m'Accuracy'\u001b[0m\u001b[0;34m]\u001b[0m\u001b[0;34m.\u001b[0m\u001b[0mmean\u001b[0m\u001b[0;34m(\u001b[0m\u001b[0;34m)\u001b[0m\u001b[0;34m.\u001b[0m\u001b[0munstack\u001b[0m\u001b[0;34m(\u001b[0m\u001b[0mlevel\u001b[0m\u001b[0;34m=\u001b[0m\u001b[0;36m0\u001b[0m\u001b[0;34m)\u001b[0m\u001b[0;34m\u001b[0m\u001b[0;34m\u001b[0m\u001b[0m\n\u001b[0m\u001b[1;32m      2\u001b[0m \u001b[0mg\u001b[0m \u001b[0;34m=\u001b[0m \u001b[0msns\u001b[0m\u001b[0;34m.\u001b[0m\u001b[0mscatterplot\u001b[0m\u001b[0;34m(\u001b[0m\u001b[0mx\u001b[0m\u001b[0;34m=\u001b[0m\u001b[0;34m'Model'\u001b[0m\u001b[0;34m,\u001b[0m \u001b[0my\u001b[0m\u001b[0;34m=\u001b[0m\u001b[0;34m'Data'\u001b[0m\u001b[0;34m,\u001b[0m \u001b[0mhue\u001b[0m\u001b[0;34m=\u001b[0m\u001b[0;34m'Environment'\u001b[0m\u001b[0;34m,\u001b[0m \u001b[0mdata\u001b[0m\u001b[0;34m=\u001b[0m\u001b[0mm\u001b[0m\u001b[0;34m.\u001b[0m\u001b[0mreset_index\u001b[0m\u001b[0;34m(\u001b[0m\u001b[0;34m)\u001b[0m\u001b[0;34m)\u001b[0m\u001b[0;34m;\u001b[0m\u001b[0;34m\u001b[0m\u001b[0;34m\u001b[0m\u001b[0m\n\u001b[1;32m      3\u001b[0m \u001b[0mg\u001b[0m\u001b[0;34m.\u001b[0m\u001b[0mset_xlim\u001b[0m\u001b[0;34m(\u001b[0m\u001b[0;36m0\u001b[0m\u001b[0;34m,\u001b[0m \u001b[0;36m1.02\u001b[0m\u001b[0;34m)\u001b[0m\u001b[0;34m;\u001b[0m\u001b[0;34m\u001b[0m\u001b[0;34m\u001b[0m\u001b[0m\n\u001b[1;32m      4\u001b[0m \u001b[0mg\u001b[0m\u001b[0;34m.\u001b[0m\u001b[0mset_ylim\u001b[0m\u001b[0;34m(\u001b[0m\u001b[0;36m0\u001b[0m\u001b[0;34m,\u001b[0m \u001b[0;36m1.02\u001b[0m\u001b[0;34m)\u001b[0m\u001b[0;34m;\u001b[0m\u001b[0;34m\u001b[0m\u001b[0;34m\u001b[0m\u001b[0m\n\u001b[1;32m      5\u001b[0m \u001b[0mg\u001b[0m\u001b[0;34m.\u001b[0m\u001b[0mset_aspect\u001b[0m\u001b[0;34m(\u001b[0m\u001b[0;36m1\u001b[0m\u001b[0;34m)\u001b[0m\u001b[0;34m;\u001b[0m\u001b[0;34m\u001b[0m\u001b[0;34m\u001b[0m\u001b[0m\n",
      "\u001b[0;31mNameError\u001b[0m: name 'fitted' is not defined"
     ]
    }
   ],
   "source": [
    "m = fitted.groupby(['Source', 'SubjNum', 'Environment'])['Accuracy'].mean().unstack(level=0)\n",
    "g = sns.scatterplot(x='Model', y='Data', hue='Environment', data=m.reset_index());\n",
    "g.set_xlim(0, 1.02);\n",
    "g.set_ylim(0, 1.02);\n",
    "g.set_aspect(1);\n",
    "g.plot((0, 1), (0, 1), '-k');"
   ]
  },
  {
   "cell_type": "code",
   "execution_count": null,
   "metadata": {
    "pycharm": {
     "is_executing": false,
     "name": "#%%\n"
    }
   },
   "outputs": [],
   "source": [
    "m = fitted.groupby(['Source', 'SubjNum', 'QuestType'])['Accuracy'].mean().unstack(level=0)\n",
    "g = sns.scatterplot(x='Model', y='Data', hue='QuestType', data=m.reset_index());\n",
    "g.set_xlim(0, 1.02);\n",
    "g.set_ylim(0, 1.02);\n",
    "g.set_aspect(1);\n",
    "g.plot((0, 1), (0, 1), '-k');"
   ]
  },
  {
   "cell_type": "markdown",
   "metadata": {},
   "source": [
    "# Individual Results for w = 0"
   ]
  },
  {
   "cell_type": "code",
   "execution_count": 18,
   "metadata": {
    "pycharm": {
     "is_executing": false
    }
   },
   "outputs": [
    {
     "name": "stdout",
     "output_type": "stream",
     "text": [
      "Estimating parameters for 100...\n",
      "Estimating parameters for 101...\n",
      "Estimating parameters for 102...\n",
      "Estimating parameters for 103...\n",
      "Estimating parameters for 104...\n",
      "Estimating parameters for 105...\n",
      "Estimating parameters for 106...\n",
      "Estimating parameters for 108...\n",
      "Estimating parameters for 109...\n",
      "Estimating parameters for 110...\n",
      "Estimating parameters for 111...\n",
      "Estimating parameters for 112...\n",
      "Estimating parameters for 113...\n",
      "Estimating parameters for 114...\n",
      "Estimating parameters for 115...\n",
      "Estimating parameters for 116...\n",
      "Estimating parameters for 117...\n",
      "Estimating parameters for 119...\n",
      "Estimating parameters for 120...\n",
      "Estimating parameters for 121...\n",
      "Estimating parameters for 122...\n",
      "Estimating parameters for 123...\n",
      "Estimating parameters for 124...\n",
      "Estimating parameters for 125...\n",
      "Estimating parameters for 126...\n",
      "Estimating parameters for 127...\n",
      "Estimating parameters for 128...\n",
      "Estimating parameters for 129...\n",
      "Estimating parameters for 130...\n",
      "Estimating parameters for 131...\n",
      "Estimating parameters for 132...\n",
      "Estimating parameters for 133...\n",
      "Estimating parameters for 135...\n",
      "Estimating parameters for 136...\n",
      "Estimating parameters for 137...\n",
      "Estimating parameters for 138...\n"
     ]
    }
   ],
   "source": [
    "fixed = {'w': 0.0}\n",
    "var_names = ['gamma', 'alpha', 'tau']\n",
    "var_bounds = {'alpha': [0, 1], 'gamma': [0, 1], 'tau': [0, 10]}\n",
    "results2 = fit.cfit_induct_indiv(struct, induct, fixed, var_names, var_bounds, n_states=n_states, comm=comm)"
   ]
  },
  {
   "cell_type": "code",
   "execution_count": 19,
   "metadata": {
    "pycharm": {
     "is_executing": false
    }
   },
   "outputs": [],
   "source": [
    "results2 = results2.set_index('subject')"
   ]
  },
  {
   "cell_type": "code",
   "execution_count": null,
   "metadata": {
    "pycharm": {
     "is_executing": false
    }
   },
   "outputs": [],
   "source": [
    "res_list = []\n",
    "for subject in results2.index.unique():\n",
    "    subj_filter = f'SubjNum == {subject}'\n",
    "    subj_struct = struct_all.query(subj_filter)\n",
    "    subj_induct = induct_all.query(subj_filter)\n",
    "    subj_param = results2.loc[subject]\n",
    "    param = {'alpha': subj_param['alpha'], 'gamma': subj_param['gamma'],\n",
    "             'tau': subj_param['tau'],'w': subj_param['w']}\n",
    "    res = fit.cassess_fit(subj_struct, subj_induct, param, n_states, comm)\n",
    "    res_list.append(res)\n",
    "fitted = pd.concat(res_list, axis=0)"
   ]
  },
  {
   "cell_type": "code",
   "execution_count": null,
   "metadata": {
    "pycharm": {
     "is_executing": false
    }
   },
   "outputs": [],
   "source": [
    "m = fitted.groupby(['Source', 'SubjNum', 'Environment'])['Accuracy'].mean().unstack(level=0)\n",
    "g = sns.scatterplot(x='Model', y='Data', hue='Environment', data=m.reset_index());\n",
    "g.set_xlim(0, 1.02);\n",
    "g.set_ylim(0, 1.02);\n",
    "g.set_aspect(1);\n",
    "g.set_title('Individual accuracies data vs model \\n by enviorment using a softmax choice rule function')\n",
    "g.plot((0, 1), (0, 1), '-k');\n",
    "fig = g.get_figure()\n",
    "fig.savefig('enviorment_plot.png')"
   ]
  },
  {
   "cell_type": "code",
   "execution_count": null,
   "metadata": {
    "pycharm": {
     "is_executing": false
    }
   },
   "outputs": [],
   "source": [
    "m = fitted.groupby(['Source', 'SubjNum', 'QuestType'])['Accuracy'].mean().unstack(level=0)\n",
    "g = sns.scatterplot(x='Model', y='Data', hue='QuestType', data=m.reset_index());\n",
    "g.set_xlim(0, 1.02);\n",
    "g.set_ylim(0, 1.02);\n",
    "g.set_aspect(1);\n",
    "g.set_title('Individual accuracies data vs model \\n by question type using a softmax choice rule function')\n",
    "g.plot((0, 1), (0, 1), '-k');\n",
    "fig = g.get_figure()\n",
    "fig.savefig('question_plot.png')"
   ]
  },
  {
   "cell_type": "code",
   "execution_count": null,
   "metadata": {
    "pycharm": {
     "is_executing": false
    }
   },
   "outputs": [],
   "source": [
    "m = fitted.groupby(['Source', 'SubjNum', 'Environment'])['Accuracy'].mean()\n",
    "g = sns.catplot(kind='point', x='Environment', y='Accuracy', \n",
    "                hue='Source', dodge=True, data=m.reset_index())\n",
    "g.set(ylim=(0, 1.02));\n"
   ]
  },
  {
   "cell_type": "code",
   "execution_count": null,
   "metadata": {
    "pycharm": {
     "is_executing": false
    }
   },
   "outputs": [],
   "source": [
    "m = fitted.groupby(['Source', 'SubjNum', 'QuestType'])['Accuracy'].mean()\n",
    "g = sns.catplot(kind='point', x='QuestType', y='Accuracy', \n",
    "                hue='Source', dodge=True, data=m.reset_index())\n",
    "g.set(ylim=(0, 1.02));\n"
   ]
  },
  {
   "cell_type": "markdown",
   "metadata": {},
   "source": [
    "# Individual Results for w free"
   ]
  },
  {
   "cell_type": "code",
   "execution_count": 20,
   "metadata": {},
   "outputs": [
    {
     "name": "stdout",
     "output_type": "stream",
     "text": [
      "Estimating parameters for 100...\n",
      "Estimating parameters for 101...\n",
      "Estimating parameters for 102...\n",
      "Estimating parameters for 103...\n",
      "Estimating parameters for 104...\n",
      "Estimating parameters for 105...\n",
      "Estimating parameters for 106...\n",
      "Estimating parameters for 108...\n",
      "Estimating parameters for 109...\n",
      "Estimating parameters for 110...\n",
      "Estimating parameters for 111...\n",
      "Estimating parameters for 112...\n",
      "Estimating parameters for 113...\n",
      "Estimating parameters for 114...\n",
      "Estimating parameters for 115...\n",
      "Estimating parameters for 116...\n",
      "Estimating parameters for 117...\n",
      "Estimating parameters for 119...\n",
      "Estimating parameters for 120...\n",
      "Estimating parameters for 121...\n",
      "Estimating parameters for 122...\n",
      "Estimating parameters for 123...\n",
      "Estimating parameters for 124...\n",
      "Estimating parameters for 125...\n",
      "Estimating parameters for 126...\n",
      "Estimating parameters for 127...\n",
      "Estimating parameters for 128...\n",
      "Estimating parameters for 129...\n",
      "Estimating parameters for 130...\n",
      "Estimating parameters for 131...\n",
      "Estimating parameters for 132...\n",
      "Estimating parameters for 133...\n",
      "Estimating parameters for 135...\n",
      "Estimating parameters for 136...\n",
      "Estimating parameters for 137...\n",
      "Estimating parameters for 138...\n"
     ]
    }
   ],
   "source": [
    "fixed = {}\n",
    "var_names = ['gamma', 'alpha', 'tau', 'w']\n",
    "var_bounds = {'alpha': [0, 1], 'gamma': [0, 1], 'tau': [0, 10], 'w': [0, 1]}\n",
    "results3 = fit.cfit_induct_indiv(struct, induct, fixed, var_names, var_bounds, n_states=n_states, comm=comm)"
   ]
  },
  {
   "cell_type": "code",
   "execution_count": 21,
   "metadata": {},
   "outputs": [],
   "source": [
    "results3 = results3.set_index('subject')"
   ]
  },
  {
   "cell_type": "code",
   "execution_count": 22,
   "metadata": {},
   "outputs": [
    {
     "data": {
      "text/plain": [
       "array([[<matplotlib.axes._subplots.AxesSubplot object at 0x7ff447e2c400>,\n",
       "        <matplotlib.axes._subplots.AxesSubplot object at 0x7ff44795a4e0>],\n",
       "       [<matplotlib.axes._subplots.AxesSubplot object at 0x7ff4472526a0>,\n",
       "        <matplotlib.axes._subplots.AxesSubplot object at 0x7ff4471ffc50>],\n",
       "       [<matplotlib.axes._subplots.AxesSubplot object at 0x7ff44721ca90>,\n",
       "        <matplotlib.axes._subplots.AxesSubplot object at 0x7ff447e50710>]],\n",
       "      dtype=object)"
      ]
     },
     "execution_count": 22,
     "metadata": {},
     "output_type": "execute_result"
    },
    {
     "data": {
      "image/png": "[encoded data removed]",
      "text/plain": [
       "<Figure size 864x720 with 6 Axes>"
      ]
     },
     "metadata": {
      "needs_background": "light"
     },
     "output_type": "display_data"
    }
   ],
   "source": [
    "results.hist(bins=35,figsize= (12,10))"
   ]
  },
  {
   "cell_type": "code",
   "execution_count": 23,
   "metadata": {},
   "outputs": [
    {
     "data": {
      "text/plain": [
       "array([[<matplotlib.axes._subplots.AxesSubplot object at 0x7ff447e2c3c8>,\n",
       "        <matplotlib.axes._subplots.AxesSubplot object at 0x7ff447036f28>],\n",
       "       [<matplotlib.axes._subplots.AxesSubplot object at 0x7ff446fe8518>,\n",
       "        <matplotlib.axes._subplots.AxesSubplot object at 0x7ff446f9aac8>],\n",
       "       [<matplotlib.axes._subplots.AxesSubplot object at 0x7ff446f560b8>,\n",
       "        <matplotlib.axes._subplots.AxesSubplot object at 0x7ff446f09668>]],\n",
       "      dtype=object)"
      ]
     },
     "execution_count": 23,
     "metadata": {},
     "output_type": "execute_result"
    },
    {
     "data": {
      "image/png": "[encoded data removed]",
      "text/plain": [
       "<Figure size 864x720 with 6 Axes>"
      ]
     },
     "metadata": {
      "needs_background": "light"
     },
     "output_type": "display_data"
    }
   ],
   "source": [
    "results2.hist(bins=35, figsize= (12,10))"
   ]
  },
  {
   "cell_type": "code",
   "execution_count": 24,
   "metadata": {},
   "outputs": [
    {
     "data": {
      "text/plain": [
       "array([[<matplotlib.axes._subplots.AxesSubplot object at 0x7ff447101cc0>,\n",
       "        <matplotlib.axes._subplots.AxesSubplot object at 0x7ff446c2d9b0>],\n",
       "       [<matplotlib.axes._subplots.AxesSubplot object at 0x7ff446bd1f60>,\n",
       "        <matplotlib.axes._subplots.AxesSubplot object at 0x7ff446b8c550>],\n",
       "       [<matplotlib.axes._subplots.AxesSubplot object at 0x7ff446b3db00>,\n",
       "        <matplotlib.axes._subplots.AxesSubplot object at 0x7ff446b7c0f0>]],\n",
       "      dtype=object)"
      ]
     },
     "execution_count": 24,
     "metadata": {},
     "output_type": "execute_result"
    },
    {
     "data": {
      "image/png": "[encoded data removed]",
      "text/plain": [
       "<Figure size 864x720 with 6 Axes>"
      ]
     },
     "metadata": {
      "needs_background": "light"
     },
     "output_type": "display_data"
    }
   ],
   "source": [
    "results3.hist(bins=35,figsize= (12,10))"
   ]
  },
  {
   "cell_type": "code",
   "execution_count": 25,
   "metadata": {},
   "outputs": [],
   "source": [
    "results.to_csv('/home/rodrigo/Documents/preston_labs/tesser_successor/Data/indiv_params_softmax_w1.csv',index=False)"
   ]
  },
  {
   "cell_type": "code",
   "execution_count": 26,
   "metadata": {},
   "outputs": [],
   "source": [
    "results2.to_csv('/home/rodrigo/Documents/preston_labs/tesser_successor/Data/indiv_params_softmax_w0.csv',index=False)"
   ]
  },
  {
   "cell_type": "code",
   "execution_count": 27,
   "metadata": {},
   "outputs": [],
   "source": [
    "results3.to_csv('/home/rodrigo/Documents/preston_labs/tesser_successor/Data/indiv_params_softmax_wfree.csv',index=False)"
   ]
  },
  {
   "cell_type": "code",
   "execution_count": 15,
   "metadata": {},
   "outputs": [
    {
     "data": {
      "text/plain": [
       "({'gamma': 0.9957694258220088,\n",
       "  'alpha': 0.0477989479345801,\n",
       "  'tau': 1.0436578140096757,\n",
       "  'w': 0.8849708577375376},\n",
       " -1053.2964444890063)"
      ]
     },
     "execution_count": 15,
     "metadata": {},
     "output_type": "execute_result"
    }
   ],
   "source": [
    "fixed = {}\n",
    "var_names = ['gamma', 'alpha', 'tau','w']\n",
    "var_bounds = {'alpha': [0, 1], 'gamma': [0, 1], 'tau': [0, 10],'w': [0,1]}\n",
    "s = sr.clearn_sr(struct_all, 0.9, 0.5,21)\n",
    "fit.cfit_induct(struct_all, induct_all, fixed, var_names, var_bounds,\n",
    "                               n_states=n_states, verbose=False, comm=s)"
   ]
  },
  {
   "cell_type": "code",
   "execution_count": 4,
   "metadata": {},
   "outputs": [
    {
     "data": {
      "text/plain": [
       "({'w': 1.0,\n",
       "  'gamma': 0.9915242972235331,\n",
       "  'alpha': 0.04573475626669204,\n",
       "  'tau': 1.0664214054829595},\n",
       " -1053.5980655977742)"
      ]
     },
     "execution_count": 4,
     "metadata": {},
     "output_type": "execute_result"
    }
   ],
   "source": [
    "fixed = {'w': 1.0}\n",
    "var_names = ['gamma', 'alpha', 'tau']\n",
    "var_bounds = {'alpha': [0, 1], 'gamma': [0, 1], 'tau': [0, 10]}\n",
    "fit.cfit_induct(struct_all, induct_all, fixed, var_names, var_bounds,\n",
    "                               n_states=n_states, verbose=False, comm=comm)"
   ]
  },
  {
   "cell_type": "markdown",
   "metadata": {},
   "source": [
    "Softmax model w=0"
   ]
  },
  {
   "cell_type": "code",
   "execution_count": 5,
   "metadata": {},
   "outputs": [
    {
     "data": {
      "text/plain": [
       "({'w': 0.0,\n",
       "  'gamma': 0.5544034741087053,\n",
       "  'alpha': 0.08163786343033758,\n",
       "  'tau': 2.6667399467008877},\n",
       " -1050.3085524530798)"
      ]
     },
     "execution_count": 5,
     "metadata": {},
     "output_type": "execute_result"
    }
   ],
   "source": [
    "fixed = {'w': 0.0}\n",
    "var_names = ['gamma', 'alpha', 'tau']\n",
    "var_bounds = {'alpha': [0, 1], 'gamma': [0, 1], 'tau': [0, 10]}\n",
    "fit.cfit_induct(struct_all, induct_all, fixed, var_names, var_bounds,\n",
    "                               n_states=n_states, verbose=False, comm=comm)"
   ]
  },
  {
   "cell_type": "markdown",
   "metadata": {},
   "source": [
    "Softmax model w = 'free'"
   ]
  },
  {
   "cell_type": "code",
   "execution_count": 6,
   "metadata": {},
   "outputs": [
    {
     "data": {
      "text/plain": [
       "({'gamma': 0.0,\n",
       "  'alpha': 0.45759858721071767,\n",
       "  'tau': 1.6168853552043085,\n",
       "  'w': 0.419672544706322},\n",
       " -1049.7885015590682)"
      ]
     },
     "execution_count": 6,
     "metadata": {},
     "output_type": "execute_result"
    }
   ],
   "source": [
    "fixed = {}\n",
    "var_names = ['gamma', 'alpha', 'tau', 'w']\n",
    "var_bounds = {'alpha': [0, 1], 'gamma': [0, 1], 'tau': [0, 10], 'w': [0, 1]}\n",
    "fit.cfit_induct(struct_all, induct_all, fixed, var_names, var_bounds,\n",
    "                           n_states=n_states, verbose=False, comm=comm)"
   ]
  },
  {
   "cell_type": "code",
   "execution_count": 17,
   "metadata": {},
   "outputs": [
    {
     "data": {
      "text/plain": [
       "({'gamma': 0.9956519374329547,\n",
       "  'alpha': 0.048768452702804777,\n",
       "  'tau': 1.1743677809088842,\n",
       "  'w': 0.856507663873973},\n",
       " -1052.9651936130854)"
      ]
     },
     "execution_count": 17,
     "metadata": {},
     "output_type": "execute_result"
    }
   ],
   "source": [
    "fixed = {}\n",
    "var_names = ['gamma', 'alpha', 'tau','w']\n",
    "var_bounds = {'alpha': [0, 1], 'gamma': [0, 1], 'tau': [0, 10],'w': [0,1]}\n",
    "s = sr.clearn_sr(struct_all, 0.999, 0.05,21)\n",
    "fit.cfit_induct(struct_all, induct_all, fixed, var_names, var_bounds,\n",
    "                               n_states=n_states, verbose=False, comm=s)"
   ]
  },
  {
   "cell_type": "markdown",
   "metadata": {},
   "source": [
    "# Multiple gamma models"
   ]
  },
  {
   "cell_type": "code",
   "execution_count": 6,
   "metadata": {},
   "outputs": [
    {
     "name": "stdout",
     "output_type": "stream",
     "text": [
      "Estimating parameters for 100...\n",
      "Estimating parameters for 101...\n",
      "Estimating parameters for 102...\n",
      "Estimating parameters for 103...\n",
      "Estimating parameters for 104...\n",
      "Estimating parameters for 105...\n",
      "Estimating parameters for 106...\n",
      "Estimating parameters for 108...\n",
      "Estimating parameters for 109...\n",
      "Estimating parameters for 110...\n",
      "Estimating parameters for 111...\n",
      "Estimating parameters for 112...\n",
      "Estimating parameters for 113...\n",
      "Estimating parameters for 114...\n",
      "Estimating parameters for 115...\n",
      "Estimating parameters for 116...\n",
      "Estimating parameters for 117...\n",
      "Estimating parameters for 119...\n",
      "Estimating parameters for 120...\n",
      "Estimating parameters for 121...\n",
      "Estimating parameters for 122...\n",
      "Estimating parameters for 123...\n",
      "Estimating parameters for 124...\n",
      "Estimating parameters for 125...\n",
      "Estimating parameters for 126...\n",
      "Estimating parameters for 127...\n",
      "Estimating parameters for 128...\n",
      "Estimating parameters for 129...\n",
      "Estimating parameters for 130...\n",
      "Estimating parameters for 131...\n",
      "Estimating parameters for 132...\n",
      "Estimating parameters for 133...\n",
      "Estimating parameters for 135...\n",
      "Estimating parameters for 136...\n",
      "Estimating parameters for 137...\n",
      "Estimating parameters for 138...\n"
     ]
    },
    {
     "data": {
      "text/html": [
       "<div>\n",
       "<style scoped>\n",
       "    .dataframe tbody tr th:only-of-type {\n",
       "        vertical-align: middle;\n",
       "    }\n",
       "\n",
       "    .dataframe tbody tr th {\n",
       "        vertical-align: top;\n",
       "    }\n",
       "\n",
       "    .dataframe thead th {\n",
       "        text-align: right;\n",
       "    }\n",
       "</style>\n",
       "<table border=\"1\" class=\"dataframe\">\n",
       "  <thead>\n",
       "    <tr style=\"text-align: right;\">\n",
       "      <th></th>\n",
       "      <th>gamma</th>\n",
       "      <th>gamma2</th>\n",
       "      <th>alpha</th>\n",
       "      <th>tau</th>\n",
       "      <th>w</th>\n",
       "      <th>subject</th>\n",
       "      <th>log_like</th>\n",
       "    </tr>\n",
       "  </thead>\n",
       "  <tbody>\n",
       "    <tr>\n",
       "      <th>0</th>\n",
       "      <td>1.000000</td>\n",
       "      <td>0.693153</td>\n",
       "      <td>1.000000e+00</td>\n",
       "      <td>1.000000e+01</td>\n",
       "      <td>0.522765</td>\n",
       "      <td>100</td>\n",
       "      <td>-27.939491</td>\n",
       "    </tr>\n",
       "    <tr>\n",
       "      <th>1</th>\n",
       "      <td>0.000000</td>\n",
       "      <td>0.996417</td>\n",
       "      <td>7.922388e-01</td>\n",
       "      <td>6.430763e-01</td>\n",
       "      <td>0.627058</td>\n",
       "      <td>101</td>\n",
       "      <td>-25.195232</td>\n",
       "    </tr>\n",
       "    <tr>\n",
       "      <th>2</th>\n",
       "      <td>0.901817</td>\n",
       "      <td>0.918229</td>\n",
       "      <td>1.349770e-02</td>\n",
       "      <td>1.029264e-01</td>\n",
       "      <td>0.271654</td>\n",
       "      <td>102</td>\n",
       "      <td>-21.002782</td>\n",
       "    </tr>\n",
       "    <tr>\n",
       "      <th>3</th>\n",
       "      <td>0.000000</td>\n",
       "      <td>0.000000</td>\n",
       "      <td>9.984577e-01</td>\n",
       "      <td>1.406752e-03</td>\n",
       "      <td>0.333313</td>\n",
       "      <td>103</td>\n",
       "      <td>-24.430901</td>\n",
       "    </tr>\n",
       "    <tr>\n",
       "      <th>4</th>\n",
       "      <td>0.000000</td>\n",
       "      <td>0.000000</td>\n",
       "      <td>1.000000e+00</td>\n",
       "      <td>5.581107e-01</td>\n",
       "      <td>0.057300</td>\n",
       "      <td>104</td>\n",
       "      <td>-27.130966</td>\n",
       "    </tr>\n",
       "    <tr>\n",
       "      <th>5</th>\n",
       "      <td>0.464477</td>\n",
       "      <td>1.000000</td>\n",
       "      <td>1.335675e-01</td>\n",
       "      <td>3.849299e-01</td>\n",
       "      <td>0.000000</td>\n",
       "      <td>105</td>\n",
       "      <td>-23.354277</td>\n",
       "    </tr>\n",
       "    <tr>\n",
       "      <th>6</th>\n",
       "      <td>0.757760</td>\n",
       "      <td>0.757762</td>\n",
       "      <td>5.054017e-02</td>\n",
       "      <td>5.513259e-01</td>\n",
       "      <td>0.336241</td>\n",
       "      <td>106</td>\n",
       "      <td>-55.842540</td>\n",
       "    </tr>\n",
       "    <tr>\n",
       "      <th>7</th>\n",
       "      <td>0.908063</td>\n",
       "      <td>1.000000</td>\n",
       "      <td>6.254183e-01</td>\n",
       "      <td>2.559159e+00</td>\n",
       "      <td>0.539503</td>\n",
       "      <td>108</td>\n",
       "      <td>-28.565255</td>\n",
       "    </tr>\n",
       "    <tr>\n",
       "      <th>8</th>\n",
       "      <td>0.656049</td>\n",
       "      <td>0.656052</td>\n",
       "      <td>3.213212e-02</td>\n",
       "      <td>1.164358e-01</td>\n",
       "      <td>0.328504</td>\n",
       "      <td>109</td>\n",
       "      <td>-20.332573</td>\n",
       "    </tr>\n",
       "    <tr>\n",
       "      <th>9</th>\n",
       "      <td>1.000000</td>\n",
       "      <td>0.100320</td>\n",
       "      <td>9.285067e-01</td>\n",
       "      <td>1.452474e+00</td>\n",
       "      <td>1.000000</td>\n",
       "      <td>110</td>\n",
       "      <td>-24.718617</td>\n",
       "    </tr>\n",
       "    <tr>\n",
       "      <th>10</th>\n",
       "      <td>1.000000</td>\n",
       "      <td>1.000000</td>\n",
       "      <td>3.873054e-02</td>\n",
       "      <td>7.338828e-01</td>\n",
       "      <td>0.000000</td>\n",
       "      <td>111</td>\n",
       "      <td>-27.926191</td>\n",
       "    </tr>\n",
       "    <tr>\n",
       "      <th>11</th>\n",
       "      <td>0.091486</td>\n",
       "      <td>0.000000</td>\n",
       "      <td>1.000000e+00</td>\n",
       "      <td>7.215550e-01</td>\n",
       "      <td>0.157797</td>\n",
       "      <td>112</td>\n",
       "      <td>-28.148366</td>\n",
       "    </tr>\n",
       "    <tr>\n",
       "      <th>12</th>\n",
       "      <td>0.903170</td>\n",
       "      <td>1.000000</td>\n",
       "      <td>2.138935e-01</td>\n",
       "      <td>3.659127e-01</td>\n",
       "      <td>0.000000</td>\n",
       "      <td>113</td>\n",
       "      <td>-25.319776</td>\n",
       "    </tr>\n",
       "    <tr>\n",
       "      <th>13</th>\n",
       "      <td>0.245286</td>\n",
       "      <td>0.444749</td>\n",
       "      <td>0.000000e+00</td>\n",
       "      <td>7.740364e+00</td>\n",
       "      <td>0.245433</td>\n",
       "      <td>114</td>\n",
       "      <td>-29.112182</td>\n",
       "    </tr>\n",
       "    <tr>\n",
       "      <th>14</th>\n",
       "      <td>0.000000</td>\n",
       "      <td>0.930226</td>\n",
       "      <td>1.000000e+00</td>\n",
       "      <td>1.210111e+00</td>\n",
       "      <td>0.629293</td>\n",
       "      <td>115</td>\n",
       "      <td>-28.136536</td>\n",
       "    </tr>\n",
       "    <tr>\n",
       "      <th>15</th>\n",
       "      <td>0.003798</td>\n",
       "      <td>0.003808</td>\n",
       "      <td>4.558047e-01</td>\n",
       "      <td>2.063837e-01</td>\n",
       "      <td>0.517767</td>\n",
       "      <td>116</td>\n",
       "      <td>-25.804584</td>\n",
       "    </tr>\n",
       "    <tr>\n",
       "      <th>16</th>\n",
       "      <td>0.000000</td>\n",
       "      <td>0.348906</td>\n",
       "      <td>1.000000e+00</td>\n",
       "      <td>2.466277e+00</td>\n",
       "      <td>1.000000</td>\n",
       "      <td>117</td>\n",
       "      <td>-29.011504</td>\n",
       "    </tr>\n",
       "    <tr>\n",
       "      <th>17</th>\n",
       "      <td>1.000000</td>\n",
       "      <td>0.569406</td>\n",
       "      <td>1.259976e-01</td>\n",
       "      <td>3.083902e-01</td>\n",
       "      <td>0.840607</td>\n",
       "      <td>119</td>\n",
       "      <td>-23.223128</td>\n",
       "    </tr>\n",
       "    <tr>\n",
       "      <th>18</th>\n",
       "      <td>0.000000</td>\n",
       "      <td>1.000000</td>\n",
       "      <td>7.193145e-01</td>\n",
       "      <td>7.332749e-01</td>\n",
       "      <td>0.693564</td>\n",
       "      <td>120</td>\n",
       "      <td>-27.476743</td>\n",
       "    </tr>\n",
       "    <tr>\n",
       "      <th>19</th>\n",
       "      <td>0.700022</td>\n",
       "      <td>0.699935</td>\n",
       "      <td>3.782703e-02</td>\n",
       "      <td>2.843070e-01</td>\n",
       "      <td>0.013716</td>\n",
       "      <td>121</td>\n",
       "      <td>-26.686745</td>\n",
       "    </tr>\n",
       "    <tr>\n",
       "      <th>20</th>\n",
       "      <td>0.252326</td>\n",
       "      <td>0.252349</td>\n",
       "      <td>8.219657e-01</td>\n",
       "      <td>1.342961e-01</td>\n",
       "      <td>0.698564</td>\n",
       "      <td>122</td>\n",
       "      <td>-23.708780</td>\n",
       "    </tr>\n",
       "    <tr>\n",
       "      <th>21</th>\n",
       "      <td>0.568463</td>\n",
       "      <td>0.885738</td>\n",
       "      <td>1.000000e+00</td>\n",
       "      <td>3.006046e+00</td>\n",
       "      <td>0.000000</td>\n",
       "      <td>123</td>\n",
       "      <td>-28.783776</td>\n",
       "    </tr>\n",
       "    <tr>\n",
       "      <th>22</th>\n",
       "      <td>0.288466</td>\n",
       "      <td>0.168737</td>\n",
       "      <td>5.499903e-08</td>\n",
       "      <td>8.601192e-07</td>\n",
       "      <td>0.313837</td>\n",
       "      <td>124</td>\n",
       "      <td>-25.208239</td>\n",
       "    </tr>\n",
       "    <tr>\n",
       "      <th>23</th>\n",
       "      <td>1.000000</td>\n",
       "      <td>0.715519</td>\n",
       "      <td>5.409180e-01</td>\n",
       "      <td>2.429601e+00</td>\n",
       "      <td>1.000000</td>\n",
       "      <td>125</td>\n",
       "      <td>-27.981621</td>\n",
       "    </tr>\n",
       "    <tr>\n",
       "      <th>24</th>\n",
       "      <td>0.928023</td>\n",
       "      <td>0.499653</td>\n",
       "      <td>1.000000e+00</td>\n",
       "      <td>4.520112e+00</td>\n",
       "      <td>1.000000</td>\n",
       "      <td>126</td>\n",
       "      <td>-28.777577</td>\n",
       "    </tr>\n",
       "    <tr>\n",
       "      <th>25</th>\n",
       "      <td>0.905556</td>\n",
       "      <td>1.000000</td>\n",
       "      <td>2.007859e-01</td>\n",
       "      <td>9.769694e-01</td>\n",
       "      <td>0.194733</td>\n",
       "      <td>127</td>\n",
       "      <td>-27.198661</td>\n",
       "    </tr>\n",
       "    <tr>\n",
       "      <th>26</th>\n",
       "      <td>0.000000</td>\n",
       "      <td>0.227840</td>\n",
       "      <td>5.774908e-02</td>\n",
       "      <td>4.548284e-01</td>\n",
       "      <td>1.000000</td>\n",
       "      <td>128</td>\n",
       "      <td>-28.708976</td>\n",
       "    </tr>\n",
       "    <tr>\n",
       "      <th>27</th>\n",
       "      <td>0.681670</td>\n",
       "      <td>0.000000</td>\n",
       "      <td>1.000000e+00</td>\n",
       "      <td>9.102402e-01</td>\n",
       "      <td>0.000000</td>\n",
       "      <td>129</td>\n",
       "      <td>-28.588933</td>\n",
       "    </tr>\n",
       "    <tr>\n",
       "      <th>28</th>\n",
       "      <td>0.784202</td>\n",
       "      <td>1.000000</td>\n",
       "      <td>2.032285e-02</td>\n",
       "      <td>1.720498e-01</td>\n",
       "      <td>0.000000</td>\n",
       "      <td>130</td>\n",
       "      <td>-21.724390</td>\n",
       "    </tr>\n",
       "    <tr>\n",
       "      <th>29</th>\n",
       "      <td>0.665148</td>\n",
       "      <td>0.665166</td>\n",
       "      <td>7.852316e-02</td>\n",
       "      <td>3.755803e-01</td>\n",
       "      <td>0.429690</td>\n",
       "      <td>131</td>\n",
       "      <td>-27.644988</td>\n",
       "    </tr>\n",
       "    <tr>\n",
       "      <th>30</th>\n",
       "      <td>0.000000</td>\n",
       "      <td>0.000000</td>\n",
       "      <td>7.634011e-02</td>\n",
       "      <td>9.737792e-02</td>\n",
       "      <td>0.780372</td>\n",
       "      <td>132</td>\n",
       "      <td>-25.606483</td>\n",
       "    </tr>\n",
       "    <tr>\n",
       "      <th>31</th>\n",
       "      <td>1.000000</td>\n",
       "      <td>0.583964</td>\n",
       "      <td>1.375016e-01</td>\n",
       "      <td>4.565596e-01</td>\n",
       "      <td>1.000000</td>\n",
       "      <td>133</td>\n",
       "      <td>-25.065973</td>\n",
       "    </tr>\n",
       "    <tr>\n",
       "      <th>32</th>\n",
       "      <td>0.680891</td>\n",
       "      <td>0.680888</td>\n",
       "      <td>1.595135e-01</td>\n",
       "      <td>8.555093e-02</td>\n",
       "      <td>0.725180</td>\n",
       "      <td>135</td>\n",
       "      <td>-18.165872</td>\n",
       "    </tr>\n",
       "    <tr>\n",
       "      <th>33</th>\n",
       "      <td>0.540460</td>\n",
       "      <td>0.067720</td>\n",
       "      <td>0.000000e+00</td>\n",
       "      <td>9.087752e+00</td>\n",
       "      <td>0.739602</td>\n",
       "      <td>136</td>\n",
       "      <td>-29.112182</td>\n",
       "    </tr>\n",
       "    <tr>\n",
       "      <th>34</th>\n",
       "      <td>0.000000</td>\n",
       "      <td>0.000000</td>\n",
       "      <td>3.950930e-01</td>\n",
       "      <td>4.633115e-01</td>\n",
       "      <td>0.685372</td>\n",
       "      <td>137</td>\n",
       "      <td>-28.273786</td>\n",
       "    </tr>\n",
       "    <tr>\n",
       "      <th>35</th>\n",
       "      <td>0.762513</td>\n",
       "      <td>0.049979</td>\n",
       "      <td>1.000000e+00</td>\n",
       "      <td>1.847909e+00</td>\n",
       "      <td>1.000000</td>\n",
       "      <td>138</td>\n",
       "      <td>-28.534782</td>\n",
       "    </tr>\n",
       "  </tbody>\n",
       "</table>\n",
       "</div>"
      ],
      "text/plain": [
       "       gamma    gamma2         alpha           tau         w  subject  \\\n",
       "0   1.000000  0.693153  1.000000e+00  1.000000e+01  0.522765      100   \n",
       "1   0.000000  0.996417  7.922388e-01  6.430763e-01  0.627058      101   \n",
       "2   0.901817  0.918229  1.349770e-02  1.029264e-01  0.271654      102   \n",
       "3   0.000000  0.000000  9.984577e-01  1.406752e-03  0.333313      103   \n",
       "4   0.000000  0.000000  1.000000e+00  5.581107e-01  0.057300      104   \n",
       "5   0.464477  1.000000  1.335675e-01  3.849299e-01  0.000000      105   \n",
       "6   0.757760  0.757762  5.054017e-02  5.513259e-01  0.336241      106   \n",
       "7   0.908063  1.000000  6.254183e-01  2.559159e+00  0.539503      108   \n",
       "8   0.656049  0.656052  3.213212e-02  1.164358e-01  0.328504      109   \n",
       "9   1.000000  0.100320  9.285067e-01  1.452474e+00  1.000000      110   \n",
       "10  1.000000  1.000000  3.873054e-02  7.338828e-01  0.000000      111   \n",
       "11  0.091486  0.000000  1.000000e+00  7.215550e-01  0.157797      112   \n",
       "12  0.903170  1.000000  2.138935e-01  3.659127e-01  0.000000      113   \n",
       "13  0.245286  0.444749  0.000000e+00  7.740364e+00  0.245433      114   \n",
       "14  0.000000  0.930226  1.000000e+00  1.210111e+00  0.629293      115   \n",
       "15  0.003798  0.003808  4.558047e-01  2.063837e-01  0.517767      116   \n",
       "16  0.000000  0.348906  1.000000e+00  2.466277e+00  1.000000      117   \n",
       "17  1.000000  0.569406  1.259976e-01  3.083902e-01  0.840607      119   \n",
       "18  0.000000  1.000000  7.193145e-01  7.332749e-01  0.693564      120   \n",
       "19  0.700022  0.699935  3.782703e-02  2.843070e-01  0.013716      121   \n",
       "20  0.252326  0.252349  8.219657e-01  1.342961e-01  0.698564      122   \n",
       "21  0.568463  0.885738  1.000000e+00  3.006046e+00  0.000000      123   \n",
       "22  0.288466  0.168737  5.499903e-08  8.601192e-07  0.313837      124   \n",
       "23  1.000000  0.715519  5.409180e-01  2.429601e+00  1.000000      125   \n",
       "24  0.928023  0.499653  1.000000e+00  4.520112e+00  1.000000      126   \n",
       "25  0.905556  1.000000  2.007859e-01  9.769694e-01  0.194733      127   \n",
       "26  0.000000  0.227840  5.774908e-02  4.548284e-01  1.000000      128   \n",
       "27  0.681670  0.000000  1.000000e+00  9.102402e-01  0.000000      129   \n",
       "28  0.784202  1.000000  2.032285e-02  1.720498e-01  0.000000      130   \n",
       "29  0.665148  0.665166  7.852316e-02  3.755803e-01  0.429690      131   \n",
       "30  0.000000  0.000000  7.634011e-02  9.737792e-02  0.780372      132   \n",
       "31  1.000000  0.583964  1.375016e-01  4.565596e-01  1.000000      133   \n",
       "32  0.680891  0.680888  1.595135e-01  8.555093e-02  0.725180      135   \n",
       "33  0.540460  0.067720  0.000000e+00  9.087752e+00  0.739602      136   \n",
       "34  0.000000  0.000000  3.950930e-01  4.633115e-01  0.685372      137   \n",
       "35  0.762513  0.049979  1.000000e+00  1.847909e+00  1.000000      138   \n",
       "\n",
       "     log_like  \n",
       "0  -27.939491  \n",
       "1  -25.195232  \n",
       "2  -21.002782  \n",
       "3  -24.430901  \n",
       "4  -27.130966  \n",
       "5  -23.354277  \n",
       "6  -55.842540  \n",
       "7  -28.565255  \n",
       "8  -20.332573  \n",
       "9  -24.718617  \n",
       "10 -27.926191  \n",
       "11 -28.148366  \n",
       "12 -25.319776  \n",
       "13 -29.112182  \n",
       "14 -28.136536  \n",
       "15 -25.804584  \n",
       "16 -29.011504  \n",
       "17 -23.223128  \n",
       "18 -27.476743  \n",
       "19 -26.686745  \n",
       "20 -23.708780  \n",
       "21 -28.783776  \n",
       "22 -25.208239  \n",
       "23 -27.981621  \n",
       "24 -28.777577  \n",
       "25 -27.198661  \n",
       "26 -28.708976  \n",
       "27 -28.588933  \n",
       "28 -21.724390  \n",
       "29 -27.644988  \n",
       "30 -25.606483  \n",
       "31 -25.065973  \n",
       "32 -18.165872  \n",
       "33 -29.112182  \n",
       "34 -28.273786  \n",
       "35 -28.534782  "
      ]
     },
     "execution_count": 6,
     "metadata": {},
     "output_type": "execute_result"
    }
   ],
   "source": [
    "fixed = {}\n",
    "var_names = ['gamma', 'gamma2', 'alpha', 'tau', 'w']\n",
    "var_bounds = {'alpha': [0, 1], 'gamma': [0, 1], 'gamma2': [0, 1], 'tau': [0, 10], 'w' : [0, 1]}\n",
    "results =fit.cfit_induct_indiv(struct_all, induct_all, fixed, var_names, var_bounds,\n",
    "                               n_states=n_states, model='gamma')\n",
    "results"
   ]
  },
  {
   "cell_type": "code",
   "execution_count": 7,
   "metadata": {},
   "outputs": [
    {
     "name": "stdout",
     "output_type": "stream",
     "text": [
      "Estimating parameters for 100...\n",
      "Estimating parameters for 101...\n",
      "Estimating parameters for 102...\n",
      "Estimating parameters for 103...\n",
      "Estimating parameters for 104...\n",
      "Estimating parameters for 105...\n",
      "Estimating parameters for 106...\n",
      "Estimating parameters for 108...\n",
      "Estimating parameters for 109...\n",
      "Estimating parameters for 110...\n",
      "Estimating parameters for 111...\n",
      "Estimating parameters for 112...\n",
      "Estimating parameters for 113...\n",
      "Estimating parameters for 114...\n",
      "Estimating parameters for 115...\n",
      "Estimating parameters for 116...\n",
      "Estimating parameters for 117...\n",
      "Estimating parameters for 119...\n",
      "Estimating parameters for 120...\n",
      "Estimating parameters for 121...\n",
      "Estimating parameters for 122...\n",
      "Estimating parameters for 123...\n",
      "Estimating parameters for 124...\n",
      "Estimating parameters for 125...\n",
      "Estimating parameters for 126...\n",
      "Estimating parameters for 127...\n",
      "Estimating parameters for 128...\n",
      "Estimating parameters for 129...\n",
      "Estimating parameters for 130...\n",
      "Estimating parameters for 131...\n",
      "Estimating parameters for 132...\n",
      "Estimating parameters for 133...\n",
      "Estimating parameters for 135...\n",
      "Estimating parameters for 136...\n",
      "Estimating parameters for 137...\n",
      "Estimating parameters for 138...\n"
     ]
    },
    {
     "data": {
      "text/html": [
       "<div>\n",
       "<style scoped>\n",
       "    .dataframe tbody tr th:only-of-type {\n",
       "        vertical-align: middle;\n",
       "    }\n",
       "\n",
       "    .dataframe tbody tr th {\n",
       "        vertical-align: top;\n",
       "    }\n",
       "\n",
       "    .dataframe thead th {\n",
       "        text-align: right;\n",
       "    }\n",
       "</style>\n",
       "<table border=\"1\" class=\"dataframe\">\n",
       "  <thead>\n",
       "    <tr style=\"text-align: right;\">\n",
       "      <th></th>\n",
       "      <th>gamma2</th>\n",
       "      <th>gamma</th>\n",
       "      <th>alpha</th>\n",
       "      <th>tau</th>\n",
       "      <th>w</th>\n",
       "      <th>subject</th>\n",
       "      <th>log_like</th>\n",
       "    </tr>\n",
       "  </thead>\n",
       "  <tbody>\n",
       "    <tr>\n",
       "      <th>0</th>\n",
       "      <td>0.5</td>\n",
       "      <td>1.000000</td>\n",
       "      <td>1.000000</td>\n",
       "      <td>10.000000</td>\n",
       "      <td>0.525602</td>\n",
       "      <td>100</td>\n",
       "      <td>-27.941210</td>\n",
       "    </tr>\n",
       "    <tr>\n",
       "      <th>1</th>\n",
       "      <td>0.5</td>\n",
       "      <td>0.995202</td>\n",
       "      <td>0.753393</td>\n",
       "      <td>0.847845</td>\n",
       "      <td>0.564184</td>\n",
       "      <td>101</td>\n",
       "      <td>-25.301542</td>\n",
       "    </tr>\n",
       "    <tr>\n",
       "      <th>2</th>\n",
       "      <td>0.5</td>\n",
       "      <td>0.916005</td>\n",
       "      <td>0.013471</td>\n",
       "      <td>0.102915</td>\n",
       "      <td>1.000000</td>\n",
       "      <td>102</td>\n",
       "      <td>-21.002741</td>\n",
       "    </tr>\n",
       "    <tr>\n",
       "      <th>3</th>\n",
       "      <td>0.5</td>\n",
       "      <td>0.000000</td>\n",
       "      <td>0.998452</td>\n",
       "      <td>0.001408</td>\n",
       "      <td>1.000000</td>\n",
       "      <td>103</td>\n",
       "      <td>-24.430901</td>\n",
       "    </tr>\n",
       "    <tr>\n",
       "      <th>4</th>\n",
       "      <td>0.5</td>\n",
       "      <td>0.000000</td>\n",
       "      <td>1.000000</td>\n",
       "      <td>0.558111</td>\n",
       "      <td>1.000000</td>\n",
       "      <td>104</td>\n",
       "      <td>-27.130966</td>\n",
       "    </tr>\n",
       "    <tr>\n",
       "      <th>5</th>\n",
       "      <td>0.5</td>\n",
       "      <td>1.000000</td>\n",
       "      <td>0.133568</td>\n",
       "      <td>0.384932</td>\n",
       "      <td>1.000000</td>\n",
       "      <td>105</td>\n",
       "      <td>-23.354277</td>\n",
       "    </tr>\n",
       "    <tr>\n",
       "      <th>6</th>\n",
       "      <td>0.5</td>\n",
       "      <td>0.757755</td>\n",
       "      <td>0.050539</td>\n",
       "      <td>0.551321</td>\n",
       "      <td>1.000000</td>\n",
       "      <td>106</td>\n",
       "      <td>-55.842540</td>\n",
       "    </tr>\n",
       "    <tr>\n",
       "      <th>7</th>\n",
       "      <td>0.5</td>\n",
       "      <td>1.000000</td>\n",
       "      <td>0.682635</td>\n",
       "      <td>2.200215</td>\n",
       "      <td>0.371046</td>\n",
       "      <td>108</td>\n",
       "      <td>-28.575448</td>\n",
       "    </tr>\n",
       "    <tr>\n",
       "      <th>8</th>\n",
       "      <td>0.5</td>\n",
       "      <td>0.656051</td>\n",
       "      <td>0.032132</td>\n",
       "      <td>0.116436</td>\n",
       "      <td>1.000000</td>\n",
       "      <td>109</td>\n",
       "      <td>-20.332573</td>\n",
       "    </tr>\n",
       "    <tr>\n",
       "      <th>9</th>\n",
       "      <td>0.5</td>\n",
       "      <td>1.000000</td>\n",
       "      <td>0.928507</td>\n",
       "      <td>1.452476</td>\n",
       "      <td>1.000000</td>\n",
       "      <td>110</td>\n",
       "      <td>-24.718617</td>\n",
       "    </tr>\n",
       "    <tr>\n",
       "      <th>10</th>\n",
       "      <td>0.5</td>\n",
       "      <td>0.035411</td>\n",
       "      <td>0.017423</td>\n",
       "      <td>0.428960</td>\n",
       "      <td>0.141182</td>\n",
       "      <td>111</td>\n",
       "      <td>-28.280663</td>\n",
       "    </tr>\n",
       "    <tr>\n",
       "      <th>11</th>\n",
       "      <td>0.5</td>\n",
       "      <td>0.000000</td>\n",
       "      <td>1.000000</td>\n",
       "      <td>0.721348</td>\n",
       "      <td>1.000000</td>\n",
       "      <td>112</td>\n",
       "      <td>-28.148458</td>\n",
       "    </tr>\n",
       "    <tr>\n",
       "      <th>12</th>\n",
       "      <td>0.5</td>\n",
       "      <td>1.000000</td>\n",
       "      <td>0.213895</td>\n",
       "      <td>0.365916</td>\n",
       "      <td>1.000000</td>\n",
       "      <td>113</td>\n",
       "      <td>-25.319776</td>\n",
       "    </tr>\n",
       "    <tr>\n",
       "      <th>13</th>\n",
       "      <td>0.5</td>\n",
       "      <td>0.071679</td>\n",
       "      <td>0.000000</td>\n",
       "      <td>7.785396</td>\n",
       "      <td>0.750979</td>\n",
       "      <td>114</td>\n",
       "      <td>-29.112182</td>\n",
       "    </tr>\n",
       "    <tr>\n",
       "      <th>14</th>\n",
       "      <td>0.5</td>\n",
       "      <td>0.000000</td>\n",
       "      <td>0.768318</td>\n",
       "      <td>0.796698</td>\n",
       "      <td>1.000000</td>\n",
       "      <td>115</td>\n",
       "      <td>-28.334008</td>\n",
       "    </tr>\n",
       "    <tr>\n",
       "      <th>15</th>\n",
       "      <td>0.5</td>\n",
       "      <td>0.003794</td>\n",
       "      <td>0.455806</td>\n",
       "      <td>0.206383</td>\n",
       "      <td>1.000000</td>\n",
       "      <td>116</td>\n",
       "      <td>-25.804584</td>\n",
       "    </tr>\n",
       "    <tr>\n",
       "      <th>16</th>\n",
       "      <td>0.5</td>\n",
       "      <td>0.000000</td>\n",
       "      <td>1.000000</td>\n",
       "      <td>2.466316</td>\n",
       "      <td>1.000000</td>\n",
       "      <td>117</td>\n",
       "      <td>-29.011504</td>\n",
       "    </tr>\n",
       "    <tr>\n",
       "      <th>17</th>\n",
       "      <td>0.5</td>\n",
       "      <td>1.000000</td>\n",
       "      <td>0.125410</td>\n",
       "      <td>0.309451</td>\n",
       "      <td>0.851380</td>\n",
       "      <td>119</td>\n",
       "      <td>-23.223464</td>\n",
       "    </tr>\n",
       "    <tr>\n",
       "      <th>18</th>\n",
       "      <td>0.5</td>\n",
       "      <td>0.791345</td>\n",
       "      <td>0.000125</td>\n",
       "      <td>0.005018</td>\n",
       "      <td>0.940615</td>\n",
       "      <td>120</td>\n",
       "      <td>-28.390617</td>\n",
       "    </tr>\n",
       "    <tr>\n",
       "      <th>19</th>\n",
       "      <td>0.5</td>\n",
       "      <td>0.699941</td>\n",
       "      <td>0.037827</td>\n",
       "      <td>0.284309</td>\n",
       "      <td>1.000000</td>\n",
       "      <td>121</td>\n",
       "      <td>-26.686745</td>\n",
       "    </tr>\n",
       "    <tr>\n",
       "      <th>20</th>\n",
       "      <td>0.5</td>\n",
       "      <td>0.241675</td>\n",
       "      <td>0.825567</td>\n",
       "      <td>0.133846</td>\n",
       "      <td>0.965132</td>\n",
       "      <td>122</td>\n",
       "      <td>-23.708688</td>\n",
       "    </tr>\n",
       "    <tr>\n",
       "      <th>21</th>\n",
       "      <td>0.5</td>\n",
       "      <td>0.885740</td>\n",
       "      <td>1.000000</td>\n",
       "      <td>3.006076</td>\n",
       "      <td>1.000000</td>\n",
       "      <td>123</td>\n",
       "      <td>-28.783776</td>\n",
       "    </tr>\n",
       "    <tr>\n",
       "      <th>22</th>\n",
       "      <td>0.5</td>\n",
       "      <td>0.182194</td>\n",
       "      <td>0.000441</td>\n",
       "      <td>0.006588</td>\n",
       "      <td>0.633472</td>\n",
       "      <td>124</td>\n",
       "      <td>-25.231726</td>\n",
       "    </tr>\n",
       "    <tr>\n",
       "      <th>23</th>\n",
       "      <td>0.5</td>\n",
       "      <td>1.000000</td>\n",
       "      <td>0.540918</td>\n",
       "      <td>2.429593</td>\n",
       "      <td>1.000000</td>\n",
       "      <td>125</td>\n",
       "      <td>-27.981621</td>\n",
       "    </tr>\n",
       "    <tr>\n",
       "      <th>24</th>\n",
       "      <td>0.5</td>\n",
       "      <td>0.927276</td>\n",
       "      <td>1.000000</td>\n",
       "      <td>4.374888</td>\n",
       "      <td>1.000000</td>\n",
       "      <td>126</td>\n",
       "      <td>-28.777298</td>\n",
       "    </tr>\n",
       "    <tr>\n",
       "      <th>25</th>\n",
       "      <td>0.5</td>\n",
       "      <td>1.000000</td>\n",
       "      <td>0.185959</td>\n",
       "      <td>1.074576</td>\n",
       "      <td>1.000000</td>\n",
       "      <td>127</td>\n",
       "      <td>-27.199495</td>\n",
       "    </tr>\n",
       "    <tr>\n",
       "      <th>26</th>\n",
       "      <td>0.5</td>\n",
       "      <td>0.000000</td>\n",
       "      <td>0.057749</td>\n",
       "      <td>0.454814</td>\n",
       "      <td>1.000000</td>\n",
       "      <td>128</td>\n",
       "      <td>-28.708976</td>\n",
       "    </tr>\n",
       "    <tr>\n",
       "      <th>27</th>\n",
       "      <td>0.5</td>\n",
       "      <td>0.000000</td>\n",
       "      <td>1.000000</td>\n",
       "      <td>0.910239</td>\n",
       "      <td>1.000000</td>\n",
       "      <td>129</td>\n",
       "      <td>-28.588933</td>\n",
       "    </tr>\n",
       "    <tr>\n",
       "      <th>28</th>\n",
       "      <td>0.5</td>\n",
       "      <td>1.000000</td>\n",
       "      <td>0.020323</td>\n",
       "      <td>0.172056</td>\n",
       "      <td>1.000000</td>\n",
       "      <td>130</td>\n",
       "      <td>-21.724390</td>\n",
       "    </tr>\n",
       "    <tr>\n",
       "      <th>29</th>\n",
       "      <td>0.5</td>\n",
       "      <td>0.665155</td>\n",
       "      <td>0.078523</td>\n",
       "      <td>0.375584</td>\n",
       "      <td>1.000000</td>\n",
       "      <td>131</td>\n",
       "      <td>-27.644988</td>\n",
       "    </tr>\n",
       "    <tr>\n",
       "      <th>30</th>\n",
       "      <td>0.5</td>\n",
       "      <td>0.000000</td>\n",
       "      <td>0.076340</td>\n",
       "      <td>0.097378</td>\n",
       "      <td>1.000000</td>\n",
       "      <td>132</td>\n",
       "      <td>-25.606483</td>\n",
       "    </tr>\n",
       "    <tr>\n",
       "      <th>31</th>\n",
       "      <td>0.5</td>\n",
       "      <td>1.000000</td>\n",
       "      <td>0.137502</td>\n",
       "      <td>0.456560</td>\n",
       "      <td>1.000000</td>\n",
       "      <td>133</td>\n",
       "      <td>-25.065973</td>\n",
       "    </tr>\n",
       "    <tr>\n",
       "      <th>32</th>\n",
       "      <td>0.5</td>\n",
       "      <td>0.680889</td>\n",
       "      <td>0.159513</td>\n",
       "      <td>0.085551</td>\n",
       "      <td>1.000000</td>\n",
       "      <td>135</td>\n",
       "      <td>-18.165872</td>\n",
       "    </tr>\n",
       "    <tr>\n",
       "      <th>33</th>\n",
       "      <td>0.5</td>\n",
       "      <td>0.250750</td>\n",
       "      <td>0.000000</td>\n",
       "      <td>6.961894</td>\n",
       "      <td>0.108031</td>\n",
       "      <td>136</td>\n",
       "      <td>-29.112182</td>\n",
       "    </tr>\n",
       "    <tr>\n",
       "      <th>34</th>\n",
       "      <td>0.5</td>\n",
       "      <td>0.958397</td>\n",
       "      <td>1.000000</td>\n",
       "      <td>1.611615</td>\n",
       "      <td>1.000000</td>\n",
       "      <td>137</td>\n",
       "      <td>-26.243454</td>\n",
       "    </tr>\n",
       "    <tr>\n",
       "      <th>35</th>\n",
       "      <td>0.5</td>\n",
       "      <td>0.762514</td>\n",
       "      <td>1.000000</td>\n",
       "      <td>1.847934</td>\n",
       "      <td>1.000000</td>\n",
       "      <td>138</td>\n",
       "      <td>-28.534782</td>\n",
       "    </tr>\n",
       "  </tbody>\n",
       "</table>\n",
       "</div>"
      ],
      "text/plain": [
       "    gamma2     gamma     alpha        tau         w  subject   log_like\n",
       "0      0.5  1.000000  1.000000  10.000000  0.525602      100 -27.941210\n",
       "1      0.5  0.995202  0.753393   0.847845  0.564184      101 -25.301542\n",
       "2      0.5  0.916005  0.013471   0.102915  1.000000      102 -21.002741\n",
       "3      0.5  0.000000  0.998452   0.001408  1.000000      103 -24.430901\n",
       "4      0.5  0.000000  1.000000   0.558111  1.000000      104 -27.130966\n",
       "5      0.5  1.000000  0.133568   0.384932  1.000000      105 -23.354277\n",
       "6      0.5  0.757755  0.050539   0.551321  1.000000      106 -55.842540\n",
       "7      0.5  1.000000  0.682635   2.200215  0.371046      108 -28.575448\n",
       "8      0.5  0.656051  0.032132   0.116436  1.000000      109 -20.332573\n",
       "9      0.5  1.000000  0.928507   1.452476  1.000000      110 -24.718617\n",
       "10     0.5  0.035411  0.017423   0.428960  0.141182      111 -28.280663\n",
       "11     0.5  0.000000  1.000000   0.721348  1.000000      112 -28.148458\n",
       "12     0.5  1.000000  0.213895   0.365916  1.000000      113 -25.319776\n",
       "13     0.5  0.071679  0.000000   7.785396  0.750979      114 -29.112182\n",
       "14     0.5  0.000000  0.768318   0.796698  1.000000      115 -28.334008\n",
       "15     0.5  0.003794  0.455806   0.206383  1.000000      116 -25.804584\n",
       "16     0.5  0.000000  1.000000   2.466316  1.000000      117 -29.011504\n",
       "17     0.5  1.000000  0.125410   0.309451  0.851380      119 -23.223464\n",
       "18     0.5  0.791345  0.000125   0.005018  0.940615      120 -28.390617\n",
       "19     0.5  0.699941  0.037827   0.284309  1.000000      121 -26.686745\n",
       "20     0.5  0.241675  0.825567   0.133846  0.965132      122 -23.708688\n",
       "21     0.5  0.885740  1.000000   3.006076  1.000000      123 -28.783776\n",
       "22     0.5  0.182194  0.000441   0.006588  0.633472      124 -25.231726\n",
       "23     0.5  1.000000  0.540918   2.429593  1.000000      125 -27.981621\n",
       "24     0.5  0.927276  1.000000   4.374888  1.000000      126 -28.777298\n",
       "25     0.5  1.000000  0.185959   1.074576  1.000000      127 -27.199495\n",
       "26     0.5  0.000000  0.057749   0.454814  1.000000      128 -28.708976\n",
       "27     0.5  0.000000  1.000000   0.910239  1.000000      129 -28.588933\n",
       "28     0.5  1.000000  0.020323   0.172056  1.000000      130 -21.724390\n",
       "29     0.5  0.665155  0.078523   0.375584  1.000000      131 -27.644988\n",
       "30     0.5  0.000000  0.076340   0.097378  1.000000      132 -25.606483\n",
       "31     0.5  1.000000  0.137502   0.456560  1.000000      133 -25.065973\n",
       "32     0.5  0.680889  0.159513   0.085551  1.000000      135 -18.165872\n",
       "33     0.5  0.250750  0.000000   6.961894  0.108031      136 -29.112182\n",
       "34     0.5  0.958397  1.000000   1.611615  1.000000      137 -26.243454\n",
       "35     0.5  0.762514  1.000000   1.847934  1.000000      138 -28.534782"
      ]
     },
     "execution_count": 7,
     "metadata": {},
     "output_type": "execute_result"
    }
   ],
   "source": [
    "fixed = {'gamma2': 0.5}\n",
    "var_names = ['gamma', 'alpha', 'tau', 'w']\n",
    "var_bounds = {'alpha': [0, 1], 'gamma': [0, 1], 'tau': [0, 10], 'w' : [0, 1]}\n",
    "results_gamma = fit.cfit_induct_indiv(struct_all, induct_all, fixed, var_names, var_bounds,\n",
    "                                n_states=n_states, model='gamma')\n",
    "results_gamma"
   ]
  },
  {
   "cell_type": "code",
   "execution_count": 8,
   "metadata": {},
   "outputs": [
    {
     "data": {
      "text/plain": [
       "array([[<matplotlib.axes._subplots.AxesSubplot object at 0x7fd192932a50>,\n",
       "        <matplotlib.axes._subplots.AxesSubplot object at 0x7fd1922976d0>,\n",
       "        <matplotlib.axes._subplots.AxesSubplot object at 0x7fd1922479d0>],\n",
       "       [<matplotlib.axes._subplots.AxesSubplot object at 0x7fd191c59cd0>,\n",
       "        <matplotlib.axes._subplots.AxesSubplot object at 0x7fd191c0cfd0>,\n",
       "        <matplotlib.axes._subplots.AxesSubplot object at 0x7fd191bc9e50>],\n",
       "       [<matplotlib.axes._subplots.AxesSubplot object at 0x7fd191bfdb10>,\n",
       "        <matplotlib.axes._subplots.AxesSubplot object at 0x7fd191bb6350>,\n",
       "        <matplotlib.axes._subplots.AxesSubplot object at 0x7fd191bb6e90>]],\n",
       "      dtype=object)"
      ]
     },
     "execution_count": 8,
     "metadata": {},
     "output_type": "execute_result"
    },
    {
     "data": {
      "image/png": "[encoded data removed]",
      "text/plain": [
       "<Figure size 864x720 with 9 Axes>"
      ]
     },
     "metadata": {
      "needs_background": "light"
     },
     "output_type": "display_data"
    }
   ],
   "source": [
    "results_gamma.hist(bins=35,figsize= (12,10))"
   ]
  },
  {
   "cell_type": "code",
   "execution_count": null,
   "metadata": {},
   "outputs": [],
   "source": []
  }
 ],
 "metadata": {
  "kernelspec": {
   "display_name": "Tesser",
   "language": "python",
   "name": "tesser"
  },
  "language_info": {
   "codemirror_mode": {
    "name": "ipython",
    "version": 3
   },
   "file_extension": ".py",
   "mimetype": "text/x-python",
   "name": "python",
   "nbconvert_exporter": "python",
   "pygments_lexer": "ipython3",
   "version": "3.7.6"
  },
  "pycharm": {
   "stem_cell": {
    "cell_type": "raw",
    "metadata": {
     "collapsed": false
    },
    "source": []
   }
  }
 },
 "nbformat": 4,
 "nbformat_minor": 4
}
