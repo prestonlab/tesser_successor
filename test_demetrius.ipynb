{
 "cells": [
  {
   "cell_type": "code",
   "execution_count": 56,
   "metadata": {},
   "outputs": [
    {
     "name": "stdout",
     "output_type": "stream",
     "text": [
      "SR1:\n",
      "R value: 0.1128101947341352\n",
      "SR2:\n",
      "R value: 0.11281069098383978\n",
      "Fitted distance:\n"
     ]
    }
   ],
   "source": [
    "import pandas as pd\n",
    "import numpy as np\n",
    "from tesser import sr\n",
    "from tesser import util\n",
    "from scipy.stats import linregress\n",
    "import scipy.spatial.distance as sd\n",
    "import matplotlib.pyplot as plt\n",
    "%matplotlib inline\n",
    "\n",
    "def get_coordinates (array, item):\n",
    "    num_rows = array.shape[0]\n",
    "    num_columns = array.shape[1]\n",
    "    for row_num in range(num_rows):\n",
    "        for column_num in range(num_columns):\n",
    "            if array[row_num][column_num] == item:\n",
    "                return (row_num, column_num)\n",
    "    \n",
    "def get_grid_dist (coord1, coord2):\n",
    "    return ((coord1[0] - coord2[0])**2 + (coord1[1] - coord2[1])**2)**.5\n",
    "    \n",
    "\n",
    "\n",
    "final_graph = np.array(np.loadtxt ('/Users/Zhonghou/Desktop/102_FinalGraph.txt'))\n",
    "euclid_matrix = []\n",
    "state_coords = []\n",
    "for state in range(1, 22):\n",
    "    state_coords.append(get_coordinates(final_graph, state))\n",
    "for state1 in range (21):\n",
    "    row = []\n",
    "    for state2 in range (21):\n",
    "        coord1 = state_coords[state1]\n",
    "        coord2 = state_coords[state2]\n",
    "        row.append (get_grid_dist (coord1, coord2))\n",
    "    euclid_matrix.append(row)\n",
    "\n",
    "euclid_matrix = np.array(euclid_matrix)\n",
    "\n",
    "df = util.load_struct('/Users/Zhonghou/Desktop/', 102)\n",
    "\n",
    "SR_matrices = sr.explore_runs (df, 'persist', 0, .1)\n",
    "SR1, SR2 = SR_matrices[(1,5)], SR_matrices[(2,5)]\n",
    "\n",
    "euclid_matrix0 = np.matrix.flatten(euclid_matrix)\n",
    "SR10 = np.matrix.flatten(SR1)\n",
    "SR20 = np.matrix.flatten(SR2)\n",
    "\n",
    "slope1, intercept1, r_value1, p_value1, std_err1 = linregress(SR10,euclid_matrix0)\n",
    "slope2, intercept2, r_value2, p_value2, std_err2 = linregress(SR20, euclid_matrix0)\n",
    "\n",
    "print (\"SR1:\")\n",
    "print(\"R value:\", r_value1**2)\n",
    "\n",
    "print (\"SR2:\")\n",
    "print(\"R value:\", r_value2**2)\n",
    "\n",
    "print (\"Fitted distance:\")\n",
    "yhat1 = slope1*SR1 + intercept1\n",
    "yhat2 = slope2*SR2 + intercept2\n"
   ]
  },
  {
   "cell_type": "code",
   "execution_count": 57,
   "metadata": {},
   "outputs": [
    {
     "data": {
      "text/plain": [
       "<matplotlib.image.AxesImage at 0x122318940>"
      ]
     },
     "execution_count": 57,
     "metadata": {},
     "output_type": "execute_result"
    },
    {
     "data": {
      "image/png": "[encoded data removed]",
      "text/plain": [
       "<Figure size 432x288 with 6 Axes>"
      ]
     },
     "metadata": {},
     "output_type": "display_data"
    }
   ],
   "source": [
    "fig, ax = plt.subplots(2, 3)\n",
    "vec1 = sd.squareform(SR1, checks=False)\n",
    "ax[0][0].matshow(SR1, vmin=np.min(vec1), vmax=np.max(vec1))\n",
    "ax[0][1].matshow(euclid_matrix, vmin=0, vmax=30)\n",
    "ax[0][2].matshow(yhat1, vmin=0, vmax=30)\n",
    "\n",
    "ax[1][0].matshow(SR2)\n",
    "ax[1][1].matshow(euclid_matrix, vmin=0, vmax=30)\n",
    "ax[1][2].matshow(yhat2, vmin=0, vmax=30)"
   ]
  },
  {
   "cell_type": "code",
   "execution_count": 53,
   "metadata": {},
   "outputs": [
    {
     "name": "stdout",
     "output_type": "stream",
     "text": [
      "20.591260281974\n"
     ]
    },
    {
     "data": {
      "text/plain": [
       "20.591260281974"
      ]
     },
     "execution_count": 53,
     "metadata": {},
     "output_type": "execute_result"
    }
   ],
   "source": [
    "print(np.max(euclid_matrix))"
   ]
  },
  {
   "cell_type": "code",
   "execution_count": null,
   "metadata": {},
   "outputs": [],
   "source": []
  }
 ],
 "metadata": {
  "kernelspec": {
   "display_name": "Python 3",
   "language": "python",
   "name": "python3"
  },
  "language_info": {
   "codemirror_mode": {
    "name": "ipython",
    "version": 3
   },
   "file_extension": ".py",
   "mimetype": "text/x-python",
   "name": "python",
   "nbconvert_exporter": "python",
   "pygments_lexer": "ipython3",
   "version": "3.6.5"
  }
 },
 "nbformat": 4,
 "nbformat_minor": 2
}
