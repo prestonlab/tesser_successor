{
 "cells": [
  {
   "cell_type": "markdown",
   "metadata": {},
   "source": [
    "## Test Model\n",
    "testing to see if fitting algorith corretly fits to models given.\n",
    "This will be done by giving it the same SR and expecting the weights to be uniformly destributed"
   ]
  },
  {
   "cell_type": "code",
   "execution_count": 1,
   "metadata": {},
   "outputs": [],
   "source": [
    "import pandas as pd\n",
    "import numpy as np\n",
    "import matplotlib.pyplot as plt\n",
    "from tesser import cython_sr\n",
    "from tesser import cython_fit\n",
    "from tesser import util\n",
    "import importlib"
   ]
  },
  {
   "cell_type": "code",
   "execution_count": 2,
   "metadata": {},
   "outputs": [],
   "source": [
    "data_dir= \"/mnt/c/Users/rodv2/Dropbox/tesser_successor/Data\"\n",
    "tdir = \"/home/work-machine/Preston_Lab/tesser_successor/Data/Transitional_Matrices\""
   ]
  },
  {
   "cell_type": "code",
   "execution_count": 3,
   "metadata": {},
   "outputs": [],
   "source": [
    "induct_all = util.load_induct(data_dir)\n",
    "struct_all = util.load_struct(data_dir)\n",
    "n_states = 21\n",
    "subj_list = util.subj_list()"
   ]
  },
  {
   "cell_type": "code",
   "execution_count": 4,
   "metadata": {},
   "outputs": [
    {
     "data": {
      "text/plain": [
       "array(['Prim', 'Bound2', 'Bound1'], dtype=object)"
      ]
     },
     "execution_count": 4,
     "metadata": {},
     "output_type": "execute_result"
    }
   ],
   "source": [
    "induct_all.QuestType.unique()"
   ]
  },
  {
   "cell_type": "code",
   "execution_count": 5,
   "metadata": {},
   "outputs": [
    {
     "name": "stdout",
     "output_type": "stream",
     "text": [
      "Estimating parameters for 100...\n",
      "Estimating parameters for 101...\n",
      "Estimating parameters for 102...\n",
      "Estimating parameters for 103...\n",
      "Estimating parameters for 104...\n",
      "Estimating parameters for 105...\n",
      "Estimating parameters for 106...\n",
      "Estimating parameters for 107...\n",
      "Estimating parameters for 108...\n",
      "Estimating parameters for 109...\n",
      "Estimating parameters for 110...\n",
      "Estimating parameters for 111...\n",
      "Estimating parameters for 112...\n",
      "Estimating parameters for 113...\n",
      "Estimating parameters for 114...\n",
      "Estimating parameters for 115...\n",
      "Estimating parameters for 116...\n",
      "Estimating parameters for 117...\n",
      "Estimating parameters for 119...\n",
      "Estimating parameters for 120...\n",
      "Estimating parameters for 121...\n",
      "Estimating parameters for 122...\n",
      "Estimating parameters for 123...\n",
      "Estimating parameters for 124...\n",
      "Estimating parameters for 125...\n",
      "Estimating parameters for 126...\n",
      "Estimating parameters for 127...\n",
      "Estimating parameters for 128...\n",
      "Estimating parameters for 129...\n",
      "Estimating parameters for 130...\n",
      "Estimating parameters for 131...\n",
      "Estimating parameters for 132...\n",
      "Estimating parameters for 133...\n",
      "Estimating parameters for 135...\n",
      "Estimating parameters for 136...\n",
      "Estimating parameters for 137...\n",
      "Estimating parameters for 138...\n"
     ]
    }
   ],
   "source": [
    "fixed = {'gamma': 0.5, \"gamma2\": 0.5}\n",
    "var_names = ['alpha', 'tau', 'w_prim' ,'w_bound1', 'w_bound2']\n",
    "var_bounds = {'alpha': [0, 1], 'tau': [0, 10],\n",
    "              'w_prim' : [0, 1], 'w_bound1' : [0, 1], 'w_bound2' : [0, 1]}\n",
    "results = cython_fit.fit_induct_indiv(struct_all, induct_all, fixed, var_names, var_bounds, split =True,\n",
    "                               n_states=n_states, verbose=False, model_type='multiple gamma', model=[], split_list =[\"w\"])"
   ]
  },
  {
   "cell_type": "code",
   "execution_count": 6,
   "metadata": {},
   "outputs": [
    {
     "data": {
      "text/html": [
       "<div>\n",
       "<style scoped>\n",
       "    .dataframe tbody tr th:only-of-type {\n",
       "        vertical-align: middle;\n",
       "    }\n",
       "\n",
       "    .dataframe tbody tr th {\n",
       "        vertical-align: top;\n",
       "    }\n",
       "\n",
       "    .dataframe thead th {\n",
       "        text-align: right;\n",
       "    }\n",
       "</style>\n",
       "<table border=\"1\" class=\"dataframe\">\n",
       "  <thead>\n",
       "    <tr style=\"text-align: right;\">\n",
       "      <th></th>\n",
       "      <th>gamma</th>\n",
       "      <th>gamma2</th>\n",
       "      <th>alpha</th>\n",
       "      <th>tau</th>\n",
       "      <th>w_prim</th>\n",
       "      <th>w_bound1</th>\n",
       "      <th>w_bound2</th>\n",
       "      <th>log_like</th>\n",
       "    </tr>\n",
       "    <tr>\n",
       "      <th>subject</th>\n",
       "      <th></th>\n",
       "      <th></th>\n",
       "      <th></th>\n",
       "      <th></th>\n",
       "      <th></th>\n",
       "      <th></th>\n",
       "      <th></th>\n",
       "      <th></th>\n",
       "    </tr>\n",
       "  </thead>\n",
       "  <tbody>\n",
       "    <tr>\n",
       "      <th>100</th>\n",
       "      <td>0.5</td>\n",
       "      <td>0.5</td>\n",
       "      <td>0.000000</td>\n",
       "      <td>9.114231</td>\n",
       "      <td>0.729024</td>\n",
       "      <td>0.585087</td>\n",
       "      <td>0.278239</td>\n",
       "      <td>-29.112182</td>\n",
       "    </tr>\n",
       "    <tr>\n",
       "      <th>101</th>\n",
       "      <td>0.5</td>\n",
       "      <td>0.5</td>\n",
       "      <td>0.803806</td>\n",
       "      <td>0.494616</td>\n",
       "      <td>0.041210</td>\n",
       "      <td>0.285185</td>\n",
       "      <td>0.609071</td>\n",
       "      <td>-27.418858</td>\n",
       "    </tr>\n",
       "    <tr>\n",
       "      <th>102</th>\n",
       "      <td>0.5</td>\n",
       "      <td>0.5</td>\n",
       "      <td>0.013041</td>\n",
       "      <td>0.080330</td>\n",
       "      <td>0.715298</td>\n",
       "      <td>0.219348</td>\n",
       "      <td>0.937652</td>\n",
       "      <td>-21.204891</td>\n",
       "    </tr>\n",
       "    <tr>\n",
       "      <th>103</th>\n",
       "      <td>0.5</td>\n",
       "      <td>0.5</td>\n",
       "      <td>0.707366</td>\n",
       "      <td>0.259809</td>\n",
       "      <td>0.060171</td>\n",
       "      <td>0.979636</td>\n",
       "      <td>0.218620</td>\n",
       "      <td>-25.363494</td>\n",
       "    </tr>\n",
       "    <tr>\n",
       "      <th>104</th>\n",
       "      <td>0.5</td>\n",
       "      <td>0.5</td>\n",
       "      <td>0.793360</td>\n",
       "      <td>1.059795</td>\n",
       "      <td>0.571717</td>\n",
       "      <td>0.140532</td>\n",
       "      <td>0.206933</td>\n",
       "      <td>-28.407428</td>\n",
       "    </tr>\n",
       "  </tbody>\n",
       "</table>\n",
       "</div>"
      ],
      "text/plain": [
       "         gamma  gamma2     alpha       tau    w_prim  w_bound1  w_bound2  \\\n",
       "subject                                                                    \n",
       "100        0.5     0.5  0.000000  9.114231  0.729024  0.585087  0.278239   \n",
       "101        0.5     0.5  0.803806  0.494616  0.041210  0.285185  0.609071   \n",
       "102        0.5     0.5  0.013041  0.080330  0.715298  0.219348  0.937652   \n",
       "103        0.5     0.5  0.707366  0.259809  0.060171  0.979636  0.218620   \n",
       "104        0.5     0.5  0.793360  1.059795  0.571717  0.140532  0.206933   \n",
       "\n",
       "          log_like  \n",
       "subject             \n",
       "100     -29.112182  \n",
       "101     -27.418858  \n",
       "102     -21.204891  \n",
       "103     -25.363494  \n",
       "104     -28.407428  "
      ]
     },
     "execution_count": 6,
     "metadata": {},
     "output_type": "execute_result"
    }
   ],
   "source": [
    "results=results.set_index('subject')\n",
    "results.head()"
   ]
  },
  {
   "cell_type": "code",
   "execution_count": 7,
   "metadata": {},
   "outputs": [
    {
     "data": {
      "text/plain": [
       "<module 'tesser.cython_fit' from '/home/work-machine/Preston_Lab/tesser_successor/tesser/cython_fit.py'>"
      ]
     },
     "execution_count": 7,
     "metadata": {},
     "output_type": "execute_result"
    }
   ],
   "source": [
    "importlib.reload(cython_fit)"
   ]
  },
  {
   "cell_type": "code",
   "execution_count": 8,
   "metadata": {},
   "outputs": [
    {
     "data": {
      "text/plain": [
       "array([[<AxesSubplot:title={'center':'gamma'}>,\n",
       "        <AxesSubplot:title={'center':'gamma2'}>,\n",
       "        <AxesSubplot:title={'center':'alpha'}>],\n",
       "       [<AxesSubplot:title={'center':'tau'}>,\n",
       "        <AxesSubplot:title={'center':'w_prim'}>,\n",
       "        <AxesSubplot:title={'center':'w_bound1'}>],\n",
       "       [<AxesSubplot:title={'center':'w_bound2'}>,\n",
       "        <AxesSubplot:title={'center':'log_like'}>, <AxesSubplot:>]],\n",
       "      dtype=object)"
      ]
     },
     "execution_count": 8,
     "metadata": {},
     "output_type": "execute_result"
    },
    {
     "data": {
      "image/png": "[encoded data removed]",
      "text/plain": [
       "<Figure size 1080x504 with 9 Axes>"
      ]
     },
     "metadata": {
      "needs_background": "light"
     },
     "output_type": "display_data"
    }
   ],
   "source": [
    "# cython_fit.plot_by_question(struct_all, induct_all, results, split =True, n_states= 21, model =[[]],\n",
    "#                             model_type= 'multiple gamma',\n",
    "#                             fig_name='Multiple gamma matrix by question'),\n",
    "results.hist(bins=35,figsize= (15,7))"
   ]
  },
  {
   "cell_type": "code",
   "execution_count": null,
   "metadata": {},
   "outputs": [],
   "source": []
  }
 ],
 "metadata": {
  "kernelspec": {
   "display_name": "Tesser",
   "language": "python",
   "name": "tesser"
  },
  "language_info": {
   "codemirror_mode": {
    "name": "ipython",
    "version": 3
   },
   "file_extension": ".py",
   "mimetype": "text/x-python",
   "name": "python",
   "nbconvert_exporter": "python",
   "pygments_lexer": "ipython3",
   "version": "3.8.5"
  }
 },
 "nbformat": 4,
 "nbformat_minor": 4
}
