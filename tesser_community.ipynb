{
 "cells": [
  {
   "cell_type": "code",
   "execution_count": 1,
   "metadata": {},
   "outputs": [
    {
     "name": "stdout",
     "output_type": "stream",
     "text": [
      "    comm  nodetype  connect\n",
      "1      1         0        0\n",
      "2      1         0        0\n",
      "3      1         1        2\n",
      "4      2         1        1\n",
      "5      2         0        0\n",
      "6      2         0        0\n",
      "7      2         0        0\n",
      "8      2         0        0\n",
      "9      2         0        0\n",
      "10     2         1        3\n",
      "11     3         1        2\n",
      "12     3         0        0\n",
      "13     3         0        0\n",
      "14     3         0        0\n",
      "15     3         0        0\n",
      "16     3         0        0\n",
      "17     3         1        1\n",
      "18     1         1        3\n",
      "19     1         0        0\n",
      "20     1         0        0\n",
      "21     1         0        0\n"
     ]
    }
   ],
   "source": [
    "import numpy as np\n",
    "import pandas as pd\n",
    "import matplotlib.pyplot as plt\n",
    "import tesser\n",
    "\n",
    "df = tesser.get_node_info()\n",
    "print(df)"
   ]
  },
  {
   "cell_type": "code",
   "execution_count": 2,
   "metadata": {},
   "outputs": [
    {
     "data": {
      "image/png": "[encoded data removed]",
      "text/plain": [
       "<matplotlib.figure.Figure at 0x119ceff98>"
      ]
     },
     "metadata": {
      "needs_background": "light"
     },
     "output_type": "display_data"
    }
   ],
   "source": [
    "adj = tesser.get_adjacency(df)\n",
    "plt.matshow(adj)\n",
    "plt.show()"
   ]
  }
 ],
 "metadata": {
  "kernelspec": {
   "display_name": "Python 3",
   "language": "python",
   "name": "python3"
  },
  "language_info": {
   "codemirror_mode": {
    "name": "ipython",
    "version": 3
   },
   "file_extension": ".py",
   "mimetype": "text/x-python",
   "name": "python",
   "nbconvert_exporter": "python",
   "pygments_lexer": "ipython3",
   "version": "3.6.2"
  }
 },
 "nbformat": 4,
 "nbformat_minor": 2
}
