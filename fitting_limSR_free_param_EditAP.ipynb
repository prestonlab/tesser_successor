{
 "cells": [
  {
   "cell_type": "code",
   "execution_count": 1,
   "metadata": {},
   "outputs": [],
   "source": [
    "import os\n",
    "import numpy as np\n",
    "import scipy.spatial.distance as sd\n",
    "import matplotlib.pyplot as plt\n",
    "from tesser import util\n",
    "import pandas as pd\n",
    "from tesser import sr\n",
    "from tesser import tasks\n",
    "from tesser import util\n",
    "from tesser import rsa\n",
    "from tesser import network\n",
    "from tesser import fit_limsr\n",
    "import importlib\n",
    "from scipy.spatial import distance\n",
    "from scipy import stats\n",
    "import seaborn as sns\n",
    "\n",
    "#! pip list"
   ]
  },
  {
   "cell_type": "markdown",
   "metadata": {},
   "source": [
    "## Load data for all subjects"
   ]
  },
  {
   "cell_type": "code",
   "execution_count": 2,
   "metadata": {},
   "outputs": [],
   "source": [
    "#Work path\n",
    "data_dir = '/Users/athula/Dropbox/Experiments/tesser_successor/Data'\n",
    "\n",
    "#Laptop path\n",
    "#data_dir = '/Users/athulapudhiyidath/Dropbox/Experiments/tesser_successor/Data'\n",
    "\n",
    "struct = util.load_struct(data_dir)\n",
    "induct = util.load_induct(data_dir)\n",
    "all_induct_bias = tasks.induct_bias_all(data_dir)"
   ]
  },
  {
   "cell_type": "markdown",
   "metadata": {},
   "source": [
    "## Fit each individual subject"
   ]
  },
  {
   "cell_type": "code",
   "execution_count": 3,
   "metadata": {},
   "outputs": [
    {
     "name": "stdout",
     "output_type": "stream",
     "text": [
      "Estimating parameters for 100...\n",
      "Estimating parameters for 101...\n"
     ]
    },
    {
     "name": "stderr",
     "output_type": "stream",
     "text": [
      "/Users/athula/Dropbox/Experiments/tesser_successor/tesser_successor/tesser/fit_limsr.py:45: RuntimeWarning: invalid value encountered in double_scalars\n",
      "  prob = ((SR[cue, opt[response]] ** tau) /\n",
      "/Users/athula/Dropbox/Experiments/tesser_successor/tesser_successor/tesser/fit_limsr.py:46: RuntimeWarning: invalid value encountered in double_scalars\n",
      "  (SR[cue, opt[0]] ** tau + SR[cue, opt[1]] ** tau))\n"
     ]
    },
    {
     "name": "stdout",
     "output_type": "stream",
     "text": [
      "Estimating parameters for 102...\n",
      "Estimating parameters for 103...\n",
      "Estimating parameters for 104...\n",
      "Estimating parameters for 105...\n",
      "Estimating parameters for 106...\n",
      "Estimating parameters for 107...\n",
      "Estimating parameters for 108...\n",
      "Estimating parameters for 109...\n",
      "Estimating parameters for 110...\n",
      "Estimating parameters for 111...\n",
      "Estimating parameters for 112...\n",
      "Estimating parameters for 113...\n",
      "Estimating parameters for 114...\n",
      "Estimating parameters for 115...\n",
      "Estimating parameters for 116...\n",
      "Estimating parameters for 117...\n",
      "Estimating parameters for 119...\n",
      "Estimating parameters for 120...\n",
      "Estimating parameters for 121...\n",
      "Estimating parameters for 122...\n",
      "Estimating parameters for 123...\n",
      "Estimating parameters for 124...\n",
      "Estimating parameters for 125...\n",
      "Estimating parameters for 126...\n",
      "Estimating parameters for 127...\n",
      "Estimating parameters for 128...\n",
      "Estimating parameters for 129...\n",
      "Estimating parameters for 130...\n",
      "Estimating parameters for 131...\n",
      "Estimating parameters for 132...\n",
      "Estimating parameters for 133...\n",
      "Estimating parameters for 135...\n",
      "Estimating parameters for 136...\n",
      "Estimating parameters for 137...\n",
      "Estimating parameters for 138...\n"
     ]
    }
   ],
   "source": [
    "struct_info = network.temp_node_info()\n",
    "adjacency = network.adjacency_mat(struct_info)\n",
    "fixed = {}\n",
    "var_names = ['gamma', 'tau'] \n",
    "var_bounds = {'gamma': [0, 1], 'tau': [0, 1]}\n",
    "results = fit_limsr.fit_induct_indiv_limsr(adjacency, induct, fixed, var_names, var_bounds)"
   ]
  },
  {
   "cell_type": "code",
   "execution_count": 4,
   "metadata": {},
   "outputs": [],
   "source": [
    "results\n",
    "#results.to_csv('individual_induct_LimSRmodel_mean_fits_alpha_free_gamma_free_gamma_tau_30.csv', index=False)\n",
    "results.to_csv('individual_induct_LimSRmodel_mean_fits_alpha_free_gamma_free_gamma_free_tau.csv', index=False)"
   ]
  },
  {
   "cell_type": "code",
   "execution_count": 5,
   "metadata": {},
   "outputs": [
    {
     "data": {
      "text/html": [
       "<div>\n",
       "<style scoped>\n",
       "    .dataframe tbody tr th:only-of-type {\n",
       "        vertical-align: middle;\n",
       "    }\n",
       "\n",
       "    .dataframe tbody tr th {\n",
       "        vertical-align: top;\n",
       "    }\n",
       "\n",
       "    .dataframe thead th {\n",
       "        text-align: right;\n",
       "    }\n",
       "</style>\n",
       "<table border=\"1\" class=\"dataframe\">\n",
       "  <thead>\n",
       "    <tr style=\"text-align: right;\">\n",
       "      <th></th>\n",
       "      <th>gamma</th>\n",
       "      <th>tau</th>\n",
       "      <th>subject</th>\n",
       "      <th>log_like</th>\n",
       "    </tr>\n",
       "  </thead>\n",
       "  <tbody>\n",
       "    <tr>\n",
       "      <th>0</th>\n",
       "      <td>1.000000</td>\n",
       "      <td>0.000000</td>\n",
       "      <td>100</td>\n",
       "      <td>-29.112182</td>\n",
       "    </tr>\n",
       "    <tr>\n",
       "      <th>1</th>\n",
       "      <td>0.996347</td>\n",
       "      <td>1.000000</td>\n",
       "      <td>101</td>\n",
       "      <td>-28.963879</td>\n",
       "    </tr>\n",
       "    <tr>\n",
       "      <th>2</th>\n",
       "      <td>0.915836</td>\n",
       "      <td>1.000000</td>\n",
       "      <td>102</td>\n",
       "      <td>-18.769320</td>\n",
       "    </tr>\n",
       "    <tr>\n",
       "      <th>3</th>\n",
       "      <td>0.931977</td>\n",
       "      <td>0.265908</td>\n",
       "      <td>103</td>\n",
       "      <td>-28.333492</td>\n",
       "    </tr>\n",
       "    <tr>\n",
       "      <th>4</th>\n",
       "      <td>0.581349</td>\n",
       "      <td>0.008152</td>\n",
       "      <td>104</td>\n",
       "      <td>-29.107909</td>\n",
       "    </tr>\n",
       "    <tr>\n",
       "      <th>5</th>\n",
       "      <td>0.967055</td>\n",
       "      <td>1.000000</td>\n",
       "      <td>105</td>\n",
       "      <td>-24.700918</td>\n",
       "    </tr>\n",
       "    <tr>\n",
       "      <th>6</th>\n",
       "      <td>0.909491</td>\n",
       "      <td>0.595527</td>\n",
       "      <td>106</td>\n",
       "      <td>-24.495848</td>\n",
       "    </tr>\n",
       "    <tr>\n",
       "      <th>7</th>\n",
       "      <td>0.937124</td>\n",
       "      <td>0.176878</td>\n",
       "      <td>107</td>\n",
       "      <td>-28.791319</td>\n",
       "    </tr>\n",
       "    <tr>\n",
       "      <th>8</th>\n",
       "      <td>0.457235</td>\n",
       "      <td>0.062200</td>\n",
       "      <td>108</td>\n",
       "      <td>-28.779872</td>\n",
       "    </tr>\n",
       "    <tr>\n",
       "      <th>9</th>\n",
       "      <td>0.917483</td>\n",
       "      <td>0.925754</td>\n",
       "      <td>109</td>\n",
       "      <td>-20.324324</td>\n",
       "    </tr>\n",
       "    <tr>\n",
       "      <th>10</th>\n",
       "      <td>0.856949</td>\n",
       "      <td>0.000000</td>\n",
       "      <td>110</td>\n",
       "      <td>-29.112182</td>\n",
       "    </tr>\n",
       "    <tr>\n",
       "      <th>11</th>\n",
       "      <td>0.619679</td>\n",
       "      <td>0.147765</td>\n",
       "      <td>111</td>\n",
       "      <td>-27.890928</td>\n",
       "    </tr>\n",
       "    <tr>\n",
       "      <th>12</th>\n",
       "      <td>0.498068</td>\n",
       "      <td>0.036159</td>\n",
       "      <td>112</td>\n",
       "      <td>-29.009477</td>\n",
       "    </tr>\n",
       "    <tr>\n",
       "      <th>13</th>\n",
       "      <td>0.980174</td>\n",
       "      <td>1.000000</td>\n",
       "      <td>113</td>\n",
       "      <td>-26.888133</td>\n",
       "    </tr>\n",
       "    <tr>\n",
       "      <th>14</th>\n",
       "      <td>0.958362</td>\n",
       "      <td>0.000000</td>\n",
       "      <td>114</td>\n",
       "      <td>-29.112182</td>\n",
       "    </tr>\n",
       "    <tr>\n",
       "      <th>15</th>\n",
       "      <td>0.793021</td>\n",
       "      <td>0.000000</td>\n",
       "      <td>115</td>\n",
       "      <td>-29.112182</td>\n",
       "    </tr>\n",
       "    <tr>\n",
       "      <th>16</th>\n",
       "      <td>0.003496</td>\n",
       "      <td>0.022136</td>\n",
       "      <td>116</td>\n",
       "      <td>-28.716732</td>\n",
       "    </tr>\n",
       "    <tr>\n",
       "      <th>17</th>\n",
       "      <td>0.999846</td>\n",
       "      <td>0.188167</td>\n",
       "      <td>117</td>\n",
       "      <td>-29.118081</td>\n",
       "    </tr>\n",
       "    <tr>\n",
       "      <th>18</th>\n",
       "      <td>0.965096</td>\n",
       "      <td>1.000000</td>\n",
       "      <td>119</td>\n",
       "      <td>-24.795452</td>\n",
       "    </tr>\n",
       "    <tr>\n",
       "      <th>19</th>\n",
       "      <td>0.000349</td>\n",
       "      <td>0.017499</td>\n",
       "      <td>120</td>\n",
       "      <td>-28.693743</td>\n",
       "    </tr>\n",
       "    <tr>\n",
       "      <th>20</th>\n",
       "      <td>0.951928</td>\n",
       "      <td>0.825063</td>\n",
       "      <td>121</td>\n",
       "      <td>-24.697670</td>\n",
       "    </tr>\n",
       "    <tr>\n",
       "      <th>21</th>\n",
       "      <td>0.963794</td>\n",
       "      <td>1.000000</td>\n",
       "      <td>122</td>\n",
       "      <td>-24.261739</td>\n",
       "    </tr>\n",
       "    <tr>\n",
       "      <th>22</th>\n",
       "      <td>0.902562</td>\n",
       "      <td>0.141834</td>\n",
       "      <td>123</td>\n",
       "      <td>-28.791158</td>\n",
       "    </tr>\n",
       "    <tr>\n",
       "      <th>23</th>\n",
       "      <td>0.000268</td>\n",
       "      <td>0.048898</td>\n",
       "      <td>124</td>\n",
       "      <td>-25.880297</td>\n",
       "    </tr>\n",
       "    <tr>\n",
       "      <th>24</th>\n",
       "      <td>0.714463</td>\n",
       "      <td>0.000000</td>\n",
       "      <td>125</td>\n",
       "      <td>-29.112182</td>\n",
       "    </tr>\n",
       "    <tr>\n",
       "      <th>25</th>\n",
       "      <td>0.896205</td>\n",
       "      <td>0.000000</td>\n",
       "      <td>126</td>\n",
       "      <td>-29.112182</td>\n",
       "    </tr>\n",
       "    <tr>\n",
       "      <th>26</th>\n",
       "      <td>0.986371</td>\n",
       "      <td>1.000000</td>\n",
       "      <td>127</td>\n",
       "      <td>-27.751494</td>\n",
       "    </tr>\n",
       "    <tr>\n",
       "      <th>27</th>\n",
       "      <td>0.544040</td>\n",
       "      <td>0.007797</td>\n",
       "      <td>128</td>\n",
       "      <td>-29.107893</td>\n",
       "    </tr>\n",
       "    <tr>\n",
       "      <th>28</th>\n",
       "      <td>0.878002</td>\n",
       "      <td>0.000000</td>\n",
       "      <td>129</td>\n",
       "      <td>-29.112182</td>\n",
       "    </tr>\n",
       "    <tr>\n",
       "      <th>29</th>\n",
       "      <td>0.890167</td>\n",
       "      <td>0.828733</td>\n",
       "      <td>130</td>\n",
       "      <td>-19.968164</td>\n",
       "    </tr>\n",
       "    <tr>\n",
       "      <th>30</th>\n",
       "      <td>0.982250</td>\n",
       "      <td>1.000000</td>\n",
       "      <td>131</td>\n",
       "      <td>-27.117849</td>\n",
       "    </tr>\n",
       "    <tr>\n",
       "      <th>31</th>\n",
       "      <td>0.696733</td>\n",
       "      <td>0.219727</td>\n",
       "      <td>132</td>\n",
       "      <td>-27.006807</td>\n",
       "    </tr>\n",
       "    <tr>\n",
       "      <th>32</th>\n",
       "      <td>0.967973</td>\n",
       "      <td>1.000000</td>\n",
       "      <td>133</td>\n",
       "      <td>-24.922118</td>\n",
       "    </tr>\n",
       "    <tr>\n",
       "      <th>33</th>\n",
       "      <td>0.926730</td>\n",
       "      <td>1.000000</td>\n",
       "      <td>135</td>\n",
       "      <td>-19.545976</td>\n",
       "    </tr>\n",
       "    <tr>\n",
       "      <th>34</th>\n",
       "      <td>0.544055</td>\n",
       "      <td>0.007796</td>\n",
       "      <td>136</td>\n",
       "      <td>-29.107893</td>\n",
       "    </tr>\n",
       "    <tr>\n",
       "      <th>35</th>\n",
       "      <td>0.953118</td>\n",
       "      <td>0.074828</td>\n",
       "      <td>137</td>\n",
       "      <td>-29.071809</td>\n",
       "    </tr>\n",
       "    <tr>\n",
       "      <th>36</th>\n",
       "      <td>0.981021</td>\n",
       "      <td>0.000000</td>\n",
       "      <td>138</td>\n",
       "      <td>-29.112182</td>\n",
       "    </tr>\n",
       "  </tbody>\n",
       "</table>\n",
       "</div>"
      ],
      "text/plain": [
       "       gamma       tau  subject   log_like\n",
       "0   1.000000  0.000000      100 -29.112182\n",
       "1   0.996347  1.000000      101 -28.963879\n",
       "2   0.915836  1.000000      102 -18.769320\n",
       "3   0.931977  0.265908      103 -28.333492\n",
       "4   0.581349  0.008152      104 -29.107909\n",
       "5   0.967055  1.000000      105 -24.700918\n",
       "6   0.909491  0.595527      106 -24.495848\n",
       "7   0.937124  0.176878      107 -28.791319\n",
       "8   0.457235  0.062200      108 -28.779872\n",
       "9   0.917483  0.925754      109 -20.324324\n",
       "10  0.856949  0.000000      110 -29.112182\n",
       "11  0.619679  0.147765      111 -27.890928\n",
       "12  0.498068  0.036159      112 -29.009477\n",
       "13  0.980174  1.000000      113 -26.888133\n",
       "14  0.958362  0.000000      114 -29.112182\n",
       "15  0.793021  0.000000      115 -29.112182\n",
       "16  0.003496  0.022136      116 -28.716732\n",
       "17  0.999846  0.188167      117 -29.118081\n",
       "18  0.965096  1.000000      119 -24.795452\n",
       "19  0.000349  0.017499      120 -28.693743\n",
       "20  0.951928  0.825063      121 -24.697670\n",
       "21  0.963794  1.000000      122 -24.261739\n",
       "22  0.902562  0.141834      123 -28.791158\n",
       "23  0.000268  0.048898      124 -25.880297\n",
       "24  0.714463  0.000000      125 -29.112182\n",
       "25  0.896205  0.000000      126 -29.112182\n",
       "26  0.986371  1.000000      127 -27.751494\n",
       "27  0.544040  0.007797      128 -29.107893\n",
       "28  0.878002  0.000000      129 -29.112182\n",
       "29  0.890167  0.828733      130 -19.968164\n",
       "30  0.982250  1.000000      131 -27.117849\n",
       "31  0.696733  0.219727      132 -27.006807\n",
       "32  0.967973  1.000000      133 -24.922118\n",
       "33  0.926730  1.000000      135 -19.545976\n",
       "34  0.544055  0.007796      136 -29.107893\n",
       "35  0.953118  0.074828      137 -29.071809\n",
       "36  0.981021  0.000000      138 -29.112182"
      ]
     },
     "execution_count": 5,
     "metadata": {},
     "output_type": "execute_result"
    }
   ],
   "source": [
    "results"
   ]
  },
  {
   "cell_type": "code",
   "execution_count": 6,
   "metadata": {},
   "outputs": [
    {
     "data": {
      "text/plain": [
       "gamma         0.785638\n",
       "tau           0.394617\n",
       "subject     118.621622\n",
       "log_like    -26.959669\n",
       "dtype: float64"
      ]
     },
     "execution_count": 6,
     "metadata": {},
     "output_type": "execute_result"
    }
   ],
   "source": [
    "results.mean()"
   ]
  },
  {
   "cell_type": "code",
   "execution_count": 7,
   "metadata": {},
   "outputs": [
    {
     "data": {
      "text/plain": [
       "[102,\n",
       " 103,\n",
       " 105,\n",
       " 106,\n",
       " 109,\n",
       " 111,\n",
       " 113,\n",
       " 119,\n",
       " 121,\n",
       " 122,\n",
       " 127,\n",
       " 130,\n",
       " 131,\n",
       " 132,\n",
       " 133,\n",
       " 135]"
      ]
     },
     "execution_count": 7,
     "metadata": {},
     "output_type": "execute_result"
    }
   ],
   "source": [
    "#select high performers in fitted:\n",
    "all_induct_perf = tasks.induct_avg_all(data_dir)\n",
    "high_perf = tasks.induct_avg_split_high(all_induct_perf)\n",
    "high_perf_subj = high_perf.participant\n",
    "high_perf_subj.values.tolist()"
   ]
  },
  {
   "cell_type": "code",
   "execution_count": 8,
   "metadata": {},
   "outputs": [
    {
     "data": {
      "text/html": [
       "<div>\n",
       "<style scoped>\n",
       "    .dataframe tbody tr th:only-of-type {\n",
       "        vertical-align: middle;\n",
       "    }\n",
       "\n",
       "    .dataframe tbody tr th {\n",
       "        vertical-align: top;\n",
       "    }\n",
       "\n",
       "    .dataframe thead th {\n",
       "        text-align: right;\n",
       "    }\n",
       "</style>\n",
       "<table border=\"1\" class=\"dataframe\">\n",
       "  <thead>\n",
       "    <tr style=\"text-align: right;\">\n",
       "      <th></th>\n",
       "      <th>gamma</th>\n",
       "      <th>tau</th>\n",
       "      <th>subject</th>\n",
       "      <th>log_like</th>\n",
       "    </tr>\n",
       "  </thead>\n",
       "  <tbody>\n",
       "    <tr>\n",
       "      <th>2</th>\n",
       "      <td>0.915836</td>\n",
       "      <td>1.000000</td>\n",
       "      <td>102</td>\n",
       "      <td>-18.769320</td>\n",
       "    </tr>\n",
       "    <tr>\n",
       "      <th>3</th>\n",
       "      <td>0.931977</td>\n",
       "      <td>0.265908</td>\n",
       "      <td>103</td>\n",
       "      <td>-28.333492</td>\n",
       "    </tr>\n",
       "    <tr>\n",
       "      <th>5</th>\n",
       "      <td>0.967055</td>\n",
       "      <td>1.000000</td>\n",
       "      <td>105</td>\n",
       "      <td>-24.700918</td>\n",
       "    </tr>\n",
       "    <tr>\n",
       "      <th>6</th>\n",
       "      <td>0.909491</td>\n",
       "      <td>0.595527</td>\n",
       "      <td>106</td>\n",
       "      <td>-24.495848</td>\n",
       "    </tr>\n",
       "    <tr>\n",
       "      <th>9</th>\n",
       "      <td>0.917483</td>\n",
       "      <td>0.925754</td>\n",
       "      <td>109</td>\n",
       "      <td>-20.324324</td>\n",
       "    </tr>\n",
       "    <tr>\n",
       "      <th>11</th>\n",
       "      <td>0.619679</td>\n",
       "      <td>0.147765</td>\n",
       "      <td>111</td>\n",
       "      <td>-27.890928</td>\n",
       "    </tr>\n",
       "    <tr>\n",
       "      <th>13</th>\n",
       "      <td>0.980174</td>\n",
       "      <td>1.000000</td>\n",
       "      <td>113</td>\n",
       "      <td>-26.888133</td>\n",
       "    </tr>\n",
       "    <tr>\n",
       "      <th>18</th>\n",
       "      <td>0.965096</td>\n",
       "      <td>1.000000</td>\n",
       "      <td>119</td>\n",
       "      <td>-24.795452</td>\n",
       "    </tr>\n",
       "    <tr>\n",
       "      <th>20</th>\n",
       "      <td>0.951928</td>\n",
       "      <td>0.825063</td>\n",
       "      <td>121</td>\n",
       "      <td>-24.697670</td>\n",
       "    </tr>\n",
       "    <tr>\n",
       "      <th>21</th>\n",
       "      <td>0.963794</td>\n",
       "      <td>1.000000</td>\n",
       "      <td>122</td>\n",
       "      <td>-24.261739</td>\n",
       "    </tr>\n",
       "    <tr>\n",
       "      <th>26</th>\n",
       "      <td>0.986371</td>\n",
       "      <td>1.000000</td>\n",
       "      <td>127</td>\n",
       "      <td>-27.751494</td>\n",
       "    </tr>\n",
       "    <tr>\n",
       "      <th>29</th>\n",
       "      <td>0.890167</td>\n",
       "      <td>0.828733</td>\n",
       "      <td>130</td>\n",
       "      <td>-19.968164</td>\n",
       "    </tr>\n",
       "    <tr>\n",
       "      <th>30</th>\n",
       "      <td>0.982250</td>\n",
       "      <td>1.000000</td>\n",
       "      <td>131</td>\n",
       "      <td>-27.117849</td>\n",
       "    </tr>\n",
       "    <tr>\n",
       "      <th>31</th>\n",
       "      <td>0.696733</td>\n",
       "      <td>0.219727</td>\n",
       "      <td>132</td>\n",
       "      <td>-27.006807</td>\n",
       "    </tr>\n",
       "    <tr>\n",
       "      <th>32</th>\n",
       "      <td>0.967973</td>\n",
       "      <td>1.000000</td>\n",
       "      <td>133</td>\n",
       "      <td>-24.922118</td>\n",
       "    </tr>\n",
       "    <tr>\n",
       "      <th>33</th>\n",
       "      <td>0.926730</td>\n",
       "      <td>1.000000</td>\n",
       "      <td>135</td>\n",
       "      <td>-19.545976</td>\n",
       "    </tr>\n",
       "  </tbody>\n",
       "</table>\n",
       "</div>"
      ],
      "text/plain": [
       "       gamma       tau  subject   log_like\n",
       "2   0.915836  1.000000      102 -18.769320\n",
       "3   0.931977  0.265908      103 -28.333492\n",
       "5   0.967055  1.000000      105 -24.700918\n",
       "6   0.909491  0.595527      106 -24.495848\n",
       "9   0.917483  0.925754      109 -20.324324\n",
       "11  0.619679  0.147765      111 -27.890928\n",
       "13  0.980174  1.000000      113 -26.888133\n",
       "18  0.965096  1.000000      119 -24.795452\n",
       "20  0.951928  0.825063      121 -24.697670\n",
       "21  0.963794  1.000000      122 -24.261739\n",
       "26  0.986371  1.000000      127 -27.751494\n",
       "29  0.890167  0.828733      130 -19.968164\n",
       "30  0.982250  1.000000      131 -27.117849\n",
       "31  0.696733  0.219727      132 -27.006807\n",
       "32  0.967973  1.000000      133 -24.922118\n",
       "33  0.926730  1.000000      135 -19.545976"
      ]
     },
     "execution_count": 8,
     "metadata": {},
     "output_type": "execute_result"
    }
   ],
   "source": [
    "results.loc[results['subject'].isin(high_perf_subj)]"
   ]
  },
  {
   "cell_type": "code",
   "execution_count": 9,
   "metadata": {},
   "outputs": [
    {
     "ename": "NameError",
     "evalue": "name 'i' is not defined",
     "output_type": "error",
     "traceback": [
      "\u001b[0;31m---------------------------------------------------------------------------\u001b[0m",
      "\u001b[0;31mNameError\u001b[0m                                 Traceback (most recent call last)",
      "\u001b[0;32m<ipython-input-9-43b5baabb7b4>\u001b[0m in \u001b[0;36m<module>\u001b[0;34m\u001b[0m\n\u001b[1;32m      1\u001b[0m \u001b[0mp\u001b[0m \u001b[0;34m=\u001b[0m \u001b[0msns\u001b[0m\u001b[0;34m.\u001b[0m\u001b[0mjointplot\u001b[0m\u001b[0;34m(\u001b[0m\u001b[0mresults\u001b[0m\u001b[0;34m[\u001b[0m\u001b[0;34m'gamma'\u001b[0m\u001b[0;34m]\u001b[0m\u001b[0;34m,\u001b[0m \u001b[0mall_induct_bias\u001b[0m\u001b[0;34m[\u001b[0m\u001b[0;34m'overall'\u001b[0m\u001b[0;34m]\u001b[0m\u001b[0;34m,\u001b[0m \u001b[0mkind\u001b[0m\u001b[0;34m=\u001b[0m\u001b[0;34m'reg'\u001b[0m\u001b[0;34m)\u001b[0m\u001b[0;34m;\u001b[0m\u001b[0;34m\u001b[0m\u001b[0;34m\u001b[0m\u001b[0m\n\u001b[0;32m----> 2\u001b[0;31m \u001b[0mi\u001b[0m \u001b[0;34m=\u001b[0m \u001b[0mi\u001b[0m\u001b[0;34m.\u001b[0m\u001b[0mannotate\u001b[0m\u001b[0;34m(\u001b[0m\u001b[0mstats\u001b[0m\u001b[0;34m.\u001b[0m\u001b[0mpearsonr\u001b[0m\u001b[0;34m)\u001b[0m\u001b[0;34m\u001b[0m\u001b[0;34m\u001b[0m\u001b[0m\n\u001b[0m\u001b[1;32m      3\u001b[0m \u001b[0mplt\u001b[0m\u001b[0;34m.\u001b[0m\u001b[0mxlabel\u001b[0m\u001b[0;34m(\u001b[0m\u001b[0;34m'gamma'\u001b[0m\u001b[0;34m)\u001b[0m\u001b[0;34m\u001b[0m\u001b[0;34m\u001b[0m\u001b[0m\n\u001b[1;32m      4\u001b[0m \u001b[0mplt\u001b[0m\u001b[0;34m.\u001b[0m\u001b[0mylabel\u001b[0m\u001b[0;34m(\u001b[0m\u001b[0;34m'bias'\u001b[0m\u001b[0;34m)\u001b[0m\u001b[0;34m\u001b[0m\u001b[0;34m\u001b[0m\u001b[0m\n\u001b[1;32m      5\u001b[0m \u001b[0mplt\u001b[0m\u001b[0;34m.\u001b[0m\u001b[0mshow\u001b[0m\u001b[0;34m(\u001b[0m\u001b[0;34m)\u001b[0m\u001b[0;34m\u001b[0m\u001b[0;34m\u001b[0m\u001b[0m\n",
      "\u001b[0;31mNameError\u001b[0m: name 'i' is not defined"
     ]
    },
    {
     "data": {
      "image/png": "[encoded data removed]",
      "text/plain": [
       "<Figure size 432x432 with 3 Axes>"
      ]
     },
     "metadata": {
      "needs_background": "light"
     },
     "output_type": "display_data"
    }
   ],
   "source": [
    "p = sns.jointplot(results['gamma'], all_induct_bias['overall'], kind='reg');\n",
    "i = i.annotate(stats.pearsonr)\n",
    "plt.xlabel('gamma')\n",
    "plt.ylabel('bias')\n",
    "plt.show()\n",
    "#i.savefig('TesserScan_parse_overallbias.png', dpi = 300)"
   ]
  },
  {
   "cell_type": "code",
   "execution_count": null,
   "metadata": {},
   "outputs": [],
   "source": [
    "i = sns.jointplot(results['tau'], all_induct_bias['overall'], kind='reg');\n",
    "i = i.annotate(stats.pearsonr)\n",
    "plt.xlabel('tau')\n",
    "plt.ylabel('bias')\n",
    "plt.show()\n",
    "#i.savefig('TesserScan_parse_overallbias.png', dpi = 300)"
   ]
  },
  {
   "cell_type": "markdown",
   "metadata": {},
   "source": [
    "## Get response probabilities for the fitted models"
   ]
  },
  {
   "cell_type": "code",
   "execution_count": null,
   "metadata": {},
   "outputs": [],
   "source": [
    "res_list = []\n",
    "for s in results.index.unique():\n",
    "    subject = results.subject[s]\n",
    "    subj_filter = f'SubjNum == {subject}'\n",
    "    subj_induct = induct.query(subj_filter)\n",
    "    subj_param = results.loc[s]\n",
    "    param = {'gamma': subj_param['gamma'],\n",
    "             'tau': subj_param['tau']}\n",
    "    res = fit_limsr.assess_induct_fit_subject_limsr(adjacency, subj_induct, param)\n",
    "    res_list.append(res)\n",
    "fitted = pd.concat(res_list, axis=0)"
   ]
  },
  {
   "cell_type": "code",
   "execution_count": null,
   "metadata": {},
   "outputs": [],
   "source": [
    "pd.set_option('display.max_rows', None)\n",
    "fitted"
   ]
  },
  {
   "cell_type": "code",
   "execution_count": null,
   "metadata": {},
   "outputs": [],
   "source": [
    "fitted.to_csv('individual_induct_LimSRmodel_trial_fits_alpha_free_gamma_free_gamma_free_tau.csv', index=False)"
   ]
  },
  {
   "cell_type": "code",
   "execution_count": null,
   "metadata": {},
   "outputs": [],
   "source": [
    "high_perf_fitted = fitted.loc[fitted['SubjNum'].isin(high_perf_subj)]"
   ]
  },
  {
   "cell_type": "code",
   "execution_count": null,
   "metadata": {},
   "outputs": [],
   "source": [
    "high_perf_fitted.to_csv('individual_induct_LimSRmodel_trial_fits_alpha_free_gamma_free_gamma_free_tau_highperf.csv', index=False)"
   ]
  },
  {
   "cell_type": "markdown",
   "metadata": {},
   "source": [
    "# Plot individual differences in induction by environment"
   ]
  },
  {
   "cell_type": "code",
   "execution_count": null,
   "metadata": {},
   "outputs": [],
   "source": [
    "m = fitted.groupby(['Source', 'SubjNum', 'Environment'])['Accuracy'].mean().unstack(level=0)\n",
    "g = sns.scatterplot(x='Model', y='Data', hue='Environment', data=m.reset_index());\n",
    "g.set_xlim(0, 1.02);\n",
    "g.set_ylim(0, 1.02);\n",
    "g.set_aspect(1);\n",
    "g.plot((0, 1), (0, 1), '-k');"
   ]
  },
  {
   "cell_type": "markdown",
   "metadata": {},
   "source": [
    "### high performers "
   ]
  },
  {
   "cell_type": "code",
   "execution_count": null,
   "metadata": {},
   "outputs": [],
   "source": [
    "m = high_perf_fitted.groupby(['Source', 'SubjNum', 'Environment'])['Accuracy'].mean().unstack(level=0)\n",
    "g = sns.scatterplot(x='Model', y='Data', hue='Environment', data=m.reset_index());\n",
    "g.set_xlim(0, 1.02);\n",
    "g.set_ylim(0, 1.02);\n",
    "g.set_aspect(1);\n",
    "g.plot((0, 1), (0, 1), '-k');"
   ]
  },
  {
   "cell_type": "markdown",
   "metadata": {},
   "source": [
    "# Plot individual differences in induction by question type"
   ]
  },
  {
   "cell_type": "code",
   "execution_count": null,
   "metadata": {},
   "outputs": [],
   "source": [
    "m = fitted.groupby(['Source', 'SubjNum', 'QuestType'])['Accuracy'].mean().unstack(level=0)\n",
    "g = sns.scatterplot(x='Model', y='Data', hue='QuestType', data=m.reset_index());\n",
    "g.set_xlim(0, 1.02);\n",
    "g.set_ylim(0, 1.02);\n",
    "g.set_aspect(1);\n",
    "g.plot((0, 1), (0, 1), '-k');\n",
    "plt.savefig('TesserScan_vs_LimSRModel_QuestTypeBias_Corr_fits_alpha_free_gamma_free_gamma_free_tau.png', dpi = 300)\n",
    "plt.savefig('TesserScan_vs_LimSRModel_QuestTypeBias_Corr_fits_alpha_free_gamma_free_gamma_free_tau.pdf', transparent = True)"
   ]
  },
  {
   "cell_type": "markdown",
   "metadata": {},
   "source": [
    "### high performers"
   ]
  },
  {
   "cell_type": "code",
   "execution_count": null,
   "metadata": {},
   "outputs": [],
   "source": [
    "m = high_perf_fitted.groupby(['Source', 'SubjNum', 'QuestType'])['Accuracy'].mean().unstack(level=0)\n",
    "g = sns.scatterplot(x='Model', y='Data', hue='QuestType', data=m.reset_index());\n",
    "g.set_xlim(0, 1.02);\n",
    "g.set_ylim(0, 1.02);\n",
    "g.set_aspect(1);\n",
    "g.plot((0, 1), (0, 1), '-k');\n",
    "plt.savefig('TesserScan_vs_LimSRModel_QuestTypeBias_Corr_fits_alpha_free_gamma_free_gamma_free_tau_highperf.png', dpi = 300)\n",
    "plt.savefig('TesserScan_vs_LimSRModel_QuestTypeBias_Corr_fits_alpha_free_gamma_free_gamma_free_tau_highperf.pdf', transparent = True)"
   ]
  },
  {
   "cell_type": "markdown",
   "metadata": {},
   "source": [
    "# Plot group means by enviornment"
   ]
  },
  {
   "cell_type": "code",
   "execution_count": null,
   "metadata": {},
   "outputs": [],
   "source": [
    "m = fitted.groupby(['Source', 'SubjNum', 'Environment'])['Accuracy'].mean()\n",
    "g = sns.catplot(kind='point', x='Environment', y='Accuracy', \n",
    "                hue='Source', dodge=True, data=m.reset_index())\n",
    "g.set(ylim=(0, 1.02));"
   ]
  },
  {
   "cell_type": "markdown",
   "metadata": {},
   "source": [
    "### high performers "
   ]
  },
  {
   "cell_type": "code",
   "execution_count": null,
   "metadata": {},
   "outputs": [],
   "source": [
    "m = high_perf_fitted.groupby(['Source', 'SubjNum', 'Environment'])['Accuracy'].mean()\n",
    "g = sns.catplot(kind='point', x='Environment', y='Accuracy', \n",
    "                hue='Source', dodge=True, data=m.reset_index())\n",
    "g.set(ylim=(0, 1.02));"
   ]
  },
  {
   "cell_type": "markdown",
   "metadata": {},
   "source": [
    "# Plot group means by question type"
   ]
  },
  {
   "cell_type": "code",
   "execution_count": null,
   "metadata": {},
   "outputs": [],
   "source": [
    "m = fitted.groupby(['Source', 'SubjNum', 'QuestType'])['Accuracy'].mean()\n",
    "g = sns.catplot(kind='point', x='QuestType', y='Accuracy', \n",
    "                hue='Source', dodge=True, data=m.reset_index())\n",
    "g.set(ylim=(0, 1.02));\n",
    "plt.savefig('TesserScan_vs_LimSRModel_QuestTypeBias_Mean_fits_alpha_free_gamma_free_gamma_free_tau.png', dpi = 300)\n",
    "plt.savefig('TesserScan_vs_LimSRModel_QuestTypeBias_Mean_fits_alpha_free_gamma_free_gamma_free_tau.pdf', transparent = True)"
   ]
  },
  {
   "cell_type": "markdown",
   "metadata": {},
   "source": [
    "### high performers"
   ]
  },
  {
   "cell_type": "code",
   "execution_count": null,
   "metadata": {},
   "outputs": [],
   "source": [
    "m = high_perf_fitted.groupby(['Source', 'SubjNum', 'QuestType'])['Accuracy'].mean()\n",
    "g = sns.catplot(kind='point', x='QuestType', y='Accuracy', \n",
    "                hue='Source', dodge=True, data=m.reset_index())\n",
    "g.set(ylim=(0, 1.02));\n",
    "plt.savefig('TesserScan_vs_LimSRModel_QuestTypeBias_Mean_fits_alpha_free_gamma_free_gamma_free_tau_highperf.png', dpi = 300)\n",
    "plt.savefig('TesserScan_vs_LimSRModel_QuestTypeBias_Mean_fits_alpha_free_gamma_free_gamma_free_tau_highperf.pdf', transparent = True)"
   ]
  },
  {
   "cell_type": "code",
   "execution_count": null,
   "metadata": {},
   "outputs": [],
   "source": []
  }
 ],
 "metadata": {
  "kernelspec": {
   "display_name": "Python 3",
   "language": "python",
   "name": "python3"
  },
  "language_info": {
   "codemirror_mode": {
    "name": "ipython",
    "version": 3
   },
   "file_extension": ".py",
   "mimetype": "text/x-python",
   "name": "python",
   "nbconvert_exporter": "python",
   "pygments_lexer": "ipython3",
   "version": "3.8.2"
  }
 },
 "nbformat": 4,
 "nbformat_minor": 4
}
