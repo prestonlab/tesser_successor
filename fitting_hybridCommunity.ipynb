{
 "cells": [
  {
   "cell_type": "markdown",
   "metadata": {},
   "source": [
    "## Fitting Induction data to the Community model using softmax rule"
   ]
  },
  {
   "cell_type": "code",
   "execution_count": 1,
   "metadata": {},
   "outputs": [],
   "source": [
    "import os\n",
    "import numpy as np\n",
    "from scipy import optimize\n",
    "import matplotlib.pyplot as plt\n",
    "import pandas as pd\n",
    "import seaborn as sns\n",
    "from tesser import cython_fit\n",
    "from tesser import util\n",
    "from tesser import network\n",
    "from scipy.spatial import distance\n",
    "import importlib"
   ]
  },
  {
   "cell_type": "markdown",
   "metadata": {},
   "source": [
    "## Load data for all subjects"
   ]
  },
  {
   "cell_type": "code",
   "execution_count": 2,
   "metadata": {},
   "outputs": [],
   "source": [
    "data_dir= \"/mnt/c/Users/rodv2/Dropbox/tesser_successor/Data\"\n",
    "fitted_path= \"/mnt/c/Users/rodv2/Dropbox/tesser_successor/Figures/fitted_models/\""
   ]
  },
  {
   "cell_type": "code",
   "execution_count": 3,
   "metadata": {},
   "outputs": [],
   "source": [
    "struct_all = util.load_struct(data_dir)\n",
    "induct_all = util.load_induct(data_dir)\n",
    "n_states =21"
   ]
  },
  {
   "cell_type": "markdown",
   "metadata": {},
   "source": [
    "# get community matrix\n"
   ]
  },
  {
   "cell_type": "code",
   "execution_count": 4,
   "metadata": {},
   "outputs": [
    {
     "name": "stderr",
     "output_type": "stream",
     "text": [
      "<ipython-input-4-d132e81e18b8>:2: FutureWarning: Support for multi-dimensional indexing (e.g. `obj[:, None]`) is deprecated and will be removed in a future version.  Convert to a numpy array before indexing instead.\n",
      "  comm = 1 - distance.squareform(distance.pdist(net['comm'][:, None], 'hamming'))\n"
     ]
    }
   ],
   "source": [
    "net = network.temp_node_info()\n",
    "comm = 1 - distance.squareform(distance.pdist(net['comm'][:, None], 'hamming'))"
   ]
  },
  {
   "cell_type": "markdown",
   "metadata": {},
   "source": [
    "## Fit each individual subject"
   ]
  },
  {
   "cell_type": "code",
   "execution_count": 5,
   "metadata": {},
   "outputs": [
    {
     "name": "stdout",
     "output_type": "stream",
     "text": [
      "Estimating parameters for 100...\n",
      "Estimating parameters for 101...\n",
      "Estimating parameters for 102...\n",
      "Estimating parameters for 103...\n",
      "Estimating parameters for 104...\n",
      "Estimating parameters for 105...\n",
      "Estimating parameters for 106...\n",
      "Estimating parameters for 107...\n",
      "Estimating parameters for 108...\n",
      "Estimating parameters for 109...\n",
      "Estimating parameters for 110...\n",
      "Estimating parameters for 111...\n",
      "Estimating parameters for 112...\n",
      "Estimating parameters for 113...\n",
      "Estimating parameters for 114...\n",
      "Estimating parameters for 115...\n",
      "Estimating parameters for 116...\n",
      "Estimating parameters for 117...\n",
      "Estimating parameters for 119...\n",
      "Estimating parameters for 120...\n",
      "Estimating parameters for 121...\n",
      "Estimating parameters for 122...\n",
      "Estimating parameters for 123...\n",
      "Estimating parameters for 124...\n",
      "Estimating parameters for 125...\n",
      "Estimating parameters for 126...\n",
      "Estimating parameters for 127...\n",
      "Estimating parameters for 128...\n",
      "Estimating parameters for 129...\n",
      "Estimating parameters for 130...\n",
      "Estimating parameters for 131...\n",
      "Estimating parameters for 132...\n",
      "Estimating parameters for 133...\n",
      "Estimating parameters for 135...\n",
      "Estimating parameters for 136...\n",
      "Estimating parameters for 137...\n",
      "Estimating parameters for 138...\n"
     ]
    }
   ],
   "source": [
    "# Using a hybrid model function with the community matrix.\n",
    "fixed = {}\n",
    "var_names = ['gamma', 'alpha', 'tau', 'w']\n",
    "var_bounds = {'gamma': [0, 1], 'alpha': [0, 1], 'tau': [0, 10] , 'w': [0, 1]}\n",
    "results = cython_fit.fit_induct_indiv(struct_all, induct_all, fixed, var_names, var_bounds, split =False,\n",
    "                               n_states=n_states, verbose=False, model_type='comm', model=comm, split_list =[])"
   ]
  },
  {
   "cell_type": "code",
   "execution_count": 6,
   "metadata": {},
   "outputs": [
    {
     "data": {
      "text/html": [
       "<div>\n",
       "<style scoped>\n",
       "    .dataframe tbody tr th:only-of-type {\n",
       "        vertical-align: middle;\n",
       "    }\n",
       "\n",
       "    .dataframe tbody tr th {\n",
       "        vertical-align: top;\n",
       "    }\n",
       "\n",
       "    .dataframe thead th {\n",
       "        text-align: right;\n",
       "    }\n",
       "</style>\n",
       "<table border=\"1\" class=\"dataframe\">\n",
       "  <thead>\n",
       "    <tr style=\"text-align: right;\">\n",
       "      <th></th>\n",
       "      <th>gamma</th>\n",
       "      <th>alpha</th>\n",
       "      <th>tau</th>\n",
       "      <th>w</th>\n",
       "      <th>log_like</th>\n",
       "      <th>k</th>\n",
       "      <th>n</th>\n",
       "    </tr>\n",
       "    <tr>\n",
       "      <th>subject</th>\n",
       "      <th></th>\n",
       "      <th></th>\n",
       "      <th></th>\n",
       "      <th></th>\n",
       "      <th></th>\n",
       "      <th></th>\n",
       "      <th></th>\n",
       "    </tr>\n",
       "  </thead>\n",
       "  <tbody>\n",
       "    <tr>\n",
       "      <th>100</th>\n",
       "      <td>0.146458</td>\n",
       "      <td>0.000000</td>\n",
       "      <td>9.572237</td>\n",
       "      <td>1.000000</td>\n",
       "      <td>-29.112182</td>\n",
       "      <td>4</td>\n",
       "      <td>42</td>\n",
       "    </tr>\n",
       "    <tr>\n",
       "      <th>101</th>\n",
       "      <td>0.992895</td>\n",
       "      <td>0.724412</td>\n",
       "      <td>1.078343</td>\n",
       "      <td>0.942471</td>\n",
       "      <td>-25.312826</td>\n",
       "      <td>4</td>\n",
       "      <td>42</td>\n",
       "    </tr>\n",
       "    <tr>\n",
       "      <th>102</th>\n",
       "      <td>0.620687</td>\n",
       "      <td>0.105569</td>\n",
       "      <td>0.621340</td>\n",
       "      <td>0.000000</td>\n",
       "      <td>-18.923571</td>\n",
       "      <td>4</td>\n",
       "      <td>42</td>\n",
       "    </tr>\n",
       "    <tr>\n",
       "      <th>103</th>\n",
       "      <td>0.000000</td>\n",
       "      <td>0.998635</td>\n",
       "      <td>0.001407</td>\n",
       "      <td>0.999821</td>\n",
       "      <td>-24.368312</td>\n",
       "      <td>4</td>\n",
       "      <td>42</td>\n",
       "    </tr>\n",
       "    <tr>\n",
       "      <th>104</th>\n",
       "      <td>0.000000</td>\n",
       "      <td>1.000000</td>\n",
       "      <td>0.558111</td>\n",
       "      <td>1.000000</td>\n",
       "      <td>-27.130966</td>\n",
       "      <td>4</td>\n",
       "      <td>42</td>\n",
       "    </tr>\n",
       "  </tbody>\n",
       "</table>\n",
       "</div>"
      ],
      "text/plain": [
       "            gamma     alpha       tau         w   log_like  k   n\n",
       "subject                                                          \n",
       "100      0.146458  0.000000  9.572237  1.000000 -29.112182  4  42\n",
       "101      0.992895  0.724412  1.078343  0.942471 -25.312826  4  42\n",
       "102      0.620687  0.105569  0.621340  0.000000 -18.923571  4  42\n",
       "103      0.000000  0.998635  0.001407  0.999821 -24.368312  4  42\n",
       "104      0.000000  1.000000  0.558111  1.000000 -27.130966  4  42"
      ]
     },
     "execution_count": 6,
     "metadata": {},
     "output_type": "execute_result"
    }
   ],
   "source": [
    "results = results.set_index('subject')\n",
    "results.head()"
   ]
  },
  {
   "cell_type": "code",
   "execution_count": 7,
   "metadata": {},
   "outputs": [],
   "source": [
    "results.to_csv(f\"./Data/hybrid_results/hybrid_community.csv\")"
   ]
  },
  {
   "cell_type": "markdown",
   "metadata": {},
   "source": [
    "## Get response probabilities for the fitted models"
   ]
  },
  {
   "cell_type": "code",
   "execution_count": 8,
   "metadata": {},
   "outputs": [
    {
     "data": {
      "image/png": "[encoded data removed]",
      "text/plain": [
       "<Figure size 720x720 with 4 Axes>"
      ]
     },
     "metadata": {
      "needs_background": "light"
     },
     "output_type": "display_data"
    }
   ],
   "source": [
    "fitted = cython_fit.fitted_results(struct_all, induct_all, results, n_states, False, 'comm', comm)\n",
    "fig = cython_fit.plot_by_question(fitted, split= False,  fig_name='Hybrid Community')"
   ]
  },
  {
   "cell_type": "code",
   "execution_count": 9,
   "metadata": {},
   "outputs": [],
   "source": [
    "results.to_csv(fitted_path+\"results/hybrid_community.csv\")\n",
    "fig.savefig(fitted_path+'accuracy_plots/hybrid_community.pdf')"
   ]
  },
  {
   "cell_type": "markdown",
   "metadata": {},
   "source": [
    "## Add weights by question"
   ]
  },
  {
   "cell_type": "code",
   "execution_count": 10,
   "metadata": {},
   "outputs": [
    {
     "name": "stdout",
     "output_type": "stream",
     "text": [
      "Estimating parameters for 100...\n",
      "Estimating parameters for 101...\n",
      "Estimating parameters for 102...\n",
      "Estimating parameters for 103...\n",
      "Estimating parameters for 104...\n",
      "Estimating parameters for 105...\n",
      "Estimating parameters for 106...\n",
      "Estimating parameters for 107...\n",
      "Estimating parameters for 108...\n",
      "Estimating parameters for 109...\n",
      "Estimating parameters for 110...\n",
      "Estimating parameters for 111...\n",
      "Estimating parameters for 112...\n",
      "Estimating parameters for 113...\n",
      "Estimating parameters for 114...\n",
      "Estimating parameters for 115...\n",
      "Estimating parameters for 116...\n",
      "Estimating parameters for 117...\n",
      "Estimating parameters for 119...\n",
      "Estimating parameters for 120...\n",
      "Estimating parameters for 121...\n",
      "Estimating parameters for 122...\n",
      "Estimating parameters for 123...\n",
      "Estimating parameters for 124...\n",
      "Estimating parameters for 125...\n",
      "Estimating parameters for 126...\n",
      "Estimating parameters for 127...\n",
      "Estimating parameters for 128...\n",
      "Estimating parameters for 129...\n",
      "Estimating parameters for 130...\n",
      "Estimating parameters for 131...\n",
      "Estimating parameters for 132...\n",
      "Estimating parameters for 133...\n",
      "Estimating parameters for 135...\n",
      "Estimating parameters for 136...\n",
      "Estimating parameters for 137...\n",
      "Estimating parameters for 138...\n"
     ]
    }
   ],
   "source": [
    "\n",
    "fixed = {}\n",
    "var_names = ['gamma',  'alpha', 'tau', 'w_prim' ,'w_bound1', 'w_bound2']\n",
    "var_bounds = {'gamma': [0, 1], 'alpha': [0, 1], 'tau': [0, 10],\n",
    "              'w_prim' : [0, 1], 'w_bound1' : [0, 1], 'w_bound2' : [0, 1]}\n",
    "results_w= cython_fit.fit_induct_indiv(struct_all, induct_all, fixed, var_names, var_bounds, split =True,\n",
    "                               n_states=n_states, verbose=False, model_type='comm', model=comm, split_list =[\"w\"])"
   ]
  },
  {
   "cell_type": "code",
   "execution_count": 11,
   "metadata": {},
   "outputs": [
    {
     "data": {
      "text/html": [
       "<div>\n",
       "<style scoped>\n",
       "    .dataframe tbody tr th:only-of-type {\n",
       "        vertical-align: middle;\n",
       "    }\n",
       "\n",
       "    .dataframe tbody tr th {\n",
       "        vertical-align: top;\n",
       "    }\n",
       "\n",
       "    .dataframe thead th {\n",
       "        text-align: right;\n",
       "    }\n",
       "</style>\n",
       "<table border=\"1\" class=\"dataframe\">\n",
       "  <thead>\n",
       "    <tr style=\"text-align: right;\">\n",
       "      <th></th>\n",
       "      <th>gamma</th>\n",
       "      <th>alpha</th>\n",
       "      <th>tau</th>\n",
       "      <th>w_prim</th>\n",
       "      <th>w_bound1</th>\n",
       "      <th>w_bound2</th>\n",
       "      <th>log_like</th>\n",
       "      <th>k</th>\n",
       "      <th>n</th>\n",
       "    </tr>\n",
       "    <tr>\n",
       "      <th>subject</th>\n",
       "      <th></th>\n",
       "      <th></th>\n",
       "      <th></th>\n",
       "      <th></th>\n",
       "      <th></th>\n",
       "      <th></th>\n",
       "      <th></th>\n",
       "      <th></th>\n",
       "      <th></th>\n",
       "    </tr>\n",
       "  </thead>\n",
       "  <tbody>\n",
       "    <tr>\n",
       "      <th>100</th>\n",
       "      <td>1.000000</td>\n",
       "      <td>0.911399</td>\n",
       "      <td>6.704224</td>\n",
       "      <td>1.000000</td>\n",
       "      <td>1.000000</td>\n",
       "      <td>0.294792</td>\n",
       "      <td>-28.489425</td>\n",
       "      <td>6</td>\n",
       "      <td>42</td>\n",
       "    </tr>\n",
       "    <tr>\n",
       "      <th>101</th>\n",
       "      <td>0.993999</td>\n",
       "      <td>0.669074</td>\n",
       "      <td>1.023599</td>\n",
       "      <td>1.000000</td>\n",
       "      <td>0.495415</td>\n",
       "      <td>0.642532</td>\n",
       "      <td>-24.966161</td>\n",
       "      <td>6</td>\n",
       "      <td>42</td>\n",
       "    </tr>\n",
       "    <tr>\n",
       "      <th>102</th>\n",
       "      <td>0.625211</td>\n",
       "      <td>0.000000</td>\n",
       "      <td>0.498288</td>\n",
       "      <td>0.067316</td>\n",
       "      <td>0.198039</td>\n",
       "      <td>0.654610</td>\n",
       "      <td>-18.302686</td>\n",
       "      <td>6</td>\n",
       "      <td>42</td>\n",
       "    </tr>\n",
       "    <tr>\n",
       "      <th>103</th>\n",
       "      <td>0.000084</td>\n",
       "      <td>0.998592</td>\n",
       "      <td>0.001407</td>\n",
       "      <td>0.999810</td>\n",
       "      <td>1.000000</td>\n",
       "      <td>0.999027</td>\n",
       "      <td>-24.040362</td>\n",
       "      <td>6</td>\n",
       "      <td>42</td>\n",
       "    </tr>\n",
       "    <tr>\n",
       "      <th>104</th>\n",
       "      <td>0.000000</td>\n",
       "      <td>1.000000</td>\n",
       "      <td>0.558109</td>\n",
       "      <td>1.000000</td>\n",
       "      <td>1.000000</td>\n",
       "      <td>0.613149</td>\n",
       "      <td>-26.791167</td>\n",
       "      <td>6</td>\n",
       "      <td>42</td>\n",
       "    </tr>\n",
       "  </tbody>\n",
       "</table>\n",
       "</div>"
      ],
      "text/plain": [
       "            gamma     alpha       tau    w_prim  w_bound1  w_bound2  \\\n",
       "subject                                                               \n",
       "100      1.000000  0.911399  6.704224  1.000000  1.000000  0.294792   \n",
       "101      0.993999  0.669074  1.023599  1.000000  0.495415  0.642532   \n",
       "102      0.625211  0.000000  0.498288  0.067316  0.198039  0.654610   \n",
       "103      0.000084  0.998592  0.001407  0.999810  1.000000  0.999027   \n",
       "104      0.000000  1.000000  0.558109  1.000000  1.000000  0.613149   \n",
       "\n",
       "          log_like  k   n  \n",
       "subject                    \n",
       "100     -28.489425  6  42  \n",
       "101     -24.966161  6  42  \n",
       "102     -18.302686  6  42  \n",
       "103     -24.040362  6  42  \n",
       "104     -26.791167  6  42  "
      ]
     },
     "execution_count": 11,
     "metadata": {},
     "output_type": "execute_result"
    }
   ],
   "source": [
    "results_w = results_w.set_index('subject')\n",
    "results_w.head()"
   ]
  },
  {
   "cell_type": "code",
   "execution_count": 40,
   "metadata": {},
   "outputs": [],
   "source": [
    "results_w.to_csv(f\"./Data/hybrid_results/hybrid_community_weighted.csv\")"
   ]
  },
  {
   "cell_type": "markdown",
   "metadata": {},
   "source": [
    "## Get response probabilities for the fitted models"
   ]
  },
  {
   "cell_type": "code",
   "execution_count": 71,
   "metadata": {},
   "outputs": [
    {
     "data": {
      "image/png": "[encoded data removed]",
      "text/plain": [
       "<Figure size 720x720 with 4 Axes>"
      ]
     },
     "metadata": {
      "needs_background": "light"
     },
     "output_type": "display_data"
    }
   ],
   "source": [
    "fitted2 = cython_fit.fitted_results(struct_all, induct_all, results_w, n_states, True, 'comm', comm)\n",
    "fig2 = cython_fit.plot_by_question(fitted2,  fig_name='Hybrid Community weighted')"
   ]
  },
  {
   "cell_type": "code",
   "execution_count": 72,
   "metadata": {},
   "outputs": [],
   "source": [
    "results_w.to_csv(fitted_path+\"results/hybrid_community_weighted.csv\")\n",
    "fig2.savefig(fitted_path+'accuracy_plots/hybrid_community_weighted.pdf')"
   ]
  },
  {
   "cell_type": "code",
   "execution_count": 70,
   "metadata": {},
   "outputs": [
    {
     "data": {
      "text/plain": [
       "<module 'tesser.cython_fit' from '/home/work-machine/Preston_Lab/tesser_successor/tesser/cython_fit.py'>"
      ]
     },
     "execution_count": 70,
     "metadata": {},
     "output_type": "execute_result"
    }
   ],
   "source": [
    "importlib.reload(cython_fit)"
   ]
  },
  {
   "cell_type": "code",
   "execution_count": 69,
   "metadata": {},
   "outputs": [
    {
     "data": {
      "text/html": [
       "<div>\n",
       "<style scoped>\n",
       "    .dataframe tbody tr th:only-of-type {\n",
       "        vertical-align: middle;\n",
       "    }\n",
       "\n",
       "    .dataframe tbody tr th {\n",
       "        vertical-align: top;\n",
       "    }\n",
       "\n",
       "    .dataframe thead th {\n",
       "        text-align: right;\n",
       "    }\n",
       "</style>\n",
       "<table border=\"1\" class=\"dataframe\">\n",
       "  <thead>\n",
       "    <tr style=\"text-align: right;\">\n",
       "      <th></th>\n",
       "      <th>SubjNum</th>\n",
       "      <th>TrialNum</th>\n",
       "      <th>QuestType</th>\n",
       "      <th>Environment</th>\n",
       "      <th>Source</th>\n",
       "      <th>Accuracy</th>\n",
       "    </tr>\n",
       "  </thead>\n",
       "  <tbody>\n",
       "    <tr>\n",
       "      <th>0</th>\n",
       "      <td>100</td>\n",
       "      <td>1</td>\n",
       "      <td>Prim</td>\n",
       "      <td>ocean</td>\n",
       "      <td>Data</td>\n",
       "      <td>0.0</td>\n",
       "    </tr>\n",
       "    <tr>\n",
       "      <th>1</th>\n",
       "      <td>100</td>\n",
       "      <td>2</td>\n",
       "      <td>Bound2</td>\n",
       "      <td>desert</td>\n",
       "      <td>Data</td>\n",
       "      <td>0.0</td>\n",
       "    </tr>\n",
       "    <tr>\n",
       "      <th>2</th>\n",
       "      <td>100</td>\n",
       "      <td>3</td>\n",
       "      <td>Prim</td>\n",
       "      <td>desert</td>\n",
       "      <td>Data</td>\n",
       "      <td>1.0</td>\n",
       "    </tr>\n",
       "    <tr>\n",
       "      <th>3</th>\n",
       "      <td>100</td>\n",
       "      <td>4</td>\n",
       "      <td>Prim</td>\n",
       "      <td>ocean</td>\n",
       "      <td>Data</td>\n",
       "      <td>1.0</td>\n",
       "    </tr>\n",
       "    <tr>\n",
       "      <th>4</th>\n",
       "      <td>100</td>\n",
       "      <td>5</td>\n",
       "      <td>Prim</td>\n",
       "      <td>ocean</td>\n",
       "      <td>Data</td>\n",
       "      <td>0.0</td>\n",
       "    </tr>\n",
       "    <tr>\n",
       "      <th>...</th>\n",
       "      <td>...</td>\n",
       "      <td>...</td>\n",
       "      <td>...</td>\n",
       "      <td>...</td>\n",
       "      <td>...</td>\n",
       "      <td>...</td>\n",
       "    </tr>\n",
       "    <tr>\n",
       "      <th>79</th>\n",
       "      <td>138</td>\n",
       "      <td>38</td>\n",
       "      <td>Prim</td>\n",
       "      <td>desert</td>\n",
       "      <td>Model</td>\n",
       "      <td>1.0</td>\n",
       "    </tr>\n",
       "    <tr>\n",
       "      <th>80</th>\n",
       "      <td>138</td>\n",
       "      <td>39</td>\n",
       "      <td>Prim</td>\n",
       "      <td>forest</td>\n",
       "      <td>Model</td>\n",
       "      <td>1.0</td>\n",
       "    </tr>\n",
       "    <tr>\n",
       "      <th>81</th>\n",
       "      <td>138</td>\n",
       "      <td>40</td>\n",
       "      <td>Prim</td>\n",
       "      <td>ocean</td>\n",
       "      <td>Model</td>\n",
       "      <td>1.0</td>\n",
       "    </tr>\n",
       "    <tr>\n",
       "      <th>82</th>\n",
       "      <td>138</td>\n",
       "      <td>41</td>\n",
       "      <td>Bound1</td>\n",
       "      <td>forest</td>\n",
       "      <td>Model</td>\n",
       "      <td>1.0</td>\n",
       "    </tr>\n",
       "    <tr>\n",
       "      <th>83</th>\n",
       "      <td>138</td>\n",
       "      <td>42</td>\n",
       "      <td>Prim</td>\n",
       "      <td>ocean</td>\n",
       "      <td>Model</td>\n",
       "      <td>1.0</td>\n",
       "    </tr>\n",
       "  </tbody>\n",
       "</table>\n",
       "<p>3108 rows × 6 columns</p>\n",
       "</div>"
      ],
      "text/plain": [
       "    SubjNum  TrialNum QuestType Environment Source  Accuracy\n",
       "0       100         1      Prim       ocean   Data       0.0\n",
       "1       100         2    Bound2      desert   Data       0.0\n",
       "2       100         3      Prim      desert   Data       1.0\n",
       "3       100         4      Prim       ocean   Data       1.0\n",
       "4       100         5      Prim       ocean   Data       0.0\n",
       "..      ...       ...       ...         ...    ...       ...\n",
       "79      138        38      Prim      desert  Model       1.0\n",
       "80      138        39      Prim      forest  Model       1.0\n",
       "81      138        40      Prim       ocean  Model       1.0\n",
       "82      138        41    Bound1      forest  Model       1.0\n",
       "83      138        42      Prim       ocean  Model       1.0\n",
       "\n",
       "[3108 rows x 6 columns]"
      ]
     },
     "execution_count": 69,
     "metadata": {},
     "output_type": "execute_result"
    }
   ],
   "source": [
    "res_list = []\n",
    "for subject in results_w.index.unique():\n",
    "    subj_filter = f'SubjNum == {subject}'\n",
    "    subj_struct = struct_all.query(subj_filter)\n",
    "    subj_induct = induct_all.query(subj_filter)\n",
    "    subj_param = results_w.loc[subject]\n",
    "    param={}\n",
    "    for name in results_w.columns:\n",
    "        if (name == 'log_like') or (name == 'k') or (name == 'n'):\n",
    "            continue\n",
    "        param[name] = subj_param[name]\n",
    "\n",
    "    res = cython_fit.assess_induct_fit_subject_hybrid(subj_struct , subj_induct, param, n_states = 21, split= True, model_type= 'comm', model=comm)\n",
    "    res_list.append(res)\n",
    "fitted2 = pd.concat(res_list, axis=0)\n",
    "fitted2"
   ]
  },
  {
   "cell_type": "code",
   "execution_count": null,
   "metadata": {},
   "outputs": [],
   "source": []
  },
  {
   "cell_type": "code",
   "execution_count": null,
   "metadata": {},
   "outputs": [],
   "source": []
  }
 ],
 "metadata": {
  "kernelspec": {
   "display_name": "Tesser",
   "language": "python",
   "name": "tesser"
  },
  "language_info": {
   "codemirror_mode": {
    "name": "ipython",
    "version": 3
   },
   "file_extension": ".py",
   "mimetype": "text/x-python",
   "name": "python",
   "nbconvert_exporter": "python",
   "pygments_lexer": "ipython3",
   "version": "3.8.5"
  }
 },
 "nbformat": 4,
 "nbformat_minor": 4
}
