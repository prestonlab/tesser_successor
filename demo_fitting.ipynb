{
 "cells": [
  {
   "cell_type": "code",
   "execution_count": 13,
   "metadata": {},
   "outputs": [],
   "source": [
    "import os\n",
    "import numpy as np\n",
    "from scipy import optimize\n",
    "import matplotlib.pyplot as plt\n",
    "import pandas as pd\n",
    "import seaborn as sns\n",
    "from tesser import fit\n",
    "from tesser import util\n",
    "from tesser import sr"
   ]
  },
  {
   "cell_type": "markdown",
   "metadata": {},
   "source": [
    "## Load data for all subjects"
   ]
  },
  {
   "cell_type": "code",
   "execution_count": 2,
   "metadata": {},
   "outputs": [],
   "source": [
    "data_dir = '/Users/morton/Dropbox/data/tesser'\n",
    "struct = util.load_struct(data_dir)\n",
    "induct = util.load_induct(data_dir)"
   ]
  },
  {
   "cell_type": "markdown",
   "metadata": {},
   "source": [
    "## Fit each individual subject"
   ]
  },
  {
   "cell_type": "code",
   "execution_count": 7,
   "metadata": {},
   "outputs": [
    {
     "name": "stdout",
     "output_type": "stream",
     "text": [
      "Estimating parameters for 100...\n",
      "Estimating parameters for 101...\n",
      "Estimating parameters for 102...\n",
      "Estimating parameters for 103...\n",
      "Estimating parameters for 104...\n",
      "Estimating parameters for 105...\n",
      "Estimating parameters for 106...\n",
      "Estimating parameters for 107...\n",
      "Estimating parameters for 108...\n",
      "Estimating parameters for 109...\n"
     ]
    },
    {
     "name": "stderr",
     "output_type": "stream",
     "text": [
      "/Users/morton/PycharmProjects/tesser_successor/tesser/fit.py:46: RuntimeWarning: invalid value encountered in double_scalars\n",
      "  (SR[cue, opt[0]] ** tau + SR[cue, opt[1]] ** tau))\n",
      "/Users/morton/PycharmProjects/tesser_successor/tesser/fit.py:45: RuntimeWarning: invalid value encountered in double_scalars\n",
      "  prob = ((SR[cue, opt[response]] ** tau) /\n"
     ]
    },
    {
     "name": "stdout",
     "output_type": "stream",
     "text": [
      "Estimating parameters for 110...\n",
      "Estimating parameters for 111...\n",
      "Estimating parameters for 112...\n",
      "Estimating parameters for 113...\n",
      "Estimating parameters for 114...\n",
      "Estimating parameters for 115...\n",
      "Estimating parameters for 116...\n",
      "Estimating parameters for 117...\n",
      "Estimating parameters for 119...\n",
      "Estimating parameters for 120...\n",
      "Estimating parameters for 121...\n",
      "Estimating parameters for 122...\n",
      "Estimating parameters for 123...\n",
      "Estimating parameters for 124...\n",
      "Estimating parameters for 125...\n",
      "Estimating parameters for 126...\n",
      "Estimating parameters for 127...\n",
      "Estimating parameters for 128...\n",
      "Estimating parameters for 129...\n",
      "Estimating parameters for 130...\n",
      "Estimating parameters for 131...\n",
      "Estimating parameters for 132...\n",
      "Estimating parameters for 133...\n",
      "Estimating parameters for 135...\n",
      "Estimating parameters for 136...\n",
      "Estimating parameters for 137...\n",
      "Estimating parameters for 138...\n"
     ]
    }
   ],
   "source": [
    "fixed = {}\n",
    "var_names = ['gamma', 'alpha', 'tau']\n",
    "var_bounds = {'alpha': [0, 1], 'gamma': [0, 1], 'tau': [0, 10]}\n",
    "results = fit.fit_induct_indiv(struct, induct, fixed, var_names, var_bounds)"
   ]
  },
  {
   "cell_type": "code",
   "execution_count": 63,
   "metadata": {},
   "outputs": [
    {
     "data": {
      "text/html": [
       "<div>\n",
       "<style scoped>\n",
       "    .dataframe tbody tr th:only-of-type {\n",
       "        vertical-align: middle;\n",
       "    }\n",
       "\n",
       "    .dataframe tbody tr th {\n",
       "        vertical-align: top;\n",
       "    }\n",
       "\n",
       "    .dataframe thead th {\n",
       "        text-align: right;\n",
       "    }\n",
       "</style>\n",
       "<table border=\"1\" class=\"dataframe\">\n",
       "  <thead>\n",
       "    <tr style=\"text-align: right;\">\n",
       "      <th></th>\n",
       "      <th>gamma</th>\n",
       "      <th>alpha</th>\n",
       "      <th>tau</th>\n",
       "      <th>log_like</th>\n",
       "    </tr>\n",
       "    <tr>\n",
       "      <th>subject</th>\n",
       "      <th></th>\n",
       "      <th></th>\n",
       "      <th></th>\n",
       "      <th></th>\n",
       "    </tr>\n",
       "  </thead>\n",
       "  <tbody>\n",
       "    <tr>\n",
       "      <th>100</th>\n",
       "      <td>1.000000e+00</td>\n",
       "      <td>0.868522</td>\n",
       "      <td>0.406603</td>\n",
       "      <td>-28.982943</td>\n",
       "    </tr>\n",
       "    <tr>\n",
       "      <th>101</th>\n",
       "      <td>9.920991e-01</td>\n",
       "      <td>0.712507</td>\n",
       "      <td>2.714392</td>\n",
       "      <td>-25.406298</td>\n",
       "    </tr>\n",
       "    <tr>\n",
       "      <th>102</th>\n",
       "      <td>7.763768e-01</td>\n",
       "      <td>0.022943</td>\n",
       "      <td>0.725346</td>\n",
       "      <td>-20.825487</td>\n",
       "    </tr>\n",
       "    <tr>\n",
       "      <th>103</th>\n",
       "      <td>9.253540e-01</td>\n",
       "      <td>0.685406</td>\n",
       "      <td>1.307401</td>\n",
       "      <td>-25.866600</td>\n",
       "    </tr>\n",
       "    <tr>\n",
       "      <th>104</th>\n",
       "      <td>1.000000e+00</td>\n",
       "      <td>0.633356</td>\n",
       "      <td>1.224772</td>\n",
       "      <td>-28.726881</td>\n",
       "    </tr>\n",
       "    <tr>\n",
       "      <th>105</th>\n",
       "      <td>1.000000e+00</td>\n",
       "      <td>0.129351</td>\n",
       "      <td>2.040551</td>\n",
       "      <td>-22.919007</td>\n",
       "    </tr>\n",
       "    <tr>\n",
       "      <th>106</th>\n",
       "      <td>7.034455e-01</td>\n",
       "      <td>0.103798</td>\n",
       "      <td>0.894549</td>\n",
       "      <td>-24.974311</td>\n",
       "    </tr>\n",
       "    <tr>\n",
       "      <th>107</th>\n",
       "      <td>9.924539e-01</td>\n",
       "      <td>0.937988</td>\n",
       "      <td>1.459438</td>\n",
       "      <td>-27.662605</td>\n",
       "    </tr>\n",
       "    <tr>\n",
       "      <th>108</th>\n",
       "      <td>9.977641e-01</td>\n",
       "      <td>0.600538</td>\n",
       "      <td>0.656211</td>\n",
       "      <td>-28.698749</td>\n",
       "    </tr>\n",
       "    <tr>\n",
       "      <th>109</th>\n",
       "      <td>3.094178e-01</td>\n",
       "      <td>0.000849</td>\n",
       "      <td>0.467673</td>\n",
       "      <td>-19.506444</td>\n",
       "    </tr>\n",
       "    <tr>\n",
       "      <th>110</th>\n",
       "      <td>1.000000e+00</td>\n",
       "      <td>0.917326</td>\n",
       "      <td>4.778872</td>\n",
       "      <td>-24.512027</td>\n",
       "    </tr>\n",
       "    <tr>\n",
       "      <th>111</th>\n",
       "      <td>1.000000e+00</td>\n",
       "      <td>0.101845</td>\n",
       "      <td>0.547319</td>\n",
       "      <td>-28.144488</td>\n",
       "    </tr>\n",
       "    <tr>\n",
       "      <th>112</th>\n",
       "      <td>1.000000e+00</td>\n",
       "      <td>0.140199</td>\n",
       "      <td>0.342744</td>\n",
       "      <td>-28.468672</td>\n",
       "    </tr>\n",
       "    <tr>\n",
       "      <th>113</th>\n",
       "      <td>9.907325e-01</td>\n",
       "      <td>0.251894</td>\n",
       "      <td>3.728911</td>\n",
       "      <td>-24.873742</td>\n",
       "    </tr>\n",
       "    <tr>\n",
       "      <th>114</th>\n",
       "      <td>9.179869e-01</td>\n",
       "      <td>0.769794</td>\n",
       "      <td>0.000000</td>\n",
       "      <td>-29.112182</td>\n",
       "    </tr>\n",
       "    <tr>\n",
       "      <th>115</th>\n",
       "      <td>9.492839e-01</td>\n",
       "      <td>0.993103</td>\n",
       "      <td>0.224576</td>\n",
       "      <td>-28.491313</td>\n",
       "    </tr>\n",
       "    <tr>\n",
       "      <th>116</th>\n",
       "      <td>3.480360e-02</td>\n",
       "      <td>0.801828</td>\n",
       "      <td>0.075190</td>\n",
       "      <td>-27.763443</td>\n",
       "    </tr>\n",
       "    <tr>\n",
       "      <th>117</th>\n",
       "      <td>7.538984e-01</td>\n",
       "      <td>0.279987</td>\n",
       "      <td>0.000000</td>\n",
       "      <td>-29.112182</td>\n",
       "    </tr>\n",
       "    <tr>\n",
       "      <th>119</th>\n",
       "      <td>1.000000e+00</td>\n",
       "      <td>0.134296</td>\n",
       "      <td>2.232331</td>\n",
       "      <td>-23.889221</td>\n",
       "    </tr>\n",
       "    <tr>\n",
       "      <th>120</th>\n",
       "      <td>1.000000e+00</td>\n",
       "      <td>0.602104</td>\n",
       "      <td>1.609483</td>\n",
       "      <td>-27.694085</td>\n",
       "    </tr>\n",
       "    <tr>\n",
       "      <th>121</th>\n",
       "      <td>8.552118e-01</td>\n",
       "      <td>0.036983</td>\n",
       "      <td>0.538280</td>\n",
       "      <td>-25.984366</td>\n",
       "    </tr>\n",
       "    <tr>\n",
       "      <th>122</th>\n",
       "      <td>7.927337e-01</td>\n",
       "      <td>0.057919</td>\n",
       "      <td>0.674062</td>\n",
       "      <td>-25.032028</td>\n",
       "    </tr>\n",
       "    <tr>\n",
       "      <th>123</th>\n",
       "      <td>4.888510e-01</td>\n",
       "      <td>1.000000</td>\n",
       "      <td>0.034086</td>\n",
       "      <td>-28.321524</td>\n",
       "    </tr>\n",
       "    <tr>\n",
       "      <th>124</th>\n",
       "      <td>1.000000e+00</td>\n",
       "      <td>0.021155</td>\n",
       "      <td>0.347194</td>\n",
       "      <td>-27.196659</td>\n",
       "    </tr>\n",
       "    <tr>\n",
       "      <th>125</th>\n",
       "      <td>1.000000e+00</td>\n",
       "      <td>0.554736</td>\n",
       "      <td>1.203964</td>\n",
       "      <td>-27.932210</td>\n",
       "    </tr>\n",
       "    <tr>\n",
       "      <th>126</th>\n",
       "      <td>8.919224e-01</td>\n",
       "      <td>0.977432</td>\n",
       "      <td>0.196199</td>\n",
       "      <td>-28.427779</td>\n",
       "    </tr>\n",
       "    <tr>\n",
       "      <th>127</th>\n",
       "      <td>1.000000e+00</td>\n",
       "      <td>0.170817</td>\n",
       "      <td>0.979958</td>\n",
       "      <td>-27.321502</td>\n",
       "    </tr>\n",
       "    <tr>\n",
       "      <th>128</th>\n",
       "      <td>4.573056e-02</td>\n",
       "      <td>0.090811</td>\n",
       "      <td>0.069370</td>\n",
       "      <td>-28.799244</td>\n",
       "    </tr>\n",
       "    <tr>\n",
       "      <th>129</th>\n",
       "      <td>9.643442e-01</td>\n",
       "      <td>0.444942</td>\n",
       "      <td>0.416223</td>\n",
       "      <td>-28.954639</td>\n",
       "    </tr>\n",
       "    <tr>\n",
       "      <th>130</th>\n",
       "      <td>9.234363e-01</td>\n",
       "      <td>0.024244</td>\n",
       "      <td>0.667464</td>\n",
       "      <td>-22.588291</td>\n",
       "    </tr>\n",
       "    <tr>\n",
       "      <th>131</th>\n",
       "      <td>6.129337e-03</td>\n",
       "      <td>0.069048</td>\n",
       "      <td>0.133873</td>\n",
       "      <td>-27.060700</td>\n",
       "    </tr>\n",
       "    <tr>\n",
       "      <th>132</th>\n",
       "      <td>4.355864e-01</td>\n",
       "      <td>0.115856</td>\n",
       "      <td>0.535921</td>\n",
       "      <td>-25.997349</td>\n",
       "    </tr>\n",
       "    <tr>\n",
       "      <th>133</th>\n",
       "      <td>1.000000e+00</td>\n",
       "      <td>0.091422</td>\n",
       "      <td>1.140819</td>\n",
       "      <td>-25.268962</td>\n",
       "    </tr>\n",
       "    <tr>\n",
       "      <th>135</th>\n",
       "      <td>7.972056e-01</td>\n",
       "      <td>0.136297</td>\n",
       "      <td>2.174773</td>\n",
       "      <td>-17.832800</td>\n",
       "    </tr>\n",
       "    <tr>\n",
       "      <th>136</th>\n",
       "      <td>1.000000e+00</td>\n",
       "      <td>0.525192</td>\n",
       "      <td>0.475395</td>\n",
       "      <td>-29.045668</td>\n",
       "    </tr>\n",
       "    <tr>\n",
       "      <th>137</th>\n",
       "      <td>2.281186e-02</td>\n",
       "      <td>0.446597</td>\n",
       "      <td>0.090265</td>\n",
       "      <td>-27.954145</td>\n",
       "    </tr>\n",
       "    <tr>\n",
       "      <th>138</th>\n",
       "      <td>8.097883e-12</td>\n",
       "      <td>0.657690</td>\n",
       "      <td>0.011558</td>\n",
       "      <td>-28.722844</td>\n",
       "    </tr>\n",
       "  </tbody>\n",
       "</table>\n",
       "</div>"
      ],
      "text/plain": [
       "                gamma     alpha       tau   log_like\n",
       "subject                                             \n",
       "100      1.000000e+00  0.868522  0.406603 -28.982943\n",
       "101      9.920991e-01  0.712507  2.714392 -25.406298\n",
       "102      7.763768e-01  0.022943  0.725346 -20.825487\n",
       "103      9.253540e-01  0.685406  1.307401 -25.866600\n",
       "104      1.000000e+00  0.633356  1.224772 -28.726881\n",
       "105      1.000000e+00  0.129351  2.040551 -22.919007\n",
       "106      7.034455e-01  0.103798  0.894549 -24.974311\n",
       "107      9.924539e-01  0.937988  1.459438 -27.662605\n",
       "108      9.977641e-01  0.600538  0.656211 -28.698749\n",
       "109      3.094178e-01  0.000849  0.467673 -19.506444\n",
       "110      1.000000e+00  0.917326  4.778872 -24.512027\n",
       "111      1.000000e+00  0.101845  0.547319 -28.144488\n",
       "112      1.000000e+00  0.140199  0.342744 -28.468672\n",
       "113      9.907325e-01  0.251894  3.728911 -24.873742\n",
       "114      9.179869e-01  0.769794  0.000000 -29.112182\n",
       "115      9.492839e-01  0.993103  0.224576 -28.491313\n",
       "116      3.480360e-02  0.801828  0.075190 -27.763443\n",
       "117      7.538984e-01  0.279987  0.000000 -29.112182\n",
       "119      1.000000e+00  0.134296  2.232331 -23.889221\n",
       "120      1.000000e+00  0.602104  1.609483 -27.694085\n",
       "121      8.552118e-01  0.036983  0.538280 -25.984366\n",
       "122      7.927337e-01  0.057919  0.674062 -25.032028\n",
       "123      4.888510e-01  1.000000  0.034086 -28.321524\n",
       "124      1.000000e+00  0.021155  0.347194 -27.196659\n",
       "125      1.000000e+00  0.554736  1.203964 -27.932210\n",
       "126      8.919224e-01  0.977432  0.196199 -28.427779\n",
       "127      1.000000e+00  0.170817  0.979958 -27.321502\n",
       "128      4.573056e-02  0.090811  0.069370 -28.799244\n",
       "129      9.643442e-01  0.444942  0.416223 -28.954639\n",
       "130      9.234363e-01  0.024244  0.667464 -22.588291\n",
       "131      6.129337e-03  0.069048  0.133873 -27.060700\n",
       "132      4.355864e-01  0.115856  0.535921 -25.997349\n",
       "133      1.000000e+00  0.091422  1.140819 -25.268962\n",
       "135      7.972056e-01  0.136297  2.174773 -17.832800\n",
       "136      1.000000e+00  0.525192  0.475395 -29.045668\n",
       "137      2.281186e-02  0.446597  0.090265 -27.954145\n",
       "138      8.097883e-12  0.657690  0.011558 -28.722844"
      ]
     },
     "execution_count": 63,
     "metadata": {},
     "output_type": "execute_result"
    }
   ],
   "source": [
    "#results = results.set_index('subject')\n",
    "results.to_csv(os.path.join('~/work/indiv_param.csv'))\n",
    "results"
   ]
  },
  {
   "cell_type": "markdown",
   "metadata": {},
   "source": [
    "## Get response probabilities for the fitted models"
   ]
  },
  {
   "cell_type": "code",
   "execution_count": 14,
   "metadata": {},
   "outputs": [],
   "source": [
    "res_list = []\n",
    "for subject in results.index.unique():\n",
    "    subj_filter = f'SubjNum == {subject}'\n",
    "    subj_struct = struct.query(subj_filter)\n",
    "    subj_induct = induct.query(subj_filter)\n",
    "    subj_param = results.loc[subject]\n",
    "    param = {'alpha': subj_param['alpha'], 'gamma': subj_param['gamma'],\n",
    "             'tau': subj_param['tau']}\n",
    "    res = fit.assess_induct_fit_subject(subj_struct, subj_induct, param)\n",
    "    res_list.append(res)\n",
    "fitted = pd.concat(res_list, axis=0)"
   ]
  },
  {
   "cell_type": "markdown",
   "metadata": {},
   "source": [
    "## Plot individual differences in induction"
   ]
  },
  {
   "cell_type": "code",
   "execution_count": 50,
   "metadata": {},
   "outputs": [
    {
     "data": {
      "image/png": "[encoded data removed]",
      "text/plain": [
       "<Figure size 432x288 with 1 Axes>"
      ]
     },
     "metadata": {
      "needs_background": "light"
     },
     "output_type": "display_data"
    }
   ],
   "source": [
    "m = fitted.groupby(['Source', 'SubjNum', 'Environment'])['Accuracy'].mean().unstack(level=0)\n",
    "g = sns.scatterplot(x='Model', y='Data', hue='Environment', data=m.reset_index());\n",
    "g.set_xlim(0, 1.02);\n",
    "g.set_ylim(0, 1.02);\n",
    "g.set_aspect(1);\n",
    "g.plot((0, 1), (0, 1), '-k');"
   ]
  },
  {
   "cell_type": "code",
   "execution_count": 51,
   "metadata": {},
   "outputs": [
    {
     "data": {
      "image/png": "[encoded data removed]",
      "text/plain": [
       "<Figure size 432x288 with 1 Axes>"
      ]
     },
     "metadata": {
      "needs_background": "light"
     },
     "output_type": "display_data"
    }
   ],
   "source": [
    "m = fitted.groupby(['Source', 'SubjNum', 'QuestType'])['Accuracy'].mean().unstack(level=0)\n",
    "g = sns.scatterplot(x='Model', y='Data', hue='QuestType', data=m.reset_index());\n",
    "g.set_xlim(0, 1.02);\n",
    "g.set_ylim(0, 1.02);\n",
    "g.set_aspect(1);\n",
    "g.plot((0, 1), (0, 1), '-k');"
   ]
  },
  {
   "cell_type": "markdown",
   "metadata": {},
   "source": [
    "## Plot group means"
   ]
  },
  {
   "cell_type": "code",
   "execution_count": 58,
   "metadata": {},
   "outputs": [
    {
     "data": {
      "image/png": "[encoded data removed]",
      "text/plain": [
       "<Figure size 422.875x360 with 1 Axes>"
      ]
     },
     "metadata": {
      "needs_background": "light"
     },
     "output_type": "display_data"
    }
   ],
   "source": [
    "m = fitted.groupby(['Source', 'SubjNum', 'Environment'])['Accuracy'].mean()\n",
    "g = sns.catplot(kind='point', x='Environment', y='Accuracy', \n",
    "                hue='Source', dodge=True, data=m.reset_index())\n",
    "g.set(ylim=(0, 1.02));"
   ]
  },
  {
   "cell_type": "code",
   "execution_count": 59,
   "metadata": {},
   "outputs": [
    {
     "data": {
      "image/png": "[encoded data removed]",
      "text/plain": [
       "<Figure size 422.875x360 with 1 Axes>"
      ]
     },
     "metadata": {
      "needs_background": "light"
     },
     "output_type": "display_data"
    }
   ],
   "source": [
    "m = fitted.groupby(['Source', 'SubjNum', 'QuestType'])['Accuracy'].mean()\n",
    "g = sns.catplot(kind='point', x='QuestType', y='Accuracy', \n",
    "                hue='Source', dodge=True, data=m.reset_index())\n",
    "g.set(ylim=(0, 1.02));"
   ]
  }
 ],
 "metadata": {
  "kernelspec": {
   "display_name": "tesser",
   "language": "python",
   "name": "tesser"
  },
  "language_info": {
   "codemirror_mode": {
    "name": "ipython",
    "version": 3
   },
   "file_extension": ".py",
   "mimetype": "text/x-python",
   "name": "python",
   "nbconvert_exporter": "python",
   "pygments_lexer": "ipython3",
   "version": "3.7.6"
  }
 },
 "nbformat": 4,
 "nbformat_minor": 4
}
