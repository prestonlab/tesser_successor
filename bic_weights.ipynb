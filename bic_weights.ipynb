{
 "cells": [
  {
   "cell_type": "code",
   "execution_count": 28,
   "metadata": {},
   "outputs": [],
   "source": [
    "import numpy as np\n",
    "import pandas as pd\n",
    "from tesser import bic\n",
    "import seaborn as sns\n",
    "import matplotlib.pyplot as plt\n",
    "\n",
    "import itertools\n",
    "import glob, os"
   ]
  },
  {
   "cell_type": "code",
   "execution_count": 61,
   "metadata": {},
   "outputs": [],
   "source": [
    "models = {}\n",
    "files = [file for file in glob.glob(\"./Data/results/*.csv\")] #grabs files from folder\n",
    "for file in files:\n",
    "    name = file[15:-4].lower()\n",
    "    if 'free' in name:\n",
    "        k = 7\n",
    "    else:\n",
    "        k =6\n",
    "    n = 42\n",
    "    results =pd.read_csv(file)\n",
    "    bic_array = bic.get_bic(results, k , n, True)\n",
    "    model_bic = bic.get_bic(results, k , n, False)\n",
    "    d = bic.params(results, False)\n",
    "\n",
    "    avgs = np.array([x for x in d.values()])\n",
    "    param = [x for x in d.keys()]\n",
    "    full = np.append(avgs,model_bic)\n",
    "    models[name] = full\n",
    "\n",
    "param.append('BIC')"
   ]
  },
  {
   "cell_type": "code",
   "execution_count": 62,
   "metadata": {},
   "outputs": [
    {
     "data": {
      "text/plain": [
       "{'community': array([ 5.99443210e-01,  5.96209123e-01,  1.22735321e+00, -2.44093962e+01,\n",
       "         3.43768175e+03]),\n",
       " 'gamma_free': array([ 3.22714546e-01,  4.64712097e-01,  1.01753756e+00, -2.52415251e+01,\n",
       "         3.77115703e+03]),\n",
       " 'gamma_zero': array([ 7.71072852e-01,  4.80252689e-01,  1.02980214e+00, -2.55006958e+01,\n",
       "         3.51843792e+03]),\n",
       " 'transition': array([ 7.76892351e-01,  5.74640044e-01,  7.29845789e-01, -2.51227683e+01,\n",
       "         3.49047129e+03])}"
      ]
     },
     "execution_count": 62,
     "metadata": {},
     "output_type": "execute_result"
    }
   ],
   "source": [
    "models"
   ]
  },
  {
   "cell_type": "code",
   "execution_count": 63,
   "metadata": {},
   "outputs": [
    {
     "data": {
      "text/html": [
       "<div>\n",
       "<style scoped>\n",
       "    .dataframe tbody tr th:only-of-type {\n",
       "        vertical-align: middle;\n",
       "    }\n",
       "\n",
       "    .dataframe tbody tr th {\n",
       "        vertical-align: top;\n",
       "    }\n",
       "\n",
       "    .dataframe thead th {\n",
       "        text-align: right;\n",
       "    }\n",
       "</style>\n",
       "<table border=\"1\" class=\"dataframe\">\n",
       "  <thead>\n",
       "    <tr style=\"text-align: right;\">\n",
       "      <th></th>\n",
       "      <th>gamma</th>\n",
       "      <th>alpha</th>\n",
       "      <th>tau</th>\n",
       "      <th>log_like</th>\n",
       "      <th>BIC</th>\n",
       "      <th>w_BIC</th>\n",
       "    </tr>\n",
       "  </thead>\n",
       "  <tbody>\n",
       "    <tr>\n",
       "      <th>community</th>\n",
       "      <td>0.599443</td>\n",
       "      <td>0.596209</td>\n",
       "      <td>1.227353</td>\n",
       "      <td>-24.409396</td>\n",
       "      <td>3437.681751</td>\n",
       "      <td>1.000000e+00</td>\n",
       "    </tr>\n",
       "    <tr>\n",
       "      <th>gamma_free</th>\n",
       "      <td>0.322715</td>\n",
       "      <td>0.464712</td>\n",
       "      <td>1.017538</td>\n",
       "      <td>-25.241525</td>\n",
       "      <td>3771.157027</td>\n",
       "      <td>3.861570e-73</td>\n",
       "    </tr>\n",
       "    <tr>\n",
       "      <th>gamma_zero</th>\n",
       "      <td>0.771073</td>\n",
       "      <td>0.480253</td>\n",
       "      <td>1.029802</td>\n",
       "      <td>-25.500696</td>\n",
       "      <td>3518.437924</td>\n",
       "      <td>2.910850e-18</td>\n",
       "    </tr>\n",
       "    <tr>\n",
       "      <th>transition</th>\n",
       "      <td>0.776892</td>\n",
       "      <td>0.574640</td>\n",
       "      <td>0.729846</td>\n",
       "      <td>-25.122768</td>\n",
       "      <td>3490.471289</td>\n",
       "      <td>3.442686e-12</td>\n",
       "    </tr>\n",
       "  </tbody>\n",
       "</table>\n",
       "</div>"
      ],
      "text/plain": [
       "               gamma     alpha       tau   log_like          BIC         w_BIC\n",
       "community   0.599443  0.596209  1.227353 -24.409396  3437.681751  1.000000e+00\n",
       "gamma_free  0.322715  0.464712  1.017538 -25.241525  3771.157027  3.861570e-73\n",
       "gamma_zero  0.771073  0.480253  1.029802 -25.500696  3518.437924  2.910850e-18\n",
       "transition  0.776892  0.574640  0.729846 -25.122768  3490.471289  3.442686e-12"
      ]
     },
     "execution_count": 63,
     "metadata": {},
     "output_type": "execute_result"
    }
   ],
   "source": [
    "df =pd.DataFrame(data = models.values(),  columns = param)\n",
    "df['w_BIC'] = bic.wbic(df.BIC, axis=0)\n",
    "df.index = models.keys()\n",
    "df"
   ]
  },
  {
   "cell_type": "code",
   "execution_count": 64,
   "metadata": {},
   "outputs": [
    {
     "data": {
      "text/plain": [
       "Index(['gamma', 'alpha', 'tau', 'log_like', 'BIC', 'w_BIC'], dtype='object')"
      ]
     },
     "execution_count": 64,
     "metadata": {},
     "output_type": "execute_result"
    }
   ],
   "source": [
    "df.columns"
   ]
  },
  {
   "cell_type": "code",
   "execution_count": 112,
   "metadata": {},
   "outputs": [
    {
     "name": "stdout",
     "output_type": "stream",
     "text": [
      "[0, 0]\n",
      "[0, 1]\n",
      "[1, 0]\n",
      "[1, 1]\n",
      "[2, 0]\n",
      "[2, 1]\n"
     ]
    },
    {
     "data": {
      "image/png": "[encoded data removed]",
      "text/plain": [
       "<Figure size 1440x720 with 6 Axes>"
      ]
     },
     "metadata": {
      "needs_background": "light"
     },
     "output_type": "display_data"
    }
   ],
   "source": [
    "fig, axs = plt.subplots(3, 2, figsize =(20,10))\n",
    "for i,n in enumerate(df.columns):\n",
    "    print([i//2,i%2])\n",
    "    ax =axs[i//2,i%2]\n",
    "    sns.barplot(x=df.index, y=df[n], data=df, ci = 'sd', ax=ax)"
   ]
  },
  {
   "cell_type": "code",
   "execution_count": null,
   "metadata": {},
   "outputs": [],
   "source": []
  }
 ],
 "metadata": {
  "kernelspec": {
   "display_name": "Tesser",
   "language": "python",
   "name": "tesser"
  },
  "language_info": {
   "codemirror_mode": {
    "name": "ipython",
    "version": 3
   },
   "file_extension": ".py",
   "mimetype": "text/x-python",
   "name": "python",
   "nbconvert_exporter": "python",
   "pygments_lexer": "ipython3",
   "version": "3.8.5"
  }
 },
 "nbformat": 4,
 "nbformat_minor": 4
}
