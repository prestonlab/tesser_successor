{
 "cells": [
  {
   "cell_type": "code",
   "execution_count": 1,
   "metadata": {},
   "outputs": [
    {
     "data": {
      "text/html": [
       "<div>\n",
       "<style scoped>\n",
       "    .dataframe tbody tr th:only-of-type {\n",
       "        vertical-align: middle;\n",
       "    }\n",
       "\n",
       "    .dataframe tbody tr th {\n",
       "        vertical-align: top;\n",
       "    }\n",
       "\n",
       "    .dataframe thead th {\n",
       "        text-align: right;\n",
       "    }\n",
       "</style>\n",
       "<table border=\"1\" class=\"dataframe\">\n",
       "  <thead>\n",
       "    <tr style=\"text-align: right;\">\n",
       "      <th></th>\n",
       "      <th>0</th>\n",
       "      <th>1</th>\n",
       "      <th>2</th>\n",
       "      <th>3</th>\n",
       "      <th>4</th>\n",
       "      <th>5</th>\n",
       "      <th>6</th>\n",
       "      <th>7</th>\n",
       "      <th>8</th>\n",
       "      <th>9</th>\n",
       "      <th>10</th>\n",
       "      <th>11</th>\n",
       "      <th>12</th>\n",
       "      <th>13</th>\n",
       "      <th>14</th>\n",
       "      <th>15</th>\n",
       "      <th>16</th>\n",
       "      <th>17</th>\n",
       "      <th>18</th>\n",
       "    </tr>\n",
       "  </thead>\n",
       "  <tbody>\n",
       "    <tr>\n",
       "      <th>0</th>\n",
       "      <td>0.0</td>\n",
       "      <td>0.0</td>\n",
       "      <td>0.0</td>\n",
       "      <td>0.0</td>\n",
       "      <td>0.0</td>\n",
       "      <td>0.0</td>\n",
       "      <td>0.0</td>\n",
       "      <td>0.0</td>\n",
       "      <td>0.0</td>\n",
       "      <td>0.0</td>\n",
       "      <td>0.0</td>\n",
       "      <td>0.0</td>\n",
       "      <td>0.0</td>\n",
       "      <td>0.0</td>\n",
       "      <td>0.0</td>\n",
       "      <td>0.0</td>\n",
       "      <td>0.0</td>\n",
       "      <td>0.0</td>\n",
       "      <td>0.0</td>\n",
       "    </tr>\n",
       "    <tr>\n",
       "      <th>1</th>\n",
       "      <td>0.0</td>\n",
       "      <td>0.0</td>\n",
       "      <td>0.0</td>\n",
       "      <td>0.0</td>\n",
       "      <td>0.0</td>\n",
       "      <td>0.0</td>\n",
       "      <td>0.0</td>\n",
       "      <td>0.0</td>\n",
       "      <td>0.0</td>\n",
       "      <td>0.0</td>\n",
       "      <td>0.0</td>\n",
       "      <td>0.0</td>\n",
       "      <td>0.0</td>\n",
       "      <td>0.0</td>\n",
       "      <td>0.0</td>\n",
       "      <td>0.0</td>\n",
       "      <td>0.0</td>\n",
       "      <td>0.0</td>\n",
       "      <td>0.0</td>\n",
       "    </tr>\n",
       "    <tr>\n",
       "      <th>2</th>\n",
       "      <td>0.0</td>\n",
       "      <td>0.0</td>\n",
       "      <td>0.0</td>\n",
       "      <td>0.0</td>\n",
       "      <td>0.0</td>\n",
       "      <td>0.0</td>\n",
       "      <td>0.0</td>\n",
       "      <td>0.0</td>\n",
       "      <td>0.0</td>\n",
       "      <td>0.0</td>\n",
       "      <td>0.0</td>\n",
       "      <td>0.0</td>\n",
       "      <td>12.0</td>\n",
       "      <td>11.0</td>\n",
       "      <td>10.0</td>\n",
       "      <td>6.0</td>\n",
       "      <td>0.0</td>\n",
       "      <td>0.0</td>\n",
       "      <td>0.0</td>\n",
       "    </tr>\n",
       "    <tr>\n",
       "      <th>3</th>\n",
       "      <td>0.0</td>\n",
       "      <td>0.0</td>\n",
       "      <td>0.0</td>\n",
       "      <td>0.0</td>\n",
       "      <td>0.0</td>\n",
       "      <td>0.0</td>\n",
       "      <td>0.0</td>\n",
       "      <td>0.0</td>\n",
       "      <td>0.0</td>\n",
       "      <td>0.0</td>\n",
       "      <td>0.0</td>\n",
       "      <td>0.0</td>\n",
       "      <td>0.0</td>\n",
       "      <td>0.0</td>\n",
       "      <td>0.0</td>\n",
       "      <td>0.0</td>\n",
       "      <td>0.0</td>\n",
       "      <td>0.0</td>\n",
       "      <td>0.0</td>\n",
       "    </tr>\n",
       "    <tr>\n",
       "      <th>4</th>\n",
       "      <td>0.0</td>\n",
       "      <td>0.0</td>\n",
       "      <td>0.0</td>\n",
       "      <td>0.0</td>\n",
       "      <td>0.0</td>\n",
       "      <td>0.0</td>\n",
       "      <td>0.0</td>\n",
       "      <td>0.0</td>\n",
       "      <td>0.0</td>\n",
       "      <td>0.0</td>\n",
       "      <td>0.0</td>\n",
       "      <td>0.0</td>\n",
       "      <td>0.0</td>\n",
       "      <td>0.0</td>\n",
       "      <td>0.0</td>\n",
       "      <td>0.0</td>\n",
       "      <td>0.0</td>\n",
       "      <td>0.0</td>\n",
       "      <td>0.0</td>\n",
       "    </tr>\n",
       "    <tr>\n",
       "      <th>5</th>\n",
       "      <td>0.0</td>\n",
       "      <td>0.0</td>\n",
       "      <td>0.0</td>\n",
       "      <td>16.0</td>\n",
       "      <td>15.0</td>\n",
       "      <td>17.0</td>\n",
       "      <td>0.0</td>\n",
       "      <td>20.0</td>\n",
       "      <td>19.0</td>\n",
       "      <td>21.0</td>\n",
       "      <td>0.0</td>\n",
       "      <td>0.0</td>\n",
       "      <td>3.0</td>\n",
       "      <td>13.0</td>\n",
       "      <td>2.0</td>\n",
       "      <td>14.0</td>\n",
       "      <td>0.0</td>\n",
       "      <td>0.0</td>\n",
       "      <td>0.0</td>\n",
       "    </tr>\n",
       "    <tr>\n",
       "      <th>6</th>\n",
       "      <td>0.0</td>\n",
       "      <td>0.0</td>\n",
       "      <td>0.0</td>\n",
       "      <td>0.0</td>\n",
       "      <td>0.0</td>\n",
       "      <td>0.0</td>\n",
       "      <td>0.0</td>\n",
       "      <td>0.0</td>\n",
       "      <td>0.0</td>\n",
       "      <td>0.0</td>\n",
       "      <td>0.0</td>\n",
       "      <td>0.0</td>\n",
       "      <td>0.0</td>\n",
       "      <td>0.0</td>\n",
       "      <td>0.0</td>\n",
       "      <td>0.0</td>\n",
       "      <td>0.0</td>\n",
       "      <td>0.0</td>\n",
       "      <td>0.0</td>\n",
       "    </tr>\n",
       "    <tr>\n",
       "      <th>7</th>\n",
       "      <td>0.0</td>\n",
       "      <td>0.0</td>\n",
       "      <td>0.0</td>\n",
       "      <td>0.0</td>\n",
       "      <td>0.0</td>\n",
       "      <td>0.0</td>\n",
       "      <td>0.0</td>\n",
       "      <td>0.0</td>\n",
       "      <td>0.0</td>\n",
       "      <td>0.0</td>\n",
       "      <td>0.0</td>\n",
       "      <td>0.0</td>\n",
       "      <td>0.0</td>\n",
       "      <td>0.0</td>\n",
       "      <td>0.0</td>\n",
       "      <td>0.0</td>\n",
       "      <td>0.0</td>\n",
       "      <td>0.0</td>\n",
       "      <td>0.0</td>\n",
       "    </tr>\n",
       "    <tr>\n",
       "      <th>8</th>\n",
       "      <td>0.0</td>\n",
       "      <td>0.0</td>\n",
       "      <td>9.0</td>\n",
       "      <td>8.0</td>\n",
       "      <td>18.0</td>\n",
       "      <td>7.0</td>\n",
       "      <td>0.0</td>\n",
       "      <td>0.0</td>\n",
       "      <td>0.0</td>\n",
       "      <td>0.0</td>\n",
       "      <td>0.0</td>\n",
       "      <td>0.0</td>\n",
       "      <td>5.0</td>\n",
       "      <td>4.0</td>\n",
       "      <td>1.0</td>\n",
       "      <td>0.0</td>\n",
       "      <td>0.0</td>\n",
       "      <td>0.0</td>\n",
       "      <td>0.0</td>\n",
       "    </tr>\n",
       "    <tr>\n",
       "      <th>9</th>\n",
       "      <td>0.0</td>\n",
       "      <td>0.0</td>\n",
       "      <td>0.0</td>\n",
       "      <td>0.0</td>\n",
       "      <td>0.0</td>\n",
       "      <td>0.0</td>\n",
       "      <td>0.0</td>\n",
       "      <td>0.0</td>\n",
       "      <td>0.0</td>\n",
       "      <td>0.0</td>\n",
       "      <td>0.0</td>\n",
       "      <td>0.0</td>\n",
       "      <td>0.0</td>\n",
       "      <td>0.0</td>\n",
       "      <td>0.0</td>\n",
       "      <td>0.0</td>\n",
       "      <td>0.0</td>\n",
       "      <td>0.0</td>\n",
       "      <td>0.0</td>\n",
       "    </tr>\n",
       "    <tr>\n",
       "      <th>10</th>\n",
       "      <td>0.0</td>\n",
       "      <td>0.0</td>\n",
       "      <td>0.0</td>\n",
       "      <td>0.0</td>\n",
       "      <td>0.0</td>\n",
       "      <td>0.0</td>\n",
       "      <td>0.0</td>\n",
       "      <td>0.0</td>\n",
       "      <td>0.0</td>\n",
       "      <td>0.0</td>\n",
       "      <td>0.0</td>\n",
       "      <td>0.0</td>\n",
       "      <td>0.0</td>\n",
       "      <td>0.0</td>\n",
       "      <td>0.0</td>\n",
       "      <td>0.0</td>\n",
       "      <td>0.0</td>\n",
       "      <td>0.0</td>\n",
       "      <td>0.0</td>\n",
       "    </tr>\n",
       "  </tbody>\n",
       "</table>\n",
       "</div>"
      ],
      "text/plain": [
       "     0    1    2     3     4     5    6     7     8     9    10   11    12  \\\n",
       "0   0.0  0.0  0.0   0.0   0.0   0.0  0.0   0.0   0.0   0.0  0.0  0.0   0.0   \n",
       "1   0.0  0.0  0.0   0.0   0.0   0.0  0.0   0.0   0.0   0.0  0.0  0.0   0.0   \n",
       "2   0.0  0.0  0.0   0.0   0.0   0.0  0.0   0.0   0.0   0.0  0.0  0.0  12.0   \n",
       "3   0.0  0.0  0.0   0.0   0.0   0.0  0.0   0.0   0.0   0.0  0.0  0.0   0.0   \n",
       "4   0.0  0.0  0.0   0.0   0.0   0.0  0.0   0.0   0.0   0.0  0.0  0.0   0.0   \n",
       "5   0.0  0.0  0.0  16.0  15.0  17.0  0.0  20.0  19.0  21.0  0.0  0.0   3.0   \n",
       "6   0.0  0.0  0.0   0.0   0.0   0.0  0.0   0.0   0.0   0.0  0.0  0.0   0.0   \n",
       "7   0.0  0.0  0.0   0.0   0.0   0.0  0.0   0.0   0.0   0.0  0.0  0.0   0.0   \n",
       "8   0.0  0.0  9.0   8.0  18.0   7.0  0.0   0.0   0.0   0.0  0.0  0.0   5.0   \n",
       "9   0.0  0.0  0.0   0.0   0.0   0.0  0.0   0.0   0.0   0.0  0.0  0.0   0.0   \n",
       "10  0.0  0.0  0.0   0.0   0.0   0.0  0.0   0.0   0.0   0.0  0.0  0.0   0.0   \n",
       "\n",
       "      13    14    15   16   17   18  \n",
       "0    0.0   0.0   0.0  0.0  0.0  0.0  \n",
       "1    0.0   0.0   0.0  0.0  0.0  0.0  \n",
       "2   11.0  10.0   6.0  0.0  0.0  0.0  \n",
       "3    0.0   0.0   0.0  0.0  0.0  0.0  \n",
       "4    0.0   0.0   0.0  0.0  0.0  0.0  \n",
       "5   13.0   2.0  14.0  0.0  0.0  0.0  \n",
       "6    0.0   0.0   0.0  0.0  0.0  0.0  \n",
       "7    0.0   0.0   0.0  0.0  0.0  0.0  \n",
       "8    4.0   1.0   0.0  0.0  0.0  0.0  \n",
       "9    0.0   0.0   0.0  0.0  0.0  0.0  \n",
       "10   0.0   0.0   0.0  0.0  0.0  0.0  "
      ]
     },
     "execution_count": 1,
     "metadata": {},
     "output_type": "execute_result"
    }
   ],
   "source": [
    "from tesser import util\n",
    "from tesser import fit\n",
    "from tesser import network\n",
    "from tesser import sr\n",
    "from tesser import rsa\n",
    "import numpy as np\n",
    "import pandas as pd\n",
    "from scipy.spatial.distance import pdist, squareform\n",
    "from scipy import stats\n",
    "import matplotlib.pyplot as plt\n",
    "%matplotlib inline \n",
    "#anytime you make a figure, it'll show up, and can make subplots\n",
    "\n",
    "#if laptop:\n",
    "#data_dir = '/Users/athulapudhiyidath/Dropbox/Experiments/tesser_successor/data'\n",
    "\n",
    "#if work:\n",
    "data_dir = '/Users/athula/Dropbox/Experiments/tesser_successor/data'\n",
    "\n",
    "subject = 100\n",
    "\n",
    "# load structure learning and induction data for one subject\n",
    "group_load = util.load_group(data_dir, subject)\n",
    "df_group = pd.DataFrame(group_load)\n",
    "df_group.columns = np.arange(len(df_group.columns))\n",
    "df_group"
   ]
  },
  {
   "cell_type": "code",
   "execution_count": 3,
   "metadata": {},
   "outputs": [
    {
     "name": "stdout",
     "output_type": "stream",
     "text": [
      "    node  row  col\n",
      "0      1    8   14\n",
      "1      2    5   14\n",
      "2      3    5   12\n",
      "3      4    8   13\n",
      "4      5    8   12\n",
      "5      6    2   15\n",
      "6      7    8    5\n",
      "7      8    8    3\n",
      "8      9    8    2\n",
      "9     10    2   14\n",
      "10    11    2   13\n",
      "11    12    2   12\n",
      "12    13    5   13\n",
      "13    14    5   15\n",
      "14    15    5    4\n",
      "15    16    5    3\n",
      "16    17    5    5\n",
      "17    18    8    4\n",
      "18    19    5    8\n",
      "19    20    5    7\n",
      "20    21    5    9\n",
      "    row  col\n",
      "0     8   14\n",
      "1     5   14\n",
      "2     5   12\n",
      "3     8   13\n",
      "4     8   12\n",
      "5     2   15\n",
      "6     8    5\n",
      "7     8    3\n",
      "8     8    2\n",
      "9     2   14\n",
      "10    2   13\n",
      "11    2   12\n",
      "12    5   13\n",
      "13    5   15\n",
      "14    5    4\n",
      "15    5    3\n",
      "16    5    5\n",
      "17    8    4\n",
      "18    5    8\n",
      "19    5    7\n",
      "20    5    9\n"
     ]
    }
   ],
   "source": [
    "#find the coordinates of each of the numbers\n",
    "#save the number + respective coordinates (row, col) into a array\n",
    "\n",
    "all_num = []\n",
    "all_row = []\n",
    "all_col = []\n",
    "for n in range(1, 22, 1):\n",
    "    this_row_col = np.where(df_group == n) #row [0], column [1]\n",
    "    this_row = np.int(this_row_col[0])\n",
    "    this_col = np.int(this_row_col[1])\n",
    "    all_num.append(n)\n",
    "    all_row.append(this_row)\n",
    "    all_col.append(this_col)\n",
    "    \n",
    "    \n",
    "all_num_row_col = pd.DataFrame(list(zip(all_num, all_row, all_col)), columns =['node', 'row', 'col'])\n",
    "print(all_num_row_col)\n",
    "\n",
    "all_row_col = pd.DataFrame(list(zip(all_row, all_col)), columns =['row', 'col'])\n",
    "print(all_row_col)"
   ]
  },
  {
   "cell_type": "code",
   "execution_count": 3,
   "metadata": {},
   "outputs": [
    {
     "name": "stdout",
     "output_type": "stream",
     "text": [
      "[[ 8 14]\n",
      " [ 5 14]\n",
      " [ 5 12]\n",
      " [ 8 13]\n",
      " [ 8 12]\n",
      " [ 2 15]\n",
      " [ 8  5]\n",
      " [ 8  3]\n",
      " [ 8  2]\n",
      " [ 2 14]\n",
      " [ 2 13]\n",
      " [ 2 12]\n",
      " [ 5 13]\n",
      " [ 5 15]\n",
      " [ 5  4]\n",
      " [ 5  3]\n",
      " [ 5  5]\n",
      " [ 8  4]\n",
      " [ 5  8]\n",
      " [ 5  7]\n",
      " [ 5  9]]\n"
     ]
    }
   ],
   "source": [
    "all_row_col_array = all_row_col.values\n",
    "print(all_row_col_array)"
   ]
  },
  {
   "cell_type": "code",
   "execution_count": 4,
   "metadata": {},
   "outputs": [
    {
     "data": {
      "text/plain": [
       "<matplotlib.image.AxesImage at 0x1a25196e80>"
      ]
     },
     "execution_count": 4,
     "metadata": {},
     "output_type": "execute_result"
    },
    {
     "data": {
      "image/png": "[encoded data removed]",
      "text/plain": [
       "<Figure size 288x288 with 1 Axes>"
      ]
     },
     "metadata": {
      "needs_background": "light"
     },
     "output_type": "display_data"
    }
   ],
   "source": [
    "dist_bw_sq = squareform(pdist(all_row_col_array, \"euclidean\"))\n",
    "plt.matshow(dist_bw_sq)"
   ]
  },
  {
   "cell_type": "code",
   "execution_count": 5,
   "metadata": {},
   "outputs": [
    {
     "data": {
      "text/plain": [
       "<matplotlib.image.AxesImage at 0x1a253c3278>"
      ]
     },
     "execution_count": 5,
     "metadata": {},
     "output_type": "execute_result"
    },
    {
     "data": {
      "image/png": "[encoded data removed]",
      "text/plain": [
       "<Figure size 288x288 with 1 Axes>"
      ]
     },
     "metadata": {
      "needs_background": "light"
     },
     "output_type": "display_data"
    },
    {
     "data": {
      "image/png": "[encoded data removed]",
      "text/plain": [
       "<Figure size 288x288 with 1 Axes>"
      ]
     },
     "metadata": {
      "needs_background": "light"
     },
     "output_type": "display_data"
    }
   ],
   "source": [
    "#getting SR matricies from initial encoding task\n",
    "df_allruns = util.load_struct(data_dir, subject)\n",
    "df_allruns.head()\n",
    "M_allruns = sr.explore_runs(df_allruns, 'persist',0.5,0.1)\n",
    "#gamma = 0.5\n",
    "#alpha = 0.1\n",
    "\n",
    "#last run of Part \n",
    "final_run_part1_sr =  M_allruns[1, 5]\n",
    "plt.matshow(final_run_part1_sr)\n",
    "\n",
    "final_run_part2_sr = M_allruns[2, 6]\n",
    "plt.matshow(final_run_part2_sr)"
   ]
  },
  {
   "cell_type": "code",
   "execution_count": 6,
   "metadata": {},
   "outputs": [
    {
     "data": {
      "text/plain": [
       "0.8932198870085264"
      ]
     },
     "execution_count": 6,
     "metadata": {},
     "output_type": "execute_result"
    }
   ],
   "source": [
    "#doing Pearson correlation b/w Eucledian distance and SR matrix \n",
    "#don't think this is doing the right thing\n",
    "pearson = np.corrcoef(dist_bw_sq, final_run_part1_sr)\n",
    "pearson[0,1]\n",
    "\n",
    "pearson = np.corrcoef(dist_bw_sq, final_run_part2_sr)\n",
    "pearson[0,1]"
   ]
  },
  {
   "cell_type": "code",
   "execution_count": 7,
   "metadata": {},
   "outputs": [
    {
     "data": {
      "text/plain": [
       "<matplotlib.image.AxesImage at 0x1a2591c3c8>"
      ]
     },
     "execution_count": 7,
     "metadata": {},
     "output_type": "execute_result"
    },
    {
     "data": {
      "image/png": "[encoded data removed]",
      "text/plain": [
       "<Figure size 288x288 with 1 Axes>"
      ]
     },
     "metadata": {
      "needs_background": "light"
     },
     "output_type": "display_data"
    },
    {
     "data": {
      "image/png": "[encoded data removed]",
      "text/plain": [
       "<Figure size 288x288 with 1 Axes>"
      ]
     },
     "metadata": {
      "needs_background": "light"
     },
     "output_type": "display_data"
    },
    {
     "data": {
      "image/png": "[encoded data removed]",
      "text/plain": [
       "<Figure size 288x288 with 1 Axes>"
      ]
     },
     "metadata": {
      "needs_background": "light"
     },
     "output_type": "display_data"
    },
    {
     "data": {
      "image/png": "[encoded data removed]",
      "text/plain": [
       "<Figure size 288x288 with 1 Axes>"
      ]
     },
     "metadata": {
      "needs_background": "light"
     },
     "output_type": "display_data"
    },
    {
     "data": {
      "image/png": "[encoded data removed]",
      "text/plain": [
       "<Figure size 288x288 with 1 Axes>"
      ]
     },
     "metadata": {
      "needs_background": "light"
     },
     "output_type": "display_data"
    },
    {
     "data": {
      "image/png": "[encoded data removed]",
      "text/plain": [
       "<Figure size 288x288 with 1 Axes>"
      ]
     },
     "metadata": {
      "needs_background": "light"
     },
     "output_type": "display_data"
    },
    {
     "data": {
      "image/png": "[encoded data removed]",
      "text/plain": [
       "<Figure size 288x288 with 1 Axes>"
      ]
     },
     "metadata": {
      "needs_background": "light"
     },
     "output_type": "display_data"
    },
    {
     "data": {
      "image/png": "[encoded data removed]",
      "text/plain": [
       "<Figure size 288x288 with 1 Axes>"
      ]
     },
     "metadata": {
      "needs_background": "light"
     },
     "output_type": "display_data"
    },
    {
     "data": {
      "image/png": "[encoded data removed]",
      "text/plain": [
       "<Figure size 288x288 with 1 Axes>"
      ]
     },
     "metadata": {
      "needs_background": "light"
     },
     "output_type": "display_data"
    },
    {
     "data": {
      "image/png": "[encoded data removed]",
      "text/plain": [
       "<Figure size 288x288 with 1 Axes>"
      ]
     },
     "metadata": {
      "needs_background": "light"
     },
     "output_type": "display_data"
    },
    {
     "data": {
      "image/png": "[encoded data removed]",
      "text/plain": [
       "<Figure size 288x288 with 1 Axes>"
      ]
     },
     "metadata": {
      "needs_background": "light"
     },
     "output_type": "display_data"
    }
   ],
   "source": [
    "#getting the first halves of the matrix and averaging (squareform)\n",
    "\n",
    "##############################\n",
    "#from the Eucledian distance matrix\n",
    "##############################\n",
    "\n",
    "#the original matrix:\n",
    "#print(dist_bw_sq)\n",
    "#plt.matshow(dist_bw_sq)\n",
    "#dist_bw_sq.shape #21 x 21\n",
    "\n",
    "#the upperhalf of the matrix:\n",
    "dist_bw_sq_upper=np.triu(dist_bw_sq)\n",
    "#make the half 0s to NaNs\n",
    "dist_bw_sq_upper[np.tril_indices(dist_bw_sq_upper.shape[0], 1)] = np.nan\n",
    "plt.matshow(dist_bw_sq_upper)\n",
    "\n",
    "#from the SR matrix, get the first half, above the diagonal, averaged across the two\n",
    "#plt.matshow(dist_bw_sq_upper)\n",
    "#dist_bw_sq_upper.shape\n",
    "\n",
    "##############################\n",
    "#from the SR distance matrix\n",
    "##############################\n",
    "\n",
    "#######\n",
    "#PART 1\n",
    "#######\n",
    "final_run_part1_sr =  M_allruns[1, 5]\n",
    "#plt.matshow(final_run_part1_sr)\n",
    "\n",
    "#take upper SR\n",
    "final_run_part1_sr_upper = np.triu(final_run_part1_sr)\n",
    "#make the half 0s to NaNs\n",
    "final_run_part1_sr_upper[np.tril_indices(final_run_part1_sr_upper.shape[0], 1)] = np.nan\n",
    "\n",
    "#take lower SR\n",
    "final_run_part1_sr_lower = np.tril(final_run_part1_sr)\n",
    "#make the half 0s to NaNs\n",
    "final_run_part1_sr_lower[np.triu_indices(final_run_part1_sr_lower.shape[0], -1)] = np.nan\n",
    "\n",
    "#flip lower SR to match upper SR\n",
    "final_run_part1_sr_lower_flip = np.flip(final_run_part1_sr_lower)\n",
    "\n",
    "plt.matshow(final_run_part1_sr)\n",
    "plt.matshow(final_run_part1_sr_upper)\n",
    "plt.matshow(final_run_part1_sr_lower)\n",
    "plt.matshow(final_run_part1_sr_lower_flip)\n",
    "\n",
    "final_run_part1_avg_sr = (final_run_part1_sr_upper + final_run_part1_sr_lower_flip)/2\n",
    "plt.matshow(final_run_part1_avg_sr)\n",
    "\n",
    "#######\n",
    "#PART 2\n",
    "#######\n",
    "final_run_part2_sr = M_allruns[2, 6]\n",
    "#plt.matshow(final_run_part2_sr)\n",
    "\n",
    "#take upper SR\n",
    "final_run_part2_sr_upper = np.triu(final_run_part2_sr)\n",
    "#make the half 0s to NaNs\n",
    "final_run_part2_sr_upper[np.tril_indices(final_run_part2_sr_upper.shape[0], 1)] = np.nan\n",
    "\n",
    "#take lower SR\n",
    "final_run_part2_sr_lower = np.tril(final_run_part2_sr)\n",
    "#make the half 0s to NaNs\n",
    "final_run_part2_sr_lower[np.triu_indices(final_run_part2_sr_lower.shape[0], -1)] = np.nan\n",
    "\n",
    "#flip lower SR to match upper SR\n",
    "final_run_part2_sr_lower_flip = np.flip(final_run_part2_sr_lower)\n",
    "\n",
    "plt.matshow(final_run_part2_sr)\n",
    "plt.matshow(final_run_part2_sr_upper)\n",
    "plt.matshow(final_run_part2_sr_lower)\n",
    "plt.matshow(final_run_part2_sr_lower_flip)\n",
    "\n",
    "final_run_part2_avg_sr = (final_run_part2_sr_upper + final_run_part2_sr_lower_flip)/2\n",
    "plt.matshow(final_run_part2_avg_sr)"
   ]
  },
  {
   "cell_type": "code",
   "execution_count": 8,
   "metadata": {},
   "outputs": [],
   "source": [
    "#save out the linear regression b/w Eucledian distance and SR matrix \n",
    "\n",
    "###########\n",
    "#Dist Matrix\n",
    "###########\n",
    "#flatten the 21x21 Eucledian matrix \n",
    "dist_bw_sq_upper\n",
    "\n",
    "#remove NaNs first \n",
    "dist_bw_sq_upper_nanrem = dist_bw_sq_upper[~np.isnan(dist_bw_sq_upper)]\n",
    "\n",
    "#flatten the data \n",
    "dist_bq_sq_upper_flat = dist_bw_sq_upper_nanrem.flatten()\n",
    "#print(dist_bq_sq_upper_flat)\n",
    "#print(dist_bq_sq_upper_flat.shape)\n",
    "\n",
    "###########\n",
    "#SR1 Matrix\n",
    "###########\n",
    "#flatten the 21x21 averaged SR matrix \n",
    "final_run_part1_avg_sr\n",
    "\n",
    "#remove NaNs first\n",
    "final_run_part1_avg_sr_nanrem = final_run_part1_avg_sr[~np.isnan(final_run_part1_avg_sr)]\n",
    "\n",
    "final_run_part1_avg_sr_flat = final_run_part1_avg_sr_nanrem.flatten()\n",
    "#print(final_run_part1_avg_sr_flat.shape)\n",
    "\n",
    "###########\n",
    "#SR2 Matrix\n",
    "###########\n",
    "#flatten the 21x21 averaged SR matrix \n",
    "final_run_part2_avg_sr\n",
    "\n",
    "#remove NaNs first\n",
    "final_run_part2_avg_sr_nanrem = final_run_part2_avg_sr[~np.isnan(final_run_part2_avg_sr)]\n",
    "\n",
    "final_run_part2_avg_sr_flat = final_run_part2_avg_sr_nanrem.flatten()\n",
    "#print(final_run_part2_avg_sr_flat.shape)\n"
   ]
  },
  {
   "cell_type": "code",
   "execution_count": 9,
   "metadata": {},
   "outputs": [
    {
     "data": {
      "text/plain": [
       "LinregressResult(slope=0.0017797559764878995, intercept=0.0221134693211136, rvalue=0.11213296515118237, pvalue=0.12348517023499314, stderr=0.0011502720091267236)"
      ]
     },
     "execution_count": 9,
     "metadata": {},
     "output_type": "execute_result"
    }
   ],
   "source": [
    "#put into the linregress model: Dist. vs. SR1\n",
    "stats.linregress(dist_bq_sq_upper_flat, final_run_part1_avg_sr_flat)"
   ]
  },
  {
   "cell_type": "code",
   "execution_count": 10,
   "metadata": {},
   "outputs": [
    {
     "data": {
      "text/plain": [
       "LinregressResult(slope=0.0009473079630697569, intercept=0.03440797637447099, rvalue=0.08734992909300213, pvalue=0.2307682068607864, stderr=0.0007879279706549048)"
      ]
     },
     "execution_count": 10,
     "metadata": {},
     "output_type": "execute_result"
    }
   ],
   "source": [
    "#put into the linregress model: Dist. vs. SR2\n",
    "stats.linregress(dist_bq_sq_upper_flat, final_run_part2_avg_sr_flat)"
   ]
  },
  {
   "cell_type": "code",
   "execution_count": 11,
   "metadata": {},
   "outputs": [],
   "source": [
    "#can compare models: i.e. compare plain adj matrix to inference vs. SR matrix to inference, \n",
    "#and see how much the latter might give predictions above and beyond what we have \n",
    "#SR most closely reflects adjaceny matrix when the gamma = 0\n",
    "\n"
   ]
  },
  {
   "cell_type": "code",
   "execution_count": 12,
   "metadata": {},
   "outputs": [],
   "source": [
    "#maximum likelihood of the alpha and gamma values for an SR that best fit the person's grouping data and gives the highest correlation\n"
   ]
  }
 ],
 "metadata": {
  "kernelspec": {
   "display_name": "Python 3",
   "language": "python",
   "name": "python3"
  },
  "language_info": {
   "codemirror_mode": {
    "name": "ipython",
    "version": 3
   },
   "file_extension": ".py",
   "mimetype": "text/x-python",
   "name": "python",
   "nbconvert_exporter": "python",
   "pygments_lexer": "ipython3",
   "version": "3.7.1"
  }
 },
 "nbformat": 4,
 "nbformat_minor": 2
}
