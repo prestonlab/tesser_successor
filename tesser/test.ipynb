{
 "cells": [
  {
   "cell_type": "code",
   "execution_count": 10,
   "metadata": {},
   "outputs": [
    {
     "data": {
      "text/plain": [
       "4200"
      ]
     },
     "execution_count": 10,
     "metadata": {},
     "output_type": "execute_result"
    }
   ],
   "source": [
    "import pandas as pd\n",
    "\n",
    "def load_induct(data_dir, subject):\n",
    "    ''' Loads a subject's induction data into a dataframe.'''\n",
    "    \n",
    "    df = pd.read_csv(data_dir, sep='\\t')\n",
    "    df = df[df['SubjNum'] == subject]\n",
    "    return df\n",
    "\n",
    "def main():\n",
    "    fpath = '/Users/Zhonghou/Desktop/tesserScan_100_B_InductGen.txt'\n",
    "    df = load_induct (fpath, 100)\n",
    "    total = 0\n",
    "    for row_num in range (df.shape[0]):\n",
    "        total += df.at[row_num, 'SubjNum']\n",
    "    return total\n",
    "\n",
    "main()\n",
    "    "
   ]
  },
  {
   "cell_type": "code",
   "execution_count": null,
   "metadata": {},
   "outputs": [],
   "source": []
  }
 ],
 "metadata": {
  "kernelspec": {
   "display_name": "Python 3",
   "language": "python",
   "name": "python3"
  },
  "language_info": {
   "codemirror_mode": {
    "name": "ipython",
    "version": 3
   },
   "file_extension": ".py",
   "mimetype": "text/x-python",
   "name": "python",
   "nbconvert_exporter": "python",
   "pygments_lexer": "ipython3",
   "version": "3.6.5"
  }
 },
 "nbformat": 4,
 "nbformat_minor": 2
}
