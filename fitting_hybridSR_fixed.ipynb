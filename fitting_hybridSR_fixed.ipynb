{
 "cells": [
  {
   "cell_type": "markdown",
   "metadata": {},
   "source": [
    "## Fitting Induction data to the SR plus another SR model with another fixed gamma while using softmax rule\n"
   ]
  },
  {
   "cell_type": "code",
   "execution_count": 1,
   "metadata": {},
   "outputs": [],
   "source": [
    "import os\n",
    "import numpy as np\n",
    "from scipy import optimize\n",
    "import matplotlib.pyplot as plt\n",
    "import pandas as pd\n",
    "import seaborn as sns\n",
    "from tesser import cython_fit\n",
    "from tesser import util\n",
    "from tesser import sr\n",
    "import importlib"
   ]
  },
  {
   "cell_type": "markdown",
   "metadata": {},
   "source": [
    "## Load data for all subjects"
   ]
  },
  {
   "cell_type": "code",
   "execution_count": 2,
   "metadata": {},
   "outputs": [],
   "source": [
    "data_dir= \"/mnt/c/Users/rodv2/Dropbox/tesser_successor/Data\"\n",
    "tdir = \"/home/work-machine/Preston_Lab/tesser_successor/Data\"\n",
    "struct_all = util.load_struct(data_dir)\n",
    "induct_all = util.load_induct(data_dir)\n",
    "n_states =21"
   ]
  },
  {
   "cell_type": "code",
   "execution_count": 3,
   "metadata": {},
   "outputs": [],
   "source": [
    "fix = 0.9 # number to fixed second gamma for hybrid fitting"
   ]
  },
  {
   "cell_type": "markdown",
   "metadata": {},
   "source": [
    "## Fit each individual subject"
   ]
  },
  {
   "cell_type": "code",
   "execution_count": 4,
   "metadata": {
    "collapsed": true,
    "jupyter": {
     "outputs_hidden": true
    }
   },
   "outputs": [
    {
     "name": "stdout",
     "output_type": "stream",
     "text": [
      "Estimating parameters for 100...\n",
      "Estimating parameters for 101...\n",
      "Estimating parameters for 102...\n",
      "Estimating parameters for 103...\n",
      "Estimating parameters for 104...\n",
      "Estimating parameters for 105...\n",
      "Estimating parameters for 106...\n",
      "Estimating parameters for 107...\n",
      "Estimating parameters for 108...\n",
      "Estimating parameters for 109...\n",
      "Estimating parameters for 110...\n",
      "Estimating parameters for 111...\n",
      "Estimating parameters for 112...\n",
      "Estimating parameters for 113...\n",
      "Estimating parameters for 114...\n",
      "Estimating parameters for 115...\n",
      "Estimating parameters for 116...\n",
      "Estimating parameters for 117...\n",
      "Estimating parameters for 119...\n",
      "Estimating parameters for 120...\n",
      "Estimating parameters for 121...\n",
      "Estimating parameters for 122...\n",
      "Estimating parameters for 123...\n",
      "Estimating parameters for 124...\n",
      "Estimating parameters for 125...\n",
      "Estimating parameters for 126...\n",
      "Estimating parameters for 127...\n",
      "Estimating parameters for 128...\n",
      "Estimating parameters for 129...\n",
      "Estimating parameters for 130...\n",
      "Estimating parameters for 131...\n",
      "Estimating parameters for 132...\n",
      "Estimating parameters for 133...\n",
      "Estimating parameters for 135...\n",
      "Estimating parameters for 136...\n",
      "Estimating parameters for 137...\n",
      "Estimating parameters for 138...\n"
     ]
    }
   ],
   "source": [
    "# Using a hybrid model function when model_type is set to multiple gamma another SR is used to fit \n",
    "fixed = {'gamma2': fix}\n",
    "var_names = ['gamma', 'alpha', 'tau', 'w']\n",
    "var_bounds = {'gamma': [0, 1], 'alpha': [0, 1], 'tau': [0, 10], 'w': [0, 1]}\n",
    "results = cython_fit.fit_induct_indiv(struct_all, induct_all, fixed, var_names, var_bounds, split =False,\n",
    "                               n_states=n_states, verbose=False, model_type='multiple gamma', model =[], split_list=[])"
   ]
  },
  {
   "cell_type": "code",
   "execution_count": 5,
   "metadata": {},
   "outputs": [
    {
     "data": {
      "text/html": [
       "<div>\n",
       "<style scoped>\n",
       "    .dataframe tbody tr th:only-of-type {\n",
       "        vertical-align: middle;\n",
       "    }\n",
       "\n",
       "    .dataframe tbody tr th {\n",
       "        vertical-align: top;\n",
       "    }\n",
       "\n",
       "    .dataframe thead th {\n",
       "        text-align: right;\n",
       "    }\n",
       "</style>\n",
       "<table border=\"1\" class=\"dataframe\">\n",
       "  <thead>\n",
       "    <tr style=\"text-align: right;\">\n",
       "      <th></th>\n",
       "      <th>gamma2</th>\n",
       "      <th>gamma</th>\n",
       "      <th>alpha</th>\n",
       "      <th>tau</th>\n",
       "      <th>w</th>\n",
       "      <th>log_like</th>\n",
       "    </tr>\n",
       "    <tr>\n",
       "      <th>subject</th>\n",
       "      <th></th>\n",
       "      <th></th>\n",
       "      <th></th>\n",
       "      <th></th>\n",
       "      <th></th>\n",
       "      <th></th>\n",
       "    </tr>\n",
       "  </thead>\n",
       "  <tbody>\n",
       "    <tr>\n",
       "      <th>100</th>\n",
       "      <td>0.9</td>\n",
       "      <td>1.000000</td>\n",
       "      <td>1.000000</td>\n",
       "      <td>4.102782</td>\n",
       "      <td>0.211426</td>\n",
       "      <td>-27.879912</td>\n",
       "    </tr>\n",
       "    <tr>\n",
       "      <th>101</th>\n",
       "      <td>0.9</td>\n",
       "      <td>0.992612</td>\n",
       "      <td>0.726768</td>\n",
       "      <td>0.918481</td>\n",
       "      <td>0.820514</td>\n",
       "      <td>-25.324311</td>\n",
       "    </tr>\n",
       "    <tr>\n",
       "      <th>102</th>\n",
       "      <td>0.9</td>\n",
       "      <td>0.924296</td>\n",
       "      <td>0.013364</td>\n",
       "      <td>0.083761</td>\n",
       "      <td>0.814639</td>\n",
       "      <td>-21.002800</td>\n",
       "    </tr>\n",
       "    <tr>\n",
       "      <th>103</th>\n",
       "      <td>0.9</td>\n",
       "      <td>0.000000</td>\n",
       "      <td>0.998457</td>\n",
       "      <td>0.000945</td>\n",
       "      <td>0.672052</td>\n",
       "      <td>-24.430900</td>\n",
       "    </tr>\n",
       "    <tr>\n",
       "      <th>104</th>\n",
       "      <td>0.9</td>\n",
       "      <td>0.000000</td>\n",
       "      <td>1.000000</td>\n",
       "      <td>0.305182</td>\n",
       "      <td>0.546812</td>\n",
       "      <td>-27.130966</td>\n",
       "    </tr>\n",
       "  </tbody>\n",
       "</table>\n",
       "</div>"
      ],
      "text/plain": [
       "         gamma2     gamma     alpha       tau         w   log_like\n",
       "subject                                                           \n",
       "100         0.9  1.000000  1.000000  4.102782  0.211426 -27.879912\n",
       "101         0.9  0.992612  0.726768  0.918481  0.820514 -25.324311\n",
       "102         0.9  0.924296  0.013364  0.083761  0.814639 -21.002800\n",
       "103         0.9  0.000000  0.998457  0.000945  0.672052 -24.430900\n",
       "104         0.9  0.000000  1.000000  0.305182  0.546812 -27.130966"
      ]
     },
     "execution_count": 5,
     "metadata": {},
     "output_type": "execute_result"
    }
   ],
   "source": [
    "results = results.set_index('subject')\n",
    "results.head()"
   ]
  },
  {
   "cell_type": "code",
   "execution_count": 6,
   "metadata": {},
   "outputs": [],
   "source": [
    "results.to_csv(f\"./Data/hybrid_results/hybrid_SR_fixed_{fix}.csv\")"
   ]
  },
  {
   "cell_type": "markdown",
   "metadata": {},
   "source": [
    "## Get response probabilities for the fitted models"
   ]
  },
  {
   "cell_type": "code",
   "execution_count": 7,
   "metadata": {},
   "outputs": [],
   "source": [
    "res_list = []\n",
    "for subject in results.index.unique():\n",
    "    subj_filter = f'SubjNum == {subject}'\n",
    "    subj_struct = struct_all.query(subj_filter)\n",
    "    subj_induct = induct_all.query(subj_filter)\n",
    "    subj_param = results.loc[subject]\n",
    "    param = {'alpha': subj_param['alpha'], 'gamma': subj_param['gamma'], 'gamma2': subj_param['gamma2'],\n",
    "             'tau': subj_param['tau'], 'w' : subj_param['w']}\n",
    "    res = cython_fit.assess_induct_fit_subject_hybrid(subj_struct, subj_induct, param, n_states, False, 'multiple gamma')\n",
    "    res_list.append(res)\n",
    "fitted = pd.concat(res_list, axis=0)"
   ]
  },
  {
   "cell_type": "code",
   "execution_count": 8,
   "metadata": {},
   "outputs": [
    {
     "data": {
      "text/html": [
       "<div>\n",
       "<style scoped>\n",
       "    .dataframe tbody tr th:only-of-type {\n",
       "        vertical-align: middle;\n",
       "    }\n",
       "\n",
       "    .dataframe tbody tr th {\n",
       "        vertical-align: top;\n",
       "    }\n",
       "\n",
       "    .dataframe thead th {\n",
       "        text-align: right;\n",
       "    }\n",
       "</style>\n",
       "<table border=\"1\" class=\"dataframe\">\n",
       "  <thead>\n",
       "    <tr style=\"text-align: right;\">\n",
       "      <th></th>\n",
       "      <th>SubjNum</th>\n",
       "      <th>TrialNum</th>\n",
       "      <th>QuestType</th>\n",
       "      <th>Environment</th>\n",
       "      <th>Source</th>\n",
       "      <th>Accuracy</th>\n",
       "    </tr>\n",
       "  </thead>\n",
       "  <tbody>\n",
       "    <tr>\n",
       "      <th>0</th>\n",
       "      <td>100</td>\n",
       "      <td>1</td>\n",
       "      <td>Prim</td>\n",
       "      <td>ocean</td>\n",
       "      <td>Data</td>\n",
       "      <td>0.000000</td>\n",
       "    </tr>\n",
       "    <tr>\n",
       "      <th>1</th>\n",
       "      <td>100</td>\n",
       "      <td>2</td>\n",
       "      <td>Bound2</td>\n",
       "      <td>desert</td>\n",
       "      <td>Data</td>\n",
       "      <td>0.000000</td>\n",
       "    </tr>\n",
       "    <tr>\n",
       "      <th>2</th>\n",
       "      <td>100</td>\n",
       "      <td>3</td>\n",
       "      <td>Prim</td>\n",
       "      <td>desert</td>\n",
       "      <td>Data</td>\n",
       "      <td>1.000000</td>\n",
       "    </tr>\n",
       "    <tr>\n",
       "      <th>3</th>\n",
       "      <td>100</td>\n",
       "      <td>4</td>\n",
       "      <td>Prim</td>\n",
       "      <td>ocean</td>\n",
       "      <td>Data</td>\n",
       "      <td>1.000000</td>\n",
       "    </tr>\n",
       "    <tr>\n",
       "      <th>4</th>\n",
       "      <td>100</td>\n",
       "      <td>5</td>\n",
       "      <td>Prim</td>\n",
       "      <td>ocean</td>\n",
       "      <td>Data</td>\n",
       "      <td>0.000000</td>\n",
       "    </tr>\n",
       "    <tr>\n",
       "      <th>...</th>\n",
       "      <td>...</td>\n",
       "      <td>...</td>\n",
       "      <td>...</td>\n",
       "      <td>...</td>\n",
       "      <td>...</td>\n",
       "      <td>...</td>\n",
       "    </tr>\n",
       "    <tr>\n",
       "      <th>79</th>\n",
       "      <td>138</td>\n",
       "      <td>38</td>\n",
       "      <td>Prim</td>\n",
       "      <td>desert</td>\n",
       "      <td>Model</td>\n",
       "      <td>0.494773</td>\n",
       "    </tr>\n",
       "    <tr>\n",
       "      <th>80</th>\n",
       "      <td>138</td>\n",
       "      <td>39</td>\n",
       "      <td>Prim</td>\n",
       "      <td>forest</td>\n",
       "      <td>Model</td>\n",
       "      <td>0.694393</td>\n",
       "    </tr>\n",
       "    <tr>\n",
       "      <th>81</th>\n",
       "      <td>138</td>\n",
       "      <td>40</td>\n",
       "      <td>Prim</td>\n",
       "      <td>ocean</td>\n",
       "      <td>Model</td>\n",
       "      <td>0.455154</td>\n",
       "    </tr>\n",
       "    <tr>\n",
       "      <th>82</th>\n",
       "      <td>138</td>\n",
       "      <td>41</td>\n",
       "      <td>Bound1</td>\n",
       "      <td>forest</td>\n",
       "      <td>Model</td>\n",
       "      <td>0.423357</td>\n",
       "    </tr>\n",
       "    <tr>\n",
       "      <th>83</th>\n",
       "      <td>138</td>\n",
       "      <td>42</td>\n",
       "      <td>Prim</td>\n",
       "      <td>ocean</td>\n",
       "      <td>Model</td>\n",
       "      <td>0.493601</td>\n",
       "    </tr>\n",
       "  </tbody>\n",
       "</table>\n",
       "<p>3108 rows × 6 columns</p>\n",
       "</div>"
      ],
      "text/plain": [
       "    SubjNum  TrialNum QuestType Environment Source  Accuracy\n",
       "0       100         1      Prim       ocean   Data  0.000000\n",
       "1       100         2    Bound2      desert   Data  0.000000\n",
       "2       100         3      Prim      desert   Data  1.000000\n",
       "3       100         4      Prim       ocean   Data  1.000000\n",
       "4       100         5      Prim       ocean   Data  0.000000\n",
       "..      ...       ...       ...         ...    ...       ...\n",
       "79      138        38      Prim      desert  Model  0.494773\n",
       "80      138        39      Prim      forest  Model  0.694393\n",
       "81      138        40      Prim       ocean  Model  0.455154\n",
       "82      138        41    Bound1      forest  Model  0.423357\n",
       "83      138        42      Prim       ocean  Model  0.493601\n",
       "\n",
       "[3108 rows x 6 columns]"
      ]
     },
     "execution_count": 8,
     "metadata": {},
     "output_type": "execute_result"
    }
   ],
   "source": [
    "fitted"
   ]
  },
  {
   "cell_type": "markdown",
   "metadata": {},
   "source": [
    "## Plot individual differences in induction"
   ]
  },
  {
   "cell_type": "code",
   "execution_count": 9,
   "metadata": {},
   "outputs": [
    {
     "data": {
      "image/png": "[encoded data removed]",
      "text/plain": [
       "<Figure size 432x288 with 1 Axes>"
      ]
     },
     "metadata": {
      "needs_background": "light"
     },
     "output_type": "display_data"
    }
   ],
   "source": [
    "m = fitted.groupby(['Source', 'SubjNum', 'Environment'])['Accuracy'].mean().unstack(level=0)\n",
    "g = sns.scatterplot(x='Model', y='Data', hue='Environment', data=m.reset_index());\n",
    "g.set_xlim(0, 1.02);\n",
    "g.set_ylim(0, 1.02);\n",
    "g.set_aspect(1);\n",
    "g.plot((0, 1), (0, 1), '-k');"
   ]
  },
  {
   "cell_type": "code",
   "execution_count": 10,
   "metadata": {},
   "outputs": [
    {
     "data": {
      "image/png": "[encoded data removed]",
      "text/plain": [
       "<Figure size 432x288 with 1 Axes>"
      ]
     },
     "metadata": {
      "needs_background": "light"
     },
     "output_type": "display_data"
    }
   ],
   "source": [
    "m = fitted.groupby(['Source', 'SubjNum', 'QuestType'])['Accuracy'].mean().unstack(level=0)\n",
    "g = sns.scatterplot(x='Model', y='Data', hue='QuestType', data=m.reset_index());\n",
    "g.set_xlim(0, 1.02);\n",
    "g.set_ylim(0, 1.02);\n",
    "g.set_aspect(1);\n",
    "g.plot((0, 1), (0, 1), '-k');"
   ]
  },
  {
   "cell_type": "markdown",
   "metadata": {},
   "source": [
    "## Plot group means"
   ]
  },
  {
   "cell_type": "code",
   "execution_count": 11,
   "metadata": {},
   "outputs": [
    {
     "data": {
      "image/png": "[encoded data removed]",
      "text/plain": [
       "<Figure size 426x360 with 1 Axes>"
      ]
     },
     "metadata": {
      "needs_background": "light"
     },
     "output_type": "display_data"
    }
   ],
   "source": [
    "m = fitted.groupby(['Source', 'SubjNum', 'Environment'])['Accuracy'].mean()\n",
    "g = sns.catplot(kind='point', x='Environment', y='Accuracy', \n",
    "                hue='Source', dodge=True, data=m.reset_index())\n",
    "g.set(ylim=(0, 1.02));"
   ]
  },
  {
   "cell_type": "code",
   "execution_count": 12,
   "metadata": {},
   "outputs": [
    {
     "data": {
      "image/png": "[encoded data removed]",
      "text/plain": [
       "<Figure size 426x360 with 1 Axes>"
      ]
     },
     "metadata": {
      "needs_background": "light"
     },
     "output_type": "display_data"
    }
   ],
   "source": [
    "m = fitted.groupby(['Source', 'SubjNum', 'QuestType'])['Accuracy'].mean()\n",
    "g = sns.catplot(kind='point', x='QuestType', y='Accuracy', \n",
    "                hue='Source', dodge=True, data=m.reset_index())\n",
    "g.set(ylim=(0, 1.02));"
   ]
  },
  {
   "cell_type": "markdown",
   "metadata": {},
   "source": [
    "## Add weights by question"
   ]
  },
  {
   "cell_type": "code",
   "execution_count": 13,
   "metadata": {},
   "outputs": [
    {
     "data": {
      "text/plain": [
       "<module 'tesser.cython_fit' from '/home/work-machine/Preston_Lab/tesser_successor/tesser/cython_fit.py'>"
      ]
     },
     "execution_count": 13,
     "metadata": {},
     "output_type": "execute_result"
    }
   ],
   "source": [
    "importlib.reload(cython_fit)"
   ]
  },
  {
   "cell_type": "code",
   "execution_count": 14,
   "metadata": {
    "collapsed": true,
    "jupyter": {
     "outputs_hidden": true
    }
   },
   "outputs": [
    {
     "name": "stdout",
     "output_type": "stream",
     "text": [
      "Estimating parameters for 100...\n",
      "Estimating parameters for 101...\n",
      "Estimating parameters for 102...\n",
      "Estimating parameters for 103...\n",
      "Estimating parameters for 104...\n",
      "Estimating parameters for 105...\n",
      "Estimating parameters for 106...\n",
      "Estimating parameters for 107...\n",
      "Estimating parameters for 108...\n",
      "Estimating parameters for 109...\n",
      "Estimating parameters for 110...\n",
      "Estimating parameters for 111...\n",
      "Estimating parameters for 112...\n",
      "Estimating parameters for 113...\n",
      "Estimating parameters for 114...\n",
      "Estimating parameters for 115...\n",
      "Estimating parameters for 116...\n",
      "Estimating parameters for 117...\n",
      "Estimating parameters for 119...\n",
      "Estimating parameters for 120...\n",
      "Estimating parameters for 121...\n",
      "Estimating parameters for 122...\n",
      "Estimating parameters for 123...\n",
      "Estimating parameters for 124...\n",
      "Estimating parameters for 125...\n",
      "Estimating parameters for 126...\n",
      "Estimating parameters for 127...\n",
      "Estimating parameters for 128...\n",
      "Estimating parameters for 129...\n",
      "Estimating parameters for 130...\n",
      "Estimating parameters for 131...\n",
      "Estimating parameters for 132...\n",
      "Estimating parameters for 133...\n",
      "Estimating parameters for 135...\n",
      "Estimating parameters for 136...\n",
      "Estimating parameters for 137...\n",
      "Estimating parameters for 138...\n"
     ]
    }
   ],
   "source": [
    "\n",
    "fixed = {\"gamma2\": fix}\n",
    "var_names = ['gamma',  'alpha', 'tau', 'w_prim' ,'w_bound1', 'w_bound2']\n",
    "var_bounds = {'gamma': [0, 1], 'alpha': [0, 1], 'tau': [0, 10],\n",
    "              'w_prim' : [0, 1], 'w_bound1' : [0, 1], 'w_bound2' : [0, 1]}\n",
    "results_w= cython_fit.fit_induct_indiv(struct_all, induct_all, fixed, var_names, var_bounds, split =True,\n",
    "                               n_states=n_states, verbose=False, model_type='multiple gamma', model=[], split_list =[\"w\"])"
   ]
  },
  {
   "cell_type": "code",
   "execution_count": 15,
   "metadata": {},
   "outputs": [
    {
     "data": {
      "text/html": [
       "<div>\n",
       "<style scoped>\n",
       "    .dataframe tbody tr th:only-of-type {\n",
       "        vertical-align: middle;\n",
       "    }\n",
       "\n",
       "    .dataframe tbody tr th {\n",
       "        vertical-align: top;\n",
       "    }\n",
       "\n",
       "    .dataframe thead th {\n",
       "        text-align: right;\n",
       "    }\n",
       "</style>\n",
       "<table border=\"1\" class=\"dataframe\">\n",
       "  <thead>\n",
       "    <tr style=\"text-align: right;\">\n",
       "      <th></th>\n",
       "      <th>gamma2</th>\n",
       "      <th>gamma</th>\n",
       "      <th>alpha</th>\n",
       "      <th>tau</th>\n",
       "      <th>w_prim</th>\n",
       "      <th>w_bound1</th>\n",
       "      <th>w_bound2</th>\n",
       "      <th>log_like</th>\n",
       "    </tr>\n",
       "    <tr>\n",
       "      <th>subject</th>\n",
       "      <th></th>\n",
       "      <th></th>\n",
       "      <th></th>\n",
       "      <th></th>\n",
       "      <th></th>\n",
       "      <th></th>\n",
       "      <th></th>\n",
       "      <th></th>\n",
       "    </tr>\n",
       "  </thead>\n",
       "  <tbody>\n",
       "    <tr>\n",
       "      <th>100</th>\n",
       "      <td>0.9</td>\n",
       "      <td>1.000000</td>\n",
       "      <td>0.993744</td>\n",
       "      <td>0.017180</td>\n",
       "      <td>0.000462</td>\n",
       "      <td>0.003470</td>\n",
       "      <td>1.000000</td>\n",
       "      <td>-23.860785</td>\n",
       "    </tr>\n",
       "    <tr>\n",
       "      <th>101</th>\n",
       "      <td>0.9</td>\n",
       "      <td>0.991529</td>\n",
       "      <td>0.676734</td>\n",
       "      <td>0.852755</td>\n",
       "      <td>0.979089</td>\n",
       "      <td>0.742326</td>\n",
       "      <td>0.000000</td>\n",
       "      <td>-24.935173</td>\n",
       "    </tr>\n",
       "    <tr>\n",
       "      <th>102</th>\n",
       "      <td>0.9</td>\n",
       "      <td>0.000000</td>\n",
       "      <td>0.017044</td>\n",
       "      <td>0.063322</td>\n",
       "      <td>0.999973</td>\n",
       "      <td>0.000000</td>\n",
       "      <td>0.000000</td>\n",
       "      <td>-20.452549</td>\n",
       "    </tr>\n",
       "    <tr>\n",
       "      <th>103</th>\n",
       "      <td>0.9</td>\n",
       "      <td>0.869053</td>\n",
       "      <td>0.680127</td>\n",
       "      <td>0.223772</td>\n",
       "      <td>0.943167</td>\n",
       "      <td>0.000000</td>\n",
       "      <td>0.000000</td>\n",
       "      <td>-23.916939</td>\n",
       "    </tr>\n",
       "    <tr>\n",
       "      <th>104</th>\n",
       "      <td>0.9</td>\n",
       "      <td>0.000000</td>\n",
       "      <td>1.000000</td>\n",
       "      <td>0.053630</td>\n",
       "      <td>0.996204</td>\n",
       "      <td>0.037174</td>\n",
       "      <td>0.140711</td>\n",
       "      <td>-26.169694</td>\n",
       "    </tr>\n",
       "  </tbody>\n",
       "</table>\n",
       "</div>"
      ],
      "text/plain": [
       "         gamma2     gamma     alpha       tau    w_prim  w_bound1  w_bound2  \\\n",
       "subject                                                                       \n",
       "100         0.9  1.000000  0.993744  0.017180  0.000462  0.003470  1.000000   \n",
       "101         0.9  0.991529  0.676734  0.852755  0.979089  0.742326  0.000000   \n",
       "102         0.9  0.000000  0.017044  0.063322  0.999973  0.000000  0.000000   \n",
       "103         0.9  0.869053  0.680127  0.223772  0.943167  0.000000  0.000000   \n",
       "104         0.9  0.000000  1.000000  0.053630  0.996204  0.037174  0.140711   \n",
       "\n",
       "          log_like  \n",
       "subject             \n",
       "100     -23.860785  \n",
       "101     -24.935173  \n",
       "102     -20.452549  \n",
       "103     -23.916939  \n",
       "104     -26.169694  "
      ]
     },
     "execution_count": 15,
     "metadata": {},
     "output_type": "execute_result"
    }
   ],
   "source": [
    "results_w = results_w.set_index('subject')\n",
    "results_w.head()"
   ]
  },
  {
   "cell_type": "code",
   "execution_count": 16,
   "metadata": {},
   "outputs": [],
   "source": [
    "results_w.to_csv(f\"./Data/hybrid_results/hybrid_SR_fixed_{fix}_weighted.csv\")"
   ]
  },
  {
   "cell_type": "markdown",
   "metadata": {},
   "source": [
    "## Get response probabilities for the fitted models"
   ]
  },
  {
   "cell_type": "code",
   "execution_count": 17,
   "metadata": {},
   "outputs": [
    {
     "data": {
      "text/plain": [
       "<module 'tesser.cython_fit' from '/home/work-machine/Preston_Lab/tesser_successor/tesser/cython_fit.py'>"
      ]
     },
     "execution_count": 17,
     "metadata": {},
     "output_type": "execute_result"
    }
   ],
   "source": [
    "importlib.reload(cython_fit)"
   ]
  },
  {
   "cell_type": "code",
   "execution_count": 18,
   "metadata": {},
   "outputs": [],
   "source": [
    "res_list = []\n",
    "for subject in results_w.index.unique():\n",
    "    subj_filter = f'SubjNum == {subject}'\n",
    "    subj_struct = struct_all.query(subj_filter)\n",
    "    subj_induct = induct_all.query(subj_filter)\n",
    "    subj_param = results_w.loc[subject]\n",
    "    param = {'alpha': subj_param['alpha'], 'gamma': subj_param['gamma'], 'gamma2': subj_param['gamma2'],\n",
    "             'tau': subj_param['tau'],\n",
    "             'w_prim' : subj_param['w_prim'], 'w_bound1' : subj_param['w_bound1'], 'w' : subj_param['w_bound2']\n",
    "            }\n",
    "    res = cython_fit.assess_induct_fit_subject_hybrid(subj_struct, subj_induct, param, n_states, False, 'multiple gamma')\n",
    "    res_list.append(res)\n",
    "fitted = pd.concat(res_list, axis=0)"
   ]
  },
  {
   "cell_type": "code",
   "execution_count": 19,
   "metadata": {},
   "outputs": [
    {
     "data": {
      "text/html": [
       "<div>\n",
       "<style scoped>\n",
       "    .dataframe tbody tr th:only-of-type {\n",
       "        vertical-align: middle;\n",
       "    }\n",
       "\n",
       "    .dataframe tbody tr th {\n",
       "        vertical-align: top;\n",
       "    }\n",
       "\n",
       "    .dataframe thead th {\n",
       "        text-align: right;\n",
       "    }\n",
       "</style>\n",
       "<table border=\"1\" class=\"dataframe\">\n",
       "  <thead>\n",
       "    <tr style=\"text-align: right;\">\n",
       "      <th></th>\n",
       "      <th>SubjNum</th>\n",
       "      <th>TrialNum</th>\n",
       "      <th>QuestType</th>\n",
       "      <th>Environment</th>\n",
       "      <th>Source</th>\n",
       "      <th>Accuracy</th>\n",
       "    </tr>\n",
       "  </thead>\n",
       "  <tbody>\n",
       "    <tr>\n",
       "      <th>0</th>\n",
       "      <td>100</td>\n",
       "      <td>1</td>\n",
       "      <td>Prim</td>\n",
       "      <td>ocean</td>\n",
       "      <td>Data</td>\n",
       "      <td>0.0</td>\n",
       "    </tr>\n",
       "    <tr>\n",
       "      <th>1</th>\n",
       "      <td>100</td>\n",
       "      <td>2</td>\n",
       "      <td>Bound2</td>\n",
       "      <td>desert</td>\n",
       "      <td>Data</td>\n",
       "      <td>0.0</td>\n",
       "    </tr>\n",
       "    <tr>\n",
       "      <th>2</th>\n",
       "      <td>100</td>\n",
       "      <td>3</td>\n",
       "      <td>Prim</td>\n",
       "      <td>desert</td>\n",
       "      <td>Data</td>\n",
       "      <td>1.0</td>\n",
       "    </tr>\n",
       "    <tr>\n",
       "      <th>3</th>\n",
       "      <td>100</td>\n",
       "      <td>4</td>\n",
       "      <td>Prim</td>\n",
       "      <td>ocean</td>\n",
       "      <td>Data</td>\n",
       "      <td>1.0</td>\n",
       "    </tr>\n",
       "    <tr>\n",
       "      <th>4</th>\n",
       "      <td>100</td>\n",
       "      <td>5</td>\n",
       "      <td>Prim</td>\n",
       "      <td>ocean</td>\n",
       "      <td>Data</td>\n",
       "      <td>0.0</td>\n",
       "    </tr>\n",
       "    <tr>\n",
       "      <th>...</th>\n",
       "      <td>...</td>\n",
       "      <td>...</td>\n",
       "      <td>...</td>\n",
       "      <td>...</td>\n",
       "      <td>...</td>\n",
       "      <td>...</td>\n",
       "    </tr>\n",
       "    <tr>\n",
       "      <th>79</th>\n",
       "      <td>138</td>\n",
       "      <td>38</td>\n",
       "      <td>Prim</td>\n",
       "      <td>desert</td>\n",
       "      <td>Model</td>\n",
       "      <td>0.5</td>\n",
       "    </tr>\n",
       "    <tr>\n",
       "      <th>80</th>\n",
       "      <td>138</td>\n",
       "      <td>39</td>\n",
       "      <td>Prim</td>\n",
       "      <td>forest</td>\n",
       "      <td>Model</td>\n",
       "      <td>0.5</td>\n",
       "    </tr>\n",
       "    <tr>\n",
       "      <th>81</th>\n",
       "      <td>138</td>\n",
       "      <td>40</td>\n",
       "      <td>Prim</td>\n",
       "      <td>ocean</td>\n",
       "      <td>Model</td>\n",
       "      <td>0.5</td>\n",
       "    </tr>\n",
       "    <tr>\n",
       "      <th>82</th>\n",
       "      <td>138</td>\n",
       "      <td>41</td>\n",
       "      <td>Bound1</td>\n",
       "      <td>forest</td>\n",
       "      <td>Model</td>\n",
       "      <td>0.5</td>\n",
       "    </tr>\n",
       "    <tr>\n",
       "      <th>83</th>\n",
       "      <td>138</td>\n",
       "      <td>42</td>\n",
       "      <td>Prim</td>\n",
       "      <td>ocean</td>\n",
       "      <td>Model</td>\n",
       "      <td>0.5</td>\n",
       "    </tr>\n",
       "  </tbody>\n",
       "</table>\n",
       "<p>3108 rows × 6 columns</p>\n",
       "</div>"
      ],
      "text/plain": [
       "    SubjNum  TrialNum QuestType Environment Source  Accuracy\n",
       "0       100         1      Prim       ocean   Data       0.0\n",
       "1       100         2    Bound2      desert   Data       0.0\n",
       "2       100         3      Prim      desert   Data       1.0\n",
       "3       100         4      Prim       ocean   Data       1.0\n",
       "4       100         5      Prim       ocean   Data       0.0\n",
       "..      ...       ...       ...         ...    ...       ...\n",
       "79      138        38      Prim      desert  Model       0.5\n",
       "80      138        39      Prim      forest  Model       0.5\n",
       "81      138        40      Prim       ocean  Model       0.5\n",
       "82      138        41    Bound1      forest  Model       0.5\n",
       "83      138        42      Prim       ocean  Model       0.5\n",
       "\n",
       "[3108 rows x 6 columns]"
      ]
     },
     "execution_count": 19,
     "metadata": {},
     "output_type": "execute_result"
    }
   ],
   "source": [
    "fitted"
   ]
  },
  {
   "cell_type": "markdown",
   "metadata": {},
   "source": [
    "## Plot individual differences in induction"
   ]
  },
  {
   "cell_type": "code",
   "execution_count": 20,
   "metadata": {},
   "outputs": [
    {
     "data": {
      "image/png": "[encoded data removed]",
      "text/plain": [
       "<Figure size 432x288 with 1 Axes>"
      ]
     },
     "metadata": {
      "needs_background": "light"
     },
     "output_type": "display_data"
    }
   ],
   "source": [
    "m = fitted.groupby(['Source', 'SubjNum', 'Environment'])['Accuracy'].mean().unstack(level=0)\n",
    "g = sns.scatterplot(x='Model', y='Data', hue='Environment', data=m.reset_index());\n",
    "g.set_xlim(0, 1.02);\n",
    "g.set_ylim(0, 1.02);\n",
    "g.set_aspect(1);\n",
    "g.plot((0, 1), (0, 1), '-k');"
   ]
  },
  {
   "cell_type": "code",
   "execution_count": 21,
   "metadata": {},
   "outputs": [
    {
     "data": {
      "image/png": "[encoded data removed]",
      "text/plain": [
       "<Figure size 432x288 with 1 Axes>"
      ]
     },
     "metadata": {
      "needs_background": "light"
     },
     "output_type": "display_data"
    }
   ],
   "source": [
    "m = fitted.groupby(['Source', 'SubjNum', 'QuestType'])['Accuracy'].mean().unstack(level=0)\n",
    "g = sns.scatterplot(x='Model', y='Data', hue='QuestType', data=m.reset_index());\n",
    "g.set_xlim(0, 1.02);\n",
    "g.set_ylim(0, 1.02);\n",
    "g.set_aspect(1);\n",
    "g.plot((0, 1), (0, 1), '-k');"
   ]
  },
  {
   "cell_type": "markdown",
   "metadata": {},
   "source": [
    "## Plot group means"
   ]
  },
  {
   "cell_type": "code",
   "execution_count": 22,
   "metadata": {},
   "outputs": [
    {
     "data": {
      "image/png": "[encoded data removed]",
      "text/plain": [
       "<Figure size 426x360 with 1 Axes>"
      ]
     },
     "metadata": {
      "needs_background": "light"
     },
     "output_type": "display_data"
    }
   ],
   "source": [
    "m = fitted.groupby(['Source', 'SubjNum', 'Environment'])['Accuracy'].mean()\n",
    "g = sns.catplot(kind='point', x='Environment', y='Accuracy', \n",
    "                hue='Source', dodge=True, data=m.reset_index())\n",
    "g.set(ylim=(0, 1.02));"
   ]
  },
  {
   "cell_type": "code",
   "execution_count": 23,
   "metadata": {},
   "outputs": [
    {
     "data": {
      "image/png": "[encoded data removed]",
      "text/plain": [
       "<Figure size 426x360 with 1 Axes>"
      ]
     },
     "metadata": {
      "needs_background": "light"
     },
     "output_type": "display_data"
    }
   ],
   "source": [
    "m = fitted.groupby(['Source', 'SubjNum', 'QuestType'])['Accuracy'].mean()\n",
    "g = sns.catplot(kind='point', x='QuestType', y='Accuracy', \n",
    "                hue='Source', dodge=True, data=m.reset_index())\n",
    "g.set(ylim=(0, 1.02));"
   ]
  }
 ],
 "metadata": {
  "kernelspec": {
   "display_name": "Tesser",
   "language": "python",
   "name": "tesser"
  },
  "language_info": {
   "codemirror_mode": {
    "name": "ipython",
    "version": 3
   },
   "file_extension": ".py",
   "mimetype": "text/x-python",
   "name": "python",
   "nbconvert_exporter": "python",
   "pygments_lexer": "ipython3",
   "version": "3.8.5"
  }
 },
 "nbformat": 4,
 "nbformat_minor": 4
}
