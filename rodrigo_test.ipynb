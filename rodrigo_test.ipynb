{
 "cells": [
  {
   "cell_type": "code",
   "execution_count": 1,
   "metadata": {
    "pycharm": {
     "is_executing": false
    }
   },
   "outputs": [],
   "source": [
    "import pandas as pd\n",
    "import numpy as np\n",
    "from tesser import util\n",
    "from tesser import fit\n",
    "from tesser import network\n",
    "from tesser import sr\n",
    "from tesser import tasks\n",
    "from tesser import rsa \n",
    "import seaborn as sns\n",
    "from scipy.stats import linregress\n",
    "from scipy.stats import pearsonr\n",
    "import scipy.spatial.distance as sd\n",
    "import matplotlib.pyplot as plt\n",
    "%matplotlib inline"
   ]
  },
  {
   "cell_type": "code",
   "execution_count": 2,
   "metadata": {
    "pycharm": {
     "is_executing": false,
     "name": "#%%\n"
    }
   },
   "outputs": [],
   "source": [
    "data_dir = \"/home/rodrigo/Dropbox/tesser_successor/Data/\"\n"
   ]
  },
  {
   "cell_type": "code",
   "execution_count": 3,
   "metadata": {
    "pycharm": {
     "is_executing": false,
     "name": "#%%\n"
    }
   },
   "outputs": [],
   "source": [
    "induct_all = util.load_induct(data_dir)"
   ]
  },
  {
   "cell_type": "code",
   "execution_count": 4,
   "outputs": [
    {
     "data": {
      "text/plain": "      SubjNum  TrialNum QuestType Environment  CueNum      CueObject  Opt1Num  \\\n0         100         1      Prim       ocean       2  object_23.jpg       16   \n1         100         2    Bound2      desert       4  object_12.jpg       10   \n2         100         3      Prim      desert       5  object_30.jpg        6   \n3         100         4      Prim       ocean       2  object_23.jpg        9   \n4         100         5      Prim       ocean       1   object_6.jpg       19   \n...       ...       ...       ...         ...     ...            ...      ...   \n1549      138        38      Prim      desert       8   object_3.jpg        9   \n1550      138        39      Prim      forest      14   object_1.jpg       19   \n1551      138        40      Prim       ocean      21  object_28.jpg       14   \n1552      138        41    Bound1      forest      11  object_13.jpg       10   \n1553      138        42      Prim       ocean      19  object_35.jpg       20   \n\n            Option1  Opt2Num        Option2  Resp  Acc        RT  cue  opt1  \\\n0     object_28.jpg       20  object_16.jpg   NaN    0       NaN    1    15   \n1      object_2.jpg       19   object_4.jpg   2.0    0  2.974157    3     9   \n2     object_18.jpg        2  object_23.jpg   1.0    1  3.190848    4     5   \n3     object_35.jpg       19   object_4.jpg   2.0    1  3.373906    1     8   \n4      object_4.jpg       13   object_1.jpg   2.0    0  3.094699    0    18   \n...             ...      ...            ...   ...  ...       ...  ...   ...   \n1549  object_16.jpg       21  object_28.jpg   2.0    0  2.025821    7     8   \n1550  object_35.jpg       15   object_6.jpg   2.0    1  1.997691   13    18   \n1551   object_1.jpg        2  object_36.jpg   2.0    1  1.114204   20    13   \n1552   object_9.jpg       16  object_30.jpg   1.0    0  0.623270   10     9   \n1553   object_4.jpg        9  object_16.jpg   1.0    1  0.830349   18    19   \n\n      opt2  response  \n0       19       NaN  \n1       18       1.0  \n2        1       0.0  \n3       18       1.0  \n4       12       1.0  \n...    ...       ...  \n1549    20       1.0  \n1550    14       1.0  \n1551     1       1.0  \n1552    15       0.0  \n1553     8       0.0  \n\n[1554 rows x 17 columns]",
      "text/html": "<div>\n<style scoped>\n    .dataframe tbody tr th:only-of-type {\n        vertical-align: middle;\n    }\n\n    .dataframe tbody tr th {\n        vertical-align: top;\n    }\n\n    .dataframe thead th {\n        text-align: right;\n    }\n</style>\n<table border=\"1\" class=\"dataframe\">\n  <thead>\n    <tr style=\"text-align: right;\">\n      <th></th>\n      <th>SubjNum</th>\n      <th>TrialNum</th>\n      <th>QuestType</th>\n      <th>Environment</th>\n      <th>CueNum</th>\n      <th>CueObject</th>\n      <th>Opt1Num</th>\n      <th>Option1</th>\n      <th>Opt2Num</th>\n      <th>Option2</th>\n      <th>Resp</th>\n      <th>Acc</th>\n      <th>RT</th>\n      <th>cue</th>\n      <th>opt1</th>\n      <th>opt2</th>\n      <th>response</th>\n    </tr>\n  </thead>\n  <tbody>\n    <tr>\n      <th>0</th>\n      <td>100</td>\n      <td>1</td>\n      <td>Prim</td>\n      <td>ocean</td>\n      <td>2</td>\n      <td>object_23.jpg</td>\n      <td>16</td>\n      <td>object_28.jpg</td>\n      <td>20</td>\n      <td>object_16.jpg</td>\n      <td>NaN</td>\n      <td>0</td>\n      <td>NaN</td>\n      <td>1</td>\n      <td>15</td>\n      <td>19</td>\n      <td>NaN</td>\n    </tr>\n    <tr>\n      <th>1</th>\n      <td>100</td>\n      <td>2</td>\n      <td>Bound2</td>\n      <td>desert</td>\n      <td>4</td>\n      <td>object_12.jpg</td>\n      <td>10</td>\n      <td>object_2.jpg</td>\n      <td>19</td>\n      <td>object_4.jpg</td>\n      <td>2.0</td>\n      <td>0</td>\n      <td>2.974157</td>\n      <td>3</td>\n      <td>9</td>\n      <td>18</td>\n      <td>1.0</td>\n    </tr>\n    <tr>\n      <th>2</th>\n      <td>100</td>\n      <td>3</td>\n      <td>Prim</td>\n      <td>desert</td>\n      <td>5</td>\n      <td>object_30.jpg</td>\n      <td>6</td>\n      <td>object_18.jpg</td>\n      <td>2</td>\n      <td>object_23.jpg</td>\n      <td>1.0</td>\n      <td>1</td>\n      <td>3.190848</td>\n      <td>4</td>\n      <td>5</td>\n      <td>1</td>\n      <td>0.0</td>\n    </tr>\n    <tr>\n      <th>3</th>\n      <td>100</td>\n      <td>4</td>\n      <td>Prim</td>\n      <td>ocean</td>\n      <td>2</td>\n      <td>object_23.jpg</td>\n      <td>9</td>\n      <td>object_35.jpg</td>\n      <td>19</td>\n      <td>object_4.jpg</td>\n      <td>2.0</td>\n      <td>1</td>\n      <td>3.373906</td>\n      <td>1</td>\n      <td>8</td>\n      <td>18</td>\n      <td>1.0</td>\n    </tr>\n    <tr>\n      <th>4</th>\n      <td>100</td>\n      <td>5</td>\n      <td>Prim</td>\n      <td>ocean</td>\n      <td>1</td>\n      <td>object_6.jpg</td>\n      <td>19</td>\n      <td>object_4.jpg</td>\n      <td>13</td>\n      <td>object_1.jpg</td>\n      <td>2.0</td>\n      <td>0</td>\n      <td>3.094699</td>\n      <td>0</td>\n      <td>18</td>\n      <td>12</td>\n      <td>1.0</td>\n    </tr>\n    <tr>\n      <th>...</th>\n      <td>...</td>\n      <td>...</td>\n      <td>...</td>\n      <td>...</td>\n      <td>...</td>\n      <td>...</td>\n      <td>...</td>\n      <td>...</td>\n      <td>...</td>\n      <td>...</td>\n      <td>...</td>\n      <td>...</td>\n      <td>...</td>\n      <td>...</td>\n      <td>...</td>\n      <td>...</td>\n      <td>...</td>\n    </tr>\n    <tr>\n      <th>1549</th>\n      <td>138</td>\n      <td>38</td>\n      <td>Prim</td>\n      <td>desert</td>\n      <td>8</td>\n      <td>object_3.jpg</td>\n      <td>9</td>\n      <td>object_16.jpg</td>\n      <td>21</td>\n      <td>object_28.jpg</td>\n      <td>2.0</td>\n      <td>0</td>\n      <td>2.025821</td>\n      <td>7</td>\n      <td>8</td>\n      <td>20</td>\n      <td>1.0</td>\n    </tr>\n    <tr>\n      <th>1550</th>\n      <td>138</td>\n      <td>39</td>\n      <td>Prim</td>\n      <td>forest</td>\n      <td>14</td>\n      <td>object_1.jpg</td>\n      <td>19</td>\n      <td>object_35.jpg</td>\n      <td>15</td>\n      <td>object_6.jpg</td>\n      <td>2.0</td>\n      <td>1</td>\n      <td>1.997691</td>\n      <td>13</td>\n      <td>18</td>\n      <td>14</td>\n      <td>1.0</td>\n    </tr>\n    <tr>\n      <th>1551</th>\n      <td>138</td>\n      <td>40</td>\n      <td>Prim</td>\n      <td>ocean</td>\n      <td>21</td>\n      <td>object_28.jpg</td>\n      <td>14</td>\n      <td>object_1.jpg</td>\n      <td>2</td>\n      <td>object_36.jpg</td>\n      <td>2.0</td>\n      <td>1</td>\n      <td>1.114204</td>\n      <td>20</td>\n      <td>13</td>\n      <td>1</td>\n      <td>1.0</td>\n    </tr>\n    <tr>\n      <th>1552</th>\n      <td>138</td>\n      <td>41</td>\n      <td>Bound1</td>\n      <td>forest</td>\n      <td>11</td>\n      <td>object_13.jpg</td>\n      <td>10</td>\n      <td>object_9.jpg</td>\n      <td>16</td>\n      <td>object_30.jpg</td>\n      <td>1.0</td>\n      <td>0</td>\n      <td>0.623270</td>\n      <td>10</td>\n      <td>9</td>\n      <td>15</td>\n      <td>0.0</td>\n    </tr>\n    <tr>\n      <th>1553</th>\n      <td>138</td>\n      <td>42</td>\n      <td>Prim</td>\n      <td>ocean</td>\n      <td>19</td>\n      <td>object_35.jpg</td>\n      <td>20</td>\n      <td>object_4.jpg</td>\n      <td>9</td>\n      <td>object_16.jpg</td>\n      <td>1.0</td>\n      <td>1</td>\n      <td>0.830349</td>\n      <td>18</td>\n      <td>19</td>\n      <td>8</td>\n      <td>0.0</td>\n    </tr>\n  </tbody>\n</table>\n<p>1554 rows × 17 columns</p>\n</div>"
     },
     "metadata": {},
     "output_type": "execute_result",
     "execution_count": 4
    }
   ],
   "source": [
    "induct_all"
   ],
   "metadata": {
    "collapsed": false,
    "pycharm": {
     "name": "#%%\n",
     "is_executing": false
    }
   }
  },
  {
   "cell_type": "code",
   "execution_count": 5,
   "outputs": [
    {
     "data": {
      "text/plain": "       SubjNum  run  trial  objnum           file orientnam  orientnum resp  \\\n0          100    1      1      10   object_2.jpg       cor        1.0    c   \n1          100    1      2       5  object_30.jpg       cor        1.0    c   \n2          100    1      3       4  object_12.jpg       cor        1.0    c   \n3          100    1      4       3   object_7.jpg       cor        1.0    c   \n4          100    1      5       1   object_6.jpg       cor        1.0    c   \n...        ...  ...    ...     ...            ...       ...        ...  ...   \n90904      138    6    145      21  object_28.jpg       cor        1.0    c   \n90905      138    6    146      18  object_12.jpg       rot        0.0    n   \n90906      138    6    147      17  object_18.jpg       cor        1.0    c   \n90907      138    6    148      12  object_34.jpg       cor        1.0    c   \n90908      138    6    149      14   object_1.jpg       cor        1.0    c   \n\n       respnum  acc        rt  part  seqtype  \n0          1.0  1.0  1.426618     1      NaN  \n1          1.0  1.0  0.759233     1      NaN  \n2          1.0  1.0  0.866177     1      NaN  \n3          1.0  1.0  0.712731     1      NaN  \n4          1.0  1.0  0.654236     1      NaN  \n...        ...  ...       ...   ...      ...  \n90904      1.0  1.0  0.831956     2      1.0  \n90905      2.0  1.0  0.839406     2      1.0  \n90906      1.0  1.0  0.909276     2      1.0  \n90907      1.0  1.0  0.907248     2      1.0  \n90908      1.0  1.0  0.718592     2      1.0  \n\n[90909 rows x 13 columns]",
      "text/html": "<div>\n<style scoped>\n    .dataframe tbody tr th:only-of-type {\n        vertical-align: middle;\n    }\n\n    .dataframe tbody tr th {\n        vertical-align: top;\n    }\n\n    .dataframe thead th {\n        text-align: right;\n    }\n</style>\n<table border=\"1\" class=\"dataframe\">\n  <thead>\n    <tr style=\"text-align: right;\">\n      <th></th>\n      <th>SubjNum</th>\n      <th>run</th>\n      <th>trial</th>\n      <th>objnum</th>\n      <th>file</th>\n      <th>orientnam</th>\n      <th>orientnum</th>\n      <th>resp</th>\n      <th>respnum</th>\n      <th>acc</th>\n      <th>rt</th>\n      <th>part</th>\n      <th>seqtype</th>\n    </tr>\n  </thead>\n  <tbody>\n    <tr>\n      <th>0</th>\n      <td>100</td>\n      <td>1</td>\n      <td>1</td>\n      <td>10</td>\n      <td>object_2.jpg</td>\n      <td>cor</td>\n      <td>1.0</td>\n      <td>c</td>\n      <td>1.0</td>\n      <td>1.0</td>\n      <td>1.426618</td>\n      <td>1</td>\n      <td>NaN</td>\n    </tr>\n    <tr>\n      <th>1</th>\n      <td>100</td>\n      <td>1</td>\n      <td>2</td>\n      <td>5</td>\n      <td>object_30.jpg</td>\n      <td>cor</td>\n      <td>1.0</td>\n      <td>c</td>\n      <td>1.0</td>\n      <td>1.0</td>\n      <td>0.759233</td>\n      <td>1</td>\n      <td>NaN</td>\n    </tr>\n    <tr>\n      <th>2</th>\n      <td>100</td>\n      <td>1</td>\n      <td>3</td>\n      <td>4</td>\n      <td>object_12.jpg</td>\n      <td>cor</td>\n      <td>1.0</td>\n      <td>c</td>\n      <td>1.0</td>\n      <td>1.0</td>\n      <td>0.866177</td>\n      <td>1</td>\n      <td>NaN</td>\n    </tr>\n    <tr>\n      <th>3</th>\n      <td>100</td>\n      <td>1</td>\n      <td>4</td>\n      <td>3</td>\n      <td>object_7.jpg</td>\n      <td>cor</td>\n      <td>1.0</td>\n      <td>c</td>\n      <td>1.0</td>\n      <td>1.0</td>\n      <td>0.712731</td>\n      <td>1</td>\n      <td>NaN</td>\n    </tr>\n    <tr>\n      <th>4</th>\n      <td>100</td>\n      <td>1</td>\n      <td>5</td>\n      <td>1</td>\n      <td>object_6.jpg</td>\n      <td>cor</td>\n      <td>1.0</td>\n      <td>c</td>\n      <td>1.0</td>\n      <td>1.0</td>\n      <td>0.654236</td>\n      <td>1</td>\n      <td>NaN</td>\n    </tr>\n    <tr>\n      <th>...</th>\n      <td>...</td>\n      <td>...</td>\n      <td>...</td>\n      <td>...</td>\n      <td>...</td>\n      <td>...</td>\n      <td>...</td>\n      <td>...</td>\n      <td>...</td>\n      <td>...</td>\n      <td>...</td>\n      <td>...</td>\n      <td>...</td>\n    </tr>\n    <tr>\n      <th>90904</th>\n      <td>138</td>\n      <td>6</td>\n      <td>145</td>\n      <td>21</td>\n      <td>object_28.jpg</td>\n      <td>cor</td>\n      <td>1.0</td>\n      <td>c</td>\n      <td>1.0</td>\n      <td>1.0</td>\n      <td>0.831956</td>\n      <td>2</td>\n      <td>1.0</td>\n    </tr>\n    <tr>\n      <th>90905</th>\n      <td>138</td>\n      <td>6</td>\n      <td>146</td>\n      <td>18</td>\n      <td>object_12.jpg</td>\n      <td>rot</td>\n      <td>0.0</td>\n      <td>n</td>\n      <td>2.0</td>\n      <td>1.0</td>\n      <td>0.839406</td>\n      <td>2</td>\n      <td>1.0</td>\n    </tr>\n    <tr>\n      <th>90906</th>\n      <td>138</td>\n      <td>6</td>\n      <td>147</td>\n      <td>17</td>\n      <td>object_18.jpg</td>\n      <td>cor</td>\n      <td>1.0</td>\n      <td>c</td>\n      <td>1.0</td>\n      <td>1.0</td>\n      <td>0.909276</td>\n      <td>2</td>\n      <td>1.0</td>\n    </tr>\n    <tr>\n      <th>90907</th>\n      <td>138</td>\n      <td>6</td>\n      <td>148</td>\n      <td>12</td>\n      <td>object_34.jpg</td>\n      <td>cor</td>\n      <td>1.0</td>\n      <td>c</td>\n      <td>1.0</td>\n      <td>1.0</td>\n      <td>0.907248</td>\n      <td>2</td>\n      <td>1.0</td>\n    </tr>\n    <tr>\n      <th>90908</th>\n      <td>138</td>\n      <td>6</td>\n      <td>149</td>\n      <td>14</td>\n      <td>object_1.jpg</td>\n      <td>cor</td>\n      <td>1.0</td>\n      <td>c</td>\n      <td>1.0</td>\n      <td>1.0</td>\n      <td>0.718592</td>\n      <td>2</td>\n      <td>1.0</td>\n    </tr>\n  </tbody>\n</table>\n<p>90909 rows × 13 columns</p>\n</div>"
     },
     "metadata": {},
     "output_type": "execute_result",
     "execution_count": 5
    }
   ],
   "source": [
    "# get one subject\n",
    "struct_all = util.load_struct(data_dir)\n",
    "struct_all"
   ],
   "metadata": {
    "collapsed": false,
    "pycharm": {
     "name": "#%%\n",
     "is_executing": false
    }
   }
  },
  {
   "cell_type": "code",
   "execution_count": 7,
   "outputs": [
    {
     "name": "stderr",
     "text": [
      "/home/rodrigo/Documents/preston_labs/tesser_successor/tesser/fit.py:51: RuntimeWarning: invalid value encountered in double_scalars\n",
      "  return SR[A][B] ** tau / (SR[A][B] ** tau + SR[A][C] ** tau)\n"
     ],
     "output_type": "stream"
    },
    {
     "traceback": [
      "\u001b[0;31m---------------------------------------------------------------------------\u001b[0m",
      "\u001b[0;31mValueError\u001b[0m                                Traceback (most recent call last)",
      "\u001b[0;32m<ipython-input-7-3f9b96491898>\u001b[0m in \u001b[0;36m<module>\u001b[0;34m\u001b[0m\n\u001b[1;32m     12\u001b[0m     \u001b[0mparam\u001b[0m\u001b[0;34m[\u001b[0m\u001b[0;34m'subject'\u001b[0m\u001b[0;34m]\u001b[0m\u001b[0;34m=\u001b[0m \u001b[0msub\u001b[0m\u001b[0;34m\u001b[0m\u001b[0;34m\u001b[0m\u001b[0m\n\u001b[1;32m     13\u001b[0m     \u001b[0mparam\u001b[0m\u001b[0;34m[\u001b[0m\u001b[0;34m'log_like'\u001b[0m\u001b[0;34m]\u001b[0m \u001b[0;34m=\u001b[0m \u001b[0mlogl\u001b[0m\u001b[0;34m\u001b[0m\u001b[0;34m\u001b[0m\u001b[0m\n\u001b[0;32m---> 14\u001b[0;31m     \u001b[0mdf\u001b[0m \u001b[0;34m=\u001b[0m \u001b[0mpd\u001b[0m\u001b[0;34m.\u001b[0m\u001b[0mDataFrame\u001b[0m\u001b[0;34m.\u001b[0m\u001b[0mfrom_dict\u001b[0m\u001b[0;34m(\u001b[0m\u001b[0mparam\u001b[0m\u001b[0;34m,\u001b[0m \u001b[0morient\u001b[0m\u001b[0;34m=\u001b[0m\u001b[0;34m'columns'\u001b[0m\u001b[0;34m)\u001b[0m\u001b[0;34m\u001b[0m\u001b[0;34m\u001b[0m\u001b[0m\n\u001b[0m\u001b[1;32m     15\u001b[0m \u001b[0mdf\u001b[0m\u001b[0;34m.\u001b[0m\u001b[0mto_csv\u001b[0m\u001b[0;34m(\u001b[0m\u001b[0;34m'//home/rodrigo/preston_labs/tesser_successor/fitting_data.csv'\u001b[0m\u001b[0;34m)\u001b[0m\u001b[0;34m\u001b[0m\u001b[0;34m\u001b[0m\u001b[0m\n",
      "\u001b[0;32m~/anaconda3/envs/tesser_successor/lib/python3.7/site-packages/pandas/core/frame.py\u001b[0m in \u001b[0;36mfrom_dict\u001b[0;34m(cls, data, orient, dtype, columns)\u001b[0m\n\u001b[1;32m   1245\u001b[0m             \u001b[0;32mraise\u001b[0m \u001b[0mValueError\u001b[0m\u001b[0;34m(\u001b[0m\u001b[0;34m\"only recognize index or columns for orient\"\u001b[0m\u001b[0;34m)\u001b[0m\u001b[0;34m\u001b[0m\u001b[0;34m\u001b[0m\u001b[0m\n\u001b[1;32m   1246\u001b[0m \u001b[0;34m\u001b[0m\u001b[0m\n\u001b[0;32m-> 1247\u001b[0;31m         \u001b[0;32mreturn\u001b[0m \u001b[0mcls\u001b[0m\u001b[0;34m(\u001b[0m\u001b[0mdata\u001b[0m\u001b[0;34m,\u001b[0m \u001b[0mindex\u001b[0m\u001b[0;34m=\u001b[0m\u001b[0mindex\u001b[0m\u001b[0;34m,\u001b[0m \u001b[0mcolumns\u001b[0m\u001b[0;34m=\u001b[0m\u001b[0mcolumns\u001b[0m\u001b[0;34m,\u001b[0m \u001b[0mdtype\u001b[0m\u001b[0;34m=\u001b[0m\u001b[0mdtype\u001b[0m\u001b[0;34m)\u001b[0m\u001b[0;34m\u001b[0m\u001b[0;34m\u001b[0m\u001b[0m\n\u001b[0m\u001b[1;32m   1248\u001b[0m \u001b[0;34m\u001b[0m\u001b[0m\n\u001b[1;32m   1249\u001b[0m     \u001b[0;32mdef\u001b[0m \u001b[0mto_numpy\u001b[0m\u001b[0;34m(\u001b[0m\u001b[0mself\u001b[0m\u001b[0;34m,\u001b[0m \u001b[0mdtype\u001b[0m\u001b[0;34m=\u001b[0m\u001b[0;32mNone\u001b[0m\u001b[0;34m,\u001b[0m \u001b[0mcopy\u001b[0m\u001b[0;34m=\u001b[0m\u001b[0;32mFalse\u001b[0m\u001b[0;34m)\u001b[0m \u001b[0;34m->\u001b[0m \u001b[0mnp\u001b[0m\u001b[0;34m.\u001b[0m\u001b[0mndarray\u001b[0m\u001b[0;34m:\u001b[0m\u001b[0;34m\u001b[0m\u001b[0;34m\u001b[0m\u001b[0m\n",
      "\u001b[0;32m~/anaconda3/envs/tesser_successor/lib/python3.7/site-packages/pandas/core/frame.py\u001b[0m in \u001b[0;36m__init__\u001b[0;34m(self, data, index, columns, dtype, copy)\u001b[0m\n\u001b[1;32m    433\u001b[0m             )\n\u001b[1;32m    434\u001b[0m         \u001b[0;32melif\u001b[0m \u001b[0misinstance\u001b[0m\u001b[0;34m(\u001b[0m\u001b[0mdata\u001b[0m\u001b[0;34m,\u001b[0m \u001b[0mdict\u001b[0m\u001b[0;34m)\u001b[0m\u001b[0;34m:\u001b[0m\u001b[0;34m\u001b[0m\u001b[0;34m\u001b[0m\u001b[0m\n\u001b[0;32m--> 435\u001b[0;31m             \u001b[0mmgr\u001b[0m \u001b[0;34m=\u001b[0m \u001b[0minit_dict\u001b[0m\u001b[0;34m(\u001b[0m\u001b[0mdata\u001b[0m\u001b[0;34m,\u001b[0m \u001b[0mindex\u001b[0m\u001b[0;34m,\u001b[0m \u001b[0mcolumns\u001b[0m\u001b[0;34m,\u001b[0m \u001b[0mdtype\u001b[0m\u001b[0;34m=\u001b[0m\u001b[0mdtype\u001b[0m\u001b[0;34m)\u001b[0m\u001b[0;34m\u001b[0m\u001b[0;34m\u001b[0m\u001b[0m\n\u001b[0m\u001b[1;32m    436\u001b[0m         \u001b[0;32melif\u001b[0m \u001b[0misinstance\u001b[0m\u001b[0;34m(\u001b[0m\u001b[0mdata\u001b[0m\u001b[0;34m,\u001b[0m \u001b[0mma\u001b[0m\u001b[0;34m.\u001b[0m\u001b[0mMaskedArray\u001b[0m\u001b[0;34m)\u001b[0m\u001b[0;34m:\u001b[0m\u001b[0;34m\u001b[0m\u001b[0;34m\u001b[0m\u001b[0m\n\u001b[1;32m    437\u001b[0m             \u001b[0;32mimport\u001b[0m \u001b[0mnumpy\u001b[0m\u001b[0;34m.\u001b[0m\u001b[0mma\u001b[0m\u001b[0;34m.\u001b[0m\u001b[0mmrecords\u001b[0m \u001b[0;32mas\u001b[0m \u001b[0mmrecords\u001b[0m\u001b[0;34m\u001b[0m\u001b[0;34m\u001b[0m\u001b[0m\n",
      "\u001b[0;32m~/anaconda3/envs/tesser_successor/lib/python3.7/site-packages/pandas/core/internals/construction.py\u001b[0m in \u001b[0;36minit_dict\u001b[0;34m(data, index, columns, dtype)\u001b[0m\n\u001b[1;32m    252\u001b[0m             \u001b[0marr\u001b[0m \u001b[0;32mif\u001b[0m \u001b[0;32mnot\u001b[0m \u001b[0mis_datetime64tz_dtype\u001b[0m\u001b[0;34m(\u001b[0m\u001b[0marr\u001b[0m\u001b[0;34m)\u001b[0m \u001b[0;32melse\u001b[0m \u001b[0marr\u001b[0m\u001b[0;34m.\u001b[0m\u001b[0mcopy\u001b[0m\u001b[0;34m(\u001b[0m\u001b[0;34m)\u001b[0m \u001b[0;32mfor\u001b[0m \u001b[0marr\u001b[0m \u001b[0;32min\u001b[0m \u001b[0marrays\u001b[0m\u001b[0;34m\u001b[0m\u001b[0;34m\u001b[0m\u001b[0m\n\u001b[1;32m    253\u001b[0m         ]\n\u001b[0;32m--> 254\u001b[0;31m     \u001b[0;32mreturn\u001b[0m \u001b[0marrays_to_mgr\u001b[0m\u001b[0;34m(\u001b[0m\u001b[0marrays\u001b[0m\u001b[0;34m,\u001b[0m \u001b[0mdata_names\u001b[0m\u001b[0;34m,\u001b[0m \u001b[0mindex\u001b[0m\u001b[0;34m,\u001b[0m \u001b[0mcolumns\u001b[0m\u001b[0;34m,\u001b[0m \u001b[0mdtype\u001b[0m\u001b[0;34m=\u001b[0m\u001b[0mdtype\u001b[0m\u001b[0;34m)\u001b[0m\u001b[0;34m\u001b[0m\u001b[0;34m\u001b[0m\u001b[0m\n\u001b[0m\u001b[1;32m    255\u001b[0m \u001b[0;34m\u001b[0m\u001b[0m\n\u001b[1;32m    256\u001b[0m \u001b[0;34m\u001b[0m\u001b[0m\n",
      "\u001b[0;32m~/anaconda3/envs/tesser_successor/lib/python3.7/site-packages/pandas/core/internals/construction.py\u001b[0m in \u001b[0;36marrays_to_mgr\u001b[0;34m(arrays, arr_names, index, columns, dtype)\u001b[0m\n\u001b[1;32m     62\u001b[0m     \u001b[0;31m# figure out the index, if necessary\u001b[0m\u001b[0;34m\u001b[0m\u001b[0;34m\u001b[0m\u001b[0;34m\u001b[0m\u001b[0m\n\u001b[1;32m     63\u001b[0m     \u001b[0;32mif\u001b[0m \u001b[0mindex\u001b[0m \u001b[0;32mis\u001b[0m \u001b[0;32mNone\u001b[0m\u001b[0;34m:\u001b[0m\u001b[0;34m\u001b[0m\u001b[0;34m\u001b[0m\u001b[0m\n\u001b[0;32m---> 64\u001b[0;31m         \u001b[0mindex\u001b[0m \u001b[0;34m=\u001b[0m \u001b[0mextract_index\u001b[0m\u001b[0;34m(\u001b[0m\u001b[0marrays\u001b[0m\u001b[0;34m)\u001b[0m\u001b[0;34m\u001b[0m\u001b[0;34m\u001b[0m\u001b[0m\n\u001b[0m\u001b[1;32m     65\u001b[0m     \u001b[0;32melse\u001b[0m\u001b[0;34m:\u001b[0m\u001b[0;34m\u001b[0m\u001b[0;34m\u001b[0m\u001b[0m\n\u001b[1;32m     66\u001b[0m         \u001b[0mindex\u001b[0m \u001b[0;34m=\u001b[0m \u001b[0mensure_index\u001b[0m\u001b[0;34m(\u001b[0m\u001b[0mindex\u001b[0m\u001b[0;34m)\u001b[0m\u001b[0;34m\u001b[0m\u001b[0;34m\u001b[0m\u001b[0m\n",
      "\u001b[0;32m~/anaconda3/envs/tesser_successor/lib/python3.7/site-packages/pandas/core/internals/construction.py\u001b[0m in \u001b[0;36mextract_index\u001b[0;34m(data)\u001b[0m\n\u001b[1;32m    353\u001b[0m \u001b[0;34m\u001b[0m\u001b[0m\n\u001b[1;32m    354\u001b[0m         \u001b[0;32mif\u001b[0m \u001b[0;32mnot\u001b[0m \u001b[0mindexes\u001b[0m \u001b[0;32mand\u001b[0m \u001b[0;32mnot\u001b[0m \u001b[0mraw_lengths\u001b[0m\u001b[0;34m:\u001b[0m\u001b[0;34m\u001b[0m\u001b[0;34m\u001b[0m\u001b[0m\n\u001b[0;32m--> 355\u001b[0;31m             \u001b[0;32mraise\u001b[0m \u001b[0mValueError\u001b[0m\u001b[0;34m(\u001b[0m\u001b[0;34m\"If using all scalar values, you must pass an index\"\u001b[0m\u001b[0;34m)\u001b[0m\u001b[0;34m\u001b[0m\u001b[0;34m\u001b[0m\u001b[0m\n\u001b[0m\u001b[1;32m    356\u001b[0m \u001b[0;34m\u001b[0m\u001b[0m\n\u001b[1;32m    357\u001b[0m         \u001b[0;32mif\u001b[0m \u001b[0mhave_series\u001b[0m\u001b[0;34m:\u001b[0m\u001b[0;34m\u001b[0m\u001b[0;34m\u001b[0m\u001b[0m\n",
      "\u001b[0;31mValueError\u001b[0m: If using all scalar values, you must pass an index"
     ],
     "ename": "ValueError",
     "evalue": "If using all scalar values, you must pass an index",
     "output_type": "error"
    }
   ],
   "source": [
    "import importlib\n",
    "subject_list = util.subj_list()\n",
    "for sub in subject_list:\n",
    "    subj_struct = struct_all.query(f'SubjNum == {sub}')\n",
    "    subj_induct = induct_all.query(f'SubjNum == {sub}')\n",
    "    importlib.reload(fit)\n",
    "    fixed = {}\n",
    "    var_names = ['gamma', 'alpha', 'tau']\n",
    "    var_bounds = {'alpha': [0, 1], 'gamma': [0, 1], 'tau': [0, 10]}\n",
    "    param, logl = fit.fit_induct(subj_struct, subj_induct, fixed, var_names, \n",
    "                                 var_bounds, verbose=False)\n",
    "    param['subject']= sub\n",
    "    param['log_like'] = logl\n",
    "    df = pd.DataFrame.from_dict(param, orient='columns') \n",
    "df.to_csv('//home/rodrigo/preston_labs/tesser_successor/fitting_data.csv')"
   ],
   "metadata": {
    "collapsed": false,
    "pycharm": {
     "name": "#%%\n",
     "is_executing": false
    }
   }
  },
  {
   "cell_type": "code",
   "execution_count": null,
   "outputs": [],
   "source": [],
   "metadata": {
    "collapsed": false,
    "pycharm": {
     "name": "#%%\n",
     "is_executing": false
    }
   }
  }
 ],
 "metadata": {
  "kernelspec": {
   "display_name": "Python 3",
   "language": "python",
   "name": "python3"
  },
  "language_info": {
   "codemirror_mode": {
    "name": "ipython",
    "version": 3
   },
   "file_extension": ".py",
   "mimetype": "text/x-python",
   "name": "python",
   "nbconvert_exporter": "python",
   "pygments_lexer": "ipython3",
   "version": "3.7.6"
  },
  "pycharm": {
   "stem_cell": {
    "cell_type": "raw",
    "source": [],
    "metadata": {
     "collapsed": false
    }
   }
  }
 },
 "nbformat": 4,
 "nbformat_minor": 2
}