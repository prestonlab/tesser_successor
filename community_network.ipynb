{
 "cells": [
  {
   "cell_type": "markdown",
   "metadata": {},
   "source": [
    "# Node information\n",
    "\n",
    "Tesser node information is hard-coded in the tesser module."
   ]
  },
  {
   "cell_type": "code",
   "execution_count": 1,
   "metadata": {},
   "outputs": [
    {
     "name": "stdout",
     "output_type": "stream",
     "text": [
      "    node  comm  nodetype  connect\n",
      "1      1     1         0        0\n",
      "2      2     1         0        0\n",
      "3      3     1         1        2\n",
      "4      4     2         1        1\n",
      "5      5     2         0        0\n",
      "6      6     2         0        0\n",
      "7      7     2         0        0\n",
      "8      8     2         0        0\n",
      "9      9     2         0        0\n",
      "10    10     2         1        3\n",
      "11    11     3         1        2\n",
      "12    12     3         0        0\n",
      "13    13     3         0        0\n",
      "14    14     3         0        0\n",
      "15    15     3         0        0\n",
      "16    16     3         0        0\n",
      "17    17     3         1        1\n",
      "18    18     1         1        3\n",
      "19    19     1         0        0\n",
      "20    20     1         0        0\n",
      "21    21     1         0        0\n"
     ]
    }
   ],
   "source": [
    "import matplotlib.pyplot as plt\n",
    "from tesser import network\n",
    "\n",
    "df = network.node_info()\n",
    "print(df)"
   ]
  },
  {
   "cell_type": "markdown",
   "metadata": {},
   "source": [
    "# Determine adjacency matrix\n",
    "\n",
    "This is determined based on the node type and connectivity information."
   ]
  },
  {
   "cell_type": "code",
   "execution_count": 2,
   "metadata": {},
   "outputs": [
    {
     "data": {
      "image/png": "[encoded data removed]",
      "text/plain": [
       "<Figure size 288x288 with 1 Axes>"
      ]
     },
     "metadata": {
      "needs_background": "light"
     },
     "output_type": "display_data"
    }
   ],
   "source": [
    "adj = network.adjacency(df)\n",
    "plt.matshow(adj)\n",
    "plt.show()"
   ]
  },
  {
   "cell_type": "markdown",
   "metadata": {},
   "source": [
    "# Shortest path length\n",
    "\n",
    "The networkx package makes this easy."
   ]
  },
  {
   "cell_type": "code",
   "execution_count": 3,
   "metadata": {},
   "outputs": [
    {
     "data": {
      "image/png": "[encoded data removed]",
      "text/plain": [
       "<Figure size 288x288 with 2 Axes>"
      ]
     },
     "metadata": {
      "needs_background": "light"
     },
     "output_type": "display_data"
    }
   ],
   "source": [
    "pathlen = network.path_length(adj)\n",
    "plt.matshow(pathlen, cmap=plt.cm.get_cmap('viridis', 5))\n",
    "plt.colorbar(ticks=[0,1,2,3,4])\n",
    "plt.clim(-0.5, 4.5)"
   ]
  },
  {
   "cell_type": "code",
   "execution_count": null,
   "metadata": {},
   "outputs": [],
   "source": []
  }
 ],
 "metadata": {
  "kernelspec": {
   "display_name": "Python 3",
   "language": "python",
   "name": "python3"
  },
  "language_info": {
   "codemirror_mode": {
    "name": "ipython",
    "version": 3
   },
   "file_extension": ".py",
   "mimetype": "text/x-python",
   "name": "python",
   "nbconvert_exporter": "python",
   "pygments_lexer": "ipython3",
   "version": "3.7.1"
  }
 },
 "nbformat": 4,
 "nbformat_minor": 2
}
