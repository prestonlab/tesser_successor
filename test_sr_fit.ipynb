{
 "cells": [
  {
   "cell_type": "code",
   "execution_count": 36,
   "metadata": {},
   "outputs": [],
   "source": [
    "from tesser import util\n",
    "from tesser import fit\n",
    "from tesser import network\n",
    "from tesser import sr\n",
    "from tesser import rsa \n",
    "from tesser import plot_models\n",
    "import numpy as np\n",
    "import importlib\n",
    "\n",
    "data_dir = '/home/rodrigo/Dropbox/tesser_successor/Data/'\n",
    "subject = 102"
   ]
  },
  {
   "cell_type": "code",
   "execution_count": 37,
   "metadata": {},
   "outputs": [],
   "source": [
    "# load structure learning and induction data for one subject\n",
    "df_struct = util.load_struct(data_dir, subject)\n",
    "df_induct = util.load_induction(data_dir, subject)"
   ]
  },
  {
   "cell_type": "code",
   "execution_count": 75,
   "metadata": {},
   "outputs": [],
   "source": [
    "# estimate parameters for this subject\n",
    "t, a, g, l = [],[],[],[]\n",
    "for tau in np.arange(0, 1, .1):\n",
    "    t.append(tau)\n",
    "    alpha, gamma = fit.maximize_likelihood(df_struct, df_induct,'differential evolution',tau)\n",
    "    a.append(alpha)\n",
    "    g.append(gamma)\n",
    "#     print(f'parameters for subject {subject}: alpha={alpha:.2f}, gamma={gamma:.2f},tau={tau:.2f}')\n",
    "    log_prob, prob_vector = fit.get_log_likelihood(df_struct, df_induct, gamma, alpha,tau, True)\n",
    "    l.append(log_prob)"
   ]
  },
  {
   "cell_type": "code",
   "execution_count": 81,
   "metadata": {},
   "outputs": [
    {
     "data": {
      "image/png": "[encoded data removed]",
      "text/plain": [
       "<Figure size 432x288 with 2 Axes>"
      ]
     },
     "metadata": {
      "needs_background": "light"
     },
     "output_type": "display_data"
    }
   ],
   "source": [
    "import matplotlib.pyplot as plt\n",
    "fig, ax = plt.subplots(2, 1)\n",
    "ax[0].scatter(t,l)\n",
    "ax[1].scatter(t, a)\n",
    "ax[1].scatter(t,g)\n",
    "plt.show()"
   ]
  },
  {
   "cell_type": "code",
   "execution_count": 83,
   "metadata": {},
   "outputs": [
    {
     "name": "stdout",
     "output_type": "stream",
     "text": [
      "parameters for subject 102: alpha=0.10, gamma=0.24,tau=0.00,success_rate=0.00\n",
      "parameters for subject 102: alpha=0.10, gamma=0.10,tau=0.10,success_rate=0.83\n",
      "parameters for subject 102: alpha=0.10, gamma=0.10,tau=0.20,success_rate=0.83\n",
      "parameters for subject 102: alpha=0.10, gamma=0.10,tau=0.30,success_rate=0.83\n",
      "parameters for subject 102: alpha=0.10, gamma=0.10,tau=0.40,success_rate=0.83\n",
      "parameters for subject 102: alpha=0.10, gamma=0.19,tau=0.50,success_rate=0.86\n",
      "parameters for subject 102: alpha=0.10, gamma=0.35,tau=0.60,success_rate=0.88\n",
      "parameters for subject 102: alpha=0.10, gamma=0.52,tau=0.70,success_rate=0.93\n",
      "parameters for subject 102: alpha=0.10, gamma=0.65,tau=0.80,success_rate=0.93\n",
      "parameters for subject 102: alpha=0.10, gamma=0.73,tau=0.90,success_rate=0.93\n",
      "parameters for subject 102: alpha=0.10, gamma=0.78,tau=1.00,success_rate=0.93\n"
     ]
    }
   ],
   "source": [
    "\n",
    "for tau in np.arange(0, 1.1, .1):\n",
    "    alpha, gamma = fit.maximize_likelihood(df_struct, df_induct,'differential evolution',tau)\n",
    "    log_prob, trial_prob = fit.get_log_likelihood(df_struct, df_induct, gamma, alpha,tau, True)\n",
    "    df = df_induct\n",
    "    df['trial_prob']= trial_prob\n",
    "    count = 0\n",
    "    for i in range(len(trial_prob)):\n",
    "        x = df['trial_prob'][i]\n",
    "        y = df['Acc'][i]\n",
    "        if x > 0.5 and y == 1:\n",
    "            count += 1\n",
    "        if x < 0.5 and y == 0:\n",
    "            count += 1\n",
    "    success_rate = count/len(trial_prob)\n",
    "    print(f'parameters for subject {subject}: alpha={alpha:.2f}, gamma={gamma:.2f},tau={tau:.2f},success_rate={success_rate:.2f},log_prob={log_prob:.2f}')"
   ]
  },
  {
   "cell_type": "code",
   "execution_count": 116,
   "metadata": {},
   "outputs": [
    {
     "data": {
      "image/png": "[encoded data removed]",
      "text/plain": [
       "<Figure size 432x288 with 3 Axes>"
      ]
     },
     "metadata": {
      "needs_background": "light"
     },
     "output_type": "display_data"
    }
   ],
   "source": [
    "# fig, ax = plt.subplots(3, 1)\n",
    "t, a, g, l = [],[],[],[]\n",
    "index = 0\n",
    "z = np.zeros((1331,4))\n",
    "for tau in np.arange(0, 1.1, .1):\n",
    "    for alpha in np.arange(0, 1.1, .1):\n",
    "        for gamma in np.arange(0, 1.1, .1):\n",
    "                log_likelihood = fit.get_log_likelihood(df_struct, df_induct, gamma, alpha,tau)\n",
    "#                 print(f'parameters for subject {subject}: alpha={alpha:.2f}, gamma={gamma:.2f},tau={tau:.2f},log_likelihood={log_likelihood:.2f}')\n",
    "                t.append(tau)\n",
    "                a.append(alpha)\n",
    "                g.append(gamma)\n",
    "                l.append(log_likelihood)\n",
    "                z[index]=[tau, alpha, gamma, log_likelihood]\n",
    "                index+=1\n",
    "                \n",
    "#     ax[0].scatter(t,l)\n",
    "#     ax[1].scatter(t, a)\n",
    "#     ax[2].scatter(t,g)\n",
    "#     plt.show()\n"
   ]
  },
  {
   "cell_type": "code",
   "execution_count": 136,
   "metadata": {},
   "outputs": [
    {
     "data": {
      "text/plain": [
       "t     1.000000\n",
       "a     0.100000\n",
       "g     0.800000\n",
       "l   -22.958515\n",
       "Name: 1229, dtype: float64"
      ]
     },
     "execution_count": 136,
     "metadata": {},
     "output_type": "execute_result"
    }
   ],
   "source": [
    "\n",
    "import pandas as pd\n",
    "data=pd.DataFrame(z, columns=['t', 'a', 'g', 'l'])\n",
    "data\n",
    "\n",
    "data.l.max()\n",
    "data.iloc[data.l.idxmax(axis=0)]"
   ]
  },
  {
   "cell_type": "code",
   "execution_count": 140,
   "metadata": {},
   "outputs": [
    {
     "data": {
      "text/plain": [
       "(0.1, 0.778726070494288)"
      ]
     },
     "execution_count": 140,
     "metadata": {},
     "output_type": "execute_result"
    }
   ],
   "source": [
    "alpha, gamma = fit.maximize_likelihood(df_struct, df_induct, 'differential evolution',1)\n",
    "alpha, gamma "
   ]
  },
  {
   "cell_type": "code",
   "execution_count": 144,
   "metadata": {},
   "outputs": [],
   "source": [
    "log_prob , trial_prob = fit.get_log_likelihood(df_struct, df_induct, alpha, gamma ,1, True)\n",
    "df_induct['trial_prob']= trial_prob"
   ]
  },
  {
   "cell_type": "code",
   "execution_count": 145,
   "metadata": {},
   "outputs": [
    {
     "name": "stdout",
     "output_type": "stream",
     "text": [
      "-83.60431140516006\n"
     ]
    },
    {
     "data": {
      "text/html": [
       "<div>\n",
       "<style scoped>\n",
       "    .dataframe tbody tr th:only-of-type {\n",
       "        vertical-align: middle;\n",
       "    }\n",
       "\n",
       "    .dataframe tbody tr th {\n",
       "        vertical-align: top;\n",
       "    }\n",
       "\n",
       "    .dataframe thead th {\n",
       "        text-align: right;\n",
       "    }\n",
       "</style>\n",
       "<table border=\"1\" class=\"dataframe\">\n",
       "  <thead>\n",
       "    <tr style=\"text-align: right;\">\n",
       "      <th></th>\n",
       "      <th>SubjNum</th>\n",
       "      <th>TrialNum</th>\n",
       "      <th>CueNum</th>\n",
       "      <th>Opt1Num</th>\n",
       "      <th>Opt2Num</th>\n",
       "      <th>Resp</th>\n",
       "      <th>Acc</th>\n",
       "      <th>RT</th>\n",
       "      <th>prob</th>\n",
       "      <th>trial_prob</th>\n",
       "    </tr>\n",
       "    <tr>\n",
       "      <th>QuestType</th>\n",
       "      <th></th>\n",
       "      <th></th>\n",
       "      <th></th>\n",
       "      <th></th>\n",
       "      <th></th>\n",
       "      <th></th>\n",
       "      <th></th>\n",
       "      <th></th>\n",
       "      <th></th>\n",
       "      <th></th>\n",
       "    </tr>\n",
       "  </thead>\n",
       "  <tbody>\n",
       "    <tr>\n",
       "      <th>Bound1</th>\n",
       "      <td>102.0</td>\n",
       "      <td>27.166667</td>\n",
       "      <td>10.5</td>\n",
       "      <td>10.666667</td>\n",
       "      <td>10.5</td>\n",
       "      <td>1.666667</td>\n",
       "      <td>0.833333</td>\n",
       "      <td>4.361324</td>\n",
       "      <td>0.185329</td>\n",
       "      <td>0.185331</td>\n",
       "    </tr>\n",
       "    <tr>\n",
       "      <th>Bound2</th>\n",
       "      <td>102.0</td>\n",
       "      <td>17.666667</td>\n",
       "      <td>10.5</td>\n",
       "      <td>8.500000</td>\n",
       "      <td>15.5</td>\n",
       "      <td>1.500000</td>\n",
       "      <td>0.666667</td>\n",
       "      <td>2.998186</td>\n",
       "      <td>0.219285</td>\n",
       "      <td>0.219287</td>\n",
       "    </tr>\n",
       "    <tr>\n",
       "      <th>Prim</th>\n",
       "      <td>102.0</td>\n",
       "      <td>21.133333</td>\n",
       "      <td>11.2</td>\n",
       "      <td>10.800000</td>\n",
       "      <td>11.6</td>\n",
       "      <td>1.433333</td>\n",
       "      <td>0.866667</td>\n",
       "      <td>2.839950</td>\n",
       "      <td>0.728932</td>\n",
       "      <td>0.728929</td>\n",
       "    </tr>\n",
       "  </tbody>\n",
       "</table>\n",
       "</div>"
      ],
      "text/plain": [
       "           SubjNum   TrialNum  CueNum    Opt1Num  Opt2Num      Resp       Acc  \\\n",
       "QuestType                                                                       \n",
       "Bound1       102.0  27.166667    10.5  10.666667     10.5  1.666667  0.833333   \n",
       "Bound2       102.0  17.666667    10.5   8.500000     15.5  1.500000  0.666667   \n",
       "Prim         102.0  21.133333    11.2  10.800000     11.6  1.433333  0.866667   \n",
       "\n",
       "                 RT      prob  trial_prob  \n",
       "QuestType                                  \n",
       "Bound1     4.361324  0.185329    0.185331  \n",
       "Bound2     2.998186  0.219285    0.219287  \n",
       "Prim       2.839950  0.728932    0.728929  "
      ]
     },
     "execution_count": 145,
     "metadata": {},
     "output_type": "execute_result"
    }
   ],
   "source": [
    "print(log_prob)\n",
    "df_induct\n",
    "df_induct.groupby('QuestType').mean()"
   ]
  },
  {
   "cell_type": "code",
   "execution_count": 143,
   "metadata": {},
   "outputs": [
    {
     "data": {
      "image/png": "[encoded data removed]",
      "text/plain": [
       "<Figure size 1008x432 with 12 Axes>"
      ]
     },
     "metadata": {
      "needs_background": "light"
     },
     "output_type": "display_data"
    }
   ],
   "source": [
    "# plot the SR matrix after each run\n",
    "M = sr.learn_sr(df_struct, gamma, alpha)\n",
    "plot_models.plot_explore_runs(M, subject, 'persist', gamma, alpha, vmax=10)"
   ]
  },
  {
   "cell_type": "code",
   "execution_count": null,
   "metadata": {},
   "outputs": [],
   "source": []
  }
 ],
 "metadata": {
  "kernelspec": {
   "display_name": "Python 3",
   "language": "python",
   "name": "python3"
  },
  "language_info": {
   "codemirror_mode": {
    "name": "ipython",
    "version": 3
   },
   "file_extension": ".py",
   "mimetype": "text/x-python",
   "name": "python",
   "nbconvert_exporter": "python",
   "pygments_lexer": "ipython3",
   "version": "3.7.3"
  }
 },
 "nbformat": 4,
 "nbformat_minor": 4
}
