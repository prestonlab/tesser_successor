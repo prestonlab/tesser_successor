{
 "cells": [
  {
   "cell_type": "code",
   "execution_count": 1,
   "metadata": {},
   "outputs": [],
   "source": [
    "from tesser import util\n",
    "from tesser import fit\n",
    "from tesser import network\n",
    "from tesser import sr\n",
    "from tesser import rsa \n",
    "from tesser import plot_models\n",
    "import numpy as np\n",
    "import importlib\n",
    "\n",
    "data_dir = '/home/rodrigo/Dropbox/tesser_successor/Data/'\n",
    "subject = 102"
   ]
  },
  {
   "cell_type": "code",
   "execution_count": 2,
   "metadata": {},
   "outputs": [],
   "source": [
    "# load structure learning and induction data for one subject\n",
    "df_struct = util.load_struct(data_dir, subject)\n",
    "df_induct = util.load_induction(data_dir, subject)"
   ]
  },
  {
   "cell_type": "code",
   "execution_count": 25,
   "metadata": {},
   "outputs": [],
   "source": [
    "# estimate parameters for this subject\n",
    "t, a, g, l = [],[],[],[]\n",
    "for tau in np.arange(0.5,2.0, .1):\n",
    "    t.append(tau)\n",
    "    alpha, gamma = fit.maximize_likelihood(df_struct, df_induct,'differential evolution',tau)\n",
    "    a.append(alpha)\n",
    "    g.append(gamma)\n",
    "#     print(f'parameters for subject {subject}: alpha={alpha:.2f}, gamma={gamma:.2f},tau={tau:.2f}')\n",
    "    log_prob, prob_vector = fit.get_log_likelihood(df_struct, df_induct, gamma, alpha,tau, True)\n",
    "    l.append(log_prob)"
   ]
  },
  {
   "cell_type": "code",
   "execution_count": 26,
   "metadata": {},
   "outputs": [
    {
     "data": {
      "image/png": "[encoded data removed]",
      "text/plain": [
       "<Figure size 432x288 with 2 Axes>"
      ]
     },
     "metadata": {
      "needs_background": "light"
     },
     "output_type": "display_data"
    }
   ],
   "source": [
    "import matplotlib.pyplot as plt\n",
    "fig, ax = plt.subplots(2, 1)\n",
    "ax[0].scatter(t,l)\n",
    "ax[1].scatter(t, a)\n",
    "ax[1].scatter(t,g)\n",
    "plt.show()"
   ]
  },
  {
   "cell_type": "code",
   "execution_count": 5,
   "metadata": {},
   "outputs": [
    {
     "name": "stdout",
     "output_type": "stream",
     "text": [
      "parameters for subject 102: alpha=0.850, gamma=0.655,tau=0.00,success_rate=0.000,log_prob=-29.11\n",
      "parameters for subject 102: alpha=0.000, gamma=0.100,tau=0.10,success_rate=0.857,log_prob=-23.57\n",
      "parameters for subject 102: alpha=0.000, gamma=0.729,tau=0.20,success_rate=0.857,log_prob=-22.61\n",
      "parameters for subject 102: alpha=0.002, gamma=0.494,tau=0.30,success_rate=0.881,log_prob=-21.90\n",
      "parameters for subject 102: alpha=0.008, gamma=0.483,tau=0.40,success_rate=0.881,log_prob=-21.40\n",
      "parameters for subject 102: alpha=0.013, gamma=0.582,tau=0.50,success_rate=0.881,log_prob=-21.07\n",
      "parameters for subject 102: alpha=0.017, gamma=0.680,tau=0.60,success_rate=0.905,log_prob=-20.90\n",
      "parameters for subject 102: alpha=0.022, gamma=0.759,tau=0.70,success_rate=0.976,log_prob=-20.83\n",
      "parameters for subject 102: alpha=0.026, gamma=0.819,tau=0.80,success_rate=0.976,log_prob=-20.85\n",
      "parameters for subject 102: alpha=0.031, gamma=0.862,tau=0.90,success_rate=0.976,log_prob=-20.93\n",
      "parameters for subject 102: alpha=0.036, gamma=0.893,tau=1.00,success_rate=0.976,log_prob=-21.05\n",
      "parameters for subject 102: alpha=0.040, gamma=0.914,tau=1.10,success_rate=0.976,log_prob=-21.22\n",
      "parameters for subject 102: alpha=0.045, gamma=0.929,tau=1.20,success_rate=0.976,log_prob=-21.41\n",
      "parameters for subject 102: alpha=0.050, gamma=0.940,tau=1.30,success_rate=0.976,log_prob=-21.62\n",
      "parameters for subject 102: alpha=0.054, gamma=0.948,tau=1.40,success_rate=0.976,log_prob=-21.85\n",
      "parameters for subject 102: alpha=0.059, gamma=0.953,tau=1.50,success_rate=0.929,log_prob=-22.09\n",
      "parameters for subject 102: alpha=0.063, gamma=0.957,tau=1.60,success_rate=0.929,log_prob=-22.34\n",
      "parameters for subject 102: alpha=0.068, gamma=0.960,tau=1.70,success_rate=0.929,log_prob=-22.61\n",
      "parameters for subject 102: alpha=0.072, gamma=0.963,tau=1.80,success_rate=0.929,log_prob=-22.88\n",
      "parameters for subject 102: alpha=0.076, gamma=0.965,tau=1.90,success_rate=0.929,log_prob=-23.16\n"
     ]
    }
   ],
   "source": [
    "\n",
    "for tau in np.arange(0.0, 2.0, .1):\n",
    "    alpha, gamma = fit.maximize_likelihood(df_struct, df_induct,'differential evolution',tau)\n",
    "    log_prob, trial_prob = fit.get_log_likelihood(df_struct, df_induct, gamma, alpha,tau, True)\n",
    "    df = df_induct\n",
    "    df['trial_prob']= trial_prob\n",
    "    count = 0\n",
    "    for i in range(len(trial_prob)):\n",
    "        x = df['trial_prob'][i]\n",
    "        y = df['Acc'][i]\n",
    "        if x > 0.5 and y == 1:\n",
    "            count += 1\n",
    "        if x < 0.5 and y == 0:\n",
    "            count += 1\n",
    "    success_rate = count/len(trial_prob)\n",
    "    print(f'parameters for subject {subject}: alpha={alpha:.3f}, gamma={gamma:.3f},tau={tau:.2f},success_rate={success_rate:.3f},log_prob={log_prob:.2f}')"
   ]
  },
  {
   "cell_type": "code",
   "execution_count": 9,
   "metadata": {},
   "outputs": [],
   "source": [
    "# t, a, g, l = [],[],[],[]\n",
    "# index = 0\n",
    "# z = np.zeros((1331,4))\n",
    "# for tau in np.arange(0.0, 2.0, .1):\n",
    "#     for alpha in np.arange(0, 1.1, .000001):\n",
    "#         for gamma in np.arange(0, 1.1, .1):\n",
    "#                 log_likelihood = fit.get_log_likelihood(df_struct, df_induct, gamma, alpha,tau)\n",
    "# #                 print(f'parameters for subject {subject}: alpha={alpha:.2f}, gamma={gamma:.2f},tau={tau:.2f},log_likelihood={log_likelihood:.2f}')\n",
    "#                 t.append(tau)\n",
    "#                 a.append(alpha)\n",
    "#                 g.append(gamma)\n",
    "#                 l.append(log_likelihood)\n",
    "#                 z[index]=[tau, alpha, gamma, log_likelihood]\n",
    "#                 index+=1"
   ]
  },
  {
   "cell_type": "code",
   "execution_count": 10,
   "metadata": {},
   "outputs": [],
   "source": [
    "\n",
    "# import pandas as pd\n",
    "# data=pd.DataFrame(z, columns=['t', 'a', 'g', 'l'])\n",
    "# data\n",
    "\n",
    "# data.l.max()\n",
    "# data.iloc[data.l.idxmax(axis=0)]"
   ]
  },
  {
   "cell_type": "code",
   "execution_count": 11,
   "metadata": {},
   "outputs": [
    {
     "data": {
      "text/plain": [
       "(0.021805896068072525, 0.759482475674252)"
      ]
     },
     "execution_count": 11,
     "metadata": {},
     "output_type": "execute_result"
    }
   ],
   "source": [
    "alpha, gamma = fit.maximize_likelihood(df_struct, df_induct, 'differential evolution',0.70)\n",
    "alpha, gamma "
   ]
  },
  {
   "cell_type": "code",
   "execution_count": 19,
   "metadata": {},
   "outputs": [],
   "source": [
    "log_prob , trial_prob = fit.get_log_likelihood(df_struct, df_induct, alpha, gamma ,0.7, True)\n",
    "df_induct['trial_prob']= trial_prob"
   ]
  },
  {
   "cell_type": "code",
   "execution_count": 20,
   "metadata": {},
   "outputs": [
    {
     "name": "stdout",
     "output_type": "stream",
     "text": [
      "-74.07636064435835\n"
     ]
    },
    {
     "data": {
      "text/html": [
       "<div>\n",
       "<style scoped>\n",
       "    .dataframe tbody tr th:only-of-type {\n",
       "        vertical-align: middle;\n",
       "    }\n",
       "\n",
       "    .dataframe tbody tr th {\n",
       "        vertical-align: top;\n",
       "    }\n",
       "\n",
       "    .dataframe thead th {\n",
       "        text-align: right;\n",
       "    }\n",
       "</style>\n",
       "<table border=\"1\" class=\"dataframe\">\n",
       "  <thead>\n",
       "    <tr style=\"text-align: right;\">\n",
       "      <th></th>\n",
       "      <th>SubjNum</th>\n",
       "      <th>TrialNum</th>\n",
       "      <th>CueNum</th>\n",
       "      <th>Opt1Num</th>\n",
       "      <th>Opt2Num</th>\n",
       "      <th>Resp</th>\n",
       "      <th>Acc</th>\n",
       "      <th>RT</th>\n",
       "      <th>trial_prob</th>\n",
       "    </tr>\n",
       "    <tr>\n",
       "      <th>QuestType</th>\n",
       "      <th></th>\n",
       "      <th></th>\n",
       "      <th></th>\n",
       "      <th></th>\n",
       "      <th></th>\n",
       "      <th></th>\n",
       "      <th></th>\n",
       "      <th></th>\n",
       "      <th></th>\n",
       "    </tr>\n",
       "  </thead>\n",
       "  <tbody>\n",
       "    <tr>\n",
       "      <th>Bound1</th>\n",
       "      <td>102.0</td>\n",
       "      <td>27.166667</td>\n",
       "      <td>10.5</td>\n",
       "      <td>10.666667</td>\n",
       "      <td>10.5</td>\n",
       "      <td>1.666667</td>\n",
       "      <td>0.833333</td>\n",
       "      <td>4.361324</td>\n",
       "      <td>0.162550</td>\n",
       "    </tr>\n",
       "    <tr>\n",
       "      <th>Bound2</th>\n",
       "      <td>102.0</td>\n",
       "      <td>17.666667</td>\n",
       "      <td>10.5</td>\n",
       "      <td>8.500000</td>\n",
       "      <td>15.5</td>\n",
       "      <td>1.500000</td>\n",
       "      <td>0.666667</td>\n",
       "      <td>2.998186</td>\n",
       "      <td>0.214384</td>\n",
       "    </tr>\n",
       "    <tr>\n",
       "      <th>Prim</th>\n",
       "      <td>102.0</td>\n",
       "      <td>21.133333</td>\n",
       "      <td>11.2</td>\n",
       "      <td>10.800000</td>\n",
       "      <td>11.6</td>\n",
       "      <td>1.433333</td>\n",
       "      <td>0.866667</td>\n",
       "      <td>2.839950</td>\n",
       "      <td>0.759330</td>\n",
       "    </tr>\n",
       "  </tbody>\n",
       "</table>\n",
       "</div>"
      ],
      "text/plain": [
       "           SubjNum   TrialNum  CueNum    Opt1Num  Opt2Num      Resp       Acc  \\\n",
       "QuestType                                                                       \n",
       "Bound1       102.0  27.166667    10.5  10.666667     10.5  1.666667  0.833333   \n",
       "Bound2       102.0  17.666667    10.5   8.500000     15.5  1.500000  0.666667   \n",
       "Prim         102.0  21.133333    11.2  10.800000     11.6  1.433333  0.866667   \n",
       "\n",
       "                 RT  trial_prob  \n",
       "QuestType                        \n",
       "Bound1     4.361324    0.162550  \n",
       "Bound2     2.998186    0.214384  \n",
       "Prim       2.839950    0.759330  "
      ]
     },
     "execution_count": 20,
     "metadata": {},
     "output_type": "execute_result"
    }
   ],
   "source": [
    "print(log_prob)\n",
    "df_induct\n",
    "df_induct.groupby('QuestType').mean()"
   ]
  },
  {
   "cell_type": "code",
   "execution_count": 18,
   "metadata": {},
   "outputs": [
    {
     "data": {
      "image/png": "[encoded data removed]",
      "text/plain": [
       "<Figure size 1008x432 with 12 Axes>"
      ]
     },
     "metadata": {
      "needs_background": "light"
     },
     "output_type": "display_data"
    }
   ],
   "source": [
    "# plot the SR matrix after each run\n",
    "M = sr.learn_sr(df_struct, gamma, alpha)\n",
    "plot_models.plot_explore_runs(M, subject, 'persist', gamma, alpha, vmax=0.01)"
   ]
  },
  {
   "cell_type": "code",
   "execution_count": null,
   "metadata": {},
   "outputs": [],
   "source": []
  }
 ],
 "metadata": {
  "kernelspec": {
   "display_name": "Python 3",
   "language": "python",
   "name": "python3"
  },
  "language_info": {
   "codemirror_mode": {
    "name": "ipython",
    "version": 3
   },
   "file_extension": ".py",
   "mimetype": "text/x-python",
   "name": "python",
   "nbconvert_exporter": "python",
   "pygments_lexer": "ipython3",
   "version": "3.7.3"
  }
 },
 "nbformat": 4,
 "nbformat_minor": 4
}
