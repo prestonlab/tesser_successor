{
 "cells": [
  {
   "cell_type": "code",
   "execution_count": 1,
   "metadata": {
    "pycharm": {
     "is_executing": false,
     "name": "#%%\n"
    }
   },
   "outputs": [],
   "source": [
    "import pandas as pd\n",
    "import seaborn as sns\n",
    "import numpy as np\n",
    "from scipy.spatial import distance\n",
    "from tesser import fit\n",
    "from tesser import network\n",
    "from tesser import util\n",
    "from tesser import tasks"
   ]
  },
  {
   "cell_type": "code",
   "execution_count": 2,
   "metadata": {
    "pycharm": {
     "is_executing": false,
     "name": "#%%\n"
    }
   },
   "outputs": [],
   "source": [
    "data_dir = \"/home/rodrigo/Dropbox/tesser_successor/Data/\""
   ]
  },
  {
   "cell_type": "code",
   "execution_count": 3,
   "metadata": {},
   "outputs": [],
   "source": [
    "# get community matrix\n",
    "net = network.temp_node_info()\n",
    "comm = 1 - distance.squareform(distance.pdist(net['comm'][:, None], 'hamming'))"
   ]
  },
  {
   "cell_type": "code",
   "execution_count": 4,
   "metadata": {
    "pycharm": {
     "is_executing": false,
     "name": "#%%\n"
    }
   },
   "outputs": [],
   "source": [
    "induct_all = util.load_induct(data_dir)\n",
    "struct_all = util.load_struct(data_dir)"
   ]
  },
  {
   "cell_type": "code",
   "execution_count": 8,
   "metadata": {
    "pycharm": {
     "is_executing": false,
     "name": "#%%\n"
    }
   },
   "outputs": [
    {
     "data": {
      "text/plain": [
       "array([100, 101, 102, 103, 104, 105, 106, 108, 109, 110, 111, 112, 113,\n",
       "       114, 115, 116, 117, 119, 120, 121, 122, 123, 124, 125, 126, 127,\n",
       "       128, 129, 130, 131, 132, 133, 135, 136, 137, 138])"
      ]
     },
     "execution_count": 8,
     "metadata": {},
     "output_type": "execute_result"
    }
   ],
   "source": [
    "struct_all.SubjNum.unique()"
   ]
  },
  {
   "cell_type": "code",
   "execution_count": null,
   "metadata": {
    "pycharm": {
     "is_executing": false,
     "name": "#%%\n"
    }
   },
   "outputs": [],
   "source": [
    "fixed = {}\n",
    "var_names = ['gamma', 'alpha', 'tau']\n",
    "var_bounds = {'alpha': [0, 1], 'gamma': [0, 1], 'tau': [0, 10]}\n",
    "fit.fit_induct(struct_all, induct_all, fixed, var_names, var_bounds,\n",
    "               verbose=False)"
   ]
  },
  {
   "cell_type": "code",
   "execution_count": null,
   "metadata": {
    "pycharm": {
     "is_executing": false,
     "name": "#%%\n"
    }
   },
   "outputs": [],
   "source": [
    "fixed = {'alpha': 0.3}\n",
    "var_names = ['gamma', 'tau']\n",
    "var_bounds = {'gamma': [0, 1], 'tau': [0, 10]}\n",
    "fit.fit_induct(struct_all, induct_all, fixed, var_names, var_bounds,\n",
    "               verbose=False)\n"
   ]
  },
  {
   "cell_type": "code",
   "execution_count": null,
   "metadata": {
    "pycharm": {
     "is_executing": false,
     "name": "#%%            \n"
    }
   },
   "outputs": [],
   "source": [
    "high =tasks.induct_avg_split_high(tasks.induct_avg_all(data_dir))\n",
    "hp = high.participant"
   ]
  },
  {
   "cell_type": "code",
   "execution_count": null,
   "metadata": {
    "pycharm": {
     "is_executing": false,
     "name": "#%%\n"
    }
   },
   "outputs": [],
   "source": [
    "struct_high_all = struct_all.copy()\n",
    "s_all = struct_high_all[struct_high_all['SubjNum'].isin(list(hp))]\n"
   ]
  },
  {
   "cell_type": "code",
   "execution_count": null,
   "metadata": {
    "pycharm": {
     "is_executing": false,
     "name": "#%%\n"
    }
   },
   "outputs": [],
   "source": [
    "induct_high_all = induct_all.copy()\n",
    "i_all = induct_high_all[induct_high_all['SubjNum'].isin(list(hp))]"
   ]
  },
  {
   "cell_type": "code",
   "execution_count": null,
   "metadata": {
    "pycharm": {
     "is_executing": false,
     "name": "#%%\n"
    }
   },
   "outputs": [],
   "source": [
    "# High performers\n",
    "\n",
    "fixed = {}\n",
    "var_names = ['gamma', 'alpha', 'tau']\n",
    "var_bounds = {'alpha': [0, 1], 'gamma': [0, 1], 'tau': [0, 10]}\n",
    "fit.fit_induct(s_all, i_all, fixed, var_names, var_bounds)"
   ]
  },
  {
   "cell_type": "markdown",
   "metadata": {
    "pycharm": {
     "name": "#%% md\n"
    }
   },
   "source": [
    "High performers as a group have a much lower likelihood -440.54\n"
   ]
  },
  {
   "cell_type": "code",
   "execution_count": null,
   "metadata": {
    "pycharm": {
     "is_executing": false,
     "name": "#%%\n"
    }
   },
   "outputs": [],
   "source": [
    "# low performers\n",
    "low =tasks.induct_avg_split_low(tasks.induct_avg_all(data_dir))\n",
    "lp = low.participant"
   ]
  },
  {
   "cell_type": "code",
   "execution_count": null,
   "metadata": {
    "pycharm": {
     "is_executing": false,
     "name": "#%%\n"
    }
   },
   "outputs": [],
   "source": [
    "\n",
    "struct_low_all = struct_all.copy()\n",
    "s_all = struct_low_all[struct_low_all['SubjNum'].isin(list(lp))]"
   ]
  },
  {
   "cell_type": "code",
   "execution_count": null,
   "metadata": {
    "pycharm": {
     "is_executing": false,
     "name": "#%%\n"
    }
   },
   "outputs": [],
   "source": [
    "induct_low_all = induct_all.copy()\n",
    "i_all = induct_low_all[induct_low_all['SubjNum'].isin(list(lp))]"
   ]
  },
  {
   "cell_type": "code",
   "execution_count": null,
   "metadata": {
    "pycharm": {
     "is_executing": false,
     "name": "#%%\n"
    }
   },
   "outputs": [],
   "source": [
    "# low performers logllikelihood \n",
    "fixed = {}\n",
    "var_names = ['gamma', 'alpha', 'tau']\n",
    "var_bounds = {'alpha': [0, 1], 'gamma': [0, 1], 'tau': [0, 10]}\n",
    "fit.fit_induct(s_all, i_all, fixed, var_names, var_bounds)"
   ]
  },
  {
   "cell_type": "markdown",
   "metadata": {},
   "source": [
    "Low performers as a group have a much lower likelihood\n"
   ]
  },
  {
   "cell_type": "markdown",
   "metadata": {},
   "source": [
    "The sum individual log likelihood is -978.07139 which is much lower the group fitting "
   ]
  },
  {
   "cell_type": "markdown",
   "metadata": {
    "pycharm": {
     "name": "#%% md\n"
    }
   },
   "source": [
    "{'gamma': 0.9608818840406562,\\n  'alpha': 0.0012432275910420404,\\"
   ]
  },
  {
   "cell_type": "code",
   "execution_count": null,
   "metadata": {
    "pycharm": {
     "is_executing": false,
     "name": "#%%\n"
    }
   },
   "outputs": [],
   "source": [
    "struct = util.load_struct_subject(data_dir, 108)\n",
    "induct = util.load_induct_subject(data_dir, 108)"
   ]
  },
  {
   "cell_type": "code",
   "execution_count": null,
   "metadata": {
    "pycharm": {
     "is_executing": false,
     "name": "#%%\n"
    }
   },
   "outputs": [],
   "source": [
    "from tesser import sr"
   ]
  },
  {
   "cell_type": "code",
   "execution_count": null,
   "metadata": {
    "pycharm": {
     "is_executing": false,
     "name": "#%% not fixed\n"
    }
   },
   "outputs": [],
   "source": [
    "#  not fixed\n",
    "sr_mats = sr.learn_sr(struct, 0.96088,0.00124)\n",
    "fig = sr.plot_sr(sr_mats)\n"
   ]
  },
  {
   "cell_type": "code",
   "execution_count": null,
   "metadata": {
    "pycharm": {
     "is_executing": false,
     "name": "#%%\n"
    }
   },
   "outputs": [],
   "source": [
    "#fixed alpha\n",
    "sr_mats = sr.learn_sr(struct, 0.7775984763983996,0.3)\n",
    "fig = sr.plot_sr(sr_mats)"
   ]
  },
  {
   "cell_type": "code",
   "execution_count": null,
   "metadata": {
    "pycharm": {
     "is_executing": false,
     "name": "#%%\n"
    }
   },
   "outputs": [],
   "source": [
    "# high performers\n",
    "sr_mats = sr.learn_sr(struct, 0.9066399717654446,0.05051122724126701)\n",
    "fig = sr.plot_sr(sr_mats)"
   ]
  },
  {
   "cell_type": "code",
   "execution_count": null,
   "metadata": {
    "pycharm": {
     "is_executing": false,
     "name": "#%%\n"
    }
   },
   "outputs": [],
   "source": [
    "sr_mats = sr.learn_sr(struct, 1,0.5829999328907534)\n",
    "fig = sr.plot_sr(sr_mats)\n"
   ]
  },
  {
   "cell_type": "code",
   "execution_count": null,
   "metadata": {
    "pycharm": {
     "is_executing": false,
     "name": "#%%\n"
    }
   },
   "outputs": [],
   "source": [
    "fixed = {'alpha': 0.05051122724126701, 'gamma': 0.7775984763983996,\n",
    "             'tau': 0.24866146359841507}\n",
    "var_names = ['gamma', 'alpha', 'tau']\n",
    "var_bounds = {'alpha': [0, 1], 'gamma': [0, 1], 'tau': [0, 10]}\n",
    "results = fit.fit_induct_indiv(struct_all, induct_all, fixed, var_names, var_bounds)"
   ]
  },
  {
   "cell_type": "code",
   "execution_count": null,
   "metadata": {
    "pycharm": {
     "is_executing": false,
     "name": "#%%\n"
    }
   },
   "outputs": [],
   "source": [
    "results = results.set_index('subject')\n",
    "results"
   ]
  },
  {
   "cell_type": "code",
   "execution_count": null,
   "metadata": {
    "pycharm": {
     "is_executing": false,
     "name": "#%%\n"
    }
   },
   "outputs": [],
   "source": [
    "res_list = []\n",
    "for subject in results.index.unique():\n",
    "    subj_filter = f'SubjNum == {subject}'\n",
    "    subj_struct = struct_all.query(subj_filter)\n",
    "    subj_induct = induct_all.query(subj_filter)\n",
    "    subj_param = results.loc[subject]\n",
    "    param = {'alpha': subj_param['alpha'], 'gamma': subj_param['gamma'],\n",
    "             'tau': subj_param['tau']}\n",
    "    res = fit.assess_induct_fit_subject(subj_struct, subj_induct, param)\n",
    "    res_list.append(res)\n",
    "fitted = pd.concat(res_list, axis=0)"
   ]
  },
  {
   "cell_type": "code",
   "execution_count": null,
   "metadata": {
    "pycharm": {
     "is_executing": false,
     "name": "#%%\n"
    }
   },
   "outputs": [],
   "source": [
    "m = fitted.groupby(['Source', 'SubjNum', 'Environment'])['Accuracy'].mean().unstack(level=0)\n",
    "g = sns.scatterplot(x='Model', y='Data', hue='Environment', data=m.reset_index());\n",
    "g.set_xlim(0, 1.02);\n",
    "g.set_ylim(0, 1.02);\n",
    "g.set_aspect(1);\n",
    "g.plot((0, 1), (0, 1), '-k');"
   ]
  },
  {
   "cell_type": "code",
   "execution_count": null,
   "metadata": {
    "pycharm": {
     "is_executing": false,
     "name": "#%%\n"
    }
   },
   "outputs": [],
   "source": [
    "m = fitted.groupby(['Source', 'SubjNum', 'QuestType'])['Accuracy'].mean().unstack(level=0)\n",
    "g = sns.scatterplot(x='Model', y='Data', hue='QuestType', data=m.reset_index());\n",
    "g.set_xlim(0, 1.02);\n",
    "g.set_ylim(0, 1.02);\n",
    "g.set_aspect(1);\n",
    "g.plot((0, 1), (0, 1), '-k');"
   ]
  },
  {
   "cell_type": "code",
   "execution_count": 10,
   "metadata": {
    "pycharm": {
     "is_executing": false,
     "name": "#%%\n"
    }
   },
   "outputs": [
    {
     "name": "stderr",
     "output_type": "stream",
     "text": [
      "/home/rodrigo/Documents/preston_labs/tesser_successor/tesser/fit.py:50: RuntimeWarning: divide by zero encountered in double_scalars\n",
      "  prob = (np.exp(support[response] / tau) /\n",
      "/home/rodrigo/Documents/preston_labs/tesser_successor/tesser/fit.py:51: RuntimeWarning: divide by zero encountered in double_scalars\n",
      "  (np.exp(support[0] / tau) + np.exp(support[1] / tau)))\n",
      "/home/rodrigo/Documents/preston_labs/tesser_successor/tesser/fit.py:51: RuntimeWarning: invalid value encountered in double_scalars\n",
      "  (np.exp(support[0] / tau) + np.exp(support[1] / tau)))\n",
      "/home/rodrigo/Documents/preston_labs/tesser_successor/tesser/fit.py:50: RuntimeWarning: overflow encountered in exp\n",
      "  prob = (np.exp(support[response] / tau) /\n",
      "/home/rodrigo/Documents/preston_labs/tesser_successor/tesser/fit.py:51: RuntimeWarning: overflow encountered in exp\n",
      "  (np.exp(support[0] / tau) + np.exp(support[1] / tau)))\n"
     ]
    },
    {
     "data": {
      "text/plain": [
       "({'w': 1.0,\n",
       "  'gamma': 1.0,\n",
       "  'alpha': 0.040739153272264524,\n",
       "  'tau': 1.0239208064341663},\n",
       " -1054.4801352559268)"
      ]
     },
     "execution_count": 10,
     "metadata": {},
     "output_type": "execute_result"
    }
   ],
   "source": [
    " \n",
    "fixed = {'w': 1.0}\n",
    "var_names = ['gamma', 'alpha', 'tau']\n",
    "var_bounds = {'alpha': [0, 1], 'gamma': [0, 1], 'tau': [0, 10]}\n",
    "fit.fit_induct(struct_all, induct_all, fixed, var_names, var_bounds,\n",
    "               verbose=False, comm=comm)"
   ]
  },
  {
   "cell_type": "code",
   "execution_count": 7,
   "metadata": {
    "pycharm": {
     "is_executing": false,
     "name": "#%%\n"
    }
   },
   "outputs": [
    {
     "data": {
      "text/plain": [
       "({'w': 0.0,\n",
       "  'gamma': 0.5854550687764963,\n",
       "  'alpha': 0.4952432124580622,\n",
       "  'tau': 2.6546457722724006},\n",
       " -1050.468569930245)"
      ]
     },
     "execution_count": 7,
     "metadata": {},
     "output_type": "execute_result"
    }
   ],
   "source": [
    "\n",
    "fixed = {'w': 0.0}\n",
    "var_names = ['gamma', 'alpha', 'tau']\n",
    "var_bounds = {'alpha': [0, 1], 'gamma': [0, 1], 'tau': [0, 10]}\n",
    "fit.fit_induct(struct_all, induct_all, fixed, var_names, var_bounds,\n",
    "               verbose=False)"
   ]
  },
  {
   "cell_type": "code",
   "execution_count": 12,
   "metadata": {
    "pycharm": {
     "is_executing": false
    }
   },
   "outputs": [
    {
     "name": "stdout",
     "output_type": "stream",
     "text": [
      "Estimating parameters for 100...\n",
      "Estimating parameters for 101...\n",
      "Estimating parameters for 102...\n"
     ]
    },
    {
     "name": "stderr",
     "output_type": "stream",
     "text": [
      "/home/rodrigo/Documents/preston_labs/tesser_successor/tesser/fit.py:50: RuntimeWarning: invalid value encountered in double_scalars\n",
      "  prob = (np.exp(support[response] / tau) /\n"
     ]
    },
    {
     "name": "stdout",
     "output_type": "stream",
     "text": [
      "Estimating parameters for 103...\n",
      "Estimating parameters for 104...\n",
      "Estimating parameters for 105...\n",
      "Estimating parameters for 106...\n",
      "Estimating parameters for 108...\n",
      "Estimating parameters for 109...\n",
      "Estimating parameters for 110...\n",
      "Estimating parameters for 111...\n",
      "Estimating parameters for 112...\n",
      "Estimating parameters for 113...\n",
      "Estimating parameters for 114...\n",
      "Estimating parameters for 115...\n",
      "Estimating parameters for 116...\n",
      "Estimating parameters for 117...\n",
      "Estimating parameters for 119...\n",
      "Estimating parameters for 120...\n",
      "Estimating parameters for 121...\n",
      "Estimating parameters for 122...\n",
      "Estimating parameters for 123...\n",
      "Estimating parameters for 124...\n",
      "Estimating parameters for 125...\n",
      "Estimating parameters for 126...\n",
      "Estimating parameters for 127...\n",
      "Estimating parameters for 128...\n",
      "Estimating parameters for 129...\n",
      "Estimating parameters for 130...\n",
      "Estimating parameters for 131...\n",
      "Estimating parameters for 132...\n",
      "Estimating parameters for 133...\n",
      "Estimating parameters for 135...\n",
      "Estimating parameters for 136...\n",
      "Estimating parameters for 137...\n",
      "Estimating parameters for 138...\n"
     ]
    }
   ],
   "source": [
    "fixed = {}\n",
    "var_names = ['gamma', 'alpha', 'tau', 'w']\n",
    "var_bounds = {'alpha': [0, 1], 'gamma': [0, 1], 'tau': [0, 10], 'w':[0,1]}\n",
    "results = fit.fit_induct_indiv(struct_all, induct_all, fixed, var_names, var_bounds, comm=comm)"
   ]
  },
  {
   "cell_type": "code",
   "execution_count": 13,
   "metadata": {
    "pycharm": {
     "is_executing": false
    }
   },
   "outputs": [
    {
     "data": {
      "text/html": [
       "<div>\n",
       "<style scoped>\n",
       "    .dataframe tbody tr th:only-of-type {\n",
       "        vertical-align: middle;\n",
       "    }\n",
       "\n",
       "    .dataframe tbody tr th {\n",
       "        vertical-align: top;\n",
       "    }\n",
       "\n",
       "    .dataframe thead th {\n",
       "        text-align: right;\n",
       "    }\n",
       "</style>\n",
       "<table border=\"1\" class=\"dataframe\">\n",
       "  <thead>\n",
       "    <tr style=\"text-align: right;\">\n",
       "      <th></th>\n",
       "      <th>gamma</th>\n",
       "      <th>alpha</th>\n",
       "      <th>tau</th>\n",
       "      <th>w</th>\n",
       "      <th>log_like</th>\n",
       "    </tr>\n",
       "    <tr>\n",
       "      <th>subject</th>\n",
       "      <th></th>\n",
       "      <th></th>\n",
       "      <th></th>\n",
       "      <th></th>\n",
       "      <th></th>\n",
       "    </tr>\n",
       "  </thead>\n",
       "  <tbody>\n",
       "    <tr>\n",
       "      <th>100</th>\n",
       "      <td>2.440803e-08</td>\n",
       "      <td>3.395767e-01</td>\n",
       "      <td>10.000000</td>\n",
       "      <td>1.000000</td>\n",
       "      <td>-29.174124</td>\n",
       "    </tr>\n",
       "    <tr>\n",
       "      <th>101</th>\n",
       "      <td>9.922276e-01</td>\n",
       "      <td>7.208110e-01</td>\n",
       "      <td>1.052640</td>\n",
       "      <td>0.941510</td>\n",
       "      <td>-25.281242</td>\n",
       "    </tr>\n",
       "    <tr>\n",
       "      <th>102</th>\n",
       "      <td>1.153689e-05</td>\n",
       "      <td>9.514168e-08</td>\n",
       "      <td>0.000007</td>\n",
       "      <td>0.999989</td>\n",
       "      <td>-18.844310</td>\n",
       "    </tr>\n",
       "    <tr>\n",
       "      <th>103</th>\n",
       "      <td>1.607588e-10</td>\n",
       "      <td>9.985816e-01</td>\n",
       "      <td>0.001456</td>\n",
       "      <td>0.999818</td>\n",
       "      <td>-24.368329</td>\n",
       "    </tr>\n",
       "    <tr>\n",
       "      <th>104</th>\n",
       "      <td>1.178204e-06</td>\n",
       "      <td>9.999776e-01</td>\n",
       "      <td>0.557946</td>\n",
       "      <td>0.999981</td>\n",
       "      <td>-27.130996</td>\n",
       "    </tr>\n",
       "    <tr>\n",
       "      <th>105</th>\n",
       "      <td>1.000000e+00</td>\n",
       "      <td>1.713563e-01</td>\n",
       "      <td>0.464303</td>\n",
       "      <td>0.717960</td>\n",
       "      <td>-22.699497</td>\n",
       "    </tr>\n",
       "    <tr>\n",
       "      <th>106</th>\n",
       "      <td>3.603481e-09</td>\n",
       "      <td>3.070355e-01</td>\n",
       "      <td>0.666971</td>\n",
       "      <td>0.633968</td>\n",
       "      <td>-54.197595</td>\n",
       "    </tr>\n",
       "    <tr>\n",
       "      <th>108</th>\n",
       "      <td>2.404760e-01</td>\n",
       "      <td>1.000000e+00</td>\n",
       "      <td>1.482057</td>\n",
       "      <td>0.790982</td>\n",
       "      <td>-28.635990</td>\n",
       "    </tr>\n",
       "    <tr>\n",
       "      <th>109</th>\n",
       "      <td>4.374931e-04</td>\n",
       "      <td>3.552595e-02</td>\n",
       "      <td>0.131406</td>\n",
       "      <td>0.871585</td>\n",
       "      <td>-20.123489</td>\n",
       "    </tr>\n",
       "    <tr>\n",
       "      <th>110</th>\n",
       "      <td>1.000000e+00</td>\n",
       "      <td>9.170324e-01</td>\n",
       "      <td>1.167655</td>\n",
       "      <td>1.000000</td>\n",
       "      <td>-24.794246</td>\n",
       "    </tr>\n",
       "    <tr>\n",
       "      <th>111</th>\n",
       "      <td>1.000000e+00</td>\n",
       "      <td>8.005207e-01</td>\n",
       "      <td>1.890546</td>\n",
       "      <td>0.272111</td>\n",
       "      <td>-27.886192</td>\n",
       "    </tr>\n",
       "    <tr>\n",
       "      <th>112</th>\n",
       "      <td>3.186819e-06</td>\n",
       "      <td>1.000000e+00</td>\n",
       "      <td>0.719211</td>\n",
       "      <td>0.992634</td>\n",
       "      <td>-28.147946</td>\n",
       "    </tr>\n",
       "    <tr>\n",
       "      <th>113</th>\n",
       "      <td>9.960375e-01</td>\n",
       "      <td>3.136724e-01</td>\n",
       "      <td>0.435194</td>\n",
       "      <td>0.872836</td>\n",
       "      <td>-25.155553</td>\n",
       "    </tr>\n",
       "    <tr>\n",
       "      <th>114</th>\n",
       "      <td>9.917928e-01</td>\n",
       "      <td>7.636825e-09</td>\n",
       "      <td>7.981611</td>\n",
       "      <td>0.999392</td>\n",
       "      <td>-29.112182</td>\n",
       "    </tr>\n",
       "    <tr>\n",
       "      <th>115</th>\n",
       "      <td>9.354172e-01</td>\n",
       "      <td>1.000000e+00</td>\n",
       "      <td>2.517533</td>\n",
       "      <td>1.000000</td>\n",
       "      <td>-28.333672</td>\n",
       "    </tr>\n",
       "    <tr>\n",
       "      <th>116</th>\n",
       "      <td>2.778559e-09</td>\n",
       "      <td>4.324348e-01</td>\n",
       "      <td>0.190375</td>\n",
       "      <td>1.000000</td>\n",
       "      <td>-25.605297</td>\n",
       "    </tr>\n",
       "    <tr>\n",
       "      <th>117</th>\n",
       "      <td>1.124022e-10</td>\n",
       "      <td>9.958288e-01</td>\n",
       "      <td>5.053381</td>\n",
       "      <td>1.000000</td>\n",
       "      <td>-29.038292</td>\n",
       "    </tr>\n",
       "    <tr>\n",
       "      <th>119</th>\n",
       "      <td>8.852666e-01</td>\n",
       "      <td>5.735125e-01</td>\n",
       "      <td>0.438661</td>\n",
       "      <td>0.664787</td>\n",
       "      <td>-23.449790</td>\n",
       "    </tr>\n",
       "    <tr>\n",
       "      <th>120</th>\n",
       "      <td>1.000000e+00</td>\n",
       "      <td>9.704587e-01</td>\n",
       "      <td>4.332400</td>\n",
       "      <td>1.000000</td>\n",
       "      <td>-26.996381</td>\n",
       "    </tr>\n",
       "    <tr>\n",
       "      <th>121</th>\n",
       "      <td>6.565661e-01</td>\n",
       "      <td>3.745675e-02</td>\n",
       "      <td>0.996709</td>\n",
       "      <td>0.000000</td>\n",
       "      <td>-24.536832</td>\n",
       "    </tr>\n",
       "    <tr>\n",
       "      <th>122</th>\n",
       "      <td>1.832565e-03</td>\n",
       "      <td>9.997028e-01</td>\n",
       "      <td>0.001408</td>\n",
       "      <td>0.998822</td>\n",
       "      <td>-21.107921</td>\n",
       "    </tr>\n",
       "    <tr>\n",
       "      <th>123</th>\n",
       "      <td>8.733794e-01</td>\n",
       "      <td>1.000000e+00</td>\n",
       "      <td>1.994873</td>\n",
       "      <td>0.619108</td>\n",
       "      <td>-28.568803</td>\n",
       "    </tr>\n",
       "    <tr>\n",
       "      <th>124</th>\n",
       "      <td>6.064752e-02</td>\n",
       "      <td>1.737247e-07</td>\n",
       "      <td>0.000003</td>\n",
       "      <td>1.000000</td>\n",
       "      <td>-25.271190</td>\n",
       "    </tr>\n",
       "    <tr>\n",
       "      <th>125</th>\n",
       "      <td>1.000000e+00</td>\n",
       "      <td>8.971314e-01</td>\n",
       "      <td>4.246959</td>\n",
       "      <td>1.000000</td>\n",
       "      <td>-28.089695</td>\n",
       "    </tr>\n",
       "    <tr>\n",
       "      <th>126</th>\n",
       "      <td>9.157122e-01</td>\n",
       "      <td>1.000000e+00</td>\n",
       "      <td>5.827546</td>\n",
       "      <td>1.000000</td>\n",
       "      <td>-28.942414</td>\n",
       "    </tr>\n",
       "    <tr>\n",
       "      <th>127</th>\n",
       "      <td>1.000000e+00</td>\n",
       "      <td>3.932992e-01</td>\n",
       "      <td>1.022487</td>\n",
       "      <td>0.455953</td>\n",
       "      <td>-26.317157</td>\n",
       "    </tr>\n",
       "    <tr>\n",
       "      <th>128</th>\n",
       "      <td>1.000000e+00</td>\n",
       "      <td>8.060161e-01</td>\n",
       "      <td>4.213673</td>\n",
       "      <td>1.000000</td>\n",
       "      <td>-28.853414</td>\n",
       "    </tr>\n",
       "    <tr>\n",
       "      <th>129</th>\n",
       "      <td>0.000000e+00</td>\n",
       "      <td>1.000000e+00</td>\n",
       "      <td>7.326057</td>\n",
       "      <td>1.000000</td>\n",
       "      <td>-28.984991</td>\n",
       "    </tr>\n",
       "    <tr>\n",
       "      <th>130</th>\n",
       "      <td>1.328760e-01</td>\n",
       "      <td>4.869974e-01</td>\n",
       "      <td>0.691123</td>\n",
       "      <td>0.000000</td>\n",
       "      <td>-20.450334</td>\n",
       "    </tr>\n",
       "    <tr>\n",
       "      <th>131</th>\n",
       "      <td>9.391278e-01</td>\n",
       "      <td>1.000000e+00</td>\n",
       "      <td>0.824038</td>\n",
       "      <td>0.414741</td>\n",
       "      <td>-25.197652</td>\n",
       "    </tr>\n",
       "    <tr>\n",
       "      <th>132</th>\n",
       "      <td>4.360646e-06</td>\n",
       "      <td>7.726062e-02</td>\n",
       "      <td>0.097272</td>\n",
       "      <td>1.000000</td>\n",
       "      <td>-25.589665</td>\n",
       "    </tr>\n",
       "    <tr>\n",
       "      <th>133</th>\n",
       "      <td>1.000000e+00</td>\n",
       "      <td>3.695602e-01</td>\n",
       "      <td>0.634134</td>\n",
       "      <td>0.429924</td>\n",
       "      <td>-23.633766</td>\n",
       "    </tr>\n",
       "    <tr>\n",
       "      <th>135</th>\n",
       "      <td>3.184051e-01</td>\n",
       "      <td>2.973807e-01</td>\n",
       "      <td>0.102763</td>\n",
       "      <td>0.864980</td>\n",
       "      <td>-16.199360</td>\n",
       "    </tr>\n",
       "    <tr>\n",
       "      <th>136</th>\n",
       "      <td>3.171808e-01</td>\n",
       "      <td>3.817286e-09</td>\n",
       "      <td>9.149936</td>\n",
       "      <td>0.999629</td>\n",
       "      <td>-29.112182</td>\n",
       "    </tr>\n",
       "    <tr>\n",
       "      <th>137</th>\n",
       "      <td>1.063006e-07</td>\n",
       "      <td>3.555459e-01</td>\n",
       "      <td>0.403234</td>\n",
       "      <td>1.000000</td>\n",
       "      <td>-28.106841</td>\n",
       "    </tr>\n",
       "    <tr>\n",
       "      <th>138</th>\n",
       "      <td>9.923657e-01</td>\n",
       "      <td>9.974922e-01</td>\n",
       "      <td>5.168328</td>\n",
       "      <td>1.000000</td>\n",
       "      <td>-25.638625</td>\n",
       "    </tr>\n",
       "  </tbody>\n",
       "</table>\n",
       "</div>"
      ],
      "text/plain": [
       "                gamma         alpha        tau         w   log_like\n",
       "subject                                                            \n",
       "100      2.440803e-08  3.395767e-01  10.000000  1.000000 -29.174124\n",
       "101      9.922276e-01  7.208110e-01   1.052640  0.941510 -25.281242\n",
       "102      1.153689e-05  9.514168e-08   0.000007  0.999989 -18.844310\n",
       "103      1.607588e-10  9.985816e-01   0.001456  0.999818 -24.368329\n",
       "104      1.178204e-06  9.999776e-01   0.557946  0.999981 -27.130996\n",
       "105      1.000000e+00  1.713563e-01   0.464303  0.717960 -22.699497\n",
       "106      3.603481e-09  3.070355e-01   0.666971  0.633968 -54.197595\n",
       "108      2.404760e-01  1.000000e+00   1.482057  0.790982 -28.635990\n",
       "109      4.374931e-04  3.552595e-02   0.131406  0.871585 -20.123489\n",
       "110      1.000000e+00  9.170324e-01   1.167655  1.000000 -24.794246\n",
       "111      1.000000e+00  8.005207e-01   1.890546  0.272111 -27.886192\n",
       "112      3.186819e-06  1.000000e+00   0.719211  0.992634 -28.147946\n",
       "113      9.960375e-01  3.136724e-01   0.435194  0.872836 -25.155553\n",
       "114      9.917928e-01  7.636825e-09   7.981611  0.999392 -29.112182\n",
       "115      9.354172e-01  1.000000e+00   2.517533  1.000000 -28.333672\n",
       "116      2.778559e-09  4.324348e-01   0.190375  1.000000 -25.605297\n",
       "117      1.124022e-10  9.958288e-01   5.053381  1.000000 -29.038292\n",
       "119      8.852666e-01  5.735125e-01   0.438661  0.664787 -23.449790\n",
       "120      1.000000e+00  9.704587e-01   4.332400  1.000000 -26.996381\n",
       "121      6.565661e-01  3.745675e-02   0.996709  0.000000 -24.536832\n",
       "122      1.832565e-03  9.997028e-01   0.001408  0.998822 -21.107921\n",
       "123      8.733794e-01  1.000000e+00   1.994873  0.619108 -28.568803\n",
       "124      6.064752e-02  1.737247e-07   0.000003  1.000000 -25.271190\n",
       "125      1.000000e+00  8.971314e-01   4.246959  1.000000 -28.089695\n",
       "126      9.157122e-01  1.000000e+00   5.827546  1.000000 -28.942414\n",
       "127      1.000000e+00  3.932992e-01   1.022487  0.455953 -26.317157\n",
       "128      1.000000e+00  8.060161e-01   4.213673  1.000000 -28.853414\n",
       "129      0.000000e+00  1.000000e+00   7.326057  1.000000 -28.984991\n",
       "130      1.328760e-01  4.869974e-01   0.691123  0.000000 -20.450334\n",
       "131      9.391278e-01  1.000000e+00   0.824038  0.414741 -25.197652\n",
       "132      4.360646e-06  7.726062e-02   0.097272  1.000000 -25.589665\n",
       "133      1.000000e+00  3.695602e-01   0.634134  0.429924 -23.633766\n",
       "135      3.184051e-01  2.973807e-01   0.102763  0.864980 -16.199360\n",
       "136      3.171808e-01  3.817286e-09   9.149936  0.999629 -29.112182\n",
       "137      1.063006e-07  3.555459e-01   0.403234  1.000000 -28.106841\n",
       "138      9.923657e-01  9.974922e-01   5.168328  1.000000 -25.638625"
      ]
     },
     "execution_count": 13,
     "metadata": {},
     "output_type": "execute_result"
    }
   ],
   "source": [
    "results = results.set_index('subject')\n",
    "results"
   ]
  },
  {
   "cell_type": "code",
   "execution_count": 14,
   "metadata": {
    "pycharm": {
     "is_executing": false
    }
   },
   "outputs": [],
   "source": [
    "from tesser import fit"
   ]
  },
  {
   "cell_type": "code",
   "execution_count": 19,
   "metadata": {
    "pycharm": {
     "is_executing": false
    }
   },
   "outputs": [],
   "source": [
    "res_list = []\n",
    "for subject in results.index.unique():\n",
    "    subj_filter = f'SubjNum == {subject}'\n",
    "    subj_struct = struct_all.query(subj_filter)\n",
    "    subj_induct = induct_all.query(subj_filter)\n",
    "    subj_param = results.loc[subject]\n",
    "    param = {'alpha': subj_param['alpha'], 'gamma': subj_param['gamma'],\n",
    "             'tau': subj_param['tau'],'w': subj_param['w']}\n",
    "    res = fit.assess_induct_fit_subject_hybrid(subj_struct, subj_induct, param, comm=comm, choice_rule='softmax')\n",
    "    res_list.append(res)\n",
    "fitted = pd.concat(res_list, axis=0)"
   ]
  },
  {
   "cell_type": "code",
   "execution_count": 41,
   "metadata": {
    "pycharm": {
     "is_executing": false
    }
   },
   "outputs": [
    {
     "data": {
      "image/png": "[encoded data removed]",
      "text/plain": [
       "<Figure size 432x288 with 1 Axes>"
      ]
     },
     "metadata": {
      "needs_background": "light"
     },
     "output_type": "display_data"
    }
   ],
   "source": [
    "m = fitted.groupby(['Source', 'SubjNum', 'Environment'])['Accuracy'].mean().unstack(level=0)\n",
    "g = sns.scatterplot(x='Model', y='Data', hue='Environment', data=m.reset_index());\n",
    "g.set_xlim(0, 1.02);\n",
    "g.set_ylim(0, 1.02);\n",
    "g.set_aspect(1);\n",
    "g.set_title('Individual accuracies data vs model \\n by enviorment using a softmax choice rule function')\n",
    "g.plot((0, 1), (0, 1), '-k');\n",
    "fig = g.get_figure()\n",
    "fig.savefig('enviorment_plot.png')"
   ]
  },
  {
   "cell_type": "code",
   "execution_count": 42,
   "metadata": {
    "pycharm": {
     "is_executing": false
    }
   },
   "outputs": [
    {
     "data": {
      "image/png": "[encoded data removed]",
      "text/plain": [
       "<Figure size 432x288 with 1 Axes>"
      ]
     },
     "metadata": {
      "needs_background": "light"
     },
     "output_type": "display_data"
    }
   ],
   "source": [
    "m = fitted.groupby(['Source', 'SubjNum', 'QuestType'])['Accuracy'].mean().unstack(level=0)\n",
    "g = sns.scatterplot(x='Model', y='Data', hue='QuestType', data=m.reset_index());\n",
    "g.set_xlim(0, 1.02);\n",
    "g.set_ylim(0, 1.02);\n",
    "g.set_aspect(1);\n",
    "g.set_title('Individual accuracies data vs model \\n by question type using a softmax choice rule function')\n",
    "g.plot((0, 1), (0, 1), '-k');\n",
    "fig = g.get_figure()\n",
    "fig.savefig('question_plot.png')"
   ]
  },
  {
   "cell_type": "code",
   "execution_count": 45,
   "metadata": {
    "pycharm": {
     "is_executing": false
    }
   },
   "outputs": [
    {
     "data": {
      "image/png": "[encoded data removed]",
      "text/plain": [
       "<Figure size 426x360 with 1 Axes>"
      ]
     },
     "metadata": {
      "needs_background": "light"
     },
     "output_type": "display_data"
    }
   ],
   "source": [
    "m = fitted.groupby(['Source', 'SubjNum', 'Environment'])['Accuracy'].mean()\n",
    "g = sns.catplot(kind='point', x='Environment', y='Accuracy', \n",
    "                hue='Source', dodge=True, data=m.reset_index())\n",
    "g.set(ylim=(0, 1.02));\n"
   ]
  },
  {
   "cell_type": "code",
   "execution_count": 46,
   "metadata": {
    "pycharm": {
     "is_executing": false
    }
   },
   "outputs": [
    {
     "data": {
      "image/png": "[encoded data removed]",
      "text/plain": [
       "<Figure size 426x360 with 1 Axes>"
      ]
     },
     "metadata": {
      "needs_background": "light"
     },
     "output_type": "display_data"
    }
   ],
   "source": [
    "m = fitted.groupby(['Source', 'SubjNum', 'QuestType'])['Accuracy'].mean()\n",
    "g = sns.catplot(kind='point', x='QuestType', y='Accuracy', \n",
    "                hue='Source', dodge=True, data=m.reset_index())\n",
    "g.set(ylim=(0, 1.02));\n"
   ]
  },
  {
   "cell_type": "code",
   "execution_count": 25,
   "metadata": {
    "pycharm": {
     "is_executing": false
    }
   },
   "outputs": [],
   "source": [
    "np.savetxt(r'/home/rodrigo/Documents/preston_labs/tesser_successor/Data/indiv_params_softmax.txt', results, fmt='%d')"
   ]
  },
  {
   "cell_type": "code",
   "execution_count": null,
   "metadata": {},
   "outputs": [],
   "source": []
  }
 ],
 "metadata": {
  "kernelspec": {
   "display_name": "Python 3",
   "language": "python",
   "name": "python3"
  },
  "language_info": {
   "codemirror_mode": {
    "name": "ipython",
    "version": 3
   },
   "file_extension": ".py",
   "mimetype": "text/x-python",
   "name": "python",
   "nbconvert_exporter": "python",
   "pygments_lexer": "ipython3",
   "version": "3.7.6"
  },
  "pycharm": {
   "stem_cell": {
    "cell_type": "raw",
    "metadata": {
     "collapsed": false
    },
    "source": []
   }
  }
 },
 "nbformat": 4,
 "nbformat_minor": 4
}
