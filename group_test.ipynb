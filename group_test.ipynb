{
 "cells": [
  {
   "cell_type": "code",
   "execution_count": 7,
   "metadata": {
    "pycharm": {
     "is_executing": false,
     "name": "#%%\n"
    }
   },
   "outputs": [],
   "source": [
    "import pandas as pd\n",
    "import seaborn as sns\n",
    "import numpy as np\n",
    "from tesser import fit\n",
    "from tesser import util\n",
    "from tesser import tasks"
   ]
  },
  {
   "cell_type": "code",
   "execution_count": 8,
   "metadata": {
    "pycharm": {
     "is_executing": false,
     "name": "#%%\n"
    }
   },
   "outputs": [],
   "source": [
    "\n",
    "data_dir = \"/home/rodrigo/Dropbox/tesser_successor/Data/\""
   ]
  },
  {
   "cell_type": "code",
   "execution_count": 9,
   "metadata": {
    "pycharm": {
     "is_executing": false,
     "name": "#%%\n"
    }
   },
   "outputs": [],
   "source": [
    "induct_all = util.load_induct(data_dir)\n",
    "struct_all = util.load_struct(data_dir)"
   ]
  },
  {
   "cell_type": "code",
   "execution_count": 10,
   "metadata": {
    "pycharm": {
     "is_executing": false,
     "name": "#%%\n"
    }
   },
   "outputs": [
    {
     "data": {
      "text/plain": [
       "array([100, 101, 102, 103, 104, 105, 106, 108, 109, 110, 111, 112, 113,\n",
       "       114, 115, 116, 117, 119, 120, 121, 122, 123, 124, 125, 126, 127,\n",
       "       128, 129, 130, 131, 132, 133, 135, 136, 137, 138])"
      ]
     },
     "execution_count": 10,
     "metadata": {},
     "output_type": "execute_result"
    }
   ],
   "source": [
    "struct_all.SubjNum.unique()"
   ]
  },
  {
   "cell_type": "code",
   "execution_count": 11,
   "metadata": {
    "pycharm": {
     "is_executing": false,
     "name": "#%%\n"
    }
   },
   "outputs": [
    {
     "data": {
      "text/plain": [
       "({'gamma': 0.6273130680196335,\n",
       "  'alpha': 0.6076447000389573,\n",
       "  'tau': 9.887333429247505},\n",
       " -8623.005462764622)"
      ]
     },
     "execution_count": 11,
     "metadata": {},
     "output_type": "execute_result"
    }
   ],
   "source": [
    "fixed = {}\n",
    "var_names = ['gamma', 'alpha', 'tau']\n",
    "var_bounds = {'alpha': [0, 1], 'gamma': [0, 1], 'tau': [0, 10]}\n",
    "fit.fit_induct(struct_all, induct_all, fixed, var_names, var_bounds,\n",
    "               verbose=False)"
   ]
  },
  {
   "cell_type": "code",
   "execution_count": null,
   "metadata": {
    "pycharm": {
     "is_executing": false,
     "name": "#%%\n"
    }
   },
   "outputs": [],
   "source": [
    "fixed = {'alpha': 0.3}\n",
    "var_names = ['gamma', 'tau']\n",
    "var_bounds = {'gamma': [0, 1], 'tau': [0, 10]}\n",
    "fit.fit_induct(struct_all, induct_all, fixed, var_names, var_bounds,\n",
    "               verbose=False)\n"
   ]
  },
  {
   "cell_type": "code",
   "execution_count": null,
   "metadata": {
    "pycharm": {
     "is_executing": false,
     "name": "#%%            \n"
    }
   },
   "outputs": [],
   "source": [
    "high =tasks.induct_avg_split_high(tasks.induct_avg_all(data_dir))\n",
    "hp = high.participant"
   ]
  },
  {
   "cell_type": "code",
   "execution_count": null,
   "metadata": {
    "pycharm": {
     "is_executing": false,
     "name": "#%%\n"
    }
   },
   "outputs": [],
   "source": [
    "struct_high_all = struct_all.copy()\n",
    "s_all = struct_high_all[struct_high_all['SubjNum'].isin(list(hp))]\n"
   ]
  },
  {
   "cell_type": "code",
   "execution_count": null,
   "metadata": {
    "pycharm": {
     "is_executing": false,
     "name": "#%%\n"
    }
   },
   "outputs": [],
   "source": [
    "induct_high_all = induct_all.copy()\n",
    "i_all = induct_high_all[induct_high_all['SubjNum'].isin(list(hp))]"
   ]
  },
  {
   "cell_type": "code",
   "execution_count": null,
   "metadata": {
    "pycharm": {
     "is_executing": false,
     "name": "#%%\n"
    }
   },
   "outputs": [],
   "source": [
    "# High performers\n",
    "\n",
    "fixed = {}\n",
    "var_names = ['gamma', 'alpha', 'tau']\n",
    "var_bounds = {'alpha': [0, 1], 'gamma': [0, 1], 'tau': [0, 10]}\n",
    "fit.fit_induct(s_all, i_all, fixed, var_names, var_bounds)"
   ]
  },
  {
   "cell_type": "markdown",
   "metadata": {
    "pycharm": {
     "name": "#%% md\n"
    }
   },
   "source": [
    "High performers as a group have a much lower likelihood -440.54\n"
   ]
  },
  {
   "cell_type": "code",
   "execution_count": null,
   "metadata": {
    "pycharm": {
     "is_executing": false,
     "name": "#%%\n"
    }
   },
   "outputs": [],
   "source": [
    "# low performers\n",
    "low =tasks.induct_avg_split_low(tasks.induct_avg_all(data_dir))\n",
    "lp = low.participant"
   ]
  },
  {
   "cell_type": "code",
   "execution_count": null,
   "metadata": {
    "pycharm": {
     "is_executing": false,
     "name": "#%%\n"
    }
   },
   "outputs": [],
   "source": [
    "\n",
    "struct_low_all = struct_all.copy()\n",
    "s_all = struct_low_all[struct_low_all['SubjNum'].isin(list(lp))]"
   ]
  },
  {
   "cell_type": "code",
   "execution_count": null,
   "metadata": {
    "pycharm": {
     "is_executing": false,
     "name": "#%%\n"
    }
   },
   "outputs": [],
   "source": [
    "induct_low_all = induct_all.copy()\n",
    "i_all = induct_low_all[induct_low_all['SubjNum'].isin(list(lp))]"
   ]
  },
  {
   "cell_type": "code",
   "execution_count": null,
   "metadata": {
    "pycharm": {
     "is_executing": false,
     "name": "#%%\n"
    }
   },
   "outputs": [],
   "source": [
    "# low performers logllikelihood \n",
    "fixed = {}\n",
    "var_names = ['gamma', 'alpha', 'tau']\n",
    "var_bounds = {'alpha': [0, 1], 'gamma': [0, 1], 'tau': [0, 10]}\n",
    "fit.fit_induct(s_all, i_all, fixed, var_names, var_bounds)"
   ]
  },
  {
   "cell_type": "markdown",
   "metadata": {},
   "source": [
    "Low performers as a group have a much lower likelihood\n"
   ]
  },
  {
   "cell_type": "markdown",
   "metadata": {},
   "source": [
    "The sum individual log likelihood is -978.07139 which is much lower the group fitting "
   ]
  },
  {
   "cell_type": "markdown",
   "metadata": {
    "pycharm": {
     "name": "#%% md\n"
    }
   },
   "source": [
    "{'gamma': 0.9608818840406562,\\n  'alpha': 0.0012432275910420404,\\"
   ]
  },
  {
   "cell_type": "code",
   "execution_count": null,
   "metadata": {
    "pycharm": {
     "is_executing": false,
     "name": "#%%\n"
    }
   },
   "outputs": [],
   "source": [
    "struct = util.load_struct_subject(data_dir, 108)\n",
    "induct = util.load_induct_subject(data_dir, 108)"
   ]
  },
  {
   "cell_type": "code",
   "execution_count": null,
   "metadata": {
    "pycharm": {
     "is_executing": false,
     "name": "#%%\n"
    }
   },
   "outputs": [],
   "source": [
    "from tesser import sr"
   ]
  },
  {
   "cell_type": "code",
   "execution_count": null,
   "metadata": {
    "pycharm": {
     "is_executing": false,
     "name": "#%% not fixed\n"
    }
   },
   "outputs": [],
   "source": [
    "#  not fixed\n",
    "sr_mats = sr.learn_sr(struct, 0.96088,0.00124)\n",
    "fig = sr.plot_sr(sr_mats)\n"
   ]
  },
  {
   "cell_type": "code",
   "execution_count": null,
   "metadata": {
    "pycharm": {
     "is_executing": false,
     "name": "#%%\n"
    }
   },
   "outputs": [],
   "source": [
    "#fixed alpha\n",
    "sr_mats = sr.learn_sr(struct, 0.7775984763983996,0.3)\n",
    "fig = sr.plot_sr(sr_mats)"
   ]
  },
  {
   "cell_type": "code",
   "execution_count": null,
   "metadata": {
    "pycharm": {
     "is_executing": false,
     "name": "#%%\n"
    }
   },
   "outputs": [],
   "source": [
    "# high performers\n",
    "sr_mats = sr.learn_sr(struct, 0.9066399717654446,0.05051122724126701)\n",
    "fig = sr.plot_sr(sr_mats)"
   ]
  },
  {
   "cell_type": "code",
   "execution_count": null,
   "metadata": {
    "pycharm": {
     "is_executing": false,
     "name": "#%%\n"
    }
   },
   "outputs": [],
   "source": [
    "sr_mats = sr.learn_sr(struct, 1,0.5829999328907534)\n",
    "fig = sr.plot_sr(sr_mats)\n"
   ]
  },
  {
   "cell_type": "code",
   "execution_count": null,
   "metadata": {
    "pycharm": {
     "is_executing": false,
     "name": "#%%\n"
    }
   },
   "outputs": [],
   "source": [
    "fixed = {'alpha': 0.05051122724126701, 'gamma': 0.7775984763983996,\n",
    "             'tau': 0.24866146359841507}\n",
    "var_names = ['gamma', 'alpha', 'tau']\n",
    "var_bounds = {'alpha': [0, 1], 'gamma': [0, 1], 'tau': [0, 10]}\n",
    "results = fit.fit_induct_indiv(struct_all, induct_all, fixed, var_names, var_bounds)"
   ]
  },
  {
   "cell_type": "code",
   "execution_count": null,
   "metadata": {
    "pycharm": {
     "is_executing": false,
     "name": "#%%\n"
    }
   },
   "outputs": [],
   "source": [
    "results = results.set_index('subject')\n",
    "results"
   ]
  },
  {
   "cell_type": "code",
   "execution_count": null,
   "metadata": {
    "pycharm": {
     "is_executing": false,
     "name": "#%%\n"
    }
   },
   "outputs": [],
   "source": [
    "res_list = []\n",
    "for subject in results.index.unique():\n",
    "    subj_filter = f'SubjNum == {subject}'\n",
    "    subj_struct = struct_all.query(subj_filter)\n",
    "    subj_induct = induct_all.query(subj_filter)\n",
    "    subj_param = results.loc[subject]\n",
    "    param = {'alpha': subj_param['alpha'], 'gamma': subj_param['gamma'],\n",
    "             'tau': subj_param['tau']}\n",
    "    res = fit.assess_induct_fit_subject(subj_struct, subj_induct, param)\n",
    "    res_list.append(res)\n",
    "fitted = pd.concat(res_list, axis=0)"
   ]
  },
  {
   "cell_type": "code",
   "execution_count": null,
   "metadata": {
    "pycharm": {
     "is_executing": false,
     "name": "#%%\n"
    }
   },
   "outputs": [],
   "source": [
    "m = fitted.groupby(['Source', 'SubjNum', 'Environment'])['Accuracy'].mean().unstack(level=0)\n",
    "g = sns.scatterplot(x='Model', y='Data', hue='Environment', data=m.reset_index());\n",
    "g.set_xlim(0, 1.02);\n",
    "g.set_ylim(0, 1.02);\n",
    "g.set_aspect(1);\n",
    "g.plot((0, 1), (0, 1), '-k');"
   ]
  },
  {
   "cell_type": "code",
   "execution_count": null,
   "metadata": {
    "pycharm": {
     "is_executing": false,
     "name": "#%%\n"
    }
   },
   "outputs": [],
   "source": [
    "m = fitted.groupby(['Source', 'SubjNum', 'QuestType'])['Accuracy'].mean().unstack(level=0)\n",
    "g = sns.scatterplot(x='Model', y='Data', hue='QuestType', data=m.reset_index());\n",
    "g.set_xlim(0, 1.02);\n",
    "g.set_ylim(0, 1.02);\n",
    "g.set_aspect(1);\n",
    "g.plot((0, 1), (0, 1), '-k');"
   ]
  },
  {
   "cell_type": "code",
   "execution_count": 13,
   "metadata": {
    "pycharm": {
     "is_executing": false,
     "name": "#%%\n"
    }
   },
   "outputs": [
    {
     "data": {
      "text/plain": [
       "({'w': 1.0,\n",
       "  'gamma': 1.0,\n",
       "  'alpha': 0.03864470194792587,\n",
       "  'tau': 0.2563582021204475},\n",
       " -1052.3476917776443)"
      ]
     },
     "execution_count": 13,
     "metadata": {},
     "output_type": "execute_result"
    }
   ],
   "source": [
    " \n",
    "fixed = {'w': 1.0}\n",
    "var_names = ['gamma', 'alpha', 'tau']\n",
    "var_bounds = {'alpha': [0, 1], 'gamma': [0, 1], 'tau': [0, 10]}\n",
    "fit.fit_induct(struct_all, induct_all, fixed, var_names, var_bounds,\n",
    "               verbose=False)"
   ]
  },
  {
   "cell_type": "code",
   "execution_count": 12,
   "metadata": {
    "pycharm": {
     "name": "#%%\n"
    }
   },
   "outputs": [
    {
     "data": {
      "text/plain": [
       "({'w': 0.0,\n",
       "  'gamma': 0.07272385710617596,\n",
       "  'alpha': 0.21136598219943692,\n",
       "  'tau': 1.0543420344106194},\n",
       " -8623.005462764622)"
      ]
     },
     "execution_count": 12,
     "metadata": {},
     "output_type": "execute_result"
    }
   ],
   "source": [
    "\n",
    "fixed = {'w': 0.0}\n",
    "var_names = ['gamma', 'alpha', 'tau']\n",
    "var_bounds = {'alpha': [0, 1], 'gamma': [0, 1], 'tau': [0, 10]}\n",
    "fit.fit_induct(struct_all, induct_all, fixed, var_names, var_bounds,\n",
    "               verbose=False)"
   ]
  },
  {
   "cell_type": "code",
   "execution_count": 20,
   "metadata": {},
   "outputs": [
    {
     "name": "stdout",
     "output_type": "stream",
     "text": [
      "Estimating parameters for 100...\n"
     ]
    },
    {
     "name": "stderr",
     "output_type": "stream",
     "text": [
      "/home/rodrigo/Documents/preston_labs/tesser_successor/tesser/fit.py:49: RuntimeWarning: invalid value encountered in double_scalars\n",
      "  prob = ((support[response] ** tau) /\n",
      "/home/rodrigo/Documents/preston_labs/tesser_successor/tesser/fit.py:50: RuntimeWarning: invalid value encountered in double_scalars\n",
      "  (support[0] ** tau + support[1] ** tau))\n",
      "/home/rodrigo/Documents/preston_labs/tesser_successor/tesser/fit.py:49: RuntimeWarning: invalid value encountered in double_scalars\n",
      "  prob = ((support[response] ** tau) /\n",
      "/home/rodrigo/Documents/preston_labs/tesser_successor/tesser/fit.py:50: RuntimeWarning: invalid value encountered in double_scalars\n",
      "  (support[0] ** tau + support[1] ** tau))\n"
     ]
    },
    {
     "name": "stdout",
     "output_type": "stream",
     "text": [
      "Estimating parameters for 101...\n"
     ]
    },
    {
     "name": "stderr",
     "output_type": "stream",
     "text": [
      "/home/rodrigo/Documents/preston_labs/tesser_successor/tesser/fit.py:49: RuntimeWarning: invalid value encountered in double_scalars\n",
      "  prob = ((support[response] ** tau) /\n",
      "/home/rodrigo/Documents/preston_labs/tesser_successor/tesser/fit.py:50: RuntimeWarning: invalid value encountered in double_scalars\n",
      "  (support[0] ** tau + support[1] ** tau))\n"
     ]
    },
    {
     "name": "stdout",
     "output_type": "stream",
     "text": [
      "Estimating parameters for 102...\n",
      "Estimating parameters for 103...\n",
      "Estimating parameters for 104...\n",
      "Estimating parameters for 105...\n"
     ]
    },
    {
     "name": "stderr",
     "output_type": "stream",
     "text": [
      "/home/rodrigo/Documents/preston_labs/tesser_successor/tesser/fit.py:50: RuntimeWarning: invalid value encountered in double_scalars\n",
      "  (support[0] ** tau + support[1] ** tau))\n",
      "/home/rodrigo/Documents/preston_labs/tesser_successor/tesser/fit.py:49: RuntimeWarning: invalid value encountered in double_scalars\n",
      "  prob = ((support[response] ** tau) /\n",
      "/home/rodrigo/Documents/preston_labs/tesser_successor/tesser/fit.py:49: RuntimeWarning: invalid value encountered in double_scalars\n",
      "  prob = ((support[response] ** tau) /\n",
      "/home/rodrigo/Documents/preston_labs/tesser_successor/tesser/fit.py:50: RuntimeWarning: invalid value encountered in double_scalars\n",
      "  (support[0] ** tau + support[1] ** tau))\n"
     ]
    },
    {
     "name": "stdout",
     "output_type": "stream",
     "text": [
      "Estimating parameters for 106...\n",
      "Estimating parameters for 108...\n",
      "Estimating parameters for 109...\n",
      "Estimating parameters for 110...\n"
     ]
    },
    {
     "name": "stderr",
     "output_type": "stream",
     "text": [
      "/home/rodrigo/Documents/preston_labs/tesser_successor/tesser/fit.py:49: RuntimeWarning: invalid value encountered in double_scalars\n",
      "  prob = ((support[response] ** tau) /\n",
      "/home/rodrigo/Documents/preston_labs/tesser_successor/tesser/fit.py:50: RuntimeWarning: invalid value encountered in double_scalars\n",
      "  (support[0] ** tau + support[1] ** tau))\n",
      "/home/rodrigo/Documents/preston_labs/tesser_successor/tesser/fit.py:49: RuntimeWarning: invalid value encountered in double_scalars\n",
      "  prob = ((support[response] ** tau) /\n",
      "/home/rodrigo/Documents/preston_labs/tesser_successor/tesser/fit.py:50: RuntimeWarning: invalid value encountered in double_scalars\n",
      "  (support[0] ** tau + support[1] ** tau))\n"
     ]
    },
    {
     "name": "stdout",
     "output_type": "stream",
     "text": [
      "Estimating parameters for 111...\n"
     ]
    },
    {
     "name": "stderr",
     "output_type": "stream",
     "text": [
      "/home/rodrigo/Documents/preston_labs/tesser_successor/tesser/fit.py:50: RuntimeWarning: invalid value encountered in double_scalars\n",
      "  (support[0] ** tau + support[1] ** tau))\n",
      "/home/rodrigo/Documents/preston_labs/tesser_successor/tesser/fit.py:49: RuntimeWarning: invalid value encountered in double_scalars\n",
      "  prob = ((support[response] ** tau) /\n",
      "/home/rodrigo/Documents/preston_labs/tesser_successor/tesser/fit.py:50: RuntimeWarning: invalid value encountered in double_scalars\n",
      "  (support[0] ** tau + support[1] ** tau))\n",
      "/home/rodrigo/Documents/preston_labs/tesser_successor/tesser/fit.py:49: RuntimeWarning: invalid value encountered in double_scalars\n",
      "  prob = ((support[response] ** tau) /\n",
      "/home/rodrigo/Documents/preston_labs/tesser_successor/tesser/fit.py:50: RuntimeWarning: invalid value encountered in double_scalars\n",
      "  (support[0] ** tau + support[1] ** tau))\n",
      "/home/rodrigo/Documents/preston_labs/tesser_successor/tesser/fit.py:49: RuntimeWarning: invalid value encountered in double_scalars\n",
      "  prob = ((support[response] ** tau) /\n",
      "/home/rodrigo/Documents/preston_labs/tesser_successor/tesser/fit.py:50: RuntimeWarning: invalid value encountered in double_scalars\n",
      "  (support[0] ** tau + support[1] ** tau))\n",
      "/home/rodrigo/Documents/preston_labs/tesser_successor/tesser/fit.py:49: RuntimeWarning: invalid value encountered in double_scalars\n",
      "  prob = ((support[response] ** tau) /\n",
      "/home/rodrigo/Documents/preston_labs/tesser_successor/tesser/fit.py:49: RuntimeWarning: invalid value encountered in double_scalars\n",
      "  prob = ((support[response] ** tau) /\n",
      "/home/rodrigo/Documents/preston_labs/tesser_successor/tesser/fit.py:50: RuntimeWarning: invalid value encountered in double_scalars\n",
      "  (support[0] ** tau + support[1] ** tau))\n",
      "/home/rodrigo/Documents/preston_labs/tesser_successor/tesser/fit.py:49: RuntimeWarning: invalid value encountered in double_scalars\n",
      "  prob = ((support[response] ** tau) /\n",
      "/home/rodrigo/Documents/preston_labs/tesser_successor/tesser/fit.py:50: RuntimeWarning: invalid value encountered in double_scalars\n",
      "  (support[0] ** tau + support[1] ** tau))\n",
      "/home/rodrigo/Documents/preston_labs/tesser_successor/tesser/fit.py:49: RuntimeWarning: invalid value encountered in double_scalars\n",
      "  prob = ((support[response] ** tau) /\n",
      "/home/rodrigo/Documents/preston_labs/tesser_successor/tesser/fit.py:50: RuntimeWarning: invalid value encountered in double_scalars\n",
      "  (support[0] ** tau + support[1] ** tau))\n"
     ]
    },
    {
     "name": "stdout",
     "output_type": "stream",
     "text": [
      "Estimating parameters for 112...\n"
     ]
    },
    {
     "name": "stderr",
     "output_type": "stream",
     "text": [
      "/home/rodrigo/Documents/preston_labs/tesser_successor/tesser/fit.py:50: RuntimeWarning: invalid value encountered in double_scalars\n",
      "  (support[0] ** tau + support[1] ** tau))\n",
      "/home/rodrigo/Documents/preston_labs/tesser_successor/tesser/fit.py:49: RuntimeWarning: invalid value encountered in double_scalars\n",
      "  prob = ((support[response] ** tau) /\n",
      "/home/rodrigo/Documents/preston_labs/tesser_successor/tesser/fit.py:50: RuntimeWarning: invalid value encountered in double_scalars\n",
      "  (support[0] ** tau + support[1] ** tau))\n",
      "/home/rodrigo/Documents/preston_labs/tesser_successor/tesser/fit.py:49: RuntimeWarning: invalid value encountered in double_scalars\n",
      "  prob = ((support[response] ** tau) /\n",
      "/home/rodrigo/Documents/preston_labs/tesser_successor/tesser/fit.py:50: RuntimeWarning: invalid value encountered in double_scalars\n",
      "  (support[0] ** tau + support[1] ** tau))\n",
      "/home/rodrigo/Documents/preston_labs/tesser_successor/tesser/fit.py:49: RuntimeWarning: invalid value encountered in double_scalars\n",
      "  prob = ((support[response] ** tau) /\n",
      "/home/rodrigo/Documents/preston_labs/tesser_successor/tesser/fit.py:50: RuntimeWarning: invalid value encountered in double_scalars\n",
      "  (support[0] ** tau + support[1] ** tau))\n",
      "/home/rodrigo/Documents/preston_labs/tesser_successor/tesser/fit.py:49: RuntimeWarning: invalid value encountered in double_scalars\n",
      "  prob = ((support[response] ** tau) /\n"
     ]
    },
    {
     "name": "stdout",
     "output_type": "stream",
     "text": [
      "Estimating parameters for 113...\n",
      "Estimating parameters for 114...\n",
      "Estimating parameters for 115...\n"
     ]
    },
    {
     "name": "stderr",
     "output_type": "stream",
     "text": [
      "/home/rodrigo/Documents/preston_labs/tesser_successor/tesser/fit.py:50: RuntimeWarning: invalid value encountered in double_scalars\n",
      "  (support[0] ** tau + support[1] ** tau))\n",
      "/home/rodrigo/Documents/preston_labs/tesser_successor/tesser/fit.py:49: RuntimeWarning: invalid value encountered in double_scalars\n",
      "  prob = ((support[response] ** tau) /\n",
      "/home/rodrigo/Documents/preston_labs/tesser_successor/tesser/fit.py:50: RuntimeWarning: invalid value encountered in double_scalars\n",
      "  (support[0] ** tau + support[1] ** tau))\n",
      "/home/rodrigo/Documents/preston_labs/tesser_successor/tesser/fit.py:49: RuntimeWarning: invalid value encountered in double_scalars\n",
      "  prob = ((support[response] ** tau) /\n",
      "/home/rodrigo/Documents/preston_labs/tesser_successor/tesser/fit.py:50: RuntimeWarning: invalid value encountered in double_scalars\n",
      "  (support[0] ** tau + support[1] ** tau))\n",
      "/home/rodrigo/Documents/preston_labs/tesser_successor/tesser/fit.py:49: RuntimeWarning: invalid value encountered in double_scalars\n",
      "  prob = ((support[response] ** tau) /\n",
      "/home/rodrigo/Documents/preston_labs/tesser_successor/tesser/fit.py:50: RuntimeWarning: invalid value encountered in double_scalars\n",
      "  (support[0] ** tau + support[1] ** tau))\n",
      "/home/rodrigo/Documents/preston_labs/tesser_successor/tesser/fit.py:49: RuntimeWarning: invalid value encountered in double_scalars\n",
      "  prob = ((support[response] ** tau) /\n",
      "/home/rodrigo/Documents/preston_labs/tesser_successor/tesser/fit.py:50: RuntimeWarning: invalid value encountered in double_scalars\n",
      "  (support[0] ** tau + support[1] ** tau))\n",
      "/home/rodrigo/Documents/preston_labs/tesser_successor/tesser/fit.py:49: RuntimeWarning: invalid value encountered in double_scalars\n",
      "  prob = ((support[response] ** tau) /\n"
     ]
    },
    {
     "name": "stdout",
     "output_type": "stream",
     "text": [
      "Estimating parameters for 116...\n"
     ]
    },
    {
     "name": "stderr",
     "output_type": "stream",
     "text": [
      "/home/rodrigo/Documents/preston_labs/tesser_successor/tesser/fit.py:50: RuntimeWarning: invalid value encountered in double_scalars\n",
      "  (support[0] ** tau + support[1] ** tau))\n",
      "/home/rodrigo/Documents/preston_labs/tesser_successor/tesser/fit.py:49: RuntimeWarning: invalid value encountered in double_scalars\n",
      "  prob = ((support[response] ** tau) /\n",
      "/home/rodrigo/Documents/preston_labs/tesser_successor/tesser/fit.py:50: RuntimeWarning: invalid value encountered in double_scalars\n",
      "  (support[0] ** tau + support[1] ** tau))\n",
      "/home/rodrigo/Documents/preston_labs/tesser_successor/tesser/fit.py:49: RuntimeWarning: invalid value encountered in double_scalars\n",
      "  prob = ((support[response] ** tau) /\n"
     ]
    },
    {
     "name": "stdout",
     "output_type": "stream",
     "text": [
      "Estimating parameters for 117...\n",
      "Estimating parameters for 119...\n",
      "Estimating parameters for 120...\n"
     ]
    },
    {
     "name": "stderr",
     "output_type": "stream",
     "text": [
      "/home/rodrigo/Documents/preston_labs/tesser_successor/tesser/fit.py:50: RuntimeWarning: invalid value encountered in double_scalars\n",
      "  (support[0] ** tau + support[1] ** tau))\n",
      "/home/rodrigo/Documents/preston_labs/tesser_successor/tesser/fit.py:50: RuntimeWarning: invalid value encountered in double_scalars\n",
      "  (support[0] ** tau + support[1] ** tau))\n",
      "/home/rodrigo/Documents/preston_labs/tesser_successor/tesser/fit.py:50: RuntimeWarning: invalid value encountered in double_scalars\n",
      "  (support[0] ** tau + support[1] ** tau))\n",
      "/home/rodrigo/Documents/preston_labs/tesser_successor/tesser/fit.py:50: RuntimeWarning: invalid value encountered in double_scalars\n",
      "  (support[0] ** tau + support[1] ** tau))\n",
      "/home/rodrigo/Documents/preston_labs/tesser_successor/tesser/fit.py:50: RuntimeWarning: invalid value encountered in double_scalars\n",
      "  (support[0] ** tau + support[1] ** tau))\n",
      "/home/rodrigo/Documents/preston_labs/tesser_successor/tesser/fit.py:50: RuntimeWarning: invalid value encountered in double_scalars\n",
      "  (support[0] ** tau + support[1] ** tau))\n",
      "/home/rodrigo/Documents/preston_labs/tesser_successor/tesser/fit.py:50: RuntimeWarning: invalid value encountered in double_scalars\n",
      "  (support[0] ** tau + support[1] ** tau))\n",
      "/home/rodrigo/Documents/preston_labs/tesser_successor/tesser/fit.py:50: RuntimeWarning: invalid value encountered in double_scalars\n",
      "  (support[0] ** tau + support[1] ** tau))\n",
      "/home/rodrigo/Documents/preston_labs/tesser_successor/tesser/fit.py:50: RuntimeWarning: invalid value encountered in double_scalars\n",
      "  (support[0] ** tau + support[1] ** tau))\n",
      "/home/rodrigo/Documents/preston_labs/tesser_successor/tesser/fit.py:50: RuntimeWarning: invalid value encountered in double_scalars\n",
      "  (support[0] ** tau + support[1] ** tau))\n",
      "/home/rodrigo/Documents/preston_labs/tesser_successor/tesser/fit.py:50: RuntimeWarning: invalid value encountered in double_scalars\n",
      "  (support[0] ** tau + support[1] ** tau))\n",
      "/home/rodrigo/Documents/preston_labs/tesser_successor/tesser/fit.py:50: RuntimeWarning: invalid value encountered in double_scalars\n",
      "  (support[0] ** tau + support[1] ** tau))\n",
      "/home/rodrigo/Documents/preston_labs/tesser_successor/tesser/fit.py:50: RuntimeWarning: invalid value encountered in double_scalars\n",
      "  (support[0] ** tau + support[1] ** tau))\n",
      "/home/rodrigo/Documents/preston_labs/tesser_successor/tesser/fit.py:50: RuntimeWarning: invalid value encountered in double_scalars\n",
      "  (support[0] ** tau + support[1] ** tau))\n",
      "/home/rodrigo/Documents/preston_labs/tesser_successor/tesser/fit.py:50: RuntimeWarning: invalid value encountered in double_scalars\n",
      "  (support[0] ** tau + support[1] ** tau))\n"
     ]
    },
    {
     "name": "stdout",
     "output_type": "stream",
     "text": [
      "Estimating parameters for 121...\n",
      "Estimating parameters for 122...\n",
      "Estimating parameters for 123...\n"
     ]
    },
    {
     "name": "stderr",
     "output_type": "stream",
     "text": [
      "/home/rodrigo/Documents/preston_labs/tesser_successor/tesser/fit.py:50: RuntimeWarning: invalid value encountered in double_scalars\n",
      "  (support[0] ** tau + support[1] ** tau))\n",
      "/home/rodrigo/Documents/preston_labs/tesser_successor/tesser/fit.py:49: RuntimeWarning: invalid value encountered in double_scalars\n",
      "  prob = ((support[response] ** tau) /\n",
      "/home/rodrigo/Documents/preston_labs/tesser_successor/tesser/fit.py:49: RuntimeWarning: invalid value encountered in double_scalars\n",
      "  prob = ((support[response] ** tau) /\n",
      "/home/rodrigo/Documents/preston_labs/tesser_successor/tesser/fit.py:50: RuntimeWarning: invalid value encountered in double_scalars\n",
      "  (support[0] ** tau + support[1] ** tau))\n",
      "/home/rodrigo/Documents/preston_labs/tesser_successor/tesser/fit.py:49: RuntimeWarning: invalid value encountered in double_scalars\n",
      "  prob = ((support[response] ** tau) /\n",
      "/home/rodrigo/Documents/preston_labs/tesser_successor/tesser/fit.py:50: RuntimeWarning: invalid value encountered in double_scalars\n",
      "  (support[0] ** tau + support[1] ** tau))\n",
      "/home/rodrigo/Documents/preston_labs/tesser_successor/tesser/fit.py:49: RuntimeWarning: invalid value encountered in double_scalars\n",
      "  prob = ((support[response] ** tau) /\n",
      "/home/rodrigo/Documents/preston_labs/tesser_successor/tesser/fit.py:50: RuntimeWarning: invalid value encountered in double_scalars\n",
      "  (support[0] ** tau + support[1] ** tau))\n",
      "/home/rodrigo/Documents/preston_labs/tesser_successor/tesser/fit.py:49: RuntimeWarning: invalid value encountered in double_scalars\n",
      "  prob = ((support[response] ** tau) /\n",
      "/home/rodrigo/Documents/preston_labs/tesser_successor/tesser/fit.py:50: RuntimeWarning: invalid value encountered in double_scalars\n",
      "  (support[0] ** tau + support[1] ** tau))\n",
      "/home/rodrigo/Documents/preston_labs/tesser_successor/tesser/fit.py:49: RuntimeWarning: invalid value encountered in double_scalars\n",
      "  prob = ((support[response] ** tau) /\n",
      "/home/rodrigo/Documents/preston_labs/tesser_successor/tesser/fit.py:50: RuntimeWarning: invalid value encountered in double_scalars\n",
      "  (support[0] ** tau + support[1] ** tau))\n",
      "/home/rodrigo/Documents/preston_labs/tesser_successor/tesser/fit.py:49: RuntimeWarning: invalid value encountered in double_scalars\n",
      "  prob = ((support[response] ** tau) /\n",
      "/home/rodrigo/Documents/preston_labs/tesser_successor/tesser/fit.py:50: RuntimeWarning: invalid value encountered in double_scalars\n",
      "  (support[0] ** tau + support[1] ** tau))\n",
      "/home/rodrigo/Documents/preston_labs/tesser_successor/tesser/fit.py:49: RuntimeWarning: invalid value encountered in double_scalars\n",
      "  prob = ((support[response] ** tau) /\n",
      "/home/rodrigo/Documents/preston_labs/tesser_successor/tesser/fit.py:50: RuntimeWarning: invalid value encountered in double_scalars\n",
      "  (support[0] ** tau + support[1] ** tau))\n",
      "/home/rodrigo/Documents/preston_labs/tesser_successor/tesser/fit.py:49: RuntimeWarning: invalid value encountered in double_scalars\n",
      "  prob = ((support[response] ** tau) /\n",
      "/home/rodrigo/Documents/preston_labs/tesser_successor/tesser/fit.py:50: RuntimeWarning: invalid value encountered in double_scalars\n",
      "  (support[0] ** tau + support[1] ** tau))\n",
      "/home/rodrigo/Documents/preston_labs/tesser_successor/tesser/fit.py:49: RuntimeWarning: invalid value encountered in double_scalars\n",
      "  prob = ((support[response] ** tau) /\n",
      "/home/rodrigo/Documents/preston_labs/tesser_successor/tesser/fit.py:50: RuntimeWarning: invalid value encountered in double_scalars\n",
      "  (support[0] ** tau + support[1] ** tau))\n",
      "/home/rodrigo/Documents/preston_labs/tesser_successor/tesser/fit.py:49: RuntimeWarning: invalid value encountered in double_scalars\n",
      "  prob = ((support[response] ** tau) /\n",
      "/home/rodrigo/Documents/preston_labs/tesser_successor/tesser/fit.py:50: RuntimeWarning: invalid value encountered in double_scalars\n",
      "  (support[0] ** tau + support[1] ** tau))\n",
      "/home/rodrigo/Documents/preston_labs/tesser_successor/tesser/fit.py:49: RuntimeWarning: invalid value encountered in double_scalars\n",
      "  prob = ((support[response] ** tau) /\n",
      "/home/rodrigo/Documents/preston_labs/tesser_successor/tesser/fit.py:50: RuntimeWarning: invalid value encountered in double_scalars\n",
      "  (support[0] ** tau + support[1] ** tau))\n",
      "/home/rodrigo/Documents/preston_labs/tesser_successor/tesser/fit.py:49: RuntimeWarning: invalid value encountered in double_scalars\n",
      "  prob = ((support[response] ** tau) /\n",
      "/home/rodrigo/Documents/preston_labs/tesser_successor/tesser/fit.py:50: RuntimeWarning: invalid value encountered in double_scalars\n",
      "  (support[0] ** tau + support[1] ** tau))\n",
      "/home/rodrigo/Documents/preston_labs/tesser_successor/tesser/fit.py:49: RuntimeWarning: invalid value encountered in double_scalars\n",
      "  prob = ((support[response] ** tau) /\n",
      "/home/rodrigo/Documents/preston_labs/tesser_successor/tesser/fit.py:50: RuntimeWarning: invalid value encountered in double_scalars\n",
      "  (support[0] ** tau + support[1] ** tau))\n",
      "/home/rodrigo/Documents/preston_labs/tesser_successor/tesser/fit.py:49: RuntimeWarning: invalid value encountered in double_scalars\n",
      "  prob = ((support[response] ** tau) /\n",
      "/home/rodrigo/Documents/preston_labs/tesser_successor/tesser/fit.py:50: RuntimeWarning: invalid value encountered in double_scalars\n",
      "  (support[0] ** tau + support[1] ** tau))\n",
      "/home/rodrigo/Documents/preston_labs/tesser_successor/tesser/fit.py:49: RuntimeWarning: invalid value encountered in double_scalars\n",
      "  prob = ((support[response] ** tau) /\n",
      "/home/rodrigo/Documents/preston_labs/tesser_successor/tesser/fit.py:50: RuntimeWarning: invalid value encountered in double_scalars\n",
      "  (support[0] ** tau + support[1] ** tau))\n",
      "/home/rodrigo/Documents/preston_labs/tesser_successor/tesser/fit.py:49: RuntimeWarning: invalid value encountered in double_scalars\n",
      "  prob = ((support[response] ** tau) /\n",
      "/home/rodrigo/Documents/preston_labs/tesser_successor/tesser/fit.py:50: RuntimeWarning: invalid value encountered in double_scalars\n",
      "  (support[0] ** tau + support[1] ** tau))\n",
      "/home/rodrigo/Documents/preston_labs/tesser_successor/tesser/fit.py:49: RuntimeWarning: invalid value encountered in double_scalars\n",
      "  prob = ((support[response] ** tau) /\n",
      "/home/rodrigo/Documents/preston_labs/tesser_successor/tesser/fit.py:50: RuntimeWarning: invalid value encountered in double_scalars\n",
      "  (support[0] ** tau + support[1] ** tau))\n",
      "/home/rodrigo/Documents/preston_labs/tesser_successor/tesser/fit.py:49: RuntimeWarning: invalid value encountered in double_scalars\n",
      "  prob = ((support[response] ** tau) /\n",
      "/home/rodrigo/Documents/preston_labs/tesser_successor/tesser/fit.py:50: RuntimeWarning: invalid value encountered in double_scalars\n",
      "  (support[0] ** tau + support[1] ** tau))\n",
      "/home/rodrigo/Documents/preston_labs/tesser_successor/tesser/fit.py:49: RuntimeWarning: invalid value encountered in double_scalars\n",
      "  prob = ((support[response] ** tau) /\n",
      "/home/rodrigo/Documents/preston_labs/tesser_successor/tesser/fit.py:50: RuntimeWarning: invalid value encountered in double_scalars\n",
      "  (support[0] ** tau + support[1] ** tau))\n",
      "/home/rodrigo/Documents/preston_labs/tesser_successor/tesser/fit.py:49: RuntimeWarning: invalid value encountered in double_scalars\n",
      "  prob = ((support[response] ** tau) /\n",
      "/home/rodrigo/Documents/preston_labs/tesser_successor/tesser/fit.py:50: RuntimeWarning: invalid value encountered in double_scalars\n",
      "  (support[0] ** tau + support[1] ** tau))\n",
      "/home/rodrigo/Documents/preston_labs/tesser_successor/tesser/fit.py:49: RuntimeWarning: invalid value encountered in double_scalars\n",
      "  prob = ((support[response] ** tau) /\n",
      "/home/rodrigo/Documents/preston_labs/tesser_successor/tesser/fit.py:50: RuntimeWarning: invalid value encountered in double_scalars\n",
      "  (support[0] ** tau + support[1] ** tau))\n",
      "/home/rodrigo/Documents/preston_labs/tesser_successor/tesser/fit.py:49: RuntimeWarning: invalid value encountered in double_scalars\n",
      "  prob = ((support[response] ** tau) /\n",
      "/home/rodrigo/Documents/preston_labs/tesser_successor/tesser/fit.py:50: RuntimeWarning: invalid value encountered in double_scalars\n",
      "  (support[0] ** tau + support[1] ** tau))\n",
      "/home/rodrigo/Documents/preston_labs/tesser_successor/tesser/fit.py:49: RuntimeWarning: invalid value encountered in double_scalars\n",
      "  prob = ((support[response] ** tau) /\n",
      "/home/rodrigo/Documents/preston_labs/tesser_successor/tesser/fit.py:50: RuntimeWarning: invalid value encountered in double_scalars\n",
      "  (support[0] ** tau + support[1] ** tau))\n"
     ]
    },
    {
     "name": "stderr",
     "output_type": "stream",
     "text": [
      "/home/rodrigo/Documents/preston_labs/tesser_successor/tesser/fit.py:49: RuntimeWarning: invalid value encountered in double_scalars\n",
      "  prob = ((support[response] ** tau) /\n",
      "/home/rodrigo/Documents/preston_labs/tesser_successor/tesser/fit.py:50: RuntimeWarning: invalid value encountered in double_scalars\n",
      "  (support[0] ** tau + support[1] ** tau))\n",
      "/home/rodrigo/Documents/preston_labs/tesser_successor/tesser/fit.py:49: RuntimeWarning: invalid value encountered in double_scalars\n",
      "  prob = ((support[response] ** tau) /\n",
      "/home/rodrigo/Documents/preston_labs/tesser_successor/tesser/fit.py:50: RuntimeWarning: invalid value encountered in double_scalars\n",
      "  (support[0] ** tau + support[1] ** tau))\n",
      "/home/rodrigo/Documents/preston_labs/tesser_successor/tesser/fit.py:49: RuntimeWarning: invalid value encountered in double_scalars\n",
      "  prob = ((support[response] ** tau) /\n",
      "/home/rodrigo/Documents/preston_labs/tesser_successor/tesser/fit.py:50: RuntimeWarning: invalid value encountered in double_scalars\n",
      "  (support[0] ** tau + support[1] ** tau))\n",
      "/home/rodrigo/Documents/preston_labs/tesser_successor/tesser/fit.py:49: RuntimeWarning: invalid value encountered in double_scalars\n",
      "  prob = ((support[response] ** tau) /\n",
      "/home/rodrigo/Documents/preston_labs/tesser_successor/tesser/fit.py:50: RuntimeWarning: invalid value encountered in double_scalars\n",
      "  (support[0] ** tau + support[1] ** tau))\n",
      "/home/rodrigo/Documents/preston_labs/tesser_successor/tesser/fit.py:50: RuntimeWarning: invalid value encountered in double_scalars\n",
      "  (support[0] ** tau + support[1] ** tau))\n",
      "/home/rodrigo/Documents/preston_labs/tesser_successor/tesser/fit.py:49: RuntimeWarning: invalid value encountered in double_scalars\n",
      "  prob = ((support[response] ** tau) /\n",
      "/home/rodrigo/Documents/preston_labs/tesser_successor/tesser/fit.py:49: RuntimeWarning: invalid value encountered in double_scalars\n",
      "  prob = ((support[response] ** tau) /\n",
      "/home/rodrigo/Documents/preston_labs/tesser_successor/tesser/fit.py:50: RuntimeWarning: invalid value encountered in double_scalars\n",
      "  (support[0] ** tau + support[1] ** tau))\n",
      "/home/rodrigo/Documents/preston_labs/tesser_successor/tesser/fit.py:49: RuntimeWarning: invalid value encountered in double_scalars\n",
      "  prob = ((support[response] ** tau) /\n",
      "/home/rodrigo/Documents/preston_labs/tesser_successor/tesser/fit.py:50: RuntimeWarning: invalid value encountered in double_scalars\n",
      "  (support[0] ** tau + support[1] ** tau))\n",
      "/home/rodrigo/Documents/preston_labs/tesser_successor/tesser/fit.py:49: RuntimeWarning: invalid value encountered in double_scalars\n",
      "  prob = ((support[response] ** tau) /\n",
      "/home/rodrigo/Documents/preston_labs/tesser_successor/tesser/fit.py:50: RuntimeWarning: invalid value encountered in double_scalars\n",
      "  (support[0] ** tau + support[1] ** tau))\n",
      "/home/rodrigo/Documents/preston_labs/tesser_successor/tesser/fit.py:49: RuntimeWarning: invalid value encountered in double_scalars\n",
      "  prob = ((support[response] ** tau) /\n",
      "/home/rodrigo/Documents/preston_labs/tesser_successor/tesser/fit.py:50: RuntimeWarning: invalid value encountered in double_scalars\n",
      "  (support[0] ** tau + support[1] ** tau))\n",
      "/home/rodrigo/Documents/preston_labs/tesser_successor/tesser/fit.py:50: RuntimeWarning: invalid value encountered in double_scalars\n",
      "  (support[0] ** tau + support[1] ** tau))\n",
      "/home/rodrigo/Documents/preston_labs/tesser_successor/tesser/fit.py:49: RuntimeWarning: invalid value encountered in double_scalars\n",
      "  prob = ((support[response] ** tau) /\n",
      "/home/rodrigo/Documents/preston_labs/tesser_successor/tesser/fit.py:49: RuntimeWarning: invalid value encountered in double_scalars\n",
      "  prob = ((support[response] ** tau) /\n",
      "/home/rodrigo/Documents/preston_labs/tesser_successor/tesser/fit.py:50: RuntimeWarning: invalid value encountered in double_scalars\n",
      "  (support[0] ** tau + support[1] ** tau))\n",
      "/home/rodrigo/Documents/preston_labs/tesser_successor/tesser/fit.py:50: RuntimeWarning: invalid value encountered in double_scalars\n",
      "  (support[0] ** tau + support[1] ** tau))\n",
      "/home/rodrigo/Documents/preston_labs/tesser_successor/tesser/fit.py:49: RuntimeWarning: invalid value encountered in double_scalars\n",
      "  prob = ((support[response] ** tau) /\n",
      "/home/rodrigo/Documents/preston_labs/tesser_successor/tesser/fit.py:49: RuntimeWarning: invalid value encountered in double_scalars\n",
      "  prob = ((support[response] ** tau) /\n",
      "/home/rodrigo/Documents/preston_labs/tesser_successor/tesser/fit.py:50: RuntimeWarning: invalid value encountered in double_scalars\n",
      "  (support[0] ** tau + support[1] ** tau))\n",
      "/home/rodrigo/Documents/preston_labs/tesser_successor/tesser/fit.py:50: RuntimeWarning: invalid value encountered in double_scalars\n",
      "  (support[0] ** tau + support[1] ** tau))\n",
      "/home/rodrigo/Documents/preston_labs/tesser_successor/tesser/fit.py:49: RuntimeWarning: invalid value encountered in double_scalars\n",
      "  prob = ((support[response] ** tau) /\n",
      "/home/rodrigo/Documents/preston_labs/tesser_successor/tesser/fit.py:49: RuntimeWarning: invalid value encountered in double_scalars\n",
      "  prob = ((support[response] ** tau) /\n",
      "/home/rodrigo/Documents/preston_labs/tesser_successor/tesser/fit.py:50: RuntimeWarning: invalid value encountered in double_scalars\n",
      "  (support[0] ** tau + support[1] ** tau))\n",
      "/home/rodrigo/Documents/preston_labs/tesser_successor/tesser/fit.py:50: RuntimeWarning: invalid value encountered in double_scalars\n",
      "  (support[0] ** tau + support[1] ** tau))\n",
      "/home/rodrigo/Documents/preston_labs/tesser_successor/tesser/fit.py:49: RuntimeWarning: invalid value encountered in double_scalars\n",
      "  prob = ((support[response] ** tau) /\n",
      "/home/rodrigo/Documents/preston_labs/tesser_successor/tesser/fit.py:49: RuntimeWarning: invalid value encountered in double_scalars\n",
      "  prob = ((support[response] ** tau) /\n",
      "/home/rodrigo/Documents/preston_labs/tesser_successor/tesser/fit.py:50: RuntimeWarning: invalid value encountered in double_scalars\n",
      "  (support[0] ** tau + support[1] ** tau))\n",
      "/home/rodrigo/Documents/preston_labs/tesser_successor/tesser/fit.py:50: RuntimeWarning: invalid value encountered in double_scalars\n",
      "  (support[0] ** tau + support[1] ** tau))\n",
      "/home/rodrigo/Documents/preston_labs/tesser_successor/tesser/fit.py:49: RuntimeWarning: invalid value encountered in double_scalars\n",
      "  prob = ((support[response] ** tau) /\n",
      "/home/rodrigo/Documents/preston_labs/tesser_successor/tesser/fit.py:49: RuntimeWarning: invalid value encountered in double_scalars\n",
      "  prob = ((support[response] ** tau) /\n",
      "/home/rodrigo/Documents/preston_labs/tesser_successor/tesser/fit.py:50: RuntimeWarning: invalid value encountered in double_scalars\n",
      "  (support[0] ** tau + support[1] ** tau))\n",
      "/home/rodrigo/Documents/preston_labs/tesser_successor/tesser/fit.py:49: RuntimeWarning: invalid value encountered in double_scalars\n",
      "  prob = ((support[response] ** tau) /\n",
      "/home/rodrigo/Documents/preston_labs/tesser_successor/tesser/fit.py:50: RuntimeWarning: invalid value encountered in double_scalars\n",
      "  (support[0] ** tau + support[1] ** tau))\n",
      "/home/rodrigo/Documents/preston_labs/tesser_successor/tesser/fit.py:50: RuntimeWarning: invalid value encountered in double_scalars\n",
      "  (support[0] ** tau + support[1] ** tau))\n",
      "/home/rodrigo/Documents/preston_labs/tesser_successor/tesser/fit.py:49: RuntimeWarning: invalid value encountered in double_scalars\n",
      "  prob = ((support[response] ** tau) /\n",
      "/home/rodrigo/Documents/preston_labs/tesser_successor/tesser/fit.py:49: RuntimeWarning: invalid value encountered in double_scalars\n",
      "  prob = ((support[response] ** tau) /\n",
      "/home/rodrigo/Documents/preston_labs/tesser_successor/tesser/fit.py:50: RuntimeWarning: invalid value encountered in double_scalars\n",
      "  (support[0] ** tau + support[1] ** tau))\n"
     ]
    },
    {
     "name": "stdout",
     "output_type": "stream",
     "text": [
      "Estimating parameters for 124...\n",
      "Estimating parameters for 125...\n",
      "Estimating parameters for 126...\n"
     ]
    },
    {
     "name": "stderr",
     "output_type": "stream",
     "text": [
      "/home/rodrigo/Documents/preston_labs/tesser_successor/tesser/fit.py:49: RuntimeWarning: invalid value encountered in double_scalars\n",
      "  prob = ((support[response] ** tau) /\n",
      "/home/rodrigo/Documents/preston_labs/tesser_successor/tesser/fit.py:50: RuntimeWarning: invalid value encountered in double_scalars\n",
      "  (support[0] ** tau + support[1] ** tau))\n",
      "/home/rodrigo/Documents/preston_labs/tesser_successor/tesser/fit.py:49: RuntimeWarning: invalid value encountered in double_scalars\n",
      "  prob = ((support[response] ** tau) /\n",
      "/home/rodrigo/Documents/preston_labs/tesser_successor/tesser/fit.py:50: RuntimeWarning: invalid value encountered in double_scalars\n",
      "  (support[0] ** tau + support[1] ** tau))\n"
     ]
    },
    {
     "name": "stdout",
     "output_type": "stream",
     "text": [
      "Estimating parameters for 127...\n",
      "Estimating parameters for 128...\n",
      "Estimating parameters for 129...\n",
      "Estimating parameters for 130...\n",
      "Estimating parameters for 131...\n",
      "Estimating parameters for 132...\n"
     ]
    },
    {
     "name": "stderr",
     "output_type": "stream",
     "text": [
      "/home/rodrigo/Documents/preston_labs/tesser_successor/tesser/fit.py:49: RuntimeWarning: invalid value encountered in double_scalars\n",
      "  prob = ((support[response] ** tau) /\n",
      "/home/rodrigo/Documents/preston_labs/tesser_successor/tesser/fit.py:50: RuntimeWarning: invalid value encountered in double_scalars\n",
      "  (support[0] ** tau + support[1] ** tau))\n",
      "/home/rodrigo/Documents/preston_labs/tesser_successor/tesser/fit.py:49: RuntimeWarning: invalid value encountered in double_scalars\n",
      "  prob = ((support[response] ** tau) /\n",
      "/home/rodrigo/Documents/preston_labs/tesser_successor/tesser/fit.py:50: RuntimeWarning: invalid value encountered in double_scalars\n",
      "  (support[0] ** tau + support[1] ** tau))\n",
      "/home/rodrigo/Documents/preston_labs/tesser_successor/tesser/fit.py:49: RuntimeWarning: invalid value encountered in double_scalars\n",
      "  prob = ((support[response] ** tau) /\n",
      "/home/rodrigo/Documents/preston_labs/tesser_successor/tesser/fit.py:50: RuntimeWarning: invalid value encountered in double_scalars\n",
      "  (support[0] ** tau + support[1] ** tau))\n"
     ]
    },
    {
     "name": "stdout",
     "output_type": "stream",
     "text": [
      "Estimating parameters for 133...\n",
      "Estimating parameters for 135...\n",
      "Estimating parameters for 136...\n",
      "Estimating parameters for 137...\n"
     ]
    },
    {
     "name": "stderr",
     "output_type": "stream",
     "text": [
      "/home/rodrigo/Documents/preston_labs/tesser_successor/tesser/fit.py:50: RuntimeWarning: invalid value encountered in double_scalars\n",
      "  (support[0] ** tau + support[1] ** tau))\n",
      "/home/rodrigo/Documents/preston_labs/tesser_successor/tesser/fit.py:49: RuntimeWarning: invalid value encountered in double_scalars\n",
      "  prob = ((support[response] ** tau) /\n",
      "/home/rodrigo/Documents/preston_labs/tesser_successor/tesser/fit.py:50: RuntimeWarning: invalid value encountered in double_scalars\n",
      "  (support[0] ** tau + support[1] ** tau))\n",
      "/home/rodrigo/Documents/preston_labs/tesser_successor/tesser/fit.py:49: RuntimeWarning: invalid value encountered in double_scalars\n",
      "  prob = ((support[response] ** tau) /\n",
      "/home/rodrigo/Documents/preston_labs/tesser_successor/tesser/fit.py:50: RuntimeWarning: invalid value encountered in double_scalars\n",
      "  (support[0] ** tau + support[1] ** tau))\n",
      "/home/rodrigo/Documents/preston_labs/tesser_successor/tesser/fit.py:49: RuntimeWarning: invalid value encountered in double_scalars\n",
      "  prob = ((support[response] ** tau) /\n",
      "/home/rodrigo/Documents/preston_labs/tesser_successor/tesser/fit.py:50: RuntimeWarning: invalid value encountered in double_scalars\n",
      "  (support[0] ** tau + support[1] ** tau))\n",
      "/home/rodrigo/Documents/preston_labs/tesser_successor/tesser/fit.py:49: RuntimeWarning: invalid value encountered in double_scalars\n",
      "  prob = ((support[response] ** tau) /\n",
      "/home/rodrigo/Documents/preston_labs/tesser_successor/tesser/fit.py:50: RuntimeWarning: invalid value encountered in double_scalars\n",
      "  (support[0] ** tau + support[1] ** tau))\n",
      "/home/rodrigo/Documents/preston_labs/tesser_successor/tesser/fit.py:49: RuntimeWarning: invalid value encountered in double_scalars\n",
      "  prob = ((support[response] ** tau) /\n",
      "/home/rodrigo/Documents/preston_labs/tesser_successor/tesser/fit.py:50: RuntimeWarning: invalid value encountered in double_scalars\n",
      "  (support[0] ** tau + support[1] ** tau))\n",
      "/home/rodrigo/Documents/preston_labs/tesser_successor/tesser/fit.py:49: RuntimeWarning: invalid value encountered in double_scalars\n",
      "  prob = ((support[response] ** tau) /\n",
      "/home/rodrigo/Documents/preston_labs/tesser_successor/tesser/fit.py:50: RuntimeWarning: invalid value encountered in double_scalars\n",
      "  (support[0] ** tau + support[1] ** tau))\n",
      "/home/rodrigo/Documents/preston_labs/tesser_successor/tesser/fit.py:50: RuntimeWarning: invalid value encountered in double_scalars\n",
      "  (support[0] ** tau + support[1] ** tau))\n",
      "/home/rodrigo/Documents/preston_labs/tesser_successor/tesser/fit.py:50: RuntimeWarning: invalid value encountered in double_scalars\n",
      "  (support[0] ** tau + support[1] ** tau))\n"
     ]
    },
    {
     "name": "stdout",
     "output_type": "stream",
     "text": [
      "Estimating parameters for 138...\n"
     ]
    },
    {
     "name": "stderr",
     "output_type": "stream",
     "text": [
      "/home/rodrigo/Documents/preston_labs/tesser_successor/tesser/fit.py:50: RuntimeWarning: invalid value encountered in double_scalars\n",
      "  (support[0] ** tau + support[1] ** tau))\n",
      "/home/rodrigo/Documents/preston_labs/tesser_successor/tesser/fit.py:49: RuntimeWarning: invalid value encountered in double_scalars\n",
      "  prob = ((support[response] ** tau) /\n",
      "/home/rodrigo/Documents/preston_labs/tesser_successor/tesser/fit.py:49: RuntimeWarning: invalid value encountered in double_scalars\n",
      "  prob = ((support[response] ** tau) /\n",
      "/home/rodrigo/Documents/preston_labs/tesser_successor/tesser/fit.py:50: RuntimeWarning: invalid value encountered in double_scalars\n",
      "  (support[0] ** tau + support[1] ** tau))\n"
     ]
    }
   ],
   "source": [
    "fixed = {}\n",
    "var_names = ['gamma', 'alpha', 'tau', 'w']\n",
    "var_bounds = {'alpha': [0, 1], 'gamma': [0, 1], 'tau': [0, 10], 'w':[0,1]}\n",
    "results = fit.fit_induct_indiv(struct_all, induct_all, fixed, var_names, var_bounds)"
   ]
  },
  {
   "cell_type": "code",
   "execution_count": 21,
   "metadata": {},
   "outputs": [
    {
     "data": {
      "text/html": [
       "<div>\n",
       "<style scoped>\n",
       "    .dataframe tbody tr th:only-of-type {\n",
       "        vertical-align: middle;\n",
       "    }\n",
       "\n",
       "    .dataframe tbody tr th {\n",
       "        vertical-align: top;\n",
       "    }\n",
       "\n",
       "    .dataframe thead th {\n",
       "        text-align: right;\n",
       "    }\n",
       "</style>\n",
       "<table border=\"1\" class=\"dataframe\">\n",
       "  <thead>\n",
       "    <tr style=\"text-align: right;\">\n",
       "      <th></th>\n",
       "      <th>gamma</th>\n",
       "      <th>alpha</th>\n",
       "      <th>tau</th>\n",
       "      <th>w</th>\n",
       "      <th>log_like</th>\n",
       "    </tr>\n",
       "    <tr>\n",
       "      <th>subject</th>\n",
       "      <th></th>\n",
       "      <th></th>\n",
       "      <th></th>\n",
       "      <th></th>\n",
       "      <th></th>\n",
       "    </tr>\n",
       "  </thead>\n",
       "  <tbody>\n",
       "    <tr>\n",
       "      <th>100</th>\n",
       "      <td>1.000000e+00</td>\n",
       "      <td>0.998433</td>\n",
       "      <td>0.146753</td>\n",
       "      <td>1.000000e+00</td>\n",
       "      <td>-28.571714</td>\n",
       "    </tr>\n",
       "    <tr>\n",
       "      <th>101</th>\n",
       "      <td>9.927083e-01</td>\n",
       "      <td>0.709634</td>\n",
       "      <td>2.715851</td>\n",
       "      <td>8.945414e-01</td>\n",
       "      <td>-25.372477</td>\n",
       "    </tr>\n",
       "    <tr>\n",
       "      <th>102</th>\n",
       "      <td>5.115287e-01</td>\n",
       "      <td>0.000550</td>\n",
       "      <td>0.063166</td>\n",
       "      <td>6.053830e-08</td>\n",
       "      <td>-18.836007</td>\n",
       "    </tr>\n",
       "    <tr>\n",
       "      <th>103</th>\n",
       "      <td>9.253145e-01</td>\n",
       "      <td>0.685415</td>\n",
       "      <td>1.307192</td>\n",
       "      <td>1.000000e+00</td>\n",
       "      <td>-25.866745</td>\n",
       "    </tr>\n",
       "    <tr>\n",
       "      <th>104</th>\n",
       "      <td>1.000000e+00</td>\n",
       "      <td>0.955659</td>\n",
       "      <td>0.966005</td>\n",
       "      <td>1.000000e+00</td>\n",
       "      <td>-28.344284</td>\n",
       "    </tr>\n",
       "    <tr>\n",
       "      <th>105</th>\n",
       "      <td>1.000000e+00</td>\n",
       "      <td>0.174315</td>\n",
       "      <td>1.899971</td>\n",
       "      <td>7.296901e-01</td>\n",
       "      <td>-22.585710</td>\n",
       "    </tr>\n",
       "    <tr>\n",
       "      <th>106</th>\n",
       "      <td>1.000000e+00</td>\n",
       "      <td>0.004154</td>\n",
       "      <td>0.125387</td>\n",
       "      <td>3.437705e-01</td>\n",
       "      <td>-54.118704</td>\n",
       "    </tr>\n",
       "    <tr>\n",
       "      <th>108</th>\n",
       "      <td>1.000000e+00</td>\n",
       "      <td>0.605441</td>\n",
       "      <td>0.634752</td>\n",
       "      <td>7.336076e-01</td>\n",
       "      <td>-28.682065</td>\n",
       "    </tr>\n",
       "    <tr>\n",
       "      <th>109</th>\n",
       "      <td>1.544239e-12</td>\n",
       "      <td>0.118489</td>\n",
       "      <td>0.066215</td>\n",
       "      <td>3.297888e-05</td>\n",
       "      <td>-19.391727</td>\n",
       "    </tr>\n",
       "    <tr>\n",
       "      <th>110</th>\n",
       "      <td>1.000000e+00</td>\n",
       "      <td>0.916937</td>\n",
       "      <td>4.830427</td>\n",
       "      <td>1.000000e+00</td>\n",
       "      <td>-24.542423</td>\n",
       "    </tr>\n",
       "    <tr>\n",
       "      <th>111</th>\n",
       "      <td>1.191773e-05</td>\n",
       "      <td>0.975490</td>\n",
       "      <td>0.018222</td>\n",
       "      <td>4.482800e-01</td>\n",
       "      <td>-27.504245</td>\n",
       "    </tr>\n",
       "    <tr>\n",
       "      <th>112</th>\n",
       "      <td>1.000000e+00</td>\n",
       "      <td>0.966325</td>\n",
       "      <td>0.492851</td>\n",
       "      <td>8.703402e-01</td>\n",
       "      <td>-28.043895</td>\n",
       "    </tr>\n",
       "    <tr>\n",
       "      <th>113</th>\n",
       "      <td>9.923092e-01</td>\n",
       "      <td>0.277496</td>\n",
       "      <td>3.723293</td>\n",
       "      <td>9.465691e-01</td>\n",
       "      <td>-24.875575</td>\n",
       "    </tr>\n",
       "    <tr>\n",
       "      <th>114</th>\n",
       "      <td>8.789267e-01</td>\n",
       "      <td>0.830312</td>\n",
       "      <td>0.011618</td>\n",
       "      <td>3.987879e-01</td>\n",
       "      <td>-29.108970</td>\n",
       "    </tr>\n",
       "    <tr>\n",
       "      <th>115</th>\n",
       "      <td>9.496675e-01</td>\n",
       "      <td>0.992959</td>\n",
       "      <td>0.227048</td>\n",
       "      <td>1.000000e+00</td>\n",
       "      <td>-28.489384</td>\n",
       "    </tr>\n",
       "    <tr>\n",
       "      <th>116</th>\n",
       "      <td>2.741776e-02</td>\n",
       "      <td>0.820065</td>\n",
       "      <td>0.070337</td>\n",
       "      <td>1.000000e+00</td>\n",
       "      <td>-27.763829</td>\n",
       "    </tr>\n",
       "    <tr>\n",
       "      <th>117</th>\n",
       "      <td>9.365050e-01</td>\n",
       "      <td>0.201125</td>\n",
       "      <td>0.000000</td>\n",
       "      <td>3.651908e-01</td>\n",
       "      <td>-29.112182</td>\n",
       "    </tr>\n",
       "    <tr>\n",
       "      <th>119</th>\n",
       "      <td>8.400226e-01</td>\n",
       "      <td>0.696719</td>\n",
       "      <td>0.841910</td>\n",
       "      <td>7.458362e-01</td>\n",
       "      <td>-23.103218</td>\n",
       "    </tr>\n",
       "    <tr>\n",
       "      <th>120</th>\n",
       "      <td>9.945499e-01</td>\n",
       "      <td>1.000000</td>\n",
       "      <td>0.505503</td>\n",
       "      <td>9.944093e-01</td>\n",
       "      <td>-25.331527</td>\n",
       "    </tr>\n",
       "    <tr>\n",
       "      <th>121</th>\n",
       "      <td>9.858439e-01</td>\n",
       "      <td>0.969960</td>\n",
       "      <td>1.467152</td>\n",
       "      <td>2.343532e-01</td>\n",
       "      <td>-22.777503</td>\n",
       "    </tr>\n",
       "    <tr>\n",
       "      <th>122</th>\n",
       "      <td>9.980685e-01</td>\n",
       "      <td>0.329804</td>\n",
       "      <td>0.182711</td>\n",
       "      <td>1.322432e-03</td>\n",
       "      <td>-23.514867</td>\n",
       "    </tr>\n",
       "    <tr>\n",
       "      <th>123</th>\n",
       "      <td>5.414613e-01</td>\n",
       "      <td>1.000000</td>\n",
       "      <td>0.045382</td>\n",
       "      <td>9.994104e-01</td>\n",
       "      <td>-27.657565</td>\n",
       "    </tr>\n",
       "    <tr>\n",
       "      <th>124</th>\n",
       "      <td>1.000000e+00</td>\n",
       "      <td>0.012354</td>\n",
       "      <td>0.299891</td>\n",
       "      <td>1.000000e+00</td>\n",
       "      <td>-27.050831</td>\n",
       "    </tr>\n",
       "    <tr>\n",
       "      <th>125</th>\n",
       "      <td>1.000000e+00</td>\n",
       "      <td>0.555140</td>\n",
       "      <td>1.227335</td>\n",
       "      <td>1.000000e+00</td>\n",
       "      <td>-27.928864</td>\n",
       "    </tr>\n",
       "    <tr>\n",
       "      <th>126</th>\n",
       "      <td>8.919046e-01</td>\n",
       "      <td>0.977438</td>\n",
       "      <td>0.196166</td>\n",
       "      <td>1.000000e+00</td>\n",
       "      <td>-28.427784</td>\n",
       "    </tr>\n",
       "    <tr>\n",
       "      <th>127</th>\n",
       "      <td>1.000000e+00</td>\n",
       "      <td>0.401954</td>\n",
       "      <td>1.223523</td>\n",
       "      <td>4.486329e-01</td>\n",
       "      <td>-26.356160</td>\n",
       "    </tr>\n",
       "    <tr>\n",
       "      <th>128</th>\n",
       "      <td>1.000000e+00</td>\n",
       "      <td>0.822385</td>\n",
       "      <td>1.230792</td>\n",
       "      <td>1.000000e+00</td>\n",
       "      <td>-28.803585</td>\n",
       "    </tr>\n",
       "    <tr>\n",
       "      <th>129</th>\n",
       "      <td>9.644847e-01</td>\n",
       "      <td>0.444570</td>\n",
       "      <td>0.422799</td>\n",
       "      <td>1.000000e+00</td>\n",
       "      <td>-28.952873</td>\n",
       "    </tr>\n",
       "    <tr>\n",
       "      <th>130</th>\n",
       "      <td>4.661613e-02</td>\n",
       "      <td>0.902773</td>\n",
       "      <td>0.078509</td>\n",
       "      <td>6.530807e-04</td>\n",
       "      <td>-20.002378</td>\n",
       "    </tr>\n",
       "    <tr>\n",
       "      <th>131</th>\n",
       "      <td>6.623149e-01</td>\n",
       "      <td>0.979242</td>\n",
       "      <td>0.166603</td>\n",
       "      <td>4.050420e-01</td>\n",
       "      <td>-25.821347</td>\n",
       "    </tr>\n",
       "    <tr>\n",
       "      <th>132</th>\n",
       "      <td>3.667889e-01</td>\n",
       "      <td>0.999533</td>\n",
       "      <td>0.101365</td>\n",
       "      <td>9.576168e-01</td>\n",
       "      <td>-25.775230</td>\n",
       "    </tr>\n",
       "    <tr>\n",
       "      <th>133</th>\n",
       "      <td>1.000000e+00</td>\n",
       "      <td>0.413493</td>\n",
       "      <td>1.622129</td>\n",
       "      <td>3.608001e-01</td>\n",
       "      <td>-23.704900</td>\n",
       "    </tr>\n",
       "    <tr>\n",
       "      <th>135</th>\n",
       "      <td>8.158078e-01</td>\n",
       "      <td>0.754610</td>\n",
       "      <td>1.157064</td>\n",
       "      <td>6.859271e-01</td>\n",
       "      <td>-15.779633</td>\n",
       "    </tr>\n",
       "    <tr>\n",
       "      <th>136</th>\n",
       "      <td>1.000000e+00</td>\n",
       "      <td>0.530943</td>\n",
       "      <td>0.467643</td>\n",
       "      <td>9.032090e-01</td>\n",
       "      <td>-29.044962</td>\n",
       "    </tr>\n",
       "    <tr>\n",
       "      <th>137</th>\n",
       "      <td>8.489655e-01</td>\n",
       "      <td>0.999990</td>\n",
       "      <td>0.194594</td>\n",
       "      <td>1.000000e+00</td>\n",
       "      <td>-25.712715</td>\n",
       "    </tr>\n",
       "    <tr>\n",
       "      <th>138</th>\n",
       "      <td>1.000000e+00</td>\n",
       "      <td>0.984825</td>\n",
       "      <td>1.054711</td>\n",
       "      <td>1.000000e+00</td>\n",
       "      <td>-26.161323</td>\n",
       "    </tr>\n",
       "  </tbody>\n",
       "</table>\n",
       "</div>"
      ],
      "text/plain": [
       "                gamma     alpha       tau             w   log_like\n",
       "subject                                                           \n",
       "100      1.000000e+00  0.998433  0.146753  1.000000e+00 -28.571714\n",
       "101      9.927083e-01  0.709634  2.715851  8.945414e-01 -25.372477\n",
       "102      5.115287e-01  0.000550  0.063166  6.053830e-08 -18.836007\n",
       "103      9.253145e-01  0.685415  1.307192  1.000000e+00 -25.866745\n",
       "104      1.000000e+00  0.955659  0.966005  1.000000e+00 -28.344284\n",
       "105      1.000000e+00  0.174315  1.899971  7.296901e-01 -22.585710\n",
       "106      1.000000e+00  0.004154  0.125387  3.437705e-01 -54.118704\n",
       "108      1.000000e+00  0.605441  0.634752  7.336076e-01 -28.682065\n",
       "109      1.544239e-12  0.118489  0.066215  3.297888e-05 -19.391727\n",
       "110      1.000000e+00  0.916937  4.830427  1.000000e+00 -24.542423\n",
       "111      1.191773e-05  0.975490  0.018222  4.482800e-01 -27.504245\n",
       "112      1.000000e+00  0.966325  0.492851  8.703402e-01 -28.043895\n",
       "113      9.923092e-01  0.277496  3.723293  9.465691e-01 -24.875575\n",
       "114      8.789267e-01  0.830312  0.011618  3.987879e-01 -29.108970\n",
       "115      9.496675e-01  0.992959  0.227048  1.000000e+00 -28.489384\n",
       "116      2.741776e-02  0.820065  0.070337  1.000000e+00 -27.763829\n",
       "117      9.365050e-01  0.201125  0.000000  3.651908e-01 -29.112182\n",
       "119      8.400226e-01  0.696719  0.841910  7.458362e-01 -23.103218\n",
       "120      9.945499e-01  1.000000  0.505503  9.944093e-01 -25.331527\n",
       "121      9.858439e-01  0.969960  1.467152  2.343532e-01 -22.777503\n",
       "122      9.980685e-01  0.329804  0.182711  1.322432e-03 -23.514867\n",
       "123      5.414613e-01  1.000000  0.045382  9.994104e-01 -27.657565\n",
       "124      1.000000e+00  0.012354  0.299891  1.000000e+00 -27.050831\n",
       "125      1.000000e+00  0.555140  1.227335  1.000000e+00 -27.928864\n",
       "126      8.919046e-01  0.977438  0.196166  1.000000e+00 -28.427784\n",
       "127      1.000000e+00  0.401954  1.223523  4.486329e-01 -26.356160\n",
       "128      1.000000e+00  0.822385  1.230792  1.000000e+00 -28.803585\n",
       "129      9.644847e-01  0.444570  0.422799  1.000000e+00 -28.952873\n",
       "130      4.661613e-02  0.902773  0.078509  6.530807e-04 -20.002378\n",
       "131      6.623149e-01  0.979242  0.166603  4.050420e-01 -25.821347\n",
       "132      3.667889e-01  0.999533  0.101365  9.576168e-01 -25.775230\n",
       "133      1.000000e+00  0.413493  1.622129  3.608001e-01 -23.704900\n",
       "135      8.158078e-01  0.754610  1.157064  6.859271e-01 -15.779633\n",
       "136      1.000000e+00  0.530943  0.467643  9.032090e-01 -29.044962\n",
       "137      8.489655e-01  0.999990  0.194594  1.000000e+00 -25.712715\n",
       "138      1.000000e+00  0.984825  1.054711  1.000000e+00 -26.161323"
      ]
     },
     "execution_count": 21,
     "metadata": {},
     "output_type": "execute_result"
    }
   ],
   "source": [
    "results = results.set_index('subject')\n",
    "results"
   ]
  },
  {
   "cell_type": "code",
   "execution_count": 22,
   "metadata": {},
   "outputs": [],
   "source": [
    "from tesser import fit"
   ]
  },
  {
   "cell_type": "code",
   "execution_count": 24,
   "metadata": {},
   "outputs": [],
   "source": [
    "res_list = []\n",
    "for subject in results.index.unique():\n",
    "    subj_filter = f'SubjNum == {subject}'\n",
    "    subj_struct = struct_all.query(subj_filter)\n",
    "    subj_induct = induct_all.query(subj_filter)\n",
    "    subj_param = results.loc[subject]\n",
    "    param = {'alpha': subj_param['alpha'], 'gamma': subj_param['gamma'],\n",
    "             'tau': subj_param['tau'],'w': subj_param['w']}\n",
    "    res = fit.assess_induct_fit_subject(subj_struct, subj_induct, param)\n",
    "    res_list.append(res)\n",
    "fitted = pd.concat(res_list, axis=0)"
   ]
  },
  {
   "cell_type": "code",
   "execution_count": 25,
   "metadata": {},
   "outputs": [
    {
     "data": {
      "image/png": "[encoded data removed]",
      "text/plain": [
       "<Figure size 432x288 with 1 Axes>"
      ]
     },
     "metadata": {
      "needs_background": "light"
     },
     "output_type": "display_data"
    }
   ],
   "source": [
    "m = fitted.groupby(['Source', 'SubjNum', 'Environment'])['Accuracy'].mean().unstack(level=0)\n",
    "g = sns.scatterplot(x='Model', y='Data', hue='Environment', data=m.reset_index());\n",
    "g.set_xlim(0, 1.02);\n",
    "g.set_ylim(0, 1.02);\n",
    "g.set_aspect(1);\n",
    "g.plot((0, 1), (0, 1), '-k');"
   ]
  },
  {
   "cell_type": "code",
   "execution_count": 26,
   "metadata": {},
   "outputs": [
    {
     "data": {
      "image/png": "[encoded data removed]",
      "text/plain": [
       "<Figure size 432x288 with 1 Axes>"
      ]
     },
     "metadata": {
      "needs_background": "light"
     },
     "output_type": "display_data"
    }
   ],
   "source": [
    "m = fitted.groupby(['Source', 'SubjNum', 'QuestType'])['Accuracy'].mean().unstack(level=0)\n",
    "g = sns.scatterplot(x='Model', y='Data', hue='QuestType', data=m.reset_index());\n",
    "g.set_xlim(0, 1.02);\n",
    "g.set_ylim(0, 1.02);\n",
    "g.set_aspect(1);\n",
    "g.plot((0, 1), (0, 1), '-k');"
   ]
  },
  {
   "cell_type": "code",
   "execution_count": 27,
   "metadata": {},
   "outputs": [
    {
     "data": {
      "image/png": "[encoded data removed]",
      "text/plain": [
       "<Figure size 426x360 with 1 Axes>"
      ]
     },
     "metadata": {
      "needs_background": "light"
     },
     "output_type": "display_data"
    }
   ],
   "source": [
    "m = fitted.groupby(['Source', 'SubjNum', 'Environment'])['Accuracy'].mean()\n",
    "g = sns.catplot(kind='point', x='Environment', y='Accuracy', \n",
    "                hue='Source', dodge=True, data=m.reset_index())\n",
    "g.set(ylim=(0, 1.02));"
   ]
  },
  {
   "cell_type": "code",
   "execution_count": 28,
   "metadata": {},
   "outputs": [
    {
     "data": {
      "image/png": "[encoded data removed]",
      "text/plain": [
       "<Figure size 426x360 with 1 Axes>"
      ]
     },
     "metadata": {
      "needs_background": "light"
     },
     "output_type": "display_data"
    }
   ],
   "source": [
    "m = fitted.groupby(['Source', 'SubjNum', 'QuestType'])['Accuracy'].mean()\n",
    "g = sns.catplot(kind='point', x='QuestType', y='Accuracy', \n",
    "                hue='Source', dodge=True, data=m.reset_index())\n",
    "g.set(ylim=(0, 1.02));"
   ]
  },
  {
   "cell_type": "code",
   "execution_count": null,
   "metadata": {},
   "outputs": [],
   "source": []
  }
 ],
 "metadata": {
  "kernelspec": {
   "display_name": "Python 3",
   "language": "python",
   "name": "python3"
  },
  "language_info": {
   "codemirror_mode": {
    "name": "ipython",
    "version": 3
   },
   "file_extension": ".py",
   "mimetype": "text/x-python",
   "name": "python",
   "nbconvert_exporter": "python",
   "pygments_lexer": "ipython3",
   "version": "3.7.6"
  },
  "pycharm": {
   "stem_cell": {
    "cell_type": "raw",
    "metadata": {
     "collapsed": false
    },
    "source": []
   }
  }
 },
 "nbformat": 4,
 "nbformat_minor": 4
}
