{
 "cells": [
  {
   "cell_type": "code",
   "execution_count": 1,
   "metadata": {},
   "outputs": [],
   "source": [
    "import pandas as pd"
   ]
  },
  {
   "cell_type": "code",
   "execution_count": 1,
   "outputs": [],
   "source": [
    "import seaborn as sns\n",
    "from tesser import fit\n",
    "from tesser import util"
   ],
   "metadata": {
    "collapsed": false,
    "pycharm": {
     "name": "#%%\n",
     "is_executing": false
    }
   }
  },
  {
   "cell_type": "code",
   "execution_count": 2,
   "outputs": [],
   "source": [
    "\n",
    "data_dir = \"/home/rodrigo/Dropbox/tesser_successor/Data/\""
   ],
   "metadata": {
    "collapsed": false,
    "pycharm": {
     "name": "#%%\n",
     "is_executing": false
    }
   }
  },
  {
   "cell_type": "code",
   "execution_count": 3,
   "outputs": [],
   "source": [
    "induct_all = util.load_induct(data_dir)\n",
    "struct_all = util.load_struct(data_dir)"
   ],
   "metadata": {
    "collapsed": false,
    "pycharm": {
     "name": "#%%\n",
     "is_executing": false
    }
   }
  },
  {
   "cell_type": "code",
   "execution_count": 5,
   "outputs": [
    {
     "data": {
      "text/plain": "array([100, 101, 102, 103, 104, 105, 106, 108, 109, 110, 111, 112, 113,\n       114, 115, 116, 117, 119, 120, 121, 122, 123, 124, 125, 126, 127,\n       128, 129, 130, 131, 132, 133, 135, 136, 137, 138])"
     },
     "metadata": {},
     "output_type": "execute_result",
     "execution_count": 5
    }
   ],
   "source": [
    "struct_all.SubjNum.unique()"
   ],
   "metadata": {
    "collapsed": false,
    "pycharm": {
     "name": "#%%\n",
     "is_executing": false
    }
   }
  },
  {
   "cell_type": "code",
   "execution_count": 7,
   "outputs": [
    {
     "data": {
      "text/plain": "({'gamma': 0.9608818840406562,\n  'alpha': 0.0012432275910420404,\n  'tau': 0.292052700799107},\n -1051.4455487240286)"
     },
     "metadata": {},
     "output_type": "execute_result",
     "execution_count": 7
    }
   ],
   "source": [
    "fixed = {}\n",
    "var_names = ['gamma', 'alpha', 'tau']\n",
    "var_bounds = {'alpha': [0, 1], 'gamma': [0, 1], 'tau': [0, 10]}\n",
    "fit.fit_induct(struct_all, induct_all, fixed, var_names, var_bounds,\n",
    "               verbose=False)"
   ],
   "metadata": {
    "collapsed": false,
    "pycharm": {
     "name": "#%%\n",
     "is_executing": false
    }
   }
  },
  {
   "cell_type": "code",
   "execution_count": 6,
   "outputs": [
    {
     "data": {
      "text/plain": "({'alpha': 0.3, 'gamma': 0.7775984763983996, 'tau': 0.24866146359841507},\n -1064.1423263900851)"
     },
     "metadata": {},
     "output_type": "execute_result",
     "execution_count": 6
    }
   ],
   "source": [
    "fixed = {'alpha': 0.3}\n",
    "var_names = ['gamma', 'tau']\n",
    "var_bounds = {'gamma': [0, 1], 'tau': [0, 10]}\n",
    "fit.fit_induct(struct_all, induct_all, fixed, var_names, var_bounds,\n",
    "               verbose=False)\n"
   ],
   "metadata": {
    "collapsed": false,
    "pycharm": {
     "name": "#%%\n",
     "is_executing": false
    }
   }
  },
  {
   "cell_type": "code",
   "execution_count": 8,
   "outputs": [],
   "source": [
    "import numpy as np\n",
    "\n",
    "\n"
   ],
   "metadata": {
    "collapsed": false,
    "pycharm": {
     "name": "#%%\n",
     "is_executing": false
    }
   }
  },
  {
   "cell_type": "code",
   "execution_count": null,
   "outputs": [
    {
     "name": "stdout",
     "text": [
      "({'alpha': 0.0, 'gamma': 0.5158211211007487, 'tau': 3.3509640739075364}, -21167.48904939641)\n"
     ],
     "output_type": "stream"
    }
   ],
   "source": [
    "for i in np.arange(0,1,0.1):\n",
    "    fixed = {'alpha': i}\n",
    "    var_names = ['gamma', 'tau']\n",
    "    var_bounds = {'gamma': [0, 1], 'tau': [0, 10]}\n",
    "    print(fit.fit_induct(struct_all, induct_all, fixed, var_names, var_bounds,\n",
    "                   verbose=False))\n",
    "\n",
    "    fixed = {'gamma': i}\n",
    "    var_names = ['alpha', 'tau']\n",
    "    var_bounds = {'alpha': [0, 1], 'tau': [0, 10]}\n",
    "    print(fit.fit_induct(struct_all, induct_all, fixed, var_names, var_bounds,\n",
    "                   verbose=False))\n",
    "\n",
    "            \n",
    "\n"
   ],
   "metadata": {
    "collapsed": false,
    "pycharm": {
     "name": "#%%\n",
     "is_executing": true
    }
   }
  },
  {
   "cell_type": "code",
   "execution_count": null,
   "outputs": [],
   "source": [
    "\n"
   ],
   "metadata": {
    "collapsed": false,
    "pycharm": {
     "name": "#%%\n"
    }
   }
  }
 ],
 "metadata": {
  "kernelspec": {
   "name": "python3",
   "language": "python",
   "display_name": "Python 3"
  },
  "language_info": {
   "codemirror_mode": {
    "name": "ipython",
    "version": 3
   },
   "file_extension": ".py",
   "mimetype": "text/x-python",
   "name": "python",
   "nbconvert_exporter": "python",
   "pygments_lexer": "ipython3",
   "version": "3.7.6"
  },
  "pycharm": {
   "stem_cell": {
    "cell_type": "raw",
    "source": [],
    "metadata": {
     "collapsed": false
    }
   }
  }
 },
 "nbformat": 4,
 "nbformat_minor": 4
}