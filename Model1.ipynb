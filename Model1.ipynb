{
 "cells": [
  {
   "cell_type": "markdown",
   "metadata": {},
   "source": [
    "# Model 1: \n",
    "Fitting SR Matrix to the transitional matrix with "
   ]
  },
  {
   "cell_type": "code",
   "execution_count": 1,
   "metadata": {},
   "outputs": [],
   "source": [
    "import pandas as pd\n",
    "import numpy as np\n",
    "import matplotlib.pyplot as plt\n",
    "from tesser import cython_sr\n",
    "from tesser import cython_fit\n",
    "from tesser import util\n",
    "import importlib"
   ]
  },
  {
   "cell_type": "code",
   "execution_count": 2,
   "metadata": {},
   "outputs": [],
   "source": [
    "data_dir= \"/mnt/c/Users/rodv2/Dropbox/tesser_successor/Data\"\n",
    "tdir = \"/home/work-machine/Preston_Lab/tesser_successor/Data/Transitional_Matrices\""
   ]
  },
  {
   "cell_type": "code",
   "execution_count": 3,
   "metadata": {},
   "outputs": [],
   "source": [
    "induct_all = util.load_induct(data_dir)\n",
    "struct_all = util.load_struct(data_dir)\n",
    "n_states = 21\n",
    "subj_list = util.subj_list()"
   ]
  },
  {
   "cell_type": "code",
   "execution_count": 4,
   "metadata": {},
   "outputs": [
    {
     "data": {
      "text/plain": [
       "array(['Prim', 'Bound2', 'Bound1'], dtype=object)"
      ]
     },
     "execution_count": 4,
     "metadata": {},
     "output_type": "execute_result"
    }
   ],
   "source": [
    "induct_all.QuestType.unique()"
   ]
  },
  {
   "cell_type": "code",
   "execution_count": 5,
   "metadata": {},
   "outputs": [],
   "source": [
    "transition_all = cython_sr.transition_multiple(subj_list, tdir)"
   ]
  },
  {
   "cell_type": "code",
   "execution_count": 6,
   "metadata": {},
   "outputs": [
    {
     "data": {
      "text/plain": [
       "dict_keys([100, 101, 102, 103, 104, 105, 106, 107, 108, 109, 110, 111, 112, 113, 114, 115, 116, 117, 119, 120, 121, 122, 123, 124, 125, 126, 127, 128, 129, 130, 131, 132, 133, 135, 136, 137, 138])"
      ]
     },
     "execution_count": 6,
     "metadata": {},
     "output_type": "execute_result"
    }
   ],
   "source": [
    "transition_all.keys()"
   ]
  },
  {
   "cell_type": "markdown",
   "metadata": {},
   "source": [
    "# True transitional matrix"
   ]
  },
  {
   "cell_type": "code",
   "execution_count": 7,
   "metadata": {},
   "outputs": [],
   "source": [
    "tranmodel = transition_all"
   ]
  },
  {
   "cell_type": "code",
   "execution_count": 8,
   "metadata": {},
   "outputs": [],
   "source": [
    "# tranmodel=[tranmodzel"
   ]
  },
  {
   "cell_type": "code",
   "execution_count": 9,
   "metadata": {},
   "outputs": [],
   "source": [
    "# subj_filter = f'SubjNum == {100}'\n",
    "# induct_all = induct_all.query(subj_filter)\n",
    "# struct_all = struct_all.query(subj_filter)"
   ]
  },
  {
   "cell_type": "code",
   "execution_count": 10,
   "metadata": {},
   "outputs": [
    {
     "data": {
      "text/plain": [
       "<module 'tesser.cython_fit' from '/home/work-machine/Preston_Lab/tesser_successor/tesser/cython_fit.py'>"
      ]
     },
     "execution_count": 10,
     "metadata": {},
     "output_type": "execute_result"
    }
   ],
   "source": [
    "importlib.reload(cython_fit)"
   ]
  },
  {
   "cell_type": "code",
   "execution_count": 11,
   "metadata": {},
   "outputs": [
    {
     "name": "stdout",
     "output_type": "stream",
     "text": [
      "Estimating parameters for 100...\n",
      "Estimating parameters for 101...\n",
      "Estimating parameters for 102...\n",
      "Estimating parameters for 103...\n",
      "Estimating parameters for 104...\n",
      "Estimating parameters for 105...\n",
      "Estimating parameters for 106...\n",
      "Estimating parameters for 107...\n",
      "Estimating parameters for 108...\n",
      "Estimating parameters for 109...\n",
      "Estimating parameters for 110...\n",
      "Estimating parameters for 111...\n",
      "Estimating parameters for 112...\n",
      "Estimating parameters for 113...\n",
      "Estimating parameters for 114...\n",
      "Estimating parameters for 115...\n",
      "Estimating parameters for 116...\n",
      "Estimating parameters for 117...\n",
      "Estimating parameters for 119...\n",
      "Estimating parameters for 120...\n",
      "Estimating parameters for 121...\n",
      "Estimating parameters for 122...\n",
      "Estimating parameters for 123...\n",
      "Estimating parameters for 124...\n",
      "Estimating parameters for 125...\n",
      "Estimating parameters for 126...\n",
      "Estimating parameters for 127...\n",
      "Estimating parameters for 128...\n",
      "Estimating parameters for 129...\n",
      "Estimating parameters for 130...\n",
      "Estimating parameters for 131...\n",
      "Estimating parameters for 132...\n",
      "Estimating parameters for 133...\n",
      "Estimating parameters for 135...\n",
      "Estimating parameters for 136...\n",
      "Estimating parameters for 137...\n",
      "Estimating parameters for 138...\n"
     ]
    }
   ],
   "source": [
    "fixed = {}\n",
    "var_names = ['gamma', 'alpha', 'tau', 'w_prim' ,'w_bound1', 'w_bound2']\n",
    "var_bounds = {'gamma': [0, 1], 'alpha': [0, 1], 'tau': [0, 10],\n",
    "              'w_prim' : [0, 1], 'w_bound1' : [0, 1], 'w_bound2' : [0, 1]}\n",
    "results = cython_fit.fit_induct_indiv(struct_all, induct_all, fixed, var_names, var_bounds, split =True,\n",
    "                               n_states=n_states, verbose=False, model_type='multiple gamma', model=[], split_list =[\"w\"])"
   ]
  },
  {
   "cell_type": "code",
   "execution_count": 34,
   "metadata": {},
   "outputs": [
    {
     "data": {
      "text/html": [
       "<div>\n",
       "<style scoped>\n",
       "    .dataframe tbody tr th:only-of-type {\n",
       "        vertical-align: middle;\n",
       "    }\n",
       "\n",
       "    .dataframe tbody tr th {\n",
       "        vertical-align: top;\n",
       "    }\n",
       "\n",
       "    .dataframe thead th {\n",
       "        text-align: right;\n",
       "    }\n",
       "</style>\n",
       "<table border=\"1\" class=\"dataframe\">\n",
       "  <thead>\n",
       "    <tr style=\"text-align: right;\">\n",
       "      <th></th>\n",
       "      <th>gamma</th>\n",
       "      <th>alpha</th>\n",
       "      <th>tau</th>\n",
       "      <th>w</th>\n",
       "      <th>w_prim</th>\n",
       "      <th>w_bound1</th>\n",
       "      <th>w_bound2</th>\n",
       "      <th>log_like</th>\n",
       "    </tr>\n",
       "    <tr>\n",
       "      <th>subject</th>\n",
       "      <th></th>\n",
       "      <th></th>\n",
       "      <th></th>\n",
       "      <th></th>\n",
       "      <th></th>\n",
       "      <th></th>\n",
       "      <th></th>\n",
       "      <th></th>\n",
       "    </tr>\n",
       "  </thead>\n",
       "  <tbody>\n",
       "    <tr>\n",
       "      <th>100</th>\n",
       "      <td>1.000000</td>\n",
       "      <td>0.999809</td>\n",
       "      <td>1.902504</td>\n",
       "      <td>0.792513</td>\n",
       "      <td>0.046753</td>\n",
       "      <td>0.295830</td>\n",
       "      <td>1.0</td>\n",
       "      <td>-25.695217</td>\n",
       "    </tr>\n",
       "    <tr>\n",
       "      <th>101</th>\n",
       "      <td>0.991329</td>\n",
       "      <td>0.685954</td>\n",
       "      <td>0.887739</td>\n",
       "      <td>0.621984</td>\n",
       "      <td>1.000000</td>\n",
       "      <td>0.865263</td>\n",
       "      <td>0.0</td>\n",
       "      <td>-24.957704</td>\n",
       "    </tr>\n",
       "    <tr>\n",
       "      <th>102</th>\n",
       "      <td>1.000000</td>\n",
       "      <td>0.010038</td>\n",
       "      <td>0.078665</td>\n",
       "      <td>0.684365</td>\n",
       "      <td>0.000000</td>\n",
       "      <td>1.000000</td>\n",
       "      <td>1.0</td>\n",
       "      <td>-20.016657</td>\n",
       "    </tr>\n",
       "    <tr>\n",
       "      <th>103</th>\n",
       "      <td>0.086623</td>\n",
       "      <td>0.874219</td>\n",
       "      <td>0.052817</td>\n",
       "      <td>0.385164</td>\n",
       "      <td>1.000000</td>\n",
       "      <td>0.175507</td>\n",
       "      <td>1.0</td>\n",
       "      <td>-23.782208</td>\n",
       "    </tr>\n",
       "    <tr>\n",
       "      <th>104</th>\n",
       "      <td>0.000000</td>\n",
       "      <td>0.999988</td>\n",
       "      <td>0.253486</td>\n",
       "      <td>0.153455</td>\n",
       "      <td>1.000000</td>\n",
       "      <td>0.197927</td>\n",
       "      <td>0.0</td>\n",
       "      <td>-26.467675</td>\n",
       "    </tr>\n",
       "  </tbody>\n",
       "</table>\n",
       "</div>"
      ],
      "text/plain": [
       "            gamma     alpha       tau         w    w_prim  w_bound1  w_bound2  \\\n",
       "subject                                                                         \n",
       "100      1.000000  0.999809  1.902504  0.792513  0.046753  0.295830       1.0   \n",
       "101      0.991329  0.685954  0.887739  0.621984  1.000000  0.865263       0.0   \n",
       "102      1.000000  0.010038  0.078665  0.684365  0.000000  1.000000       1.0   \n",
       "103      0.086623  0.874219  0.052817  0.385164  1.000000  0.175507       1.0   \n",
       "104      0.000000  0.999988  0.253486  0.153455  1.000000  0.197927       0.0   \n",
       "\n",
       "          log_like  \n",
       "subject             \n",
       "100     -25.695217  \n",
       "101     -24.957704  \n",
       "102     -20.016657  \n",
       "103     -23.782208  \n",
       "104     -26.467675  "
      ]
     },
     "execution_count": 34,
     "metadata": {},
     "output_type": "execute_result"
    }
   ],
   "source": [
    "# results=results.set_index('subject')\n",
    "results.head()"
   ]
  },
  {
   "cell_type": "code",
   "execution_count": 17,
   "metadata": {},
   "outputs": [
    {
     "data": {
      "text/plain": [
       "array([[<AxesSubplot:title={'center':'gamma'}>,\n",
       "        <AxesSubplot:title={'center':'alpha'}>,\n",
       "        <AxesSubplot:title={'center':'tau'}>],\n",
       "       [<AxesSubplot:title={'center':'w'}>,\n",
       "        <AxesSubplot:title={'center':'w_prim'}>,\n",
       "        <AxesSubplot:title={'center':'w_bound1'}>],\n",
       "       [<AxesSubplot:title={'center':'w_bound2'}>,\n",
       "        <AxesSubplot:title={'center':'log_like'}>, <AxesSubplot:>]],\n",
       "      dtype=object)"
      ]
     },
     "execution_count": 17,
     "metadata": {},
     "output_type": "execute_result"
    },
    {
     "data": {
      "image/png": "[encoded data removed]",
      "text/plain": [
       "<Figure size 1080x504 with 9 Axes>"
      ]
     },
     "metadata": {
      "needs_background": "light"
     },
     "output_type": "display_data"
    }
   ],
   "source": [
    "# cython_fit.plot_by_question(struct_all, induct_bound2, results_2, model =tranmodel,\n",
    "#                             fig_name='Transitional matrix by question \\n Bound2',model_type= 'true transitional'),\n",
    "results.hist(bins=35,figsize= (15,7))"
   ]
  },
  {
   "cell_type": "code",
   "execution_count": 33,
   "metadata": {},
   "outputs": [
    {
     "data": {
      "text/plain": [
       "Text(112, subject\n",
       "112    1.0\n",
       "Name: w_bound2, dtype: float64, '112')"
      ]
     },
     "execution_count": 33,
     "metadata": {},
     "output_type": "execute_result"
    },
    {
     "data": {
      "image/png": "[encoded data removed]",
      "text/plain": [
       "<Figure size 432x288 with 1 Axes>"
      ]
     },
     "metadata": {
      "needs_background": "light"
     },
     "output_type": "display_data"
    }
   ],
   "source": [
    "plt.scatter(subj_list,results.w_prim)\n",
    "plt.scatter(subj_list,results.w_bound1)\n",
    "plt.scatter(subj_list,results.w_bound2)\n",
    "# s =112\n",
    "# plt.annotate(f\"{s}\",(s,results.query(f\"subject == {s}\").w_prim))\n",
    "# plt.annotate(f\"{s}\",(s,results.query(f\"subject == {s}\").w_bound1))\n",
    "# plt.annotate(f\"{s}\",(s,results.query(f\"subject == {s}\").w_bound2))"
   ]
  },
  {
   "cell_type": "code",
   "execution_count": 97,
   "metadata": {},
   "outputs": [
    {
     "data": {
      "image/png": "[encoded data removed]",
      "text/plain": [
       "<Figure size 1080x144 with 1 Axes>"
      ]
     },
     "metadata": {
      "needs_background": "light"
     },
     "output_type": "display_data"
    }
   ],
   "source": [
    "plt.figure(figsize=(15,2))\n",
    "for g, s in enumerate(subj_list):\n",
    "\n",
    "    g = g%10*.1\n",
    "    g = f\"{g}\"\n",
    "    plt.scatter(s,results.query(f\"subject == {s}\").w_prim,label=s, c =g)\n",
    "    plt.scatter(s,results.query(f\"subject == {s}\").w_bound1,label=s, c =g)\n",
    "    plt.scatter(s,results.query(f\"subject == {s}\").w_bound2,label=s, c =g)\n",
    "plt.grid(True)\n",
    "# plt.legend()"
   ]
  },
  {
   "cell_type": "code",
   "execution_count": null,
   "metadata": {},
   "outputs": [],
   "source": []
  },
  {
   "cell_type": "code",
   "execution_count": null,
   "metadata": {},
   "outputs": [],
   "source": []
  }
 ],
 "metadata": {
  "kernelspec": {
   "display_name": "Tesser",
   "language": "python",
   "name": "tesser"
  },
  "language_info": {
   "codemirror_mode": {
    "name": "ipython",
    "version": 3
   },
   "file_extension": ".py",
   "mimetype": "text/x-python",
   "name": "python",
   "nbconvert_exporter": "python",
   "pygments_lexer": "ipython3",
   "version": "3.8.5"
  }
 },
 "nbformat": 4,
 "nbformat_minor": 4
}
